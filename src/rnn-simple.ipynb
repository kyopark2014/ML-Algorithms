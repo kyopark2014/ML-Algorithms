{
 "cells": [
  {
   "cell_type": "code",
   "execution_count": 24,
   "id": "1207e31e",
   "metadata": {},
   "outputs": [],
   "source": [
    "import tensorflow as tf\n",
    "\n",
    "tf.keras.utils.set_random_seed(42)\n",
    "#tf.config.experimental.enable_op_determinism()"
   ]
  },
  {
   "cell_type": "code",
   "execution_count": 25,
   "id": "3d951828",
   "metadata": {},
   "outputs": [],
   "source": [
    "from tensorflow.keras.datasets import imdb\n",
    "\n",
    "(train_input, train_target), (test_input, test_target) = imdb.load_data(\n",
    "    num_words=500)"
   ]
  },
  {
   "cell_type": "code",
   "execution_count": 26,
   "id": "b1d39810",
   "metadata": {},
   "outputs": [
    {
     "name": "stdout",
     "output_type": "stream",
     "text": [
      "(25000,) (25000,)\n"
     ]
    }
   ],
   "source": [
    "print(train_input.shape, test_input.shape)"
   ]
  },
  {
   "cell_type": "code",
   "execution_count": 27,
   "id": "b1345368",
   "metadata": {},
   "outputs": [
    {
     "name": "stdout",
     "output_type": "stream",
     "text": [
      "218\n",
      "189\n"
     ]
    }
   ],
   "source": [
    "print(len(train_input[0]))\n",
    "print(len(train_input[1]))"
   ]
  },
  {
   "cell_type": "code",
   "execution_count": 28,
   "id": "f264bbbb",
   "metadata": {},
   "outputs": [
    {
     "name": "stdout",
     "output_type": "stream",
     "text": [
      "[1, 14, 22, 16, 43, 2, 2, 2, 2, 65, 458, 2, 66, 2, 4, 173, 36, 256, 5, 25, 100, 43, 2, 112, 50, 2, 2, 9, 35, 480, 284, 5, 150, 4, 172, 112, 167, 2, 336, 385, 39, 4, 172, 2, 2, 17, 2, 38, 13, 447, 4, 192, 50, 16, 6, 147, 2, 19, 14, 22, 4, 2, 2, 469, 4, 22, 71, 87, 12, 16, 43, 2, 38, 76, 15, 13, 2, 4, 22, 17, 2, 17, 12, 16, 2, 18, 2, 5, 62, 386, 12, 8, 316, 8, 106, 5, 4, 2, 2, 16, 480, 66, 2, 33, 4, 130, 12, 16, 38, 2, 5, 25, 124, 51, 36, 135, 48, 25, 2, 33, 6, 22, 12, 215, 28, 77, 52, 5, 14, 407, 16, 82, 2, 8, 4, 107, 117, 2, 15, 256, 4, 2, 7, 2, 5, 2, 36, 71, 43, 2, 476, 26, 400, 317, 46, 7, 4, 2, 2, 13, 104, 88, 4, 381, 15, 297, 98, 32, 2, 56, 26, 141, 6, 194, 2, 18, 4, 226, 22, 21, 134, 476, 26, 480, 5, 144, 30, 2, 18, 51, 36, 28, 224, 92, 25, 104, 4, 226, 65, 16, 38, 2, 88, 12, 16, 283, 5, 16, 2, 113, 103, 32, 15, 16, 2, 19, 178, 32]\n"
     ]
    }
   ],
   "source": [
    "print(train_input[0])"
   ]
  },
  {
   "cell_type": "code",
   "execution_count": 29,
   "id": "9a2ee1a8",
   "metadata": {},
   "outputs": [
    {
     "name": "stdout",
     "output_type": "stream",
     "text": [
      "[1 0 0 1 0 0 1 0 1 0 1 0 0 0 0 0 1 1 0 1]\n"
     ]
    }
   ],
   "source": [
    "print(train_target[:20])"
   ]
  },
  {
   "cell_type": "code",
   "execution_count": 30,
   "id": "29a2a55d",
   "metadata": {},
   "outputs": [],
   "source": [
    "from sklearn.model_selection import train_test_split\n",
    "\n",
    "train_input, val_input, train_target, val_target = train_test_split(\n",
    "    train_input, train_target, test_size=0.2, random_state=42)"
   ]
  },
  {
   "cell_type": "code",
   "execution_count": 31,
   "id": "ec124c05",
   "metadata": {},
   "outputs": [
    {
     "name": "stdout",
     "output_type": "stream",
     "text": [
      "239.00925 178.0\n"
     ]
    }
   ],
   "source": [
    "import numpy as np\n",
    "\n",
    "lengths = np.array([len(x) for x in train_input])\n",
    "\n",
    "print(np.mean(lengths), np.median(lengths))"
   ]
  },
  {
   "cell_type": "code",
   "execution_count": 32,
   "id": "96f6330b",
   "metadata": {},
   "outputs": [
    {
     "data": {
      "image/png": "[encoded data removed]",
      "text/plain": [
       "<Figure size 432x288 with 1 Axes>"
      ]
     },
     "metadata": {
      "needs_background": "light"
     },
     "output_type": "display_data"
    }
   ],
   "source": [
    "import matplotlib.pyplot as plt\n",
    "\n",
    "plt.hist(lengths)\n",
    "plt.xlabel('length')\n",
    "plt.ylabel('frequency')\n",
    "plt.show()"
   ]
  },
  {
   "cell_type": "code",
   "execution_count": 33,
   "id": "c6c3695f",
   "metadata": {},
   "outputs": [],
   "source": [
    "from tensorflow.keras.preprocessing.sequence import pad_sequences\n",
    "\n",
    "train_seq = pad_sequences(train_input, maxlen=100)\n",
    "val_seq = pad_sequences(val_input, maxlen=100)"
   ]
  },
  {
   "cell_type": "code",
   "execution_count": 34,
   "id": "cf72950a",
   "metadata": {},
   "outputs": [
    {
     "name": "stdout",
     "output_type": "stream",
     "text": [
      "(20000,)\n",
      "(20000, 100)\n"
     ]
    }
   ],
   "source": [
    "print(train_input.shape)\n",
    "print(train_seq.shape)"
   ]
  },
  {
   "cell_type": "code",
   "execution_count": 35,
   "id": "b963a5ac",
   "metadata": {},
   "outputs": [
    {
     "name": "stdout",
     "output_type": "stream",
     "text": [
      "[ 10   4  20   9   2 364 352   5  45   6   2   2  33 269   8   2 142   2\n",
      "   5   2  17  73  17 204   5   2  19  55   2   2  92  66 104  14  20  93\n",
      "  76   2 151  33   4  58  12 188   2 151  12 215  69 224 142  73 237   6\n",
      "   2   7   2   2 188   2 103  14  31  10  10 451   7   2   5   2  80  91\n",
      "   2  30   2  34  14  20 151  50  26 131  49   2  84  46  50  37  80  79\n",
      "   6   2  46   7  14  20  10  10 470 158]\n"
     ]
    }
   ],
   "source": [
    "print(train_seq[0])"
   ]
  },
  {
   "cell_type": "code",
   "execution_count": 36,
   "id": "2d9ee2bf",
   "metadata": {},
   "outputs": [
    {
     "name": "stdout",
     "output_type": "stream",
     "text": [
      "[6, 2, 46, 7, 14, 20, 10, 10, 470, 158]\n"
     ]
    }
   ],
   "source": [
    "print(train_input[0][-10:])"
   ]
  },
  {
   "cell_type": "code",
   "execution_count": 37,
   "id": "022c0acb",
   "metadata": {},
   "outputs": [
    {
     "name": "stdout",
     "output_type": "stream",
     "text": [
      "[  0   0   0   0   1   2 195  19  49   2   2 190   4   2 352   2 183  10\n",
      "  10  13  82  79   4   2  36  71 269   8   2  25  19  49   7   4   2   2\n",
      "   2   2   2  10  10  48  25  40   2  11   2   2  40   2   2   5   4   2\n",
      "   2  95  14 238  56 129   2  10  10  21   2  94 364 352   2   2  11 190\n",
      "  24 484   2   7  94 205 405  10  10  87   2  34  49   2   7   2   2   2\n",
      "   2   2 290   2  46  48  64  18   4   2]\n"
     ]
    }
   ],
   "source": [
    "print(train_seq[5])"
   ]
  },
  {
   "cell_type": "markdown",
   "id": "f778d612",
   "metadata": {},
   "source": [
    "### Simple RNN 만들기"
   ]
  },
  {
   "cell_type": "code",
   "execution_count": 38,
   "id": "820cb258",
   "metadata": {},
   "outputs": [
    {
     "name": "stdout",
     "output_type": "stream",
     "text": [
      "Model: \"imdb\"\n",
      "_________________________________________________________________\n",
      " Layer (type)                Output Shape              Param #   \n",
      "=================================================================\n",
      " simple_rnn_1 (SimpleRNN)    (None, 8)                 4072      \n",
      "                                                                 \n",
      " output (Dense)              (None, 1)                 9         \n",
      "                                                                 \n",
      "=================================================================\n",
      "Total params: 4,081\n",
      "Trainable params: 4,081\n",
      "Non-trainable params: 0\n",
      "_________________________________________________________________\n"
     ]
    }
   ],
   "source": [
    "from tensorflow import keras\n",
    "\n",
    "model = keras.Sequential(name='imdb')\n",
    "\n",
    "# input_shaepe = (시퀀스 길이 * 단어표현길이 (one hot encoding))\n",
    "model.add(keras.layers.SimpleRNN(8, input_shape=(100, 500)))   # neuron:8 \n",
    "model.add(keras.layers.Dense(1, activation='sigmoid', name='output'))\n",
    "\n",
    "model.summary()"
   ]
  },
  {
   "cell_type": "code",
   "execution_count": 39,
   "id": "a233afb5",
   "metadata": {},
   "outputs": [],
   "source": [
    "# one hot encoding\n",
    "train_oh = keras.utils.to_categorical(train_seq)\n",
    "val_oh = keras.utils.to_categorical(val_seq)"
   ]
  },
  {
   "cell_type": "code",
   "execution_count": 40,
   "id": "3760abce",
   "metadata": {},
   "outputs": [
    {
     "name": "stdout",
     "output_type": "stream",
     "text": [
      "(20000, 100, 500)\n"
     ]
    }
   ],
   "source": [
    "print(train_oh.shape)"
   ]
  },
  {
   "cell_type": "code",
   "execution_count": 41,
   "id": "3107c776",
   "metadata": {},
   "outputs": [
    {
     "name": "stdout",
     "output_type": "stream",
     "text": [
      "[0. 0. 0. 0. 0. 0. 0. 0. 0. 0. 1. 0.]\n"
     ]
    }
   ],
   "source": [
    "print(train_oh[0][0][:12])"
   ]
  },
  {
   "cell_type": "code",
   "execution_count": 42,
   "id": "52253f6b",
   "metadata": {},
   "outputs": [
    {
     "name": "stdout",
     "output_type": "stream",
     "text": [
      "1.0\n"
     ]
    }
   ],
   "source": [
    "print(np.sum(train_oh[0][0]))"
   ]
  },
  {
   "cell_type": "code",
   "execution_count": 43,
   "id": "b687d906",
   "metadata": {},
   "outputs": [
    {
     "name": "stdout",
     "output_type": "stream",
     "text": [
      "Epoch 1/100\n",
      "313/313 [==============================] - 8s 22ms/step - loss: 0.6989 - accuracy: 0.5041 - val_loss: 0.6978 - val_accuracy: 0.5038\n",
      "Epoch 2/100\n",
      "313/313 [==============================] - 6s 20ms/step - loss: 0.6946 - accuracy: 0.5102 - val_loss: 0.6949 - val_accuracy: 0.5102\n",
      "Epoch 3/100\n",
      "313/313 [==============================] - 6s 20ms/step - loss: 0.6920 - accuracy: 0.5200 - val_loss: 0.6930 - val_accuracy: 0.5146\n",
      "Epoch 4/100\n",
      "313/313 [==============================] - 6s 20ms/step - loss: 0.6901 - accuracy: 0.5302 - val_loss: 0.6916 - val_accuracy: 0.5230\n",
      "Epoch 5/100\n",
      "313/313 [==============================] - 6s 19ms/step - loss: 0.6883 - accuracy: 0.5408 - val_loss: 0.6905 - val_accuracy: 0.5270\n",
      "Epoch 6/100\n",
      "313/313 [==============================] - 6s 19ms/step - loss: 0.6866 - accuracy: 0.5472 - val_loss: 0.6894 - val_accuracy: 0.5356\n",
      "Epoch 7/100\n",
      "313/313 [==============================] - 6s 20ms/step - loss: 0.6845 - accuracy: 0.5563 - val_loss: 0.6880 - val_accuracy: 0.5416\n",
      "Epoch 8/100\n",
      "313/313 [==============================] - 6s 20ms/step - loss: 0.6819 - accuracy: 0.5659 - val_loss: 0.6856 - val_accuracy: 0.5482\n",
      "Epoch 9/100\n",
      "313/313 [==============================] - 6s 20ms/step - loss: 0.6777 - accuracy: 0.5828 - val_loss: 0.6807 - val_accuracy: 0.5726\n",
      "Epoch 10/100\n",
      "313/313 [==============================] - 6s 20ms/step - loss: 0.6614 - accuracy: 0.6260 - val_loss: 0.6585 - val_accuracy: 0.6240\n",
      "Epoch 11/100\n",
      "313/313 [==============================] - 6s 20ms/step - loss: 0.6407 - accuracy: 0.6651 - val_loss: 0.6419 - val_accuracy: 0.6594\n",
      "Epoch 12/100\n",
      "313/313 [==============================] - 6s 20ms/step - loss: 0.6273 - accuracy: 0.6851 - val_loss: 0.6308 - val_accuracy: 0.6730\n",
      "Epoch 13/100\n",
      "313/313 [==============================] - 6s 20ms/step - loss: 0.6143 - accuracy: 0.6981 - val_loss: 0.6200 - val_accuracy: 0.6830\n",
      "Epoch 14/100\n",
      "313/313 [==============================] - 6s 19ms/step - loss: 0.6005 - accuracy: 0.7118 - val_loss: 0.6072 - val_accuracy: 0.6946\n",
      "Epoch 15/100\n",
      "313/313 [==============================] - 6s 19ms/step - loss: 0.5885 - accuracy: 0.7197 - val_loss: 0.5954 - val_accuracy: 0.7068\n",
      "Epoch 16/100\n",
      "313/313 [==============================] - 6s 19ms/step - loss: 0.5762 - accuracy: 0.7315 - val_loss: 0.5852 - val_accuracy: 0.7138\n",
      "Epoch 17/100\n",
      "313/313 [==============================] - 6s 19ms/step - loss: 0.5647 - accuracy: 0.7380 - val_loss: 0.5770 - val_accuracy: 0.7186\n",
      "Epoch 18/100\n",
      "313/313 [==============================] - 6s 20ms/step - loss: 0.5543 - accuracy: 0.7442 - val_loss: 0.5653 - val_accuracy: 0.7288\n",
      "Epoch 19/100\n",
      "313/313 [==============================] - 6s 20ms/step - loss: 0.5446 - accuracy: 0.7498 - val_loss: 0.5552 - val_accuracy: 0.7396\n",
      "Epoch 20/100\n",
      "313/313 [==============================] - 6s 20ms/step - loss: 0.5347 - accuracy: 0.7555 - val_loss: 0.5473 - val_accuracy: 0.7404\n",
      "Epoch 21/100\n",
      "313/313 [==============================] - 6s 19ms/step - loss: 0.5250 - accuracy: 0.7621 - val_loss: 0.5385 - val_accuracy: 0.7498\n",
      "Epoch 22/100\n",
      "313/313 [==============================] - 6s 20ms/step - loss: 0.5172 - accuracy: 0.7655 - val_loss: 0.5306 - val_accuracy: 0.7540\n",
      "Epoch 23/100\n",
      "313/313 [==============================] - 6s 20ms/step - loss: 0.5092 - accuracy: 0.7682 - val_loss: 0.5221 - val_accuracy: 0.7564\n",
      "Epoch 24/100\n",
      "313/313 [==============================] - 6s 19ms/step - loss: 0.5003 - accuracy: 0.7754 - val_loss: 0.5221 - val_accuracy: 0.7548\n",
      "Epoch 25/100\n",
      "313/313 [==============================] - 6s 19ms/step - loss: 0.4946 - accuracy: 0.7766 - val_loss: 0.5314 - val_accuracy: 0.7462\n",
      "Epoch 26/100\n",
      "313/313 [==============================] - 6s 20ms/step - loss: 0.4899 - accuracy: 0.7792 - val_loss: 0.5214 - val_accuracy: 0.7516\n",
      "Epoch 27/100\n",
      "313/313 [==============================] - 6s 19ms/step - loss: 0.4836 - accuracy: 0.7823 - val_loss: 0.5089 - val_accuracy: 0.7608\n",
      "Epoch 28/100\n",
      "313/313 [==============================] - 6s 19ms/step - loss: 0.4783 - accuracy: 0.7857 - val_loss: 0.5063 - val_accuracy: 0.7622\n",
      "Epoch 29/100\n",
      "313/313 [==============================] - 6s 19ms/step - loss: 0.4731 - accuracy: 0.7894 - val_loss: 0.5055 - val_accuracy: 0.7588\n",
      "Epoch 30/100\n",
      "313/313 [==============================] - 6s 19ms/step - loss: 0.4696 - accuracy: 0.7904 - val_loss: 0.4969 - val_accuracy: 0.7660\n",
      "Epoch 31/100\n",
      "313/313 [==============================] - 6s 19ms/step - loss: 0.4649 - accuracy: 0.7931 - val_loss: 0.4979 - val_accuracy: 0.7674\n",
      "Epoch 32/100\n",
      "313/313 [==============================] - 6s 19ms/step - loss: 0.4606 - accuracy: 0.7965 - val_loss: 0.4933 - val_accuracy: 0.7682\n",
      "Epoch 33/100\n",
      "313/313 [==============================] - 6s 19ms/step - loss: 0.4591 - accuracy: 0.7969 - val_loss: 0.4928 - val_accuracy: 0.7700\n",
      "Epoch 34/100\n",
      "313/313 [==============================] - 6s 19ms/step - loss: 0.4553 - accuracy: 0.7977 - val_loss: 0.4941 - val_accuracy: 0.7644\n",
      "Epoch 35/100\n",
      "313/313 [==============================] - 6s 19ms/step - loss: 0.4527 - accuracy: 0.7995 - val_loss: 0.4866 - val_accuracy: 0.7742\n",
      "Epoch 36/100\n",
      "313/313 [==============================] - 6s 19ms/step - loss: 0.4500 - accuracy: 0.8026 - val_loss: 0.4898 - val_accuracy: 0.7702\n",
      "Epoch 37/100\n",
      "313/313 [==============================] - 6s 19ms/step - loss: 0.4473 - accuracy: 0.8048 - val_loss: 0.4917 - val_accuracy: 0.7652\n",
      "Epoch 38/100\n",
      "313/313 [==============================] - 6s 19ms/step - loss: 0.4457 - accuracy: 0.8038 - val_loss: 0.4813 - val_accuracy: 0.7766\n",
      "Epoch 39/100\n",
      "313/313 [==============================] - 6s 19ms/step - loss: 0.4433 - accuracy: 0.8048 - val_loss: 0.4798 - val_accuracy: 0.7778\n",
      "Epoch 40/100\n",
      "313/313 [==============================] - 6s 19ms/step - loss: 0.4414 - accuracy: 0.8073 - val_loss: 0.4987 - val_accuracy: 0.7656\n",
      "Epoch 41/100\n",
      "313/313 [==============================] - 6s 19ms/step - loss: 0.4397 - accuracy: 0.8079 - val_loss: 0.4778 - val_accuracy: 0.7800\n",
      "Epoch 42/100\n",
      "313/313 [==============================] - 6s 19ms/step - loss: 0.4380 - accuracy: 0.8086 - val_loss: 0.4866 - val_accuracy: 0.7728\n",
      "Epoch 43/100\n",
      "313/313 [==============================] - 6s 19ms/step - loss: 0.4362 - accuracy: 0.8101 - val_loss: 0.4801 - val_accuracy: 0.7764\n",
      "Epoch 44/100\n",
      "313/313 [==============================] - 6s 19ms/step - loss: 0.4337 - accuracy: 0.8111 - val_loss: 0.4735 - val_accuracy: 0.7808\n",
      "Epoch 45/100\n",
      "313/313 [==============================] - 6s 19ms/step - loss: 0.4326 - accuracy: 0.8123 - val_loss: 0.4819 - val_accuracy: 0.7786\n",
      "Epoch 46/100\n",
      "313/313 [==============================] - 6s 19ms/step - loss: 0.4303 - accuracy: 0.8123 - val_loss: 0.4717 - val_accuracy: 0.7794\n",
      "Epoch 47/100\n",
      "313/313 [==============================] - 6s 19ms/step - loss: 0.4294 - accuracy: 0.8128 - val_loss: 0.4714 - val_accuracy: 0.7776\n",
      "Epoch 48/100\n",
      "313/313 [==============================] - 6s 19ms/step - loss: 0.4276 - accuracy: 0.8143 - val_loss: 0.4711 - val_accuracy: 0.7796\n",
      "Epoch 49/100\n",
      "313/313 [==============================] - 6s 19ms/step - loss: 0.4262 - accuracy: 0.8148 - val_loss: 0.4690 - val_accuracy: 0.7806\n",
      "Epoch 50/100\n",
      "313/313 [==============================] - 6s 19ms/step - loss: 0.4244 - accuracy: 0.8170 - val_loss: 0.4667 - val_accuracy: 0.7810\n",
      "Epoch 51/100\n",
      "313/313 [==============================] - 6s 19ms/step - loss: 0.4227 - accuracy: 0.8172 - val_loss: 0.4690 - val_accuracy: 0.7840\n",
      "Epoch 52/100\n",
      "313/313 [==============================] - 6s 19ms/step - loss: 0.4214 - accuracy: 0.8181 - val_loss: 0.4661 - val_accuracy: 0.7814\n",
      "Epoch 53/100\n",
      "313/313 [==============================] - 6s 19ms/step - loss: 0.4204 - accuracy: 0.8181 - val_loss: 0.4782 - val_accuracy: 0.7794\n",
      "Epoch 54/100\n",
      "313/313 [==============================] - 6s 19ms/step - loss: 0.4193 - accuracy: 0.8191 - val_loss: 0.4653 - val_accuracy: 0.7848\n",
      "Epoch 55/100\n",
      "313/313 [==============================] - 6s 19ms/step - loss: 0.4181 - accuracy: 0.8197 - val_loss: 0.4621 - val_accuracy: 0.7844\n",
      "Epoch 56/100\n",
      "313/313 [==============================] - 6s 19ms/step - loss: 0.4169 - accuracy: 0.8197 - val_loss: 0.4625 - val_accuracy: 0.7858\n",
      "Epoch 57/100\n",
      "313/313 [==============================] - 6s 19ms/step - loss: 0.4154 - accuracy: 0.8195 - val_loss: 0.4613 - val_accuracy: 0.7864\n",
      "Epoch 58/100\n",
      "313/313 [==============================] - 6s 19ms/step - loss: 0.4138 - accuracy: 0.8202 - val_loss: 0.4636 - val_accuracy: 0.7840\n",
      "Epoch 59/100\n",
      "313/313 [==============================] - 6s 19ms/step - loss: 0.4126 - accuracy: 0.8212 - val_loss: 0.4654 - val_accuracy: 0.7830\n",
      "Epoch 60/100\n",
      "313/313 [==============================] - 6s 19ms/step - loss: 0.4117 - accuracy: 0.8229 - val_loss: 0.4624 - val_accuracy: 0.7844\n"
     ]
    }
   ],
   "source": [
    "# Training RNN\n",
    "rmsprop = keras.optimizers.RMSprop(learning_rate=1e-4)\n",
    "model.compile(optimizer=rmsprop, loss='binary_crossentropy', \n",
    "              metrics=['accuracy'])\n",
    "\n",
    "checkpoint_cb = keras.callbacks.ModelCheckpoint('best-simplernn-model.h5', \n",
    "                                                save_best_only=True)\n",
    "early_stopping_cb = keras.callbacks.EarlyStopping(patience=3,\n",
    "                                                  restore_best_weights=True)\n",
    "\n",
    "history = model.fit(train_oh, train_target, epochs=100, batch_size=64,\n",
    "                    validation_data=(val_oh, val_target),\n",
    "                    callbacks=[checkpoint_cb, early_stopping_cb])"
   ]
  },
  {
   "cell_type": "code",
   "execution_count": 44,
   "id": "6930c234",
   "metadata": {},
   "outputs": [
    {
     "data": {
      "image/png": "[encoded data removed]",
      "text/plain": [
       "<Figure size 432x288 with 1 Axes>"
      ]
     },
     "metadata": {
      "needs_background": "light"
     },
     "output_type": "display_data"
    }
   ],
   "source": [
    "plt.plot(history.history['loss'])\n",
    "plt.plot(history.history['val_loss'])\n",
    "plt.xlabel('epoch')\n",
    "plt.ylabel('loss')\n",
    "plt.legend(['train', 'val'])\n",
    "plt.show()"
   ]
  },
  {
   "cell_type": "code",
   "execution_count": 45,
   "id": "842a04c9",
   "metadata": {},
   "outputs": [
    {
     "name": "stdout",
     "output_type": "stream",
     "text": [
      "8000000 4000000000\n"
     ]
    }
   ],
   "source": [
    "print(train_seq.nbytes, train_oh.nbytes)"
   ]
  },
  {
   "cell_type": "code",
   "execution_count": 23,
   "id": "5c1483de",
   "metadata": {},
   "outputs": [],
   "source": [
    "#tran_oh의 크기가 너무 커서 메모리 부족으로 커널이 죽을 수도 있음\n",
    "#import gc\n",
    "\n",
    "#del(train_oh)\n",
    "#gc.collect()\n",
    "#model = keras.models.load_mode('best-simplernn-model.h5')"
   ]
  }
 ],
 "metadata": {
  "kernelspec": {
   "display_name": "conda_tensorflow2_p38",
   "language": "python",
   "name": "conda_tensorflow2_p38"
  },
  "language_info": {
   "codemirror_mode": {
    "name": "ipython",
    "version": 3
   },
   "file_extension": ".py",
   "mimetype": "text/x-python",
   "name": "python",
   "nbconvert_exporter": "python",
   "pygments_lexer": "ipython3",
   "version": "3.8.12"
  }
 },
 "nbformat": 4,
 "nbformat_minor": 5
}
