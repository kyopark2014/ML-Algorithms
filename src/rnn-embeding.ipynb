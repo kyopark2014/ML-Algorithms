{
 "cells": [
  {
   "cell_type": "code",
   "execution_count": null,
   "metadata": {},
   "outputs": [],
   "source": [
    "# 실행마다 동일한 결과를 얻기 위해 케라스에 랜덤 시드를 사용하고 텐서플로 연산을 결정적으로 만듭니다. \n",
    "import tensorflow as tf\n",
    "\n",
    "tf.keras.utils.set_random_seed(42)\n",
    "#tf.config.experimental.enable_op_determinism()"
   ]
  },
  {
   "cell_type": "code",
   "execution_count": 1,
   "metadata": {
    "colab": {
     "base_uri": "https://localhost:8080/"
    },
    "id": "sZoZm1ZO6kQR",
    "outputId": "c340dd55-629f-4615-db76-9c06bc46e2c2"
   },
   "outputs": [],
   "source": [
    "from tensorflow.keras.datasets import imdb\n",
    "\n",
    "(train_input, train_target), (test_input, test_target) = imdb.load_data(\n",
    "    num_words=500)"
   ]
  },
  {
   "cell_type": "code",
   "execution_count": 4,
   "metadata": {
    "id": "0-zjNgBw6kQU"
   },
   "outputs": [],
   "source": [
    "from sklearn.model_selection import train_test_split\n",
    "\n",
    "train_input, val_input, train_target, val_target = train_test_split(\n",
    "    train_input, train_target, test_size=0.2, random_state=42)"
   ]
  },
  {
   "cell_type": "code",
   "execution_count": 5,
   "metadata": {
    "id": "fbLSFToP6kQV"
   },
   "outputs": [],
   "source": [
    "from tensorflow.keras.preprocessing.sequence import pad_sequences\n",
    "\n",
    "train_seq = pad_sequences(train_input, maxlen=100)"
   ]
  },
  {
   "cell_type": "code",
   "execution_count": 6,
   "metadata": {
    "id": "ZeFmsjOd6kQX"
   },
   "outputs": [],
   "source": [
    "val_seq = pad_sequences(val_input, maxlen=100)"
   ]
  },
  {
   "cell_type": "code",
   "execution_count": 8,
   "metadata": {
    "id": "oXIWyOuw6kQY"
   },
   "outputs": [],
   "source": [
    "from tensorflow import keras\n",
    "\n",
    "train_oh = keras.utils.to_categorical(train_seq)"
   ]
  },
  {
   "cell_type": "code",
   "execution_count": 9,
   "metadata": {
    "id": "vgijH6m26kQZ"
   },
   "outputs": [],
   "source": [
    "val_oh = keras.utils.to_categorical(val_seq)"
   ]
  },
  {
   "cell_type": "markdown",
   "metadata": {
    "id": "K_U_lVie6kQa"
   },
   "source": [
    "## 단어 임베딩을 사용하기"
   ]
  },
  {
   "cell_type": "code",
   "execution_count": 10,
   "metadata": {
    "colab": {
     "base_uri": "https://localhost:8080/"
    },
    "id": "Ofl-Ifev6kQa",
    "outputId": "5446f8dd-845c-4fea-eb3a-a8887f010da0"
   },
   "outputs": [
    {
     "name": "stdout",
     "output_type": "stream",
     "text": [
      "Model: \"sequential\"\n",
      "_________________________________________________________________\n",
      " Layer (type)                Output Shape              Param #   \n",
      "=================================================================\n",
      " embedding (Embedding)       (None, 100, 16)           8000      \n",
      "                                                                 \n",
      " simple_rnn (SimpleRNN)      (None, 8)                 200       \n",
      "                                                                 \n",
      " dense (Dense)               (None, 1)                 9         \n",
      "                                                                 \n",
      "=================================================================\n",
      "Total params: 8,209\n",
      "Trainable params: 8,209\n",
      "Non-trainable params: 0\n",
      "_________________________________________________________________\n"
     ]
    },
    {
     "name": "stderr",
     "output_type": "stream",
     "text": [
      "2022-09-01 22:05:57.906612: E tensorflow/stream_executor/cuda/cuda_driver.cc:271] failed call to cuInit: CUDA_ERROR_NO_DEVICE: no CUDA-capable device is detected\n",
      "2022-09-01 22:05:57.906655: I tensorflow/stream_executor/cuda/cuda_diagnostics.cc:156] kernel driver does not appear to be running on this host (ip-172-16-79-218.ap-northeast-2.compute.internal): /proc/driver/nvidia/version does not exist\n",
      "2022-09-01 22:05:57.907710: I tensorflow/core/platform/cpu_feature_guard.cc:151] This TensorFlow binary is optimized with oneAPI Deep Neural Network Library (oneDNN) to use the following CPU instructions in performance-critical operations:  AVX2 AVX512F FMA\n",
      "To enable them in other operations, rebuild TensorFlow with the appropriate compiler flags.\n"
     ]
    }
   ],
   "source": [
    "model2 = keras.Sequential()\n",
    "\n",
    "model2.add(keras.layers.Embedding(500, 16, input_length=100))\n",
    "model2.add(keras.layers.SimpleRNN(8))\n",
    "model2.add(keras.layers.Dense(1, activation='sigmoid'))\n",
    "\n",
    "model2.summary()"
   ]
  },
  {
   "cell_type": "code",
   "execution_count": 11,
   "metadata": {
    "colab": {
     "base_uri": "https://localhost:8080/"
    },
    "id": "78TUrJAs6kQa",
    "outputId": "ee782c94-cf81-4add-e0a9-5290b91bd2bf"
   },
   "outputs": [
    {
     "name": "stdout",
     "output_type": "stream",
     "text": [
      "Epoch 1/100\n",
      "313/313 [==============================] - 7s 18ms/step - loss: 0.6593 - accuracy: 0.6065 - val_loss: 0.6231 - val_accuracy: 0.6770\n",
      "Epoch 2/100\n",
      "313/313 [==============================] - 6s 18ms/step - loss: 0.6007 - accuracy: 0.7067 - val_loss: 0.5888 - val_accuracy: 0.7136\n",
      "Epoch 3/100\n",
      "313/313 [==============================] - 6s 18ms/step - loss: 0.5714 - accuracy: 0.7371 - val_loss: 0.5666 - val_accuracy: 0.7338\n",
      "Epoch 4/100\n",
      "313/313 [==============================] - 6s 18ms/step - loss: 0.5512 - accuracy: 0.7541 - val_loss: 0.5509 - val_accuracy: 0.7442\n",
      "Epoch 5/100\n",
      "313/313 [==============================] - 6s 18ms/step - loss: 0.5342 - accuracy: 0.7643 - val_loss: 0.5477 - val_accuracy: 0.7464\n",
      "Epoch 6/100\n",
      "313/313 [==============================] - 6s 18ms/step - loss: 0.5193 - accuracy: 0.7746 - val_loss: 0.5290 - val_accuracy: 0.7590\n",
      "Epoch 7/100\n",
      "313/313 [==============================] - 6s 18ms/step - loss: 0.5070 - accuracy: 0.7814 - val_loss: 0.5134 - val_accuracy: 0.7784\n",
      "Epoch 8/100\n",
      "313/313 [==============================] - 6s 18ms/step - loss: 0.4947 - accuracy: 0.7864 - val_loss: 0.5031 - val_accuracy: 0.7796\n",
      "Epoch 9/100\n",
      "313/313 [==============================] - 6s 18ms/step - loss: 0.4833 - accuracy: 0.7941 - val_loss: 0.4942 - val_accuracy: 0.7864\n",
      "Epoch 10/100\n",
      "313/313 [==============================] - 6s 18ms/step - loss: 0.4735 - accuracy: 0.7990 - val_loss: 0.4874 - val_accuracy: 0.7810\n",
      "Epoch 11/100\n",
      "313/313 [==============================] - 6s 18ms/step - loss: 0.4649 - accuracy: 0.8015 - val_loss: 0.4838 - val_accuracy: 0.7864\n",
      "Epoch 12/100\n",
      "313/313 [==============================] - 6s 18ms/step - loss: 0.4568 - accuracy: 0.8048 - val_loss: 0.4730 - val_accuracy: 0.7896\n",
      "Epoch 13/100\n",
      "313/313 [==============================] - 6s 18ms/step - loss: 0.4500 - accuracy: 0.8077 - val_loss: 0.4675 - val_accuracy: 0.7916\n",
      "Epoch 14/100\n",
      "313/313 [==============================] - 6s 18ms/step - loss: 0.4434 - accuracy: 0.8087 - val_loss: 0.4655 - val_accuracy: 0.7954\n",
      "Epoch 15/100\n",
      "313/313 [==============================] - 6s 18ms/step - loss: 0.4380 - accuracy: 0.8116 - val_loss: 0.4594 - val_accuracy: 0.7968\n",
      "Epoch 16/100\n",
      "313/313 [==============================] - 5s 18ms/step - loss: 0.4330 - accuracy: 0.8134 - val_loss: 0.4600 - val_accuracy: 0.7886\n",
      "Epoch 17/100\n",
      "313/313 [==============================] - 6s 18ms/step - loss: 0.4288 - accuracy: 0.8141 - val_loss: 0.4558 - val_accuracy: 0.7936\n",
      "Epoch 18/100\n",
      "313/313 [==============================] - 5s 18ms/step - loss: 0.4254 - accuracy: 0.8148 - val_loss: 0.4562 - val_accuracy: 0.7876\n",
      "Epoch 19/100\n",
      "313/313 [==============================] - 6s 18ms/step - loss: 0.4217 - accuracy: 0.8157 - val_loss: 0.4592 - val_accuracy: 0.7862\n",
      "Epoch 20/100\n",
      "313/313 [==============================] - 6s 18ms/step - loss: 0.4186 - accuracy: 0.8183 - val_loss: 0.4513 - val_accuracy: 0.7916\n",
      "Epoch 21/100\n",
      "313/313 [==============================] - 6s 18ms/step - loss: 0.4157 - accuracy: 0.8191 - val_loss: 0.4527 - val_accuracy: 0.7852\n",
      "Epoch 22/100\n",
      "313/313 [==============================] - 6s 18ms/step - loss: 0.4136 - accuracy: 0.8198 - val_loss: 0.4516 - val_accuracy: 0.7944\n",
      "Epoch 23/100\n",
      "313/313 [==============================] - 6s 18ms/step - loss: 0.4111 - accuracy: 0.8207 - val_loss: 0.4503 - val_accuracy: 0.7978\n",
      "Epoch 24/100\n",
      "313/313 [==============================] - 5s 18ms/step - loss: 0.4089 - accuracy: 0.8216 - val_loss: 0.4516 - val_accuracy: 0.7948\n",
      "Epoch 25/100\n",
      "313/313 [==============================] - 6s 18ms/step - loss: 0.4071 - accuracy: 0.8214 - val_loss: 0.4486 - val_accuracy: 0.7946\n",
      "Epoch 26/100\n",
      "313/313 [==============================] - 6s 18ms/step - loss: 0.4048 - accuracy: 0.8221 - val_loss: 0.4491 - val_accuracy: 0.7888\n",
      "Epoch 27/100\n",
      "313/313 [==============================] - 6s 18ms/step - loss: 0.4025 - accuracy: 0.8240 - val_loss: 0.4499 - val_accuracy: 0.7860\n",
      "Epoch 28/100\n",
      "313/313 [==============================] - 6s 18ms/step - loss: 0.4009 - accuracy: 0.8235 - val_loss: 0.4507 - val_accuracy: 0.7918\n"
     ]
    }
   ],
   "source": [
    "rmsprop = keras.optimizers.RMSprop(learning_rate=1e-4)\n",
    "model2.compile(optimizer=rmsprop, loss='binary_crossentropy', \n",
    "               metrics=['accuracy'])\n",
    "\n",
    "checkpoint_cb = keras.callbacks.ModelCheckpoint('best-embedding-model.h5', \n",
    "                                                save_best_only=True)\n",
    "early_stopping_cb = keras.callbacks.EarlyStopping(patience=3,\n",
    "                                                  restore_best_weights=True)\n",
    "\n",
    "history = model2.fit(train_seq, train_target, epochs=100, batch_size=64,\n",
    "                     validation_data=(val_seq, val_target),\n",
    "                     callbacks=[checkpoint_cb, early_stopping_cb])"
   ]
  },
  {
   "cell_type": "code",
   "execution_count": 13,
   "metadata": {
    "colab": {
     "base_uri": "https://localhost:8080/",
     "height": 282
    },
    "id": "brUvKwLt6kQb",
    "outputId": "c9907bb0-000c-4c7f-fe2c-ce8128bac52b",
    "tags": []
   },
   "outputs": [
    {
     "data": {
      "image/png": "[encoded data removed]",
      "text/plain": [
       "<Figure size 432x288 with 1 Axes>"
      ]
     },
     "metadata": {
      "needs_background": "light"
     },
     "output_type": "display_data"
    }
   ],
   "source": [
    "import matplotlib.pyplot as plt\n",
    "\n",
    "plt.plot(history.history['loss'])\n",
    "plt.plot(history.history['val_loss'])\n",
    "plt.xlabel('epoch')\n",
    "plt.ylabel('loss')\n",
    "plt.legend(['train', 'val'])\n",
    "plt.show()"
   ]
  },
  {
   "cell_type": "code",
   "execution_count": null,
   "metadata": {},
   "outputs": [],
   "source": []
  }
 ],
 "metadata": {
  "accelerator": "GPU",
  "colab": {
   "name": "9-2.ipynb",
   "provenance": []
  },
  "kernelspec": {
   "display_name": "conda_tensorflow2_p38",
   "language": "python",
   "name": "conda_tensorflow2_p38"
  },
  "language_info": {
   "codemirror_mode": {
    "name": "ipython",
    "version": 3
   },
   "file_extension": ".py",
   "mimetype": "text/x-python",
   "name": "python",
   "nbconvert_exporter": "python",
   "pygments_lexer": "ipython3",
   "version": "3.8.12"
  }
 },
 "nbformat": 4,
 "nbformat_minor": 4
}
