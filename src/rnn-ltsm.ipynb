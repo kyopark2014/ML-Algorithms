{
 "cells": [
  {
   "cell_type": "code",
   "execution_count": 14,
   "id": "ba098071",
   "metadata": {},
   "outputs": [],
   "source": [
    "import tensorflow as tf\n",
    "\n",
    "#tf.keras.utils.set_random_seed(42)\n",
    "#tf.config.experimental.enable_op_determinism()"
   ]
  },
  {
   "cell_type": "code",
   "execution_count": 15,
   "id": "278f3254",
   "metadata": {},
   "outputs": [
    {
     "name": "stderr",
     "output_type": "stream",
     "text": [
      "<string>:6: VisibleDeprecationWarning: Creating an ndarray from ragged nested sequences (which is a list-or-tuple of lists-or-tuples-or ndarrays with different lengths or shapes) is deprecated. If you meant to do this, you must specify 'dtype=object' when creating the ndarray\n",
      "/home/ec2-user/anaconda3/envs/amazonei_tensorflow2_p36/lib/python3.6/site-packages/tensorflow/python/keras/datasets/imdb.py:159: VisibleDeprecationWarning: Creating an ndarray from ragged nested sequences (which is a list-or-tuple of lists-or-tuples-or ndarrays with different lengths or shapes) is deprecated. If you meant to do this, you must specify 'dtype=object' when creating the ndarray\n",
      "  x_train, y_train = np.array(xs[:idx]), np.array(labels[:idx])\n",
      "/home/ec2-user/anaconda3/envs/amazonei_tensorflow2_p36/lib/python3.6/site-packages/tensorflow/python/keras/datasets/imdb.py:160: VisibleDeprecationWarning: Creating an ndarray from ragged nested sequences (which is a list-or-tuple of lists-or-tuples-or ndarrays with different lengths or shapes) is deprecated. If you meant to do this, you must specify 'dtype=object' when creating the ndarray\n",
      "  x_test, y_test = np.array(xs[idx:]), np.array(labels[idx:])\n"
     ]
    }
   ],
   "source": [
    "from tensorflow.keras.datasets import imdb\n",
    "\n",
    "(train_input, train_target), (test_input, test_target) = imdb.load_data(\n",
    "    num_words=500)"
   ]
  },
  {
   "cell_type": "code",
   "execution_count": 16,
   "id": "6a2d846f",
   "metadata": {},
   "outputs": [],
   "source": [
    "from sklearn.model_selection import train_test_split\n",
    "\n",
    "train_input, val_input, train_target, val_target = train_test_split(\n",
    "    train_input, train_target, test_size=0.2, random_state=42)"
   ]
  },
  {
   "cell_type": "code",
   "execution_count": 17,
   "id": "5f53300c",
   "metadata": {},
   "outputs": [],
   "source": [
    "from tensorflow.keras.preprocessing.sequence import pad_sequences\n",
    "\n",
    "train_seq = pad_sequences(train_input, maxlen=100)\n",
    "val_seq = pad_sequences(val_input, maxlen=100)"
   ]
  },
  {
   "cell_type": "code",
   "execution_count": 18,
   "id": "d1dab1f1",
   "metadata": {},
   "outputs": [
    {
     "name": "stdout",
     "output_type": "stream",
     "text": [
      "Model: \"sequential_3\"\n",
      "_________________________________________________________________\n",
      "Layer (type)                 Output Shape              Param #   \n",
      "=================================================================\n",
      "embedding_3 (Embedding)      (None, 100, 16)           8000      \n",
      "_________________________________________________________________\n",
      "gru (GRU)                    (None, 8)                 624       \n",
      "_________________________________________________________________\n",
      "dense_3 (Dense)              (None, 1)                 9         \n",
      "=================================================================\n",
      "Total params: 8,633\n",
      "Trainable params: 8,633\n",
      "Non-trainable params: 0\n",
      "_________________________________________________________________\n"
     ]
    }
   ],
   "source": [
    "from tensorflow import keras\n",
    "\n",
    "model = keras.Sequential()\n",
    "\n",
    "model.add(keras.layers.Embedding(500, 16, input_length=100))\n",
    "model.add(keras.layers.LSTM(8))\n",
    "model.add(keras.layers.Dense(1, activation='sigmoid'))\n",
    "\n",
    "model.summary()"
   ]
  },
  {
   "cell_type": "code",
   "execution_count": 7,
   "id": "3ad118c2",
   "metadata": {},
   "outputs": [
    {
     "name": "stdout",
     "output_type": "stream",
     "text": [
      "Epoch 1/100\n",
      "313/313 [==============================] - 8s 27ms/step - loss: 0.6926 - accuracy: 0.5401 - val_loss: 0.6918 - val_accuracy: 0.5872\n",
      "Epoch 2/100\n",
      "313/313 [==============================] - 8s 25ms/step - loss: 0.6901 - accuracy: 0.6211 - val_loss: 0.6879 - val_accuracy: 0.6440\n",
      "Epoch 3/100\n",
      "313/313 [==============================] - 8s 25ms/step - loss: 0.6791 - accuracy: 0.6594 - val_loss: 0.6629 - val_accuracy: 0.6740\n",
      "Epoch 4/100\n",
      "313/313 [==============================] - 8s 25ms/step - loss: 0.6421 - accuracy: 0.6999 - val_loss: 0.6254 - val_accuracy: 0.7136\n",
      "Epoch 5/100\n",
      "313/313 [==============================] - 8s 25ms/step - loss: 0.6108 - accuracy: 0.7273 - val_loss: 0.6019 - val_accuracy: 0.7252\n",
      "Epoch 6/100\n",
      "313/313 [==============================] - 8s 25ms/step - loss: 0.5891 - accuracy: 0.7437 - val_loss: 0.5814 - val_accuracy: 0.7478\n",
      "Epoch 7/100\n",
      "313/313 [==============================] - 8s 25ms/step - loss: 0.5685 - accuracy: 0.7566 - val_loss: 0.5634 - val_accuracy: 0.7580\n",
      "Epoch 8/100\n",
      "313/313 [==============================] - 8s 25ms/step - loss: 0.5496 - accuracy: 0.7657 - val_loss: 0.5459 - val_accuracy: 0.7656\n",
      "Epoch 9/100\n",
      "313/313 [==============================] - 8s 26ms/step - loss: 0.5306 - accuracy: 0.7767 - val_loss: 0.5298 - val_accuracy: 0.7686\n",
      "Epoch 10/100\n",
      "313/313 [==============================] - 8s 26ms/step - loss: 0.5122 - accuracy: 0.7829 - val_loss: 0.5121 - val_accuracy: 0.7770\n",
      "Epoch 11/100\n",
      "313/313 [==============================] - 8s 25ms/step - loss: 0.4970 - accuracy: 0.7875 - val_loss: 0.5012 - val_accuracy: 0.7784\n",
      "Epoch 12/100\n",
      "313/313 [==============================] - 8s 25ms/step - loss: 0.4852 - accuracy: 0.7916 - val_loss: 0.5006 - val_accuracy: 0.7672\n",
      "Epoch 13/100\n",
      "313/313 [==============================] - 8s 25ms/step - loss: 0.4765 - accuracy: 0.7934 - val_loss: 0.4850 - val_accuracy: 0.7824\n",
      "Epoch 14/100\n",
      "313/313 [==============================] - 8s 25ms/step - loss: 0.4688 - accuracy: 0.7968 - val_loss: 0.4809 - val_accuracy: 0.7830\n",
      "Epoch 15/100\n",
      "313/313 [==============================] - 8s 25ms/step - loss: 0.4622 - accuracy: 0.7984 - val_loss: 0.4762 - val_accuracy: 0.7808\n",
      "Epoch 16/100\n",
      "313/313 [==============================] - 8s 25ms/step - loss: 0.4564 - accuracy: 0.8012 - val_loss: 0.4749 - val_accuracy: 0.7814\n",
      "Epoch 17/100\n",
      "313/313 [==============================] - 8s 25ms/step - loss: 0.4510 - accuracy: 0.8033 - val_loss: 0.4664 - val_accuracy: 0.7868\n",
      "Epoch 18/100\n",
      "313/313 [==============================] - 8s 25ms/step - loss: 0.4458 - accuracy: 0.8053 - val_loss: 0.4633 - val_accuracy: 0.7858\n",
      "Epoch 19/100\n",
      "313/313 [==============================] - 8s 25ms/step - loss: 0.4423 - accuracy: 0.8050 - val_loss: 0.4604 - val_accuracy: 0.7876\n",
      "Epoch 20/100\n",
      "313/313 [==============================] - 8s 25ms/step - loss: 0.4387 - accuracy: 0.8081 - val_loss: 0.4565 - val_accuracy: 0.7886\n",
      "Epoch 21/100\n",
      "313/313 [==============================] - 8s 25ms/step - loss: 0.4358 - accuracy: 0.8066 - val_loss: 0.4543 - val_accuracy: 0.7918\n",
      "Epoch 22/100\n",
      "313/313 [==============================] - 8s 25ms/step - loss: 0.4326 - accuracy: 0.8102 - val_loss: 0.4529 - val_accuracy: 0.7922\n",
      "Epoch 23/100\n",
      "313/313 [==============================] - 8s 25ms/step - loss: 0.4297 - accuracy: 0.8115 - val_loss: 0.4554 - val_accuracy: 0.7900\n",
      "Epoch 24/100\n",
      "313/313 [==============================] - 8s 25ms/step - loss: 0.4274 - accuracy: 0.8117 - val_loss: 0.4588 - val_accuracy: 0.7862\n",
      "Epoch 25/100\n",
      "313/313 [==============================] - 8s 25ms/step - loss: 0.4253 - accuracy: 0.8123 - val_loss: 0.4509 - val_accuracy: 0.7930\n",
      "Epoch 26/100\n",
      "313/313 [==============================] - 8s 25ms/step - loss: 0.4237 - accuracy: 0.8130 - val_loss: 0.4474 - val_accuracy: 0.7908\n",
      "Epoch 27/100\n",
      "313/313 [==============================] - 8s 25ms/step - loss: 0.4220 - accuracy: 0.8136 - val_loss: 0.4465 - val_accuracy: 0.7932\n",
      "Epoch 28/100\n",
      "313/313 [==============================] - 8s 25ms/step - loss: 0.4205 - accuracy: 0.8145 - val_loss: 0.4448 - val_accuracy: 0.7914\n",
      "Epoch 29/100\n",
      "313/313 [==============================] - 8s 25ms/step - loss: 0.4186 - accuracy: 0.8141 - val_loss: 0.4471 - val_accuracy: 0.7898\n",
      "Epoch 30/100\n",
      "313/313 [==============================] - 8s 25ms/step - loss: 0.4177 - accuracy: 0.8159 - val_loss: 0.4429 - val_accuracy: 0.7958\n",
      "Epoch 31/100\n",
      "313/313 [==============================] - 8s 25ms/step - loss: 0.4160 - accuracy: 0.8159 - val_loss: 0.4420 - val_accuracy: 0.7948\n",
      "Epoch 32/100\n",
      "313/313 [==============================] - 8s 26ms/step - loss: 0.4147 - accuracy: 0.8174 - val_loss: 0.4412 - val_accuracy: 0.7954\n",
      "Epoch 33/100\n",
      "313/313 [==============================] - 8s 25ms/step - loss: 0.4136 - accuracy: 0.8167 - val_loss: 0.4411 - val_accuracy: 0.7936\n",
      "Epoch 34/100\n",
      "313/313 [==============================] - 8s 25ms/step - loss: 0.4124 - accuracy: 0.8168 - val_loss: 0.4406 - val_accuracy: 0.7936\n",
      "Epoch 35/100\n",
      "313/313 [==============================] - 8s 25ms/step - loss: 0.4111 - accuracy: 0.8166 - val_loss: 0.4397 - val_accuracy: 0.7966\n",
      "Epoch 36/100\n",
      "313/313 [==============================] - 8s 25ms/step - loss: 0.4106 - accuracy: 0.8175 - val_loss: 0.4393 - val_accuracy: 0.7978\n",
      "Epoch 37/100\n",
      "313/313 [==============================] - 8s 25ms/step - loss: 0.4090 - accuracy: 0.8183 - val_loss: 0.4430 - val_accuracy: 0.7936\n",
      "Epoch 38/100\n",
      "313/313 [==============================] - 8s 25ms/step - loss: 0.4081 - accuracy: 0.8178 - val_loss: 0.4375 - val_accuracy: 0.7974\n",
      "Epoch 39/100\n",
      "313/313 [==============================] - 8s 25ms/step - loss: 0.4071 - accuracy: 0.8193 - val_loss: 0.4371 - val_accuracy: 0.7992\n",
      "Epoch 40/100\n",
      "313/313 [==============================] - 8s 25ms/step - loss: 0.4056 - accuracy: 0.8196 - val_loss: 0.4375 - val_accuracy: 0.7990\n",
      "Epoch 41/100\n",
      "313/313 [==============================] - 8s 25ms/step - loss: 0.4051 - accuracy: 0.8188 - val_loss: 0.4354 - val_accuracy: 0.8008\n",
      "Epoch 42/100\n",
      "313/313 [==============================] - 8s 25ms/step - loss: 0.4041 - accuracy: 0.8188 - val_loss: 0.4344 - val_accuracy: 0.7972\n",
      "Epoch 43/100\n",
      "313/313 [==============================] - 8s 25ms/step - loss: 0.4032 - accuracy: 0.8192 - val_loss: 0.4351 - val_accuracy: 0.8012\n",
      "Epoch 44/100\n",
      "313/313 [==============================] - 8s 25ms/step - loss: 0.4025 - accuracy: 0.8198 - val_loss: 0.4363 - val_accuracy: 0.8002\n",
      "Epoch 45/100\n",
      "313/313 [==============================] - 8s 25ms/step - loss: 0.4013 - accuracy: 0.8206 - val_loss: 0.4352 - val_accuracy: 0.8014\n"
     ]
    }
   ],
   "source": [
    "rmsprop = keras.optimizers.RMSprop(learning_rate=1e-4)\n",
    "model.compile(optimizer=rmsprop, loss='binary_crossentropy', \n",
    "              metrics=['accuracy'])\n",
    "\n",
    "checkpoint_cb = keras.callbacks.ModelCheckpoint('best-lstm-model.h5', \n",
    "                                                save_best_only=True)\n",
    "early_stopping_cb = keras.callbacks.EarlyStopping(patience=3,\n",
    "                                                  restore_best_weights=True)\n",
    "\n",
    "history = model.fit(train_seq, train_target, epochs=100, batch_size=64,\n",
    "                    validation_data=(val_seq, val_target),\n",
    "                    callbacks=[checkpoint_cb, early_stopping_cb])"
   ]
  },
  {
   "cell_type": "code",
   "execution_count": 8,
   "id": "06af76b4",
   "metadata": {},
   "outputs": [
    {
     "data": {
      "image/png": "[encoded data removed]",
      "text/plain": [
       "<Figure size 432x288 with 1 Axes>"
      ]
     },
     "metadata": {
      "needs_background": "light"
     },
     "output_type": "display_data"
    }
   ],
   "source": [
    "import matplotlib.pyplot as plt\n",
    "\n",
    "plt.plot(history.history['loss'])\n",
    "plt.plot(history.history['val_loss'])\n",
    "plt.xlabel('epoch')\n",
    "plt.ylabel('loss')\n",
    "plt.legend(['train', 'val'])\n",
    "plt.show()"
   ]
  },
  {
   "cell_type": "markdown",
   "id": "aabca48c",
   "metadata": {},
   "source": [
    "### 순환 층에 드롭아웃 적용하기"
   ]
  },
  {
   "cell_type": "code",
   "execution_count": 11,
   "id": "8454e4bb",
   "metadata": {},
   "outputs": [
    {
     "name": "stdout",
     "output_type": "stream",
     "text": [
      "Model: \"sequential_2\"\n",
      "_________________________________________________________________\n",
      "Layer (type)                 Output Shape              Param #   \n",
      "=================================================================\n",
      "embedding_2 (Embedding)      (None, 100, 16)           8000      \n",
      "_________________________________________________________________\n",
      "lstm_2 (LSTM)                (None, 100, 8)            800       \n",
      "_________________________________________________________________\n",
      "lstm_3 (LSTM)                (None, 8)                 544       \n",
      "_________________________________________________________________\n",
      "dense_2 (Dense)              (None, 1)                 9         \n",
      "=================================================================\n",
      "Total params: 9,353\n",
      "Trainable params: 9,353\n",
      "Non-trainable params: 0\n",
      "_________________________________________________________________\n"
     ]
    }
   ],
   "source": [
    "model3 = keras.Sequential()\n",
    "\n",
    "model3.add(keras.layers.Embedding(500, 16, input_length=100))\n",
    "model3.add(keras.layers.LSTM(8, dropout=0.3, return_sequences=True))\n",
    "model3.add(keras.layers.LSTM(8, dropout=0.3))\n",
    "model3.add(keras.layers.Dense(1, activation='sigmoid'))\n",
    "\n",
    "model3.summary()"
   ]
  },
  {
   "cell_type": "code",
   "execution_count": 13,
   "id": "ca50aada",
   "metadata": {},
   "outputs": [
    {
     "name": "stdout",
     "output_type": "stream",
     "text": [
      "Epoch 1/100\n",
      "313/313 [==============================] - 17s 54ms/step - loss: 0.6926 - accuracy: 0.5464 - val_loss: 0.6914 - val_accuracy: 0.6028\n",
      "Epoch 2/100\n",
      "313/313 [==============================] - 16s 52ms/step - loss: 0.6881 - accuracy: 0.6101 - val_loss: 0.6811 - val_accuracy: 0.6450\n",
      "Epoch 3/100\n",
      "313/313 [==============================] - 16s 51ms/step - loss: 0.6551 - accuracy: 0.6588 - val_loss: 0.6100 - val_accuracy: 0.6992\n",
      "Epoch 4/100\n",
      "313/313 [==============================] - 16s 51ms/step - loss: 0.5763 - accuracy: 0.7161 - val_loss: 0.5532 - val_accuracy: 0.7268\n",
      "Epoch 5/100\n",
      "313/313 [==============================] - 16s 51ms/step - loss: 0.5401 - accuracy: 0.7390 - val_loss: 0.5217 - val_accuracy: 0.7526\n",
      "Epoch 6/100\n",
      "313/313 [==============================] - 16s 52ms/step - loss: 0.5152 - accuracy: 0.7555 - val_loss: 0.5014 - val_accuracy: 0.7636\n",
      "Epoch 7/100\n",
      "313/313 [==============================] - 16s 52ms/step - loss: 0.4993 - accuracy: 0.7643 - val_loss: 0.4924 - val_accuracy: 0.7662\n",
      "Epoch 8/100\n",
      "313/313 [==============================] - 17s 55ms/step - loss: 0.4848 - accuracy: 0.7742 - val_loss: 0.4782 - val_accuracy: 0.7772\n",
      "Epoch 9/100\n",
      "313/313 [==============================] - 17s 55ms/step - loss: 0.4773 - accuracy: 0.7800 - val_loss: 0.4709 - val_accuracy: 0.7816\n",
      "Epoch 10/100\n",
      "313/313 [==============================] - 17s 55ms/step - loss: 0.4711 - accuracy: 0.7805 - val_loss: 0.4673 - val_accuracy: 0.7864\n",
      "Epoch 11/100\n",
      "313/313 [==============================] - 17s 55ms/step - loss: 0.4640 - accuracy: 0.7868 - val_loss: 0.4611 - val_accuracy: 0.7876\n",
      "Epoch 12/100\n",
      "313/313 [==============================] - 17s 55ms/step - loss: 0.4598 - accuracy: 0.7903 - val_loss: 0.4605 - val_accuracy: 0.7830\n",
      "Epoch 13/100\n",
      "313/313 [==============================] - 17s 56ms/step - loss: 0.4546 - accuracy: 0.7906 - val_loss: 0.4547 - val_accuracy: 0.7904\n",
      "Epoch 14/100\n",
      "313/313 [==============================] - 17s 54ms/step - loss: 0.4511 - accuracy: 0.7926 - val_loss: 0.4521 - val_accuracy: 0.7904\n",
      "Epoch 15/100\n",
      "313/313 [==============================] - 17s 54ms/step - loss: 0.4477 - accuracy: 0.7954 - val_loss: 0.4505 - val_accuracy: 0.7904\n",
      "Epoch 16/100\n",
      "313/313 [==============================] - 17s 54ms/step - loss: 0.4462 - accuracy: 0.7952 - val_loss: 0.4492 - val_accuracy: 0.7918\n",
      "Epoch 17/100\n",
      "313/313 [==============================] - 17s 54ms/step - loss: 0.4439 - accuracy: 0.7976 - val_loss: 0.4469 - val_accuracy: 0.7926\n",
      "Epoch 18/100\n",
      "313/313 [==============================] - 17s 54ms/step - loss: 0.4409 - accuracy: 0.7979 - val_loss: 0.4498 - val_accuracy: 0.7936\n",
      "Epoch 19/100\n",
      "313/313 [==============================] - 17s 54ms/step - loss: 0.4402 - accuracy: 0.8002 - val_loss: 0.4443 - val_accuracy: 0.7946\n",
      "Epoch 20/100\n",
      "313/313 [==============================] - 17s 54ms/step - loss: 0.4397 - accuracy: 0.8007 - val_loss: 0.4494 - val_accuracy: 0.7916\n",
      "Epoch 21/100\n",
      "313/313 [==============================] - 17s 55ms/step - loss: 0.4375 - accuracy: 0.7986 - val_loss: 0.4422 - val_accuracy: 0.7930\n",
      "Epoch 22/100\n",
      "313/313 [==============================] - 17s 54ms/step - loss: 0.4342 - accuracy: 0.8034 - val_loss: 0.4415 - val_accuracy: 0.7952\n",
      "Epoch 23/100\n",
      "313/313 [==============================] - 17s 54ms/step - loss: 0.4336 - accuracy: 0.8019 - val_loss: 0.4453 - val_accuracy: 0.7900\n",
      "Epoch 24/100\n",
      "313/313 [==============================] - 17s 54ms/step - loss: 0.4324 - accuracy: 0.8037 - val_loss: 0.4393 - val_accuracy: 0.7954\n",
      "Epoch 25/100\n",
      "313/313 [==============================] - 17s 55ms/step - loss: 0.4324 - accuracy: 0.8044 - val_loss: 0.4384 - val_accuracy: 0.7974\n",
      "Epoch 26/100\n",
      "313/313 [==============================] - 17s 55ms/step - loss: 0.4294 - accuracy: 0.8037 - val_loss: 0.4387 - val_accuracy: 0.7968\n",
      "Epoch 27/100\n",
      "313/313 [==============================] - 17s 54ms/step - loss: 0.4294 - accuracy: 0.8057 - val_loss: 0.4380 - val_accuracy: 0.7994\n",
      "Epoch 28/100\n",
      "313/313 [==============================] - 17s 54ms/step - loss: 0.4292 - accuracy: 0.8051 - val_loss: 0.4375 - val_accuracy: 0.7962\n",
      "Epoch 29/100\n",
      "313/313 [==============================] - 17s 55ms/step - loss: 0.4262 - accuracy: 0.8049 - val_loss: 0.4367 - val_accuracy: 0.8016\n",
      "Epoch 30/100\n",
      "313/313 [==============================] - 17s 54ms/step - loss: 0.4266 - accuracy: 0.8048 - val_loss: 0.4358 - val_accuracy: 0.7966\n",
      "Epoch 31/100\n",
      "313/313 [==============================] - 17s 54ms/step - loss: 0.4269 - accuracy: 0.8072 - val_loss: 0.4353 - val_accuracy: 0.8010\n",
      "Epoch 32/100\n",
      "313/313 [==============================] - 17s 55ms/step - loss: 0.4258 - accuracy: 0.8059 - val_loss: 0.4355 - val_accuracy: 0.7954\n",
      "Epoch 33/100\n",
      "313/313 [==============================] - 17s 54ms/step - loss: 0.4245 - accuracy: 0.8062 - val_loss: 0.4347 - val_accuracy: 0.7998\n",
      "Epoch 34/100\n",
      "313/313 [==============================] - 17s 55ms/step - loss: 0.4255 - accuracy: 0.8052 - val_loss: 0.4341 - val_accuracy: 0.7994\n",
      "Epoch 35/100\n",
      "313/313 [==============================] - 17s 55ms/step - loss: 0.4225 - accuracy: 0.8073 - val_loss: 0.4335 - val_accuracy: 0.7990\n",
      "Epoch 36/100\n",
      "313/313 [==============================] - 17s 55ms/step - loss: 0.4220 - accuracy: 0.8061 - val_loss: 0.4349 - val_accuracy: 0.7982\n",
      "Epoch 37/100\n",
      "313/313 [==============================] - 17s 55ms/step - loss: 0.4221 - accuracy: 0.8066 - val_loss: 0.4340 - val_accuracy: 0.7994\n",
      "Epoch 38/100\n",
      "313/313 [==============================] - 17s 55ms/step - loss: 0.4200 - accuracy: 0.8082 - val_loss: 0.4336 - val_accuracy: 0.8020\n"
     ]
    }
   ],
   "source": [
    "rmsprop = keras.optimizers.RMSprop(learning_rate=1e-4)\n",
    "model3.compile(optimizer=rmsprop, loss='binary_crossentropy', \n",
    "               metrics=['accuracy'])\n",
    "\n",
    "checkpoint_cb = keras.callbacks.ModelCheckpoint('best-2rnn-model.h5', \n",
    "                                                save_best_only=True)\n",
    "early_stopping_cb = keras.callbacks.EarlyStopping(patience=3,\n",
    "                                                  restore_best_weights=True)\n",
    "\n",
    "history = model3.fit(train_seq, train_target, epochs=100, batch_size=64,\n",
    "                     validation_data=(val_seq, val_target),\n",
    "                     callbacks=[checkpoint_cb, early_stopping_cb])"
   ]
  },
  {
   "cell_type": "code",
   "execution_count": 19,
   "id": "0e550983",
   "metadata": {},
   "outputs": [
    {
     "data": {
      "image/png": "[encoded data removed]",
      "text/plain": [
       "<Figure size 432x288 with 1 Axes>"
      ]
     },
     "metadata": {
      "needs_background": "light"
     },
     "output_type": "display_data"
    }
   ],
   "source": [
    "import matplotlib.pyplot as plt\n",
    "\n",
    "plt.plot(history.history['loss'])\n",
    "plt.plot(history.history['val_loss'])\n",
    "plt.xlabel('epoch')\n",
    "plt.ylabel('loss')\n",
    "plt.legend(['train', 'val'])\n",
    "plt.show()"
   ]
  }
 ],
 "metadata": {
  "kernelspec": {
   "display_name": "conda_amazonei_tensorflow2_p36",
   "language": "python",
   "name": "conda_amazonei_tensorflow2_p36"
  },
  "language_info": {
   "codemirror_mode": {
    "name": "ipython",
    "version": 3
   },
   "file_extension": ".py",
   "mimetype": "text/x-python",
   "name": "python",
   "nbconvert_exporter": "python",
   "pygments_lexer": "ipython3",
   "version": "3.6.13"
  }
 },
 "nbformat": 4,
 "nbformat_minor": 5
}
