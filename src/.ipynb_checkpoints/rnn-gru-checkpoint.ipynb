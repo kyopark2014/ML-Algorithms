{
 "cells": [
  {
   "cell_type": "markdown",
   "id": "d750177f",
   "metadata": {},
   "source": [
    "# [순환신경망 - GRU](https://github.com/kyopark2014/ML-Algorithms/blob/main/rnn-gru.md)"
   ]
  },
  {
   "cell_type": "code",
   "execution_count": 1,
   "id": "6c6b1ccf",
   "metadata": {},
   "outputs": [],
   "source": [
    "import tensorflow as tf\n",
    "\n",
    "#tf.keras.utils.set_random_seed(42)\n",
    "#tf.config.experimental.enable_op_determinism()"
   ]
  },
  {
   "cell_type": "code",
   "execution_count": 2,
   "id": "1436821f",
   "metadata": {},
   "outputs": [],
   "source": [
    "from tensorflow.keras.datasets import imdb\n",
    "\n",
    "(train_input, train_target), (test_input, test_target) = imdb.load_data(\n",
    "    num_words=500)"
   ]
  },
  {
   "cell_type": "code",
   "execution_count": 3,
   "id": "ce555d29",
   "metadata": {},
   "outputs": [],
   "source": [
    "from sklearn.model_selection import train_test_split\n",
    "\n",
    "train_input, val_input, train_target, val_target = train_test_split(\n",
    "    train_input, train_target, test_size=0.2, random_state=42)"
   ]
  },
  {
   "cell_type": "code",
   "execution_count": 4,
   "id": "b899bded",
   "metadata": {},
   "outputs": [],
   "source": [
    "from tensorflow.keras.preprocessing.sequence import pad_sequences\n",
    "\n",
    "train_seq = pad_sequences(train_input, maxlen=100)\n",
    "val_seq = pad_sequences(val_input, maxlen=100)"
   ]
  },
  {
   "cell_type": "code",
   "execution_count": 6,
   "id": "99a6900b",
   "metadata": {},
   "outputs": [
    {
     "name": "stdout",
     "output_type": "stream",
     "text": [
      "Model: \"GRU\"\n",
      "_________________________________________________________________\n",
      " Layer (type)                Output Shape              Param #   \n",
      "=================================================================\n",
      " embedding_1 (Embedding)     (None, 100, 16)           8000      \n",
      "                                                                 \n",
      " gru_1 (GRU)                 (None, 8)                 624       \n",
      "                                                                 \n",
      " output (Dense)              (None, 1)                 9         \n",
      "                                                                 \n",
      "=================================================================\n",
      "Total params: 8,633\n",
      "Trainable params: 8,633\n",
      "Non-trainable params: 0\n",
      "_________________________________________________________________\n"
     ]
    }
   ],
   "source": [
    "from tensorflow import keras\n",
    "\n",
    "model = keras.Sequential(name='GRU')\n",
    "\n",
    "model.add(keras.layers.Embedding(500, 16, input_length=100))\n",
    "model.add(keras.layers.GRU(8))\n",
    "model.add(keras.layers.Dense(1, activation='sigmoid', name='output'))\n",
    "\n",
    "model.summary()"
   ]
  },
  {
   "cell_type": "code",
   "execution_count": 9,
   "id": "074c6991",
   "metadata": {},
   "outputs": [
    {
     "name": "stdout",
     "output_type": "stream",
     "text": [
      "Epoch 1/100\n",
      "313/313 [==============================] - 13s 36ms/step - loss: 0.6918 - accuracy: 0.5329 - val_loss: 0.6908 - val_accuracy: 0.5500\n",
      "Epoch 2/100\n",
      "313/313 [==============================] - 11s 35ms/step - loss: 0.6882 - accuracy: 0.5882 - val_loss: 0.6868 - val_accuracy: 0.5936\n",
      "Epoch 3/100\n",
      "313/313 [==============================] - 11s 36ms/step - loss: 0.6828 - accuracy: 0.6166 - val_loss: 0.6805 - val_accuracy: 0.6066\n",
      "Epoch 4/100\n",
      "313/313 [==============================] - 11s 35ms/step - loss: 0.6739 - accuracy: 0.6297 - val_loss: 0.6702 - val_accuracy: 0.6178\n",
      "Epoch 5/100\n",
      "313/313 [==============================] - 11s 35ms/step - loss: 0.6592 - accuracy: 0.6478 - val_loss: 0.6523 - val_accuracy: 0.6362\n",
      "Epoch 6/100\n",
      "313/313 [==============================] - 11s 36ms/step - loss: 0.6336 - accuracy: 0.6701 - val_loss: 0.6213 - val_accuracy: 0.6704\n",
      "Epoch 7/100\n",
      "313/313 [==============================] - 11s 35ms/step - loss: 0.5846 - accuracy: 0.7061 - val_loss: 0.5577 - val_accuracy: 0.7184\n",
      "Epoch 8/100\n",
      "313/313 [==============================] - 11s 35ms/step - loss: 0.5170 - accuracy: 0.7470 - val_loss: 0.5086 - val_accuracy: 0.7502\n",
      "Epoch 9/100\n",
      "313/313 [==============================] - 11s 35ms/step - loss: 0.4893 - accuracy: 0.7671 - val_loss: 0.4909 - val_accuracy: 0.7676\n",
      "Epoch 10/100\n",
      "313/313 [==============================] - 11s 35ms/step - loss: 0.4740 - accuracy: 0.7773 - val_loss: 0.4799 - val_accuracy: 0.7712\n",
      "Epoch 11/100\n",
      "313/313 [==============================] - 11s 35ms/step - loss: 0.4626 - accuracy: 0.7854 - val_loss: 0.4706 - val_accuracy: 0.7780\n",
      "Epoch 12/100\n",
      "313/313 [==============================] - 11s 35ms/step - loss: 0.4532 - accuracy: 0.7923 - val_loss: 0.4637 - val_accuracy: 0.7826\n",
      "Epoch 13/100\n",
      "313/313 [==============================] - 11s 35ms/step - loss: 0.4465 - accuracy: 0.7953 - val_loss: 0.4590 - val_accuracy: 0.7896\n",
      "Epoch 14/100\n",
      "313/313 [==============================] - 11s 35ms/step - loss: 0.4409 - accuracy: 0.7996 - val_loss: 0.4563 - val_accuracy: 0.7888\n",
      "Epoch 15/100\n",
      "313/313 [==============================] - 11s 35ms/step - loss: 0.4364 - accuracy: 0.8023 - val_loss: 0.4548 - val_accuracy: 0.7910\n",
      "Epoch 16/100\n",
      "313/313 [==============================] - 11s 35ms/step - loss: 0.4329 - accuracy: 0.8060 - val_loss: 0.4539 - val_accuracy: 0.7868\n",
      "Epoch 17/100\n",
      "313/313 [==============================] - 11s 35ms/step - loss: 0.4303 - accuracy: 0.8089 - val_loss: 0.4500 - val_accuracy: 0.7906\n",
      "Epoch 18/100\n",
      "313/313 [==============================] - 11s 35ms/step - loss: 0.4278 - accuracy: 0.8102 - val_loss: 0.4504 - val_accuracy: 0.7886\n",
      "Epoch 19/100\n",
      "313/313 [==============================] - 11s 35ms/step - loss: 0.4259 - accuracy: 0.8127 - val_loss: 0.4474 - val_accuracy: 0.7914\n",
      "Epoch 20/100\n",
      "313/313 [==============================] - 11s 34ms/step - loss: 0.4239 - accuracy: 0.8122 - val_loss: 0.4489 - val_accuracy: 0.7918\n",
      "Epoch 21/100\n",
      "313/313 [==============================] - 11s 35ms/step - loss: 0.4226 - accuracy: 0.8122 - val_loss: 0.4495 - val_accuracy: 0.7924\n",
      "Epoch 22/100\n",
      "313/313 [==============================] - 11s 35ms/step - loss: 0.4216 - accuracy: 0.8142 - val_loss: 0.4468 - val_accuracy: 0.7924\n",
      "Epoch 23/100\n",
      "313/313 [==============================] - 11s 35ms/step - loss: 0.4209 - accuracy: 0.8137 - val_loss: 0.4471 - val_accuracy: 0.7900\n",
      "Epoch 24/100\n",
      "313/313 [==============================] - 11s 35ms/step - loss: 0.4197 - accuracy: 0.8137 - val_loss: 0.4498 - val_accuracy: 0.7926\n",
      "Epoch 25/100\n",
      "313/313 [==============================] - 11s 35ms/step - loss: 0.4188 - accuracy: 0.8156 - val_loss: 0.4449 - val_accuracy: 0.7928\n",
      "Epoch 26/100\n",
      "313/313 [==============================] - 11s 35ms/step - loss: 0.4179 - accuracy: 0.8155 - val_loss: 0.4456 - val_accuracy: 0.7892\n",
      "Epoch 27/100\n",
      "313/313 [==============================] - 11s 35ms/step - loss: 0.4176 - accuracy: 0.8162 - val_loss: 0.4429 - val_accuracy: 0.7946\n",
      "Epoch 28/100\n",
      "313/313 [==============================] - 11s 35ms/step - loss: 0.4174 - accuracy: 0.8141 - val_loss: 0.4428 - val_accuracy: 0.7942\n",
      "Epoch 29/100\n",
      "313/313 [==============================] - 11s 35ms/step - loss: 0.4166 - accuracy: 0.8161 - val_loss: 0.4432 - val_accuracy: 0.7948\n",
      "Epoch 30/100\n",
      "313/313 [==============================] - 11s 35ms/step - loss: 0.4159 - accuracy: 0.8149 - val_loss: 0.4428 - val_accuracy: 0.7946\n",
      "Epoch 31/100\n",
      "313/313 [==============================] - 11s 36ms/step - loss: 0.4152 - accuracy: 0.8173 - val_loss: 0.4430 - val_accuracy: 0.7952\n"
     ]
    }
   ],
   "source": [
    "rmsprop = keras.optimizers.RMSprop(learning_rate=1e-4)\n",
    "model.compile(optimizer=rmsprop, loss='binary_crossentropy', \n",
    "               metrics=['accuracy'])\n",
    "\n",
    "checkpoint_cb = keras.callbacks.ModelCheckpoint('best-gru-model.h5', \n",
    "                                                save_best_only=True)\n",
    "early_stopping_cb = keras.callbacks.EarlyStopping(patience=3,\n",
    "                                                  restore_best_weights=True)\n",
    "\n",
    "history = model.fit(train_seq, train_target, epochs=100, batch_size=64,\n",
    "                     validation_data=(val_seq, val_target),\n",
    "                     callbacks=[checkpoint_cb, early_stopping_cb])"
   ]
  },
  {
   "cell_type": "code",
   "execution_count": 8,
   "id": "d4bcd1ad",
   "metadata": {},
   "outputs": [
    {
     "data": {
      "image/png": "[encoded data removed]",
      "text/plain": [
       "<Figure size 432x288 with 1 Axes>"
      ]
     },
     "metadata": {
      "needs_background": "light"
     },
     "output_type": "display_data"
    }
   ],
   "source": [
    "import matplotlib.pyplot as plt\n",
    "\n",
    "plt.plot(history.history['loss'])\n",
    "plt.plot(history.history['val_loss'])\n",
    "plt.xlabel('epoch')\n",
    "plt.ylabel('loss')\n",
    "plt.legend(['train', 'val'])\n",
    "plt.show()"
   ]
  },
  {
   "cell_type": "code",
   "execution_count": 10,
   "id": "ade53518",
   "metadata": {},
   "outputs": [
    {
     "name": "stdout",
     "output_type": "stream",
     "text": [
      "782/782 [==============================] - 5s 6ms/step - loss: 0.4384 - accuracy: 0.7966\n"
     ]
    },
    {
     "data": {
      "text/plain": [
       "[0.43842393159866333, 0.7965999841690063]"
      ]
     },
     "execution_count": 10,
     "metadata": {},
     "output_type": "execute_result"
    }
   ],
   "source": [
    "test_seq = pad_sequences(test_input, maxlen=100)\n",
    "\n",
    "rnn_model = keras.models.load_model('best-gru-model.h5')\n",
    "\n",
    "rnn_model.evaluate(test_seq, test_target)"
   ]
  }
 ],
 "metadata": {
  "kernelspec": {
   "display_name": "conda_tensorflow2_p38",
   "language": "python",
   "name": "conda_tensorflow2_p38"
  },
  "language_info": {
   "codemirror_mode": {
    "name": "ipython",
    "version": 3
   },
   "file_extension": ".py",
   "mimetype": "text/x-python",
   "name": "python",
   "nbconvert_exporter": "python",
   "pygments_lexer": "ipython3",
   "version": "3.8.12"
  }
 },
 "nbformat": 4,
 "nbformat_minor": 5
}
