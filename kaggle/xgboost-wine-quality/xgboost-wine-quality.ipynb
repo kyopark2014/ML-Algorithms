{
 "cells": [
  {
   "cell_type": "markdown",
   "id": "b2a3083c",
   "metadata": {},
   "source": [
    "# XGBoost - Wine Quality (Regression)\n",
    "\n",
    "[UCI - Wine Quality Data Set](https://archive.ics.uci.edu/ml/datasets/wine+quality)"
   ]
  },
  {
   "cell_type": "code",
   "execution_count": 1,
   "id": "0f519bd8",
   "metadata": {},
   "outputs": [
    {
     "name": "stdout",
     "output_type": "stream",
     "text": [
      "Looking in indexes: https://pypi.org/simple, https://pip.repos.neuron.amazonaws.com\n",
      "Requirement already satisfied: xgboost in /home/ec2-user/anaconda3/envs/amazonei_tensorflow2_p36/lib/python3.6/site-packages (1.5.2)\n",
      "Requirement already satisfied: numpy in /home/ec2-user/anaconda3/envs/amazonei_tensorflow2_p36/lib/python3.6/site-packages (from xgboost) (1.19.5)\n",
      "Requirement already satisfied: scipy in /home/ec2-user/anaconda3/envs/amazonei_tensorflow2_p36/lib/python3.6/site-packages (from xgboost) (1.5.3)\n"
     ]
    }
   ],
   "source": [
    "!pip install xgboost"
   ]
  },
  {
   "cell_type": "code",
   "execution_count": 2,
   "id": "27d58e65",
   "metadata": {},
   "outputs": [],
   "source": [
    "import warnings\n",
    "warnings.filterwarnings('ignore')"
   ]
  },
  {
   "cell_type": "code",
   "execution_count": 3,
   "id": "d8fb440e",
   "metadata": {},
   "outputs": [],
   "source": [
    "import numpy as np\n",
    "import pandas as pd\n",
    "import time"
   ]
  },
  {
   "cell_type": "code",
   "execution_count": 4,
   "id": "069fe6ef",
   "metadata": {},
   "outputs": [],
   "source": [
    "df = pd.read_csv('./data/wine_concat.csv')"
   ]
  },
  {
   "cell_type": "code",
   "execution_count": 5,
   "id": "7f30d730",
   "metadata": {},
   "outputs": [
    {
     "data": {
      "text/html": [
       "<div>\n",
       "<style scoped>\n",
       "    .dataframe tbody tr th:only-of-type {\n",
       "        vertical-align: middle;\n",
       "    }\n",
       "\n",
       "    .dataframe tbody tr th {\n",
       "        vertical-align: top;\n",
       "    }\n",
       "\n",
       "    .dataframe thead th {\n",
       "        text-align: right;\n",
       "    }\n",
       "</style>\n",
       "<table border=\"1\" class=\"dataframe\">\n",
       "  <thead>\n",
       "    <tr style=\"text-align: right;\">\n",
       "      <th></th>\n",
       "      <th>fixed acidity</th>\n",
       "      <th>volatile acidity</th>\n",
       "      <th>citric acid</th>\n",
       "      <th>residual sugar</th>\n",
       "      <th>chlorides</th>\n",
       "      <th>free sulfur dioxide</th>\n",
       "      <th>total sulfur dioxide</th>\n",
       "      <th>density</th>\n",
       "      <th>pH</th>\n",
       "      <th>sulphates</th>\n",
       "      <th>alcohol</th>\n",
       "      <th>quality</th>\n",
       "      <th>color</th>\n",
       "    </tr>\n",
       "  </thead>\n",
       "  <tbody>\n",
       "    <tr>\n",
       "      <th>0</th>\n",
       "      <td>7.4</td>\n",
       "      <td>0.70</td>\n",
       "      <td>0.00</td>\n",
       "      <td>1.9</td>\n",
       "      <td>0.076</td>\n",
       "      <td>11.0</td>\n",
       "      <td>34.0</td>\n",
       "      <td>0.9978</td>\n",
       "      <td>3.51</td>\n",
       "      <td>0.56</td>\n",
       "      <td>9.4</td>\n",
       "      <td>5</td>\n",
       "      <td>red</td>\n",
       "    </tr>\n",
       "    <tr>\n",
       "      <th>1</th>\n",
       "      <td>7.8</td>\n",
       "      <td>0.88</td>\n",
       "      <td>0.00</td>\n",
       "      <td>2.6</td>\n",
       "      <td>0.098</td>\n",
       "      <td>25.0</td>\n",
       "      <td>67.0</td>\n",
       "      <td>0.9968</td>\n",
       "      <td>3.20</td>\n",
       "      <td>0.68</td>\n",
       "      <td>9.8</td>\n",
       "      <td>5</td>\n",
       "      <td>red</td>\n",
       "    </tr>\n",
       "    <tr>\n",
       "      <th>2</th>\n",
       "      <td>7.8</td>\n",
       "      <td>0.76</td>\n",
       "      <td>0.04</td>\n",
       "      <td>2.3</td>\n",
       "      <td>0.092</td>\n",
       "      <td>15.0</td>\n",
       "      <td>54.0</td>\n",
       "      <td>0.9970</td>\n",
       "      <td>3.26</td>\n",
       "      <td>0.65</td>\n",
       "      <td>9.8</td>\n",
       "      <td>5</td>\n",
       "      <td>red</td>\n",
       "    </tr>\n",
       "    <tr>\n",
       "      <th>3</th>\n",
       "      <td>11.2</td>\n",
       "      <td>0.28</td>\n",
       "      <td>0.56</td>\n",
       "      <td>1.9</td>\n",
       "      <td>0.075</td>\n",
       "      <td>17.0</td>\n",
       "      <td>60.0</td>\n",
       "      <td>0.9980</td>\n",
       "      <td>3.16</td>\n",
       "      <td>0.58</td>\n",
       "      <td>9.8</td>\n",
       "      <td>6</td>\n",
       "      <td>red</td>\n",
       "    </tr>\n",
       "    <tr>\n",
       "      <th>4</th>\n",
       "      <td>7.4</td>\n",
       "      <td>0.66</td>\n",
       "      <td>0.00</td>\n",
       "      <td>1.8</td>\n",
       "      <td>0.075</td>\n",
       "      <td>13.0</td>\n",
       "      <td>40.0</td>\n",
       "      <td>0.9978</td>\n",
       "      <td>3.51</td>\n",
       "      <td>0.56</td>\n",
       "      <td>9.4</td>\n",
       "      <td>5</td>\n",
       "      <td>red</td>\n",
       "    </tr>\n",
       "  </tbody>\n",
       "</table>\n",
       "</div>"
      ],
      "text/plain": [
       "   fixed acidity  volatile acidity  citric acid  residual sugar  chlorides  \\\n",
       "0            7.4              0.70         0.00             1.9      0.076   \n",
       "1            7.8              0.88         0.00             2.6      0.098   \n",
       "2            7.8              0.76         0.04             2.3      0.092   \n",
       "3           11.2              0.28         0.56             1.9      0.075   \n",
       "4            7.4              0.66         0.00             1.8      0.075   \n",
       "\n",
       "   free sulfur dioxide  total sulfur dioxide  density    pH  sulphates  \\\n",
       "0                 11.0                  34.0   0.9978  3.51       0.56   \n",
       "1                 25.0                  67.0   0.9968  3.20       0.68   \n",
       "2                 15.0                  54.0   0.9970  3.26       0.65   \n",
       "3                 17.0                  60.0   0.9980  3.16       0.58   \n",
       "4                 13.0                  40.0   0.9978  3.51       0.56   \n",
       "\n",
       "   alcohol  quality color  \n",
       "0      9.4        5   red  \n",
       "1      9.8        5   red  \n",
       "2      9.8        5   red  \n",
       "3      9.8        6   red  \n",
       "4      9.4        5   red  "
      ]
     },
     "execution_count": 5,
     "metadata": {},
     "output_type": "execute_result"
    }
   ],
   "source": [
    "df.head()"
   ]
  },
  {
   "cell_type": "code",
   "execution_count": 6,
   "id": "22652754",
   "metadata": {},
   "outputs": [
    {
     "data": {
      "text/plain": [
       "0"
      ]
     },
     "execution_count": 6,
     "metadata": {},
     "output_type": "execute_result"
    }
   ],
   "source": [
    "df.isnull().sum().sum()"
   ]
  },
  {
   "cell_type": "code",
   "execution_count": 7,
   "id": "ea5e850c",
   "metadata": {},
   "outputs": [
    {
     "data": {
      "text/plain": [
       "6    2323\n",
       "5    1752\n",
       "7     856\n",
       "4     206\n",
       "8     148\n",
       "3      30\n",
       "9       5\n",
       "Name: quality, dtype: int64"
      ]
     },
     "execution_count": 7,
     "metadata": {},
     "output_type": "execute_result"
    }
   ],
   "source": [
    "df['quality'].value_counts()"
   ]
  },
  {
   "cell_type": "markdown",
   "id": "b142424f",
   "metadata": {},
   "source": [
    "### Splint Feature/Target Dataset"
   ]
  },
  {
   "cell_type": "code",
   "execution_count": 8,
   "id": "22d35979",
   "metadata": {},
   "outputs": [],
   "source": [
    "y = df['quality']\n",
    "X = df.drop(['quality'], axis=1)"
   ]
  },
  {
   "cell_type": "code",
   "execution_count": 9,
   "id": "0a746017",
   "metadata": {},
   "outputs": [
    {
     "data": {
      "text/html": [
       "<div>\n",
       "<style scoped>\n",
       "    .dataframe tbody tr th:only-of-type {\n",
       "        vertical-align: middle;\n",
       "    }\n",
       "\n",
       "    .dataframe tbody tr th {\n",
       "        vertical-align: top;\n",
       "    }\n",
       "\n",
       "    .dataframe thead th {\n",
       "        text-align: right;\n",
       "    }\n",
       "</style>\n",
       "<table border=\"1\" class=\"dataframe\">\n",
       "  <thead>\n",
       "    <tr style=\"text-align: right;\">\n",
       "      <th></th>\n",
       "      <th>fixed acidity</th>\n",
       "      <th>volatile acidity</th>\n",
       "      <th>citric acid</th>\n",
       "      <th>residual sugar</th>\n",
       "      <th>chlorides</th>\n",
       "      <th>free sulfur dioxide</th>\n",
       "      <th>total sulfur dioxide</th>\n",
       "      <th>density</th>\n",
       "      <th>pH</th>\n",
       "      <th>sulphates</th>\n",
       "      <th>alcohol</th>\n",
       "      <th>color_red</th>\n",
       "      <th>color_white</th>\n",
       "    </tr>\n",
       "  </thead>\n",
       "  <tbody>\n",
       "    <tr>\n",
       "      <th>0</th>\n",
       "      <td>7.4</td>\n",
       "      <td>0.70</td>\n",
       "      <td>0.00</td>\n",
       "      <td>1.9</td>\n",
       "      <td>0.076</td>\n",
       "      <td>11.0</td>\n",
       "      <td>34.0</td>\n",
       "      <td>0.9978</td>\n",
       "      <td>3.51</td>\n",
       "      <td>0.56</td>\n",
       "      <td>9.4</td>\n",
       "      <td>1</td>\n",
       "      <td>0</td>\n",
       "    </tr>\n",
       "    <tr>\n",
       "      <th>1</th>\n",
       "      <td>7.8</td>\n",
       "      <td>0.88</td>\n",
       "      <td>0.00</td>\n",
       "      <td>2.6</td>\n",
       "      <td>0.098</td>\n",
       "      <td>25.0</td>\n",
       "      <td>67.0</td>\n",
       "      <td>0.9968</td>\n",
       "      <td>3.20</td>\n",
       "      <td>0.68</td>\n",
       "      <td>9.8</td>\n",
       "      <td>1</td>\n",
       "      <td>0</td>\n",
       "    </tr>\n",
       "    <tr>\n",
       "      <th>2</th>\n",
       "      <td>7.8</td>\n",
       "      <td>0.76</td>\n",
       "      <td>0.04</td>\n",
       "      <td>2.3</td>\n",
       "      <td>0.092</td>\n",
       "      <td>15.0</td>\n",
       "      <td>54.0</td>\n",
       "      <td>0.9970</td>\n",
       "      <td>3.26</td>\n",
       "      <td>0.65</td>\n",
       "      <td>9.8</td>\n",
       "      <td>1</td>\n",
       "      <td>0</td>\n",
       "    </tr>\n",
       "    <tr>\n",
       "      <th>3</th>\n",
       "      <td>11.2</td>\n",
       "      <td>0.28</td>\n",
       "      <td>0.56</td>\n",
       "      <td>1.9</td>\n",
       "      <td>0.075</td>\n",
       "      <td>17.0</td>\n",
       "      <td>60.0</td>\n",
       "      <td>0.9980</td>\n",
       "      <td>3.16</td>\n",
       "      <td>0.58</td>\n",
       "      <td>9.8</td>\n",
       "      <td>1</td>\n",
       "      <td>0</td>\n",
       "    </tr>\n",
       "    <tr>\n",
       "      <th>4</th>\n",
       "      <td>7.4</td>\n",
       "      <td>0.66</td>\n",
       "      <td>0.00</td>\n",
       "      <td>1.8</td>\n",
       "      <td>0.075</td>\n",
       "      <td>13.0</td>\n",
       "      <td>40.0</td>\n",
       "      <td>0.9978</td>\n",
       "      <td>3.51</td>\n",
       "      <td>0.56</td>\n",
       "      <td>9.4</td>\n",
       "      <td>1</td>\n",
       "      <td>0</td>\n",
       "    </tr>\n",
       "  </tbody>\n",
       "</table>\n",
       "</div>"
      ],
      "text/plain": [
       "   fixed acidity  volatile acidity  citric acid  residual sugar  chlorides  \\\n",
       "0            7.4              0.70         0.00             1.9      0.076   \n",
       "1            7.8              0.88         0.00             2.6      0.098   \n",
       "2            7.8              0.76         0.04             2.3      0.092   \n",
       "3           11.2              0.28         0.56             1.9      0.075   \n",
       "4            7.4              0.66         0.00             1.8      0.075   \n",
       "\n",
       "   free sulfur dioxide  total sulfur dioxide  density    pH  sulphates  \\\n",
       "0                 11.0                  34.0   0.9978  3.51       0.56   \n",
       "1                 25.0                  67.0   0.9968  3.20       0.68   \n",
       "2                 15.0                  54.0   0.9970  3.26       0.65   \n",
       "3                 17.0                  60.0   0.9980  3.16       0.58   \n",
       "4                 13.0                  40.0   0.9978  3.51       0.56   \n",
       "\n",
       "   alcohol  color_red  color_white  \n",
       "0      9.4          1            0  \n",
       "1      9.8          1            0  \n",
       "2      9.8          1            0  \n",
       "3      9.8          1            0  \n",
       "4      9.4          1            0  "
      ]
     },
     "execution_count": 9,
     "metadata": {},
     "output_type": "execute_result"
    }
   ],
   "source": [
    "X = pd.get_dummies(X)  \n",
    "X.head()"
   ]
  },
  {
   "cell_type": "markdown",
   "id": "3f791213",
   "metadata": {},
   "source": [
    "## Regression Model Selection"
   ]
  },
  {
   "cell_type": "code",
   "execution_count": 10,
   "id": "e5c35e7b",
   "metadata": {},
   "outputs": [],
   "source": [
    "from xgboost import XGBRegressor\n",
    "from sklearn.model_selection import StratifiedKFold, cross_val_score\n",
    "\n",
    "def cross_validation(model):\n",
    "    start = time.time()\n",
    "    \n",
    "    scores = cross_val_score(model, X, y, scoring='neg_mean_squared_error', cv=10)\n",
    "\n",
    "    rmse = np.sqrt(-scores)\n",
    "    \n",
    "    print('Cross Validation:')\n",
    "    print('Elased time: %0.2fs' % (time.time()-start))\n",
    "    print('RMSE:', np.round(rmse, 3))\n",
    "    print('Avg. RMSE: %0.3f' % (rmse.mean()))"
   ]
  },
  {
   "cell_type": "code",
   "execution_count": 11,
   "id": "36683a16",
   "metadata": {},
   "outputs": [
    {
     "name": "stdout",
     "output_type": "stream",
     "text": [
      "Cross Validation:\n",
      "Elased time: 4.49s\n",
      "RMSE: [0.746 0.743 0.699 0.828 0.835 0.716 0.731 0.814 0.733 0.714]\n",
      "Avg. RMSE: 0.756\n"
     ]
    }
   ],
   "source": [
    "cross_validation(XGBRegressor(booster='gbtree'))"
   ]
  },
  {
   "cell_type": "code",
   "execution_count": 12,
   "id": "0cea3b08",
   "metadata": {},
   "outputs": [
    {
     "name": "stdout",
     "output_type": "stream",
     "text": [
      "Cross Validation:\n",
      "Elased time: 2.58s\n",
      "RMSE: [2.78540415e+34 6.61378513e+31 7.95633383e+33 3.34827598e+33\n",
      " 2.84370278e+33 3.44089304e+33 3.51841054e+33 3.45002668e+33\n",
      " 3.24817487e+33 3.43141177e+33]\n",
      "Avg. RMSE: 5915740884593881647463162739425280.000\n"
     ]
    }
   ],
   "source": [
    "cross_validation(XGBRegressor(booster='gblinear'))"
   ]
  },
  {
   "cell_type": "code",
   "execution_count": 13,
   "id": "99119f6a",
   "metadata": {},
   "outputs": [
    {
     "name": "stdout",
     "output_type": "stream",
     "text": [
      "Cross Validation:\n",
      "Elased time: 9.51s\n",
      "RMSE: [0.714 0.68  0.702 0.817 0.826 0.701 0.711 0.816 0.683 0.656]\n",
      "Avg. RMSE: 0.731\n"
     ]
    }
   ],
   "source": [
    "cross_validation(XGBRegressor(booster='dart', one_drop=1))"
   ]
  },
  {
   "cell_type": "code",
   "execution_count": 14,
   "id": "c96cd82c",
   "metadata": {},
   "outputs": [
    {
     "name": "stdout",
     "output_type": "stream",
     "text": [
      "Cross Validation:\n",
      "Elased time: 0.10s\n",
      "RMSE: [0.693 0.675 0.748 0.839 0.818 0.724 0.721 0.78  0.709 0.658]\n",
      "Avg. RMSE: 0.737\n"
     ]
    }
   ],
   "source": [
    "from sklearn.linear_model import LinearRegression, LogisticRegression\n",
    "\n",
    "cross_validation(LinearRegression())"
   ]
  },
  {
   "cell_type": "code",
   "execution_count": 15,
   "id": "424d5ccf",
   "metadata": {},
   "outputs": [
    {
     "name": "stdout",
     "output_type": "stream",
     "text": [
      "Cross Validation:\n",
      "Elased time: 0.10s\n",
      "RMSE: [0.84  0.853 0.892 0.964 0.969 0.842 0.871 0.976 0.856 0.736]\n",
      "Avg. RMSE: 0.880\n"
     ]
    }
   ],
   "source": [
    "from sklearn.linear_model import Lasso\n",
    "\n",
    "cross_validation(Lasso())"
   ]
  },
  {
   "cell_type": "code",
   "execution_count": 16,
   "id": "02ddffa6",
   "metadata": {},
   "outputs": [
    {
     "name": "stdout",
     "output_type": "stream",
     "text": [
      "Cross Validation:\n",
      "Elased time: 0.14s\n",
      "RMSE: [0.68  0.675 0.746 0.848 0.823 0.73  0.723 0.784 0.712 0.662]\n",
      "Avg. RMSE: 0.738\n"
     ]
    }
   ],
   "source": [
    "from sklearn.linear_model import Ridge\n",
    "\n",
    "cross_validation(Ridge())"
   ]
  },
  {
   "cell_type": "code",
   "execution_count": 17,
   "id": "dfa4265d",
   "metadata": {},
   "outputs": [
    {
     "name": "stdout",
     "output_type": "stream",
     "text": [
      "Cross Validation:\n",
      "Elased time: 22.69s\n",
      "RMSE: [0.67  0.7   0.713 0.811 0.797 0.7   0.683 0.771 0.681 0.628]\n",
      "Avg. RMSE: 0.715\n"
     ]
    }
   ],
   "source": [
    "from sklearn.ensemble import RandomForestRegressor\n",
    "\n",
    "cross_validation(RandomForestRegressor())"
   ]
  },
  {
   "cell_type": "markdown",
   "id": "45ec3f27",
   "metadata": {},
   "source": [
    "## HPO"
   ]
  },
  {
   "cell_type": "markdown",
   "id": "3e34c66b",
   "metadata": {},
   "source": [
    "### Default"
   ]
  },
  {
   "cell_type": "code",
   "execution_count": 18,
   "id": "a736f38e",
   "metadata": {},
   "outputs": [],
   "source": [
    "from xgboost import XGBClassifier\n",
    "from sklearn.model_selection import train_test_split\n",
    "from sklearn.metrics import mean_squared_error\n",
    "\n",
    "# Split train/test dataset\n",
    "X_train, X_test, y_train, y_test = train_test_split(X, y, random_state=2)\n",
    "\n",
    "# Utility function to estimate accuracy scores\n",
    "def model_estimation(model):    \n",
    "    y_pred = model.predict(X_test)\n",
    "\n",
    "    reg_mse = mean_squared_error(y_test, y_pred)\n",
    "    reg_rmse = np.sqrt(reg_mse)\n",
    "\n",
    "    print('RMSE: %0.3f' % (reg_rmse))   \n",
    "    \n",
    "    return reg_rmse"
   ]
  },
  {
   "cell_type": "code",
   "execution_count": 19,
   "id": "61b23937",
   "metadata": {},
   "outputs": [
    {
     "name": "stdout",
     "output_type": "stream",
     "text": [
      "RMSE: 0.699\n",
      "RMSE: 0.709\n",
      "RMSE: 0.720\n",
      "RMSE: 0.724\n",
      "RMSE: 0.725\n",
      "Elapsed time: 3.35s\n",
      "\n",
      "Elased time: 3.35s\n",
      "best score: 0.70\n",
      "best param:  50\n"
     ]
    }
   ],
   "source": [
    "# n_estimators\n",
    "param = 'n_estimators'\n",
    "values = [50, 100, 200, 400, 800]\n",
    "best_param = 0\n",
    "best_score = 1e9\n",
    "cnt = 0\n",
    "start = time.time()\n",
    "\n",
    "for value in values:\n",
    "    start = time.time()\n",
    "    \n",
    "    xgb = XGBRegressor(booster='gbtree', n_estimators=value, \n",
    "                       random_state=2, verbosity=0, use_label_encoder=False, n_jobs=-1)\n",
    "    \n",
    "    xgb.fit(X_train, y_train)\n",
    "    \n",
    "    y_pred = xgb.predict(X_test)\n",
    "    \n",
    "    reg_mse = mean_squared_error(y_test, y_pred)\n",
    "    reg_rmse = np.sqrt(reg_mse)\n",
    "    \n",
    "    if best_score > reg_rmse:\n",
    "        best_score = reg_rmse\n",
    "        best_param = cnt\n",
    "\n",
    "    print('RMSE: %0.3f' % (reg_rmse))\n",
    "    cnt = cnt + 1\n",
    "\n",
    "print('Elapsed time: %0.2fs' % (time.time()-start))            \n",
    "print('\\nElased time: %0.2fs' % (time.time()-start))    \n",
    "print('best score: %0.2f' % (best_score))\n",
    "print('best param: ', values[best_param])"
   ]
  },
  {
   "cell_type": "code",
   "execution_count": 20,
   "id": "0cb78fe7",
   "metadata": {},
   "outputs": [
    {
     "name": "stdout",
     "output_type": "stream",
     "text": [
      "RMSE: 0.709\n",
      "\n",
      "best_score: 0.709\n"
     ]
    }
   ],
   "source": [
    "# basic model\n",
    "model = XGBRegressor(booster='gbtree', random_state=2, verbosity=0, use_label_encoder=False, n_jobs=-1)\n",
    "\n",
    "model.fit(X_train, y_train)    \n",
    "\n",
    "best_rmse = model_estimation(model)\n",
    "best_model = model\n",
    "\n",
    "print('\\nbest_score: %0.3f' % (best_rmse))"
   ]
  },
  {
   "cell_type": "code",
   "execution_count": 21,
   "id": "1883d507",
   "metadata": {},
   "outputs": [],
   "source": [
    "# Utility function to report best scores\n",
    "def report(results, n_top=3):\n",
    "    for i in range(1, n_top + 1):\n",
    "        candidates = np.flatnonzero(results[\"rank_test_score\"] == i)\n",
    "        for candidate in candidates:\n",
    "            print(\"Model with rank: {0}\".format(i))\n",
    "            print(\n",
    "                \"Mean validation score(=RMSE): {0:.3f}\".format(\n",
    "                    np.sqrt(-results[\"mean_test_score\"][candidate]),\n",
    "                )\n",
    "            )\n",
    "            print(\"Parameters: {0}\".format(results[\"params\"][candidate]))\n",
    "            print(\"\")"
   ]
  },
  {
   "cell_type": "markdown",
   "id": "e768241c",
   "metadata": {},
   "source": [
    "## HPO: Bayesian Optimization "
   ]
  },
  {
   "cell_type": "code",
   "execution_count": 22,
   "id": "a7a12ebc",
   "metadata": {},
   "outputs": [
    {
     "name": "stdout",
     "output_type": "stream",
     "text": [
      "RMSE: 0.838\n",
      "RMSE: 0.722\n",
      "RMSE: 0.812\n",
      "RMSE: 0.709\n",
      "RMSE: 0.728\n",
      "RMSE: 0.710\n",
      "RMSE: 1.111\n",
      "RMSE: 0.969\n",
      "RMSE: 1.014\n",
      "RMSE: 0.685\n",
      "RMSE: 0.686\n",
      "RMSE: 0.828\n",
      "RMSE: 0.728\n",
      "RMSE: 0.717\n",
      "RMSE: 0.713\n",
      "RMSE: 0.736\n",
      "RMSE: 0.680\n",
      "RMSE: 0.773\n",
      "RMSE: 1.393\n",
      "RMSE: 0.736\n",
      "RMSE: 0.685\n",
      "RMSE: 0.739\n",
      "RMSE: 0.689\n",
      "RMSE: 0.991\n",
      "RMSE: 0.737\n",
      "Elapsed time: 23.16s\n"
     ]
    },
    {
     "data": {
      "text/plain": [
       "{'target': -0.6801704454957129,\n",
       " 'params': {'colsample_bytree': 0.5326215568080446,\n",
       "  'gamma': 0.01913965877720948,\n",
       "  'learning_rate': 0.2752419322005939,\n",
       "  'max_depth': 2.273515800936155,\n",
       "  'min_child_weight': 8.956651229496273,\n",
       "  'n_estimators': 152.86150142469896,\n",
       "  'subsample': 0.9796626620404285}}"
      ]
     },
     "execution_count": 22,
     "metadata": {},
     "output_type": "execute_result"
    }
   ],
   "source": [
    "from bayes_opt import BayesianOptimization\n",
    "\n",
    "def xgbc_cv(n_estimators, learning_rate, max_depth, gamma, min_child_weight, subsample, colsample_bytree, ):\n",
    "    \n",
    "    \n",
    "    xgb = XGBRegressor(booster='gbtree', objective='reg:squarederror',\n",
    "                        n_estimators=int(n_estimators),\n",
    "                        learning_rate=learning_rate,\n",
    "                        max_depth=int(max_depth),\n",
    "                        gamma=gamma,\n",
    "                        min_child_weight=min_child_weight,\n",
    "                        subsample=subsample,\n",
    "                        colsample_bytree=colsample_bytree,\n",
    "                        random_state=2, verbosity=0, use_label_encoder=False, n_jobs=-1)\n",
    "\n",
    "    xgb.fit(X_train, y_train)    \n",
    "\n",
    "    y_pred = xgb.predict(X_test)\n",
    "\n",
    "    reg_mse = mean_squared_error(y_test, y_pred)\n",
    "    reg_rmse = np.sqrt(reg_mse)\n",
    "\n",
    "    print('RMSE: %0.3f' % (reg_rmse))   \n",
    "      \n",
    "\n",
    "    return -reg_rmse\n",
    "\n",
    "hyperparameter_space = {\n",
    "    'n_estimators': (50, 800),\n",
    "    'learning_rate': (0.01, 1.0),\n",
    "    'max_depth': (1, 8),\n",
    "    'gamma' : (0.01, 1),\n",
    "    'min_child_weight': (1, 20),\n",
    "    'subsample': (0.5, 1),\n",
    "    'colsample_bytree': (0.1, 1)\n",
    "}\n",
    "\n",
    "start = time.time()\n",
    "\n",
    "optimizer = BayesianOptimization(f=xgbc_cv, pbounds=hyperparameter_space, random_state=2, verbose=0)\n",
    "optimizer.maximize(init_points=5, n_iter=20, acq='ei')\n",
    "\n",
    "print('Elapsed time: %0.2fs' % (time.time()-start)) \n",
    "optimizer.max"
   ]
  },
  {
   "cell_type": "code",
   "execution_count": 23,
   "id": "a7f8f0d1",
   "metadata": {},
   "outputs": [],
   "source": [
    "best_params = optimizer.max['params']"
   ]
  },
  {
   "cell_type": "code",
   "execution_count": 24,
   "id": "9adb83d6",
   "metadata": {},
   "outputs": [
    {
     "name": "stdout",
     "output_type": "stream",
     "text": [
      "Elapsed time: 23.57s\n",
      "RMSE: 0.685\n",
      "\n",
      "best_score: 0.685\n"
     ]
    }
   ],
   "source": [
    "model = XGBRegressor(booster='gbtree', objective='reg:squarederror',\n",
    "                        n_estimators=int(best_params['n_estimators']), \n",
    "                        learning_rate=best_params['learning_rate'], \n",
    "                        max_depth=int(best_params['max_depth']), \n",
    "                        gamma=best_params['gamma'], \n",
    "                        min_child_weight=int(best_params['min_child_weight']), \n",
    "                        subsample=best_params['subsample'], \n",
    "                        colsample_bytree=best_params['colsample_bytree'],\n",
    "                        random_state=2, verbosity=0, use_label_encoder=False, n_jobs=-1)\n",
    "\n",
    "model.fit(X_train, y_train)    \n",
    "\n",
    "y_pred = model.predict(X_test)\n",
    "\n",
    "reg_mse = mean_squared_error(y_test, y_pred)\n",
    "reg_rmse = np.sqrt(reg_mse)\n",
    "\n",
    "print('Elapsed time: %0.2fs' % (time.time()-start))        \n",
    "print('RMSE: %0.3f' % (reg_rmse))  \n",
    "\n",
    "if(reg_rmse < best_rmse): \n",
    "    best_rmse = reg_rmse\n",
    "    best_model = model\n",
    "    \n",
    "    print('\\nbest_score: %0.3f' % (best_rmse))                     "
   ]
  },
  {
   "cell_type": "markdown",
   "id": "8e470eaa",
   "metadata": {},
   "source": [
    "## Evaluation & Save"
   ]
  },
  {
   "cell_type": "code",
   "execution_count": 25,
   "id": "cbe6cbe8",
   "metadata": {},
   "outputs": [
    {
     "name": "stdout",
     "output_type": "stream",
     "text": [
      "RMSE: 0.685\n"
     ]
    },
    {
     "data": {
      "text/plain": [
       "0.6852308435691258"
      ]
     },
     "execution_count": 25,
     "metadata": {},
     "output_type": "execute_result"
    }
   ],
   "source": [
    "model_estimation(best_model)    "
   ]
  },
  {
   "cell_type": "code",
   "execution_count": 26,
   "id": "73e715cb",
   "metadata": {},
   "outputs": [
    {
     "name": "stdout",
     "output_type": "stream",
     "text": [
      "{'objective': 'reg:squarederror', 'base_score': 0.5, 'booster': 'gbtree', 'colsample_bylevel': 1, 'colsample_bynode': 1, 'colsample_bytree': 0.5326215568080446, 'enable_categorical': False, 'gamma': 0.01913965877720948, 'gpu_id': -1, 'importance_type': None, 'interaction_constraints': '', 'learning_rate': 0.2752419322005939, 'max_delta_step': 0, 'max_depth': 2, 'min_child_weight': 8, 'missing': nan, 'monotone_constraints': '()', 'n_estimators': 152, 'n_jobs': -1, 'num_parallel_tree': 1, 'predictor': 'auto', 'random_state': 2, 'reg_alpha': 0, 'reg_lambda': 1, 'scale_pos_weight': 1, 'subsample': 0.9796626620404285, 'tree_method': 'exact', 'validate_parameters': 1, 'verbosity': 0, 'use_label_encoder': False}\n"
     ]
    }
   ],
   "source": [
    "print(best_model.get_params())"
   ]
  },
  {
   "cell_type": "code",
   "execution_count": 28,
   "id": "7326989d",
   "metadata": {},
   "outputs": [],
   "source": [
    "model_name = \"./output/xgboost_wine_quality.json\"\n",
    "\n",
    "model.save_model(model_name)"
   ]
  },
  {
   "cell_type": "markdown",
   "id": "c311ef6d",
   "metadata": {},
   "source": [
    "## Feature Importances"
   ]
  },
  {
   "cell_type": "code",
   "execution_count": 29,
   "id": "36435efa",
   "metadata": {},
   "outputs": [
    {
     "name": "stdout",
     "output_type": "stream",
     "text": [
      "Feature Importances:\n",
      "[0.02607659 0.11931596 0.04833677 0.03771984 0.08992176 0.07158156\n",
      " 0.06444985 0.07386696 0.04172868 0.06026483 0.29493162 0.01036201\n",
      " 0.06144358]\n",
      "Looking in indexes: https://pypi.org/simple, https://pip.repos.neuron.amazonaws.com\n",
      "Requirement already satisfied: graphviz in /home/ec2-user/anaconda3/envs/amazonei_tensorflow2_p36/lib/python3.6/site-packages (0.19.1)\n"
     ]
    },
    {
     "data": {
      "image/png": "[encoded data removed]",
      "text/plain": [
       "<Figure size 1080x576 with 1 Axes>"
      ]
     },
     "metadata": {
      "needs_background": "light"
     },
     "output_type": "display_data"
    },
    {
     "data": {
      "image/png": "[encoded data removed]",
      "text/plain": [
       "<Figure size 1440x720 with 1 Axes>"
      ]
     },
     "metadata": {
      "needs_background": "light"
     },
     "output_type": "display_data"
    }
   ],
   "source": [
    "print('Feature Importances:')\n",
    "print(best_model.feature_importances_)\n",
    "\n",
    "import xgboost as xgb\n",
    "\n",
    "feature_data = xgb.DMatrix(X_test)\n",
    "best_model.get_booster().feature_names = feature_data.feature_names\n",
    "best_model.get_booster().feature_types = feature_data.feature_types\n",
    "\n",
    "import matplotlib.pyplot as plt\n",
    "\n",
    "fig, ax = plt.subplots(figsize=(15, 8))\n",
    "xgb.plot_importance(best_model, ax=ax, importance_type='gain')\n",
    "\n",
    "!pip install graphviz\n",
    "\n",
    "xgb.plot_tree(best_model, num_trees=0, rankdir='LR')\n",
    "\n",
    "fig = plt.gcf()\n",
    "fig.set_size_inches(20, 10)\n",
    "plt.show()"
   ]
  }
 ],
 "metadata": {
  "kernelspec": {
   "display_name": "conda_amazonei_tensorflow2_p36",
   "language": "python",
   "name": "conda_amazonei_tensorflow2_p36"
  },
  "language_info": {
   "codemirror_mode": {
    "name": "ipython",
    "version": 3
   },
   "file_extension": ".py",
   "mimetype": "text/x-python",
   "name": "python",
   "nbconvert_exporter": "python",
   "pygments_lexer": "ipython3",
   "version": "3.6.13"
  }
 },
 "nbformat": 4,
 "nbformat_minor": 5
}
