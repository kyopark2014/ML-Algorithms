{
 "cells": [
  {
   "cell_type": "markdown",
   "id": "74e35284",
   "metadata": {},
   "source": [
    "# XGBoost - Heart Disease (Classification)\n",
    "\n",
    "[ch6-xgboost-hyperparameters.ipynb](https://github.com/kyopark2014/ML-Algorithms/blob/main/xgboost/src/ch6-xgboost-hyperparameters.ipynb)"
   ]
  },
  {
   "cell_type": "code",
   "execution_count": 1,
   "id": "ddfadb67",
   "metadata": {},
   "outputs": [
    {
     "name": "stdout",
     "output_type": "stream",
     "text": [
      "Requirement already satisfied: xgboost in /Users/ksdyb/.pyenv/versions/3.9.12/lib/python3.9/site-packages (1.6.2)\n",
      "Requirement already satisfied: numpy in /Users/ksdyb/.pyenv/versions/3.9.12/lib/python3.9/site-packages (from xgboost) (1.23.4)\n",
      "Requirement already satisfied: scipy in /Users/ksdyb/.pyenv/versions/3.9.12/lib/python3.9/site-packages (from xgboost) (1.9.3)\n",
      "\u001b[33mWARNING: You are using pip version 22.0.4; however, version 22.3 is available.\n",
      "You should consider upgrading via the '/Users/ksdyb/.pyenv/versions/3.9.12/bin/python3.9 -m pip install --upgrade pip' command.\u001b[0m\u001b[33m\n",
      "\u001b[0m"
     ]
    }
   ],
   "source": [
    "!pip install xgboost"
   ]
  },
  {
   "cell_type": "code",
   "execution_count": 2,
   "id": "27766552",
   "metadata": {},
   "outputs": [],
   "source": [
    "import warnings\n",
    "warnings.filterwarnings('ignore')"
   ]
  },
  {
   "cell_type": "code",
   "execution_count": 3,
   "id": "16c1c83a",
   "metadata": {},
   "outputs": [],
   "source": [
    "import numpy as np\n",
    "import pandas as pd\n",
    "import time"
   ]
  },
  {
   "cell_type": "code",
   "execution_count": 4,
   "id": "d070544a",
   "metadata": {},
   "outputs": [],
   "source": [
    "import xgboost as xgb\n",
    "xgb.set_config(verbosity=0)"
   ]
  },
  {
   "cell_type": "code",
   "execution_count": 5,
   "id": "9b9059d3",
   "metadata": {},
   "outputs": [
    {
     "data": {
      "text/html": [
       "<div>\n",
       "<style scoped>\n",
       "    .dataframe tbody tr th:only-of-type {\n",
       "        vertical-align: middle;\n",
       "    }\n",
       "\n",
       "    .dataframe tbody tr th {\n",
       "        vertical-align: top;\n",
       "    }\n",
       "\n",
       "    .dataframe thead th {\n",
       "        text-align: right;\n",
       "    }\n",
       "</style>\n",
       "<table border=\"1\" class=\"dataframe\">\n",
       "  <thead>\n",
       "    <tr style=\"text-align: right;\">\n",
       "      <th></th>\n",
       "      <th>age</th>\n",
       "      <th>sex</th>\n",
       "      <th>cp</th>\n",
       "      <th>trestbps</th>\n",
       "      <th>chol</th>\n",
       "      <th>fbs</th>\n",
       "      <th>restecg</th>\n",
       "      <th>thalach</th>\n",
       "      <th>exang</th>\n",
       "      <th>oldpeak</th>\n",
       "      <th>slope</th>\n",
       "      <th>ca</th>\n",
       "      <th>thal</th>\n",
       "      <th>target</th>\n",
       "    </tr>\n",
       "  </thead>\n",
       "  <tbody>\n",
       "    <tr>\n",
       "      <th>0</th>\n",
       "      <td>63</td>\n",
       "      <td>1</td>\n",
       "      <td>3</td>\n",
       "      <td>145</td>\n",
       "      <td>233</td>\n",
       "      <td>1</td>\n",
       "      <td>0</td>\n",
       "      <td>150</td>\n",
       "      <td>0</td>\n",
       "      <td>2.3</td>\n",
       "      <td>0</td>\n",
       "      <td>0</td>\n",
       "      <td>1</td>\n",
       "      <td>1</td>\n",
       "    </tr>\n",
       "    <tr>\n",
       "      <th>1</th>\n",
       "      <td>37</td>\n",
       "      <td>1</td>\n",
       "      <td>2</td>\n",
       "      <td>130</td>\n",
       "      <td>250</td>\n",
       "      <td>0</td>\n",
       "      <td>1</td>\n",
       "      <td>187</td>\n",
       "      <td>0</td>\n",
       "      <td>3.5</td>\n",
       "      <td>0</td>\n",
       "      <td>0</td>\n",
       "      <td>2</td>\n",
       "      <td>1</td>\n",
       "    </tr>\n",
       "    <tr>\n",
       "      <th>2</th>\n",
       "      <td>41</td>\n",
       "      <td>0</td>\n",
       "      <td>1</td>\n",
       "      <td>130</td>\n",
       "      <td>204</td>\n",
       "      <td>0</td>\n",
       "      <td>0</td>\n",
       "      <td>172</td>\n",
       "      <td>0</td>\n",
       "      <td>1.4</td>\n",
       "      <td>2</td>\n",
       "      <td>0</td>\n",
       "      <td>2</td>\n",
       "      <td>1</td>\n",
       "    </tr>\n",
       "    <tr>\n",
       "      <th>3</th>\n",
       "      <td>56</td>\n",
       "      <td>1</td>\n",
       "      <td>1</td>\n",
       "      <td>120</td>\n",
       "      <td>236</td>\n",
       "      <td>0</td>\n",
       "      <td>1</td>\n",
       "      <td>178</td>\n",
       "      <td>0</td>\n",
       "      <td>0.8</td>\n",
       "      <td>2</td>\n",
       "      <td>0</td>\n",
       "      <td>2</td>\n",
       "      <td>1</td>\n",
       "    </tr>\n",
       "    <tr>\n",
       "      <th>4</th>\n",
       "      <td>57</td>\n",
       "      <td>0</td>\n",
       "      <td>0</td>\n",
       "      <td>120</td>\n",
       "      <td>354</td>\n",
       "      <td>0</td>\n",
       "      <td>1</td>\n",
       "      <td>163</td>\n",
       "      <td>1</td>\n",
       "      <td>0.6</td>\n",
       "      <td>2</td>\n",
       "      <td>0</td>\n",
       "      <td>2</td>\n",
       "      <td>1</td>\n",
       "    </tr>\n",
       "  </tbody>\n",
       "</table>\n",
       "</div>"
      ],
      "text/plain": [
       "   age  sex  cp  trestbps  chol  fbs  restecg  thalach  exang  oldpeak  slope  \\\n",
       "0   63    1   3       145   233    1        0      150      0      2.3      0   \n",
       "1   37    1   2       130   250    0        1      187      0      3.5      0   \n",
       "2   41    0   1       130   204    0        0      172      0      1.4      2   \n",
       "3   56    1   1       120   236    0        1      178      0      0.8      2   \n",
       "4   57    0   0       120   354    0        1      163      1      0.6      2   \n",
       "\n",
       "   ca  thal  target  \n",
       "0   0     1       1  \n",
       "1   0     2       1  \n",
       "2   0     2       1  \n",
       "3   0     2       1  \n",
       "4   0     2       1  "
      ]
     },
     "execution_count": 5,
     "metadata": {},
     "output_type": "execute_result"
    }
   ],
   "source": [
    "import pandas as pd\n",
    "#df = pd.read_csv('heart_disease.csv')\n",
    "df = pd.read_csv('https://raw.githubusercontent.com/rickiepark/handson-gb/main/Chapter06/heart_disease.csv')\n",
    "\n",
    "df.head()"
   ]
  },
  {
   "cell_type": "markdown",
   "id": "b555fe72",
   "metadata": {},
   "source": [
    "### Shuffle"
   ]
  },
  {
   "cell_type": "code",
   "execution_count": 6,
   "id": "abc5b090",
   "metadata": {},
   "outputs": [
    {
     "data": {
      "text/html": [
       "<div>\n",
       "<style scoped>\n",
       "    .dataframe tbody tr th:only-of-type {\n",
       "        vertical-align: middle;\n",
       "    }\n",
       "\n",
       "    .dataframe tbody tr th {\n",
       "        vertical-align: top;\n",
       "    }\n",
       "\n",
       "    .dataframe thead th {\n",
       "        text-align: right;\n",
       "    }\n",
       "</style>\n",
       "<table border=\"1\" class=\"dataframe\">\n",
       "  <thead>\n",
       "    <tr style=\"text-align: right;\">\n",
       "      <th></th>\n",
       "      <th>age</th>\n",
       "      <th>sex</th>\n",
       "      <th>cp</th>\n",
       "      <th>trestbps</th>\n",
       "      <th>chol</th>\n",
       "      <th>fbs</th>\n",
       "      <th>restecg</th>\n",
       "      <th>thalach</th>\n",
       "      <th>exang</th>\n",
       "      <th>oldpeak</th>\n",
       "      <th>slope</th>\n",
       "      <th>ca</th>\n",
       "      <th>thal</th>\n",
       "      <th>target</th>\n",
       "    </tr>\n",
       "  </thead>\n",
       "  <tbody>\n",
       "    <tr>\n",
       "      <th>99</th>\n",
       "      <td>53</td>\n",
       "      <td>1</td>\n",
       "      <td>2</td>\n",
       "      <td>130</td>\n",
       "      <td>246</td>\n",
       "      <td>1</td>\n",
       "      <td>0</td>\n",
       "      <td>173</td>\n",
       "      <td>0</td>\n",
       "      <td>0.0</td>\n",
       "      <td>2</td>\n",
       "      <td>3</td>\n",
       "      <td>2</td>\n",
       "      <td>1</td>\n",
       "    </tr>\n",
       "    <tr>\n",
       "      <th>296</th>\n",
       "      <td>63</td>\n",
       "      <td>0</td>\n",
       "      <td>0</td>\n",
       "      <td>124</td>\n",
       "      <td>197</td>\n",
       "      <td>0</td>\n",
       "      <td>1</td>\n",
       "      <td>136</td>\n",
       "      <td>1</td>\n",
       "      <td>0.0</td>\n",
       "      <td>1</td>\n",
       "      <td>0</td>\n",
       "      <td>2</td>\n",
       "      <td>0</td>\n",
       "    </tr>\n",
       "    <tr>\n",
       "      <th>89</th>\n",
       "      <td>58</td>\n",
       "      <td>0</td>\n",
       "      <td>0</td>\n",
       "      <td>100</td>\n",
       "      <td>248</td>\n",
       "      <td>0</td>\n",
       "      <td>0</td>\n",
       "      <td>122</td>\n",
       "      <td>0</td>\n",
       "      <td>1.0</td>\n",
       "      <td>1</td>\n",
       "      <td>0</td>\n",
       "      <td>2</td>\n",
       "      <td>1</td>\n",
       "    </tr>\n",
       "    <tr>\n",
       "      <th>30</th>\n",
       "      <td>41</td>\n",
       "      <td>0</td>\n",
       "      <td>1</td>\n",
       "      <td>105</td>\n",
       "      <td>198</td>\n",
       "      <td>0</td>\n",
       "      <td>1</td>\n",
       "      <td>168</td>\n",
       "      <td>0</td>\n",
       "      <td>0.0</td>\n",
       "      <td>2</td>\n",
       "      <td>1</td>\n",
       "      <td>2</td>\n",
       "      <td>1</td>\n",
       "    </tr>\n",
       "    <tr>\n",
       "      <th>234</th>\n",
       "      <td>70</td>\n",
       "      <td>1</td>\n",
       "      <td>0</td>\n",
       "      <td>130</td>\n",
       "      <td>322</td>\n",
       "      <td>0</td>\n",
       "      <td>0</td>\n",
       "      <td>109</td>\n",
       "      <td>0</td>\n",
       "      <td>2.4</td>\n",
       "      <td>1</td>\n",
       "      <td>3</td>\n",
       "      <td>2</td>\n",
       "      <td>0</td>\n",
       "    </tr>\n",
       "  </tbody>\n",
       "</table>\n",
       "</div>"
      ],
      "text/plain": [
       "     age  sex  cp  trestbps  chol  fbs  restecg  thalach  exang  oldpeak  \\\n",
       "99    53    1   2       130   246    1        0      173      0      0.0   \n",
       "296   63    0   0       124   197    0        1      136      1      0.0   \n",
       "89    58    0   0       100   248    0        0      122      0      1.0   \n",
       "30    41    0   1       105   198    0        1      168      0      0.0   \n",
       "234   70    1   0       130   322    0        0      109      0      2.4   \n",
       "\n",
       "     slope  ca  thal  target  \n",
       "99       2   3     2       1  \n",
       "296      1   0     2       0  \n",
       "89       1   0     2       1  \n",
       "30       2   1     2       1  \n",
       "234      1   3     2       0  "
      ]
     },
     "execution_count": 6,
     "metadata": {},
     "output_type": "execute_result"
    }
   ],
   "source": [
    "from sklearn.utils import shuffle\n",
    "df = shuffle(df, random_state=2)\n",
    "\n",
    "df.head()"
   ]
  },
  {
   "cell_type": "code",
   "execution_count": 7,
   "id": "98a22ac1",
   "metadata": {},
   "outputs": [
    {
     "name": "stdout",
     "output_type": "stream",
     "text": [
      "<class 'pandas.core.frame.DataFrame'>\n",
      "Int64Index: 303 entries, 99 to 168\n",
      "Data columns (total 14 columns):\n",
      " #   Column    Non-Null Count  Dtype  \n",
      "---  ------    --------------  -----  \n",
      " 0   age       303 non-null    int64  \n",
      " 1   sex       303 non-null    int64  \n",
      " 2   cp        303 non-null    int64  \n",
      " 3   trestbps  303 non-null    int64  \n",
      " 4   chol      303 non-null    int64  \n",
      " 5   fbs       303 non-null    int64  \n",
      " 6   restecg   303 non-null    int64  \n",
      " 7   thalach   303 non-null    int64  \n",
      " 8   exang     303 non-null    int64  \n",
      " 9   oldpeak   303 non-null    float64\n",
      " 10  slope     303 non-null    int64  \n",
      " 11  ca        303 non-null    int64  \n",
      " 12  thal      303 non-null    int64  \n",
      " 13  target    303 non-null    int64  \n",
      "dtypes: float64(1), int64(13)\n",
      "memory usage: 35.5 KB\n"
     ]
    }
   ],
   "source": [
    "df.info()"
   ]
  },
  {
   "cell_type": "code",
   "execution_count": 8,
   "id": "4a18481f",
   "metadata": {},
   "outputs": [
    {
     "data": {
      "text/plain": [
       "0"
      ]
     },
     "execution_count": 8,
     "metadata": {},
     "output_type": "execute_result"
    }
   ],
   "source": [
    "df.isnull().sum().sum()"
   ]
  },
  {
   "cell_type": "code",
   "execution_count": 9,
   "id": "6618778e",
   "metadata": {},
   "outputs": [
    {
     "data": {
      "text/plain": [
       "1    165\n",
       "0    138\n",
       "Name: target, dtype: int64"
      ]
     },
     "execution_count": 9,
     "metadata": {},
     "output_type": "execute_result"
    }
   ],
   "source": [
    "df['target'].value_counts()"
   ]
  },
  {
   "cell_type": "code",
   "execution_count": 10,
   "id": "66947aa8",
   "metadata": {},
   "outputs": [
    {
     "data": {
      "text/html": [
       "<div>\n",
       "<style scoped>\n",
       "    .dataframe tbody tr th:only-of-type {\n",
       "        vertical-align: middle;\n",
       "    }\n",
       "\n",
       "    .dataframe tbody tr th {\n",
       "        vertical-align: top;\n",
       "    }\n",
       "\n",
       "    .dataframe thead th {\n",
       "        text-align: right;\n",
       "    }\n",
       "</style>\n",
       "<table border=\"1\" class=\"dataframe\">\n",
       "  <thead>\n",
       "    <tr style=\"text-align: right;\">\n",
       "      <th></th>\n",
       "      <th>age</th>\n",
       "      <th>sex</th>\n",
       "      <th>cp</th>\n",
       "      <th>trestbps</th>\n",
       "      <th>chol</th>\n",
       "      <th>fbs</th>\n",
       "      <th>restecg</th>\n",
       "      <th>thalach</th>\n",
       "      <th>exang</th>\n",
       "      <th>oldpeak</th>\n",
       "      <th>slope</th>\n",
       "      <th>ca</th>\n",
       "      <th>thal</th>\n",
       "      <th>target</th>\n",
       "    </tr>\n",
       "  </thead>\n",
       "  <tbody>\n",
       "    <tr>\n",
       "      <th>247</th>\n",
       "      <td>66</td>\n",
       "      <td>1</td>\n",
       "      <td>1</td>\n",
       "      <td>160</td>\n",
       "      <td>246</td>\n",
       "      <td>0</td>\n",
       "      <td>1</td>\n",
       "      <td>120</td>\n",
       "      <td>1</td>\n",
       "      <td>0.0</td>\n",
       "      <td>1</td>\n",
       "      <td>3</td>\n",
       "      <td>1</td>\n",
       "      <td>0</td>\n",
       "    </tr>\n",
       "    <tr>\n",
       "      <th>288</th>\n",
       "      <td>57</td>\n",
       "      <td>1</td>\n",
       "      <td>0</td>\n",
       "      <td>110</td>\n",
       "      <td>335</td>\n",
       "      <td>0</td>\n",
       "      <td>1</td>\n",
       "      <td>143</td>\n",
       "      <td>1</td>\n",
       "      <td>3.0</td>\n",
       "      <td>1</td>\n",
       "      <td>1</td>\n",
       "      <td>3</td>\n",
       "      <td>0</td>\n",
       "    </tr>\n",
       "    <tr>\n",
       "      <th>265</th>\n",
       "      <td>66</td>\n",
       "      <td>1</td>\n",
       "      <td>0</td>\n",
       "      <td>112</td>\n",
       "      <td>212</td>\n",
       "      <td>0</td>\n",
       "      <td>0</td>\n",
       "      <td>132</td>\n",
       "      <td>1</td>\n",
       "      <td>0.1</td>\n",
       "      <td>2</td>\n",
       "      <td>1</td>\n",
       "      <td>2</td>\n",
       "      <td>0</td>\n",
       "    </tr>\n",
       "    <tr>\n",
       "      <th>271</th>\n",
       "      <td>61</td>\n",
       "      <td>1</td>\n",
       "      <td>3</td>\n",
       "      <td>134</td>\n",
       "      <td>234</td>\n",
       "      <td>0</td>\n",
       "      <td>1</td>\n",
       "      <td>145</td>\n",
       "      <td>0</td>\n",
       "      <td>2.6</td>\n",
       "      <td>1</td>\n",
       "      <td>2</td>\n",
       "      <td>2</td>\n",
       "      <td>0</td>\n",
       "    </tr>\n",
       "    <tr>\n",
       "      <th>259</th>\n",
       "      <td>38</td>\n",
       "      <td>1</td>\n",
       "      <td>3</td>\n",
       "      <td>120</td>\n",
       "      <td>231</td>\n",
       "      <td>0</td>\n",
       "      <td>1</td>\n",
       "      <td>182</td>\n",
       "      <td>1</td>\n",
       "      <td>3.8</td>\n",
       "      <td>1</td>\n",
       "      <td>0</td>\n",
       "      <td>3</td>\n",
       "      <td>0</td>\n",
       "    </tr>\n",
       "    <tr>\n",
       "      <th>45</th>\n",
       "      <td>52</td>\n",
       "      <td>1</td>\n",
       "      <td>1</td>\n",
       "      <td>120</td>\n",
       "      <td>325</td>\n",
       "      <td>0</td>\n",
       "      <td>1</td>\n",
       "      <td>172</td>\n",
       "      <td>0</td>\n",
       "      <td>0.2</td>\n",
       "      <td>2</td>\n",
       "      <td>0</td>\n",
       "      <td>2</td>\n",
       "      <td>1</td>\n",
       "    </tr>\n",
       "    <tr>\n",
       "      <th>153</th>\n",
       "      <td>66</td>\n",
       "      <td>0</td>\n",
       "      <td>2</td>\n",
       "      <td>146</td>\n",
       "      <td>278</td>\n",
       "      <td>0</td>\n",
       "      <td>0</td>\n",
       "      <td>152</td>\n",
       "      <td>0</td>\n",
       "      <td>0.0</td>\n",
       "      <td>1</td>\n",
       "      <td>1</td>\n",
       "      <td>2</td>\n",
       "      <td>1</td>\n",
       "    </tr>\n",
       "    <tr>\n",
       "      <th>91</th>\n",
       "      <td>57</td>\n",
       "      <td>1</td>\n",
       "      <td>0</td>\n",
       "      <td>132</td>\n",
       "      <td>207</td>\n",
       "      <td>0</td>\n",
       "      <td>1</td>\n",
       "      <td>168</td>\n",
       "      <td>1</td>\n",
       "      <td>0.0</td>\n",
       "      <td>2</td>\n",
       "      <td>0</td>\n",
       "      <td>3</td>\n",
       "      <td>1</td>\n",
       "    </tr>\n",
       "    <tr>\n",
       "      <th>54</th>\n",
       "      <td>63</td>\n",
       "      <td>0</td>\n",
       "      <td>2</td>\n",
       "      <td>135</td>\n",
       "      <td>252</td>\n",
       "      <td>0</td>\n",
       "      <td>0</td>\n",
       "      <td>172</td>\n",
       "      <td>0</td>\n",
       "      <td>0.0</td>\n",
       "      <td>2</td>\n",
       "      <td>0</td>\n",
       "      <td>2</td>\n",
       "      <td>1</td>\n",
       "    </tr>\n",
       "    <tr>\n",
       "      <th>76</th>\n",
       "      <td>51</td>\n",
       "      <td>1</td>\n",
       "      <td>2</td>\n",
       "      <td>125</td>\n",
       "      <td>245</td>\n",
       "      <td>1</td>\n",
       "      <td>0</td>\n",
       "      <td>166</td>\n",
       "      <td>0</td>\n",
       "      <td>2.4</td>\n",
       "      <td>1</td>\n",
       "      <td>0</td>\n",
       "      <td>2</td>\n",
       "      <td>1</td>\n",
       "    </tr>\n",
       "  </tbody>\n",
       "</table>\n",
       "</div>"
      ],
      "text/plain": [
       "     age  sex  cp  trestbps  chol  fbs  restecg  thalach  exang  oldpeak  \\\n",
       "247   66    1   1       160   246    0        1      120      1      0.0   \n",
       "288   57    1   0       110   335    0        1      143      1      3.0   \n",
       "265   66    1   0       112   212    0        0      132      1      0.1   \n",
       "271   61    1   3       134   234    0        1      145      0      2.6   \n",
       "259   38    1   3       120   231    0        1      182      1      3.8   \n",
       "45    52    1   1       120   325    0        1      172      0      0.2   \n",
       "153   66    0   2       146   278    0        0      152      0      0.0   \n",
       "91    57    1   0       132   207    0        1      168      1      0.0   \n",
       "54    63    0   2       135   252    0        0      172      0      0.0   \n",
       "76    51    1   2       125   245    1        0      166      0      2.4   \n",
       "\n",
       "     slope  ca  thal  target  \n",
       "247      1   3     1       0  \n",
       "288      1   1     3       0  \n",
       "265      2   1     2       0  \n",
       "271      1   2     2       0  \n",
       "259      1   0     3       0  \n",
       "45       2   0     2       1  \n",
       "153      1   1     2       1  \n",
       "91       2   0     3       1  \n",
       "54       2   0     2       1  \n",
       "76       1   0     2       1  "
      ]
     },
     "execution_count": 10,
     "metadata": {},
     "output_type": "execute_result"
    }
   ],
   "source": [
    "df.groupby('target').sample(n=5)"
   ]
  },
  {
   "cell_type": "markdown",
   "id": "91bb016e",
   "metadata": {},
   "source": [
    "### Split feature/target"
   ]
  },
  {
   "cell_type": "code",
   "execution_count": 11,
   "id": "7dfb9869",
   "metadata": {},
   "outputs": [],
   "source": [
    "X = df.iloc[:, :-1]\n",
    "y = df.iloc[:, -1]"
   ]
  },
  {
   "cell_type": "markdown",
   "id": "c6a53352",
   "metadata": {},
   "source": [
    "## Classification Model Selection"
   ]
  },
  {
   "cell_type": "code",
   "execution_count": 12,
   "id": "4e6b57e5",
   "metadata": {},
   "outputs": [],
   "source": [
    "from xgboost import XGBClassifier\n",
    "\n",
    "from sklearn.model_selection import StratifiedKFold\n",
    "from sklearn.model_selection import cross_val_score\n",
    "\n",
    "kfold = StratifiedKFold(n_splits=5)\n",
    "\n",
    "def cross_validation(model):\n",
    "    start = time.time()\n",
    "    \n",
    "    scores = cross_val_score(model, X, y, scoring='accuracy', cv=kfold)\n",
    "    # scores = cross_val_score(model, X, y, scoring='recall', cv=kfold)\n",
    "    \n",
    "    print('Cross Validation:')\n",
    "    print('Elased time: %0.2fs' % (time.time()-start))\n",
    "    print('Accuracy:', np.round(scores, 2))\n",
    "    print('Avg. Accuracy: %0.2f' % (scores.mean()))"
   ]
  },
  {
   "cell_type": "code",
   "execution_count": 13,
   "id": "6ca37a10",
   "metadata": {},
   "outputs": [
    {
     "name": "stdout",
     "output_type": "stream",
     "text": [
      "Cross Validation:\n",
      "Elased time: 0.48s\n",
      "Accuracy: [0.89 0.8  0.79 0.77 0.77]\n",
      "Avg. Accuracy: 0.80\n"
     ]
    }
   ],
   "source": [
    "cross_validation(XGBClassifier(booster='gbtree'))  # default"
   ]
  },
  {
   "cell_type": "code",
   "execution_count": 14,
   "id": "d3a1e842",
   "metadata": {},
   "outputs": [
    {
     "name": "stdout",
     "output_type": "stream",
     "text": [
      "Cross Validation:\n",
      "Elased time: 0.11s\n",
      "Accuracy: [0.9  0.85 0.77 0.83 0.83]\n",
      "Avg. Accuracy: 0.84\n"
     ]
    }
   ],
   "source": [
    "cross_validation(XGBClassifier(booster='gblinear'))"
   ]
  },
  {
   "cell_type": "code",
   "execution_count": 15,
   "id": "e7979c0e",
   "metadata": {},
   "outputs": [
    {
     "name": "stdout",
     "output_type": "stream",
     "text": [
      "Cross Validation:\n",
      "Elased time: 2.59s\n",
      "Accuracy: [0.85 0.8  0.75 0.78 0.78]\n",
      "Avg. Accuracy: 0.80\n"
     ]
    }
   ],
   "source": [
    "cross_validation(XGBClassifier(booster='dart', one_drop=1))"
   ]
  },
  {
   "cell_type": "code",
   "execution_count": 16,
   "id": "aad065ce",
   "metadata": {},
   "outputs": [
    {
     "name": "stdout",
     "output_type": "stream",
     "text": [
      "Cross Validation:\n",
      "Elased time: 0.28s\n",
      "Accuracy: [0.9  0.84 0.79 0.77 0.83]\n",
      "Avg. Accuracy: 0.82\n"
     ]
    }
   ],
   "source": [
    "from sklearn.ensemble import RandomForestClassifier\n",
    "\n",
    "cross_validation(RandomForestClassifier())"
   ]
  },
  {
   "cell_type": "markdown",
   "id": "6da40a82",
   "metadata": {},
   "source": [
    "## HPO"
   ]
  },
  {
   "cell_type": "markdown",
   "id": "851131af",
   "metadata": {},
   "source": [
    "### Default"
   ]
  },
  {
   "cell_type": "code",
   "execution_count": 17,
   "id": "71aad0e1",
   "metadata": {},
   "outputs": [],
   "source": [
    "from xgboost import XGBClassifier\n",
    "from sklearn.model_selection import train_test_split\n",
    "from sklearn.metrics import accuracy_score\n",
    "\n",
    "# Split train/test dataset\n",
    "X_train, X_test, y_train, y_test = train_test_split(X, y, random_state=2)\n",
    "\n",
    "# Utility function to estimate accuracy scores\n",
    "def model_estimation(model):    \n",
    "    start = time.time()\n",
    "    y_pred = model.predict(X_test)\n",
    "\n",
    "    from sklearn.metrics import confusion_matrix\n",
    "    print('\\nConfusion Matrix:')\n",
    "    print(confusion_matrix(y_test, y_pred))\n",
    "\n",
    "    from sklearn.metrics import classification_report\n",
    "    print('\\nClassification Report:')\n",
    "    print(classification_report(y_true=y_test, y_pred = y_pred))\n",
    "\n",
    "    from sklearn.metrics import accuracy_score, recall_score, precision_score, f1_score\n",
    "    print('Accuracy Score: %0.2f' % (accuracy_score(y_test,y_pred)))\n",
    "    print('Precision Score: %0.2f' % (precision_score(y_test,y_pred)))\n",
    "    print('Recall Score: %0.2f' % (recall_score(y_test,y_pred)))\n",
    "    print('F1 Score: %0.2f' % (f1_score(y_test,y_pred)))\n",
    "    print('Elapsed time: %0.2fs' % (time.time()-start)) \n",
    "    \n",
    "    return accuracy_score(y_test,y_pred)"
   ]
  },
  {
   "cell_type": "code",
   "execution_count": 18,
   "id": "2b7496f5",
   "metadata": {},
   "outputs": [
    {
     "name": "stdout",
     "output_type": "stream",
     "text": [
      "\n",
      "Confusion Matrix:\n",
      "[[26  7]\n",
      " [ 5 38]]\n",
      "\n",
      "Classification Report:\n",
      "              precision    recall  f1-score   support\n",
      "\n",
      "           0       0.84      0.79      0.81        33\n",
      "           1       0.84      0.88      0.86        43\n",
      "\n",
      "    accuracy                           0.84        76\n",
      "   macro avg       0.84      0.84      0.84        76\n",
      "weighted avg       0.84      0.84      0.84        76\n",
      "\n",
      "Accuracy Score: 0.84\n",
      "Precision Score: 0.84\n",
      "Recall Score: 0.88\n",
      "F1 Score: 0.86\n",
      "Elapsed time: 0.00s\n",
      "\n",
      "best_score: 0.842\n"
     ]
    }
   ],
   "source": [
    "# default model\n",
    "model = XGBClassifier(booster='gbtree', objective='binary:logistic', \n",
    "                        random_state=2, verbosity=0, use_label_encoder=False, n_jobs=-1)\n",
    "\n",
    "model.fit(X_train, y_train)    \n",
    "\n",
    "best_score = model_estimation(model)\n",
    "best_model = model\n",
    "\n",
    "print('\\nbest_score: %0.3f' % (best_score))"
   ]
  },
  {
   "cell_type": "code",
   "execution_count": 19,
   "id": "44810da6",
   "metadata": {},
   "outputs": [],
   "source": [
    "# Utility function to report best scores\n",
    "def report(results, n_top=5):\n",
    "    for i in range(1, n_top + 1):\n",
    "        candidates = np.flatnonzero(results[\"rank_test_score\"] == i)\n",
    "        for candidate in candidates:\n",
    "            print(\"Model with rank: {0}\".format(i))\n",
    "            print(\n",
    "                \"Mean validation score: {0:.3f} (std: {1:.3f})\".format(\n",
    "                    results[\"mean_test_score\"][candidate],\n",
    "                    results[\"std_test_score\"][candidate],\n",
    "                )\n",
    "            )\n",
    "            print(\"Parameters: {0}\".format(results[\"params\"][candidate]))\n",
    "            print(\"\")"
   ]
  },
  {
   "cell_type": "markdown",
   "id": "2964d696",
   "metadata": {},
   "source": [
    "## HPO: Randomized Search"
   ]
  },
  {
   "cell_type": "code",
   "execution_count": 20,
   "id": "19f8ee0c",
   "metadata": {},
   "outputs": [],
   "source": [
    "from sklearn.model_selection import RandomizedSearchCV\n",
    "\n",
    "def randomized_search(params, runs=20): \n",
    "    xgb = XGBClassifier(booster='gbtree', objective='binary:logistic', \n",
    "                        random_state=2, verbosity=0, use_label_encoder=False, n_jobs=-1)\n",
    "    \n",
    "    kfold = StratifiedKFold(n_splits=5, shuffle=True, random_state=2)\n",
    "    \n",
    "    rand_clf = RandomizedSearchCV(xgb, params, cv=kfold, n_iter=runs, n_jobs=-1, random_state=2, scoring='accuracy')\n",
    "    \n",
    "    rand_clf.fit(X_train, y_train)    \n",
    "    \n",
    "    best_model = rand_clf.best_estimator_    \n",
    "    \n",
    "    print(\"best parameter:\", rand_clf.best_params_)    \n",
    "    print(\"best score: {:.3f}\".format(rand_clf.best_score_))\n",
    "\n",
    "    # print(\"rand_clf.cv_results_: \", rand_clf.cv_results_)\n",
    "    report(rand_clf.cv_results_)\n",
    "    \n",
    "    return best_model"
   ]
  },
  {
   "cell_type": "code",
   "execution_count": 21,
   "id": "fc4a283f",
   "metadata": {},
   "outputs": [
    {
     "name": "stdout",
     "output_type": "stream",
     "text": [
      "best parameter: {'subsample': 1, 'n_estimators': 200, 'min_child_weight': 10, 'max_depth': 2, 'learning_rate': 0.5, 'gamma': 1, 'colsample_bytree': 0.9}\n",
      "best score: 0.850\n",
      "Model with rank: 1\n",
      "Mean validation score: 0.850 (std: 0.010)\n",
      "Parameters: {'subsample': 1, 'n_estimators': 200, 'min_child_weight': 10, 'max_depth': 2, 'learning_rate': 0.5, 'gamma': 1, 'colsample_bytree': 0.9}\n",
      "\n",
      "Model with rank: 2\n",
      "Mean validation score: 0.824 (std: 0.023)\n",
      "Parameters: {'subsample': 0.9, 'n_estimators': 50, 'min_child_weight': 10, 'max_depth': 8, 'learning_rate': 0.2, 'gamma': 0.7, 'colsample_bytree': 1}\n",
      "\n",
      "Model with rank: 3\n",
      "Mean validation score: 0.815 (std: 0.045)\n",
      "Parameters: {'subsample': 0.7, 'n_estimators': 100, 'min_child_weight': 5, 'max_depth': 2, 'learning_rate': 0.8, 'gamma': 0.01, 'colsample_bytree': 0.5}\n",
      "\n",
      "Model with rank: 4\n",
      "Mean validation score: 0.806 (std: 0.017)\n",
      "Parameters: {'subsample': 0.9, 'n_estimators': 200, 'min_child_weight': 15, 'max_depth': 2, 'learning_rate': 0.01, 'gamma': 0.5, 'colsample_bytree': 0.9}\n",
      "\n",
      "Model with rank: 5\n",
      "Mean validation score: 0.797 (std: 0.025)\n",
      "Parameters: {'subsample': 0.7, 'n_estimators': 100, 'min_child_weight': 5, 'max_depth': 3, 'learning_rate': 0.5, 'gamma': 0.5, 'colsample_bytree': 0.8}\n",
      "\n",
      "\n",
      "Elapsed time: 4.55s\n"
     ]
    }
   ],
   "source": [
    "import time\n",
    "start = time.time()\n",
    "\n",
    "randomized_model = randomized_search(\n",
    "    params={\n",
    "        'n_estimators':[50, 100, 200],\n",
    "        'learning_rate':[0.01, 0.05, 0.1, 0.2, 0.3, 0.4, 0.5, 0.8],\n",
    "        'max_depth':[1, 2, 3, 5, 6, 8],\n",
    "        'gamma':[0, 0.01, 0.1, 0.5, 0.7, 1, 2],\n",
    "        'min_child_weight':[5, 10, 15, 20, 30],\n",
    "        'subsample':[0.5, 0.7, 0.8, 0.9, 1],\n",
    "        'colsample_bytree':[0.2, 0.5, 0.7, 0.8, 0.9, 1],  \n",
    "        }, \n",
    "    runs=20)\n",
    "\n",
    "print('\\nElapsed time: %0.2fs' % (time.time()-start))"
   ]
  },
  {
   "cell_type": "code",
   "execution_count": 22,
   "id": "348cf8ab",
   "metadata": {},
   "outputs": [
    {
     "name": "stdout",
     "output_type": "stream",
     "text": [
      "\n",
      "Confusion Matrix:\n",
      "[[28  5]\n",
      " [ 6 37]]\n",
      "\n",
      "Classification Report:\n",
      "              precision    recall  f1-score   support\n",
      "\n",
      "           0       0.82      0.85      0.84        33\n",
      "           1       0.88      0.86      0.87        43\n",
      "\n",
      "    accuracy                           0.86        76\n",
      "   macro avg       0.85      0.85      0.85        76\n",
      "weighted avg       0.86      0.86      0.86        76\n",
      "\n",
      "Accuracy Score: 0.86\n",
      "Precision Score: 0.88\n",
      "Recall Score: 0.86\n",
      "F1 Score: 0.87\n",
      "Elapsed time: 0.01s\n",
      "\n",
      "score: 0.855\n",
      "best_score: 0.855\n"
     ]
    }
   ],
   "source": [
    "score = model_estimation(randomized_model)\n",
    "print('\\nscore: %0.3f' % (score))  \n",
    "\n",
    "if(score > best_score):\n",
    "    best_score = score\n",
    "    best_model = model\n",
    "\n",
    "    print('best_score: %0.3f' % (best_score))  "
   ]
  },
  {
   "cell_type": "markdown",
   "id": "a3e7dca1",
   "metadata": {},
   "source": [
    "## HPO: Bayesian Optimization "
   ]
  },
  {
   "cell_type": "code",
   "execution_count": 23,
   "id": "76e3391b",
   "metadata": {},
   "outputs": [
    {
     "name": "stdout",
     "output_type": "stream",
     "text": [
      "score= 0.8552631578947368\n",
      "score= 0.8552631578947368\n",
      "score= 0.868421052631579\n",
      "score= 0.8157894736842105\n",
      "score= 0.8157894736842105\n",
      "score= 0.868421052631579\n",
      "score= 0.868421052631579\n",
      "score= 0.868421052631579\n"
     ]
    },
    {
     "data": {
      "text/plain": [
       "{'target': 0.868421052631579,\n",
       " 'params': {'colsample_bytree': 0.2659958790822238,\n",
       "  'gamma': 0.7874817963385067,\n",
       "  'learning_rate': 0.8554355397130939,\n",
       "  'max_depth': 4.459657861673495,\n",
       "  'min_child_weight': 17.08466822179189,\n",
       "  'n_estimators': 109.73410775679574,\n",
       "  'subsample': 0.752623045060852}}"
      ]
     },
     "execution_count": 23,
     "metadata": {},
     "output_type": "execute_result"
    }
   ],
   "source": [
    "from bayes_opt import BayesianOptimization\n",
    "\n",
    "def xgbc_cv(n_estimators, learning_rate, max_depth, gamma, min_child_weight, subsample, colsample_bytree, ):\n",
    "    xgb = XGBClassifier(booster='gbtree', objective='binary:logistic', \n",
    "                        n_estimators=int(n_estimators),\n",
    "                        learning_rate=learning_rate,\n",
    "                        max_depth=int(max_depth),\n",
    "                        gamma=gamma,\n",
    "                        min_child_weight=min_child_weight,\n",
    "                        subsample=subsample,\n",
    "                        colsample_bytree=colsample_bytree,\n",
    "                        random_state=2, verbosity=0, use_label_encoder=False, n_jobs=-1)\n",
    "\n",
    "    xgb.fit(X_train, y_train)    \n",
    "\n",
    "    y_pred = xgb.predict(X_test)\n",
    "\n",
    "    score = accuracy_score(y_pred, y_test)\n",
    "\n",
    "    print('score=', score)\n",
    "\n",
    "    return score\n",
    "\n",
    "hyperparameter_space = {\n",
    "    'n_estimators': (50, 800),\n",
    "    'learning_rate': (0.01, 1.0),\n",
    "    'max_depth': (1, 8),\n",
    "    'gamma' : (0.01, 1),\n",
    "    'min_child_weight': (1, 20),\n",
    "    'subsample': (0.5, 1),\n",
    "    'colsample_bytree': (0.1, 1)\n",
    "}\n",
    "\n",
    "optimizer = BayesianOptimization(f=xgbc_cv, pbounds=hyperparameter_space, random_state=2, verbose=0)\n",
    "\n",
    "#gp_params = {\"alpha\": 1e-10}\n",
    "#optimizer.maximize(init_points=3,n_iter=10,acq='ucb', kappa= 3, **gp_params)    \n",
    "\n",
    "#optimizer.maximize(init_points=2, n_iter=10)\n",
    "optimizer.maximize(init_points=3, n_iter=5, acq='ei')\n",
    "\n",
    "\n",
    "optimizer.max"
   ]
  },
  {
   "cell_type": "code",
   "execution_count": 24,
   "id": "a6576ff9",
   "metadata": {},
   "outputs": [],
   "source": [
    "best_params = optimizer.max['params']"
   ]
  },
  {
   "cell_type": "code",
   "execution_count": 25,
   "id": "f7c0f237",
   "metadata": {},
   "outputs": [
    {
     "name": "stdout",
     "output_type": "stream",
     "text": [
      "score= 0.868421052631579\n",
      "\n",
      "Confusion Matrix:\n",
      "[[28  5]\n",
      " [ 5 38]]\n",
      "\n",
      "Classification Report:\n",
      "              precision    recall  f1-score   support\n",
      "\n",
      "           0       0.85      0.85      0.85        33\n",
      "           1       0.88      0.88      0.88        43\n",
      "\n",
      "    accuracy                           0.87        76\n",
      "   macro avg       0.87      0.87      0.87        76\n",
      "weighted avg       0.87      0.87      0.87        76\n",
      "\n",
      "Accuracy Score: 0.87\n",
      "Precision Score: 0.88\n",
      "Recall Score: 0.88\n",
      "F1 Score: 0.88\n",
      "Elapsed time: 0.00s\n",
      "\n",
      "best_score: 0.868\n"
     ]
    }
   ],
   "source": [
    "model = XGBClassifier(booster='gbtree', objective='binary:logistic', \n",
    "                        n_estimators=int(best_params['n_estimators']), \n",
    "                        learning_rate=best_params['learning_rate'], \n",
    "                        max_depth=int(best_params['max_depth']), \n",
    "                        gamma=best_params['gamma'], \n",
    "                        min_child_weight=int(best_params['min_child_weight']), \n",
    "                        subsample=best_params['subsample'], \n",
    "                        colsample_bytree=best_params['colsample_bytree'],\n",
    "                        random_state=2, verbosity=0, use_label_encoder=False, n_jobs=-1)\n",
    "\n",
    "model.fit(X_train, y_train)    \n",
    "\n",
    "y_pred = model.predict(X_test)\n",
    "score = accuracy_score(y_pred, y_test)\n",
    "print('score=', score)     \n",
    "\n",
    "if(score > best_score): \n",
    "    best_score = score\n",
    "    best_model = model\n",
    "    \n",
    "    best_score = model_estimation(model)\n",
    "    print('\\nbest_score: %0.3f' % (best_score))\n",
    "                     "
   ]
  },
  {
   "cell_type": "markdown",
   "id": "1e9a5daa",
   "metadata": {},
   "source": [
    "## Evaluation"
   ]
  },
  {
   "cell_type": "code",
   "execution_count": 26,
   "id": "feef6c98",
   "metadata": {},
   "outputs": [
    {
     "name": "stdout",
     "output_type": "stream",
     "text": [
      "Cross Validation:\n",
      "Elased time: 0.18s\n",
      "Accuracy: [0.85 0.64 0.74 0.57 0.75]\n",
      "Avg. Accuracy: 0.71\n",
      "\n",
      "Confusion Matrix:\n",
      "[[28  5]\n",
      " [ 5 38]]\n",
      "\n",
      "Classification Report:\n",
      "              precision    recall  f1-score   support\n",
      "\n",
      "           0       0.85      0.85      0.85        33\n",
      "           1       0.88      0.88      0.88        43\n",
      "\n",
      "    accuracy                           0.87        76\n",
      "   macro avg       0.87      0.87      0.87        76\n",
      "weighted avg       0.87      0.87      0.87        76\n",
      "\n",
      "Accuracy Score: 0.87\n",
      "Precision Score: 0.88\n",
      "Recall Score: 0.88\n",
      "F1 Score: 0.88\n",
      "Elapsed time: 0.00s\n"
     ]
    },
    {
     "data": {
      "text/plain": [
       "0.868421052631579"
      ]
     },
     "execution_count": 26,
     "metadata": {},
     "output_type": "execute_result"
    }
   ],
   "source": [
    "cross_validation(best_model)   \n",
    "model_estimation(best_model)    "
   ]
  },
  {
   "cell_type": "code",
   "execution_count": 27,
   "id": "b860166c",
   "metadata": {},
   "outputs": [
    {
     "data": {
      "text/plain": [
       "{'objective': 'binary:logistic',\n",
       " 'use_label_encoder': False,\n",
       " 'base_score': 0.5,\n",
       " 'booster': 'gbtree',\n",
       " 'callbacks': None,\n",
       " 'colsample_bylevel': 1,\n",
       " 'colsample_bynode': 1,\n",
       " 'colsample_bytree': 0.2659958790822238,\n",
       " 'early_stopping_rounds': None,\n",
       " 'enable_categorical': False,\n",
       " 'eval_metric': None,\n",
       " 'gamma': 0.7874817963385067,\n",
       " 'gpu_id': -1,\n",
       " 'grow_policy': 'depthwise',\n",
       " 'importance_type': None,\n",
       " 'interaction_constraints': '',\n",
       " 'learning_rate': 0.8554355397130939,\n",
       " 'max_bin': 256,\n",
       " 'max_cat_to_onehot': 4,\n",
       " 'max_delta_step': 0,\n",
       " 'max_depth': 4,\n",
       " 'max_leaves': 0,\n",
       " 'min_child_weight': 17,\n",
       " 'missing': nan,\n",
       " 'monotone_constraints': '()',\n",
       " 'n_estimators': 109,\n",
       " 'n_jobs': -1,\n",
       " 'num_parallel_tree': 1,\n",
       " 'predictor': 'auto',\n",
       " 'random_state': 2,\n",
       " 'reg_alpha': 0,\n",
       " 'reg_lambda': 1,\n",
       " 'sampling_method': 'uniform',\n",
       " 'scale_pos_weight': 1,\n",
       " 'subsample': 0.752623045060852,\n",
       " 'tree_method': 'exact',\n",
       " 'validate_parameters': 1,\n",
       " 'verbosity': 0}"
      ]
     },
     "execution_count": 27,
     "metadata": {},
     "output_type": "execute_result"
    }
   ],
   "source": [
    "best_model.get_params()"
   ]
  },
  {
   "cell_type": "markdown",
   "id": "7aa9d97f",
   "metadata": {},
   "source": [
    "## Feature Importances"
   ]
  },
  {
   "cell_type": "code",
   "execution_count": 28,
   "id": "5658920e",
   "metadata": {},
   "outputs": [
    {
     "name": "stdout",
     "output_type": "stream",
     "text": [
      "Feature Importances:\n",
      "[0.         0.         0.6579091  0.         0.08289965 0.\n",
      " 0.         0.         0.         0.         0.         0.2591913\n",
      " 0.        ]\n",
      "Requirement already satisfied: graphviz in /Users/ksdyb/.pyenv/versions/3.9.12/lib/python3.9/site-packages (0.20.1)\n",
      "\u001b[33mWARNING: You are using pip version 22.0.4; however, version 22.3 is available.\n",
      "You should consider upgrading via the '/Users/ksdyb/.pyenv/versions/3.9.12/bin/python3.9 -m pip install --upgrade pip' command.\u001b[0m\u001b[33m\n",
      "\u001b[0m"
     ]
    },
    {
     "data": {
      "image/png": "[encoded data removed]",
      "text/plain": [
       "<Figure size 1500x800 with 1 Axes>"
      ]
     },
     "metadata": {},
     "output_type": "display_data"
    },
    {
     "data": {
      "image/png": "[encoded data removed]",
      "text/plain": [
       "<Figure size 2000x1000 with 1 Axes>"
      ]
     },
     "metadata": {},
     "output_type": "display_data"
    }
   ],
   "source": [
    "print('Feature Importances:')\n",
    "print(best_model.feature_importances_)\n",
    "\n",
    "import xgboost as xgb\n",
    "\n",
    "feature_data = xgb.DMatrix(X_test)\n",
    "best_model.get_booster().feature_names = feature_data.feature_names\n",
    "best_model.get_booster().feature_types = feature_data.feature_types\n",
    "\n",
    "import matplotlib.pyplot as plt\n",
    "\n",
    "fig, ax = plt.subplots(figsize=(15, 8))\n",
    "xgb.plot_importance(best_model, ax=ax, importance_type='gain')\n",
    "\n",
    "!pip install graphviz\n",
    "\n",
    "xgb.plot_tree(best_model, num_trees=0, rankdir='LR')\n",
    "\n",
    "fig = plt.gcf()\n",
    "fig.set_size_inches(20, 10)\n",
    "plt.show()"
   ]
  }
 ],
 "metadata": {
  "kernelspec": {
   "display_name": "Python 3.9.12 64-bit ('3.9.12')",
   "language": "python",
   "name": "python3"
  },
  "language_info": {
   "codemirror_mode": {
    "name": "ipython",
    "version": 3
   },
   "file_extension": ".py",
   "mimetype": "text/x-python",
   "name": "python",
   "nbconvert_exporter": "python",
   "pygments_lexer": "ipython3",
   "version": "3.9.12"
  },
  "vscode": {
   "interpreter": {
    "hash": "9fc5210ba1c13e2bd68d6b2ea66ae1ecf543bf0adb611e97ab86231270d79d9d"
   }
  }
 },
 "nbformat": 4,
 "nbformat_minor": 5
}
