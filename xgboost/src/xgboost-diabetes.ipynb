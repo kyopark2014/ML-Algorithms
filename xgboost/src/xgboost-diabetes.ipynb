{
 "cells": [
  {
   "cell_type": "markdown",
   "id": "cda0911b",
   "metadata": {},
   "source": [
    "# XGBoost - diabetes (Regression)\n",
    "[ch5-advanced-xgboost-unveiled.ipynb](https://github.com/kyopark2014/ML-Algorithms/blob/main/xgboost/src/ch5-advanced-xgboost-unveiled.ipynb)"
   ]
  },
  {
   "cell_type": "code",
   "execution_count": 1,
   "id": "241ced65",
   "metadata": {},
   "outputs": [
    {
     "name": "stdout",
     "output_type": "stream",
     "text": [
      "Looking in indexes: https://pypi.org/simple, https://pip.repos.neuron.amazonaws.com\n",
      "Requirement already satisfied: xgboost in /home/ec2-user/anaconda3/envs/amazonei_tensorflow2_p36/lib/python3.6/site-packages (1.5.2)\n",
      "Requirement already satisfied: scipy in /home/ec2-user/anaconda3/envs/amazonei_tensorflow2_p36/lib/python3.6/site-packages (from xgboost) (1.5.3)\n",
      "Requirement already satisfied: numpy in /home/ec2-user/anaconda3/envs/amazonei_tensorflow2_p36/lib/python3.6/site-packages (from xgboost) (1.19.5)\n"
     ]
    }
   ],
   "source": [
    "!pip install xgboost"
   ]
  },
  {
   "cell_type": "code",
   "execution_count": 2,
   "id": "d1b13cba",
   "metadata": {},
   "outputs": [],
   "source": [
    "import warnings\n",
    "warnings.filterwarnings('ignore')"
   ]
  },
  {
   "cell_type": "code",
   "execution_count": 3,
   "id": "12baab29",
   "metadata": {},
   "outputs": [],
   "source": [
    "import numpy as np\n",
    "import pandas as pd\n",
    "import time"
   ]
  },
  {
   "cell_type": "code",
   "execution_count": 4,
   "id": "ceb1663f",
   "metadata": {},
   "outputs": [],
   "source": [
    "import xgboost as xgb\n",
    "xgb.set_config(verbosity=0)"
   ]
  },
  {
   "cell_type": "markdown",
   "id": "d414fbc4",
   "metadata": {},
   "source": [
    "## Define Feature and Target"
   ]
  },
  {
   "cell_type": "code",
   "execution_count": 5,
   "id": "fe186f77",
   "metadata": {},
   "outputs": [],
   "source": [
    "from sklearn import datasets\n",
    "X, y = datasets.load_diabetes(return_X_y=True, as_frame=True)"
   ]
  },
  {
   "cell_type": "code",
   "execution_count": 6,
   "id": "cf1afe14",
   "metadata": {},
   "outputs": [
    {
     "data": {
      "text/html": [
       "<div>\n",
       "<style scoped>\n",
       "    .dataframe tbody tr th:only-of-type {\n",
       "        vertical-align: middle;\n",
       "    }\n",
       "\n",
       "    .dataframe tbody tr th {\n",
       "        vertical-align: top;\n",
       "    }\n",
       "\n",
       "    .dataframe thead th {\n",
       "        text-align: right;\n",
       "    }\n",
       "</style>\n",
       "<table border=\"1\" class=\"dataframe\">\n",
       "  <thead>\n",
       "    <tr style=\"text-align: right;\">\n",
       "      <th></th>\n",
       "      <th>target</th>\n",
       "    </tr>\n",
       "  </thead>\n",
       "  <tbody>\n",
       "    <tr>\n",
       "      <th>count</th>\n",
       "      <td>442.000000</td>\n",
       "    </tr>\n",
       "    <tr>\n",
       "      <th>mean</th>\n",
       "      <td>152.133484</td>\n",
       "    </tr>\n",
       "    <tr>\n",
       "      <th>std</th>\n",
       "      <td>77.093005</td>\n",
       "    </tr>\n",
       "    <tr>\n",
       "      <th>min</th>\n",
       "      <td>25.000000</td>\n",
       "    </tr>\n",
       "    <tr>\n",
       "      <th>25%</th>\n",
       "      <td>87.000000</td>\n",
       "    </tr>\n",
       "    <tr>\n",
       "      <th>50%</th>\n",
       "      <td>140.500000</td>\n",
       "    </tr>\n",
       "    <tr>\n",
       "      <th>75%</th>\n",
       "      <td>211.500000</td>\n",
       "    </tr>\n",
       "    <tr>\n",
       "      <th>max</th>\n",
       "      <td>346.000000</td>\n",
       "    </tr>\n",
       "  </tbody>\n",
       "</table>\n",
       "</div>"
      ],
      "text/plain": [
       "           target\n",
       "count  442.000000\n",
       "mean   152.133484\n",
       "std     77.093005\n",
       "min     25.000000\n",
       "25%     87.000000\n",
       "50%    140.500000\n",
       "75%    211.500000\n",
       "max    346.000000"
      ]
     },
     "execution_count": 6,
     "metadata": {},
     "output_type": "execute_result"
    }
   ],
   "source": [
    "pd.DataFrame(y).describe()"
   ]
  },
  {
   "cell_type": "code",
   "execution_count": 7,
   "id": "1b8170b5",
   "metadata": {},
   "outputs": [
    {
     "data": {
      "text/plain": [
       "target\n",
       "200.0     6\n",
       "72.0      6\n",
       "178.0     5\n",
       "71.0      5\n",
       "90.0      5\n",
       "         ..\n",
       "199.0     1\n",
       "201.0     1\n",
       "208.0     1\n",
       "209.0     1\n",
       "25.0      1\n",
       "Length: 214, dtype: int64"
      ]
     },
     "execution_count": 7,
     "metadata": {},
     "output_type": "execute_result"
    }
   ],
   "source": [
    "pd.DataFrame(y).value_counts()"
   ]
  },
  {
   "cell_type": "code",
   "execution_count": 8,
   "id": "99bfd1f2",
   "metadata": {},
   "outputs": [
    {
     "data": {
      "text/html": [
       "<div>\n",
       "<style scoped>\n",
       "    .dataframe tbody tr th:only-of-type {\n",
       "        vertical-align: middle;\n",
       "    }\n",
       "\n",
       "    .dataframe tbody tr th {\n",
       "        vertical-align: top;\n",
       "    }\n",
       "\n",
       "    .dataframe thead th {\n",
       "        text-align: right;\n",
       "    }\n",
       "</style>\n",
       "<table border=\"1\" class=\"dataframe\">\n",
       "  <thead>\n",
       "    <tr style=\"text-align: right;\">\n",
       "      <th></th>\n",
       "      <th>target</th>\n",
       "    </tr>\n",
       "  </thead>\n",
       "  <tbody>\n",
       "    <tr>\n",
       "      <th>0</th>\n",
       "      <td>151.0</td>\n",
       "    </tr>\n",
       "    <tr>\n",
       "      <th>1</th>\n",
       "      <td>75.0</td>\n",
       "    </tr>\n",
       "    <tr>\n",
       "      <th>2</th>\n",
       "      <td>141.0</td>\n",
       "    </tr>\n",
       "    <tr>\n",
       "      <th>3</th>\n",
       "      <td>206.0</td>\n",
       "    </tr>\n",
       "    <tr>\n",
       "      <th>4</th>\n",
       "      <td>135.0</td>\n",
       "    </tr>\n",
       "  </tbody>\n",
       "</table>\n",
       "</div>"
      ],
      "text/plain": [
       "   target\n",
       "0   151.0\n",
       "1    75.0\n",
       "2   141.0\n",
       "3   206.0\n",
       "4   135.0"
      ]
     },
     "execution_count": 8,
     "metadata": {},
     "output_type": "execute_result"
    }
   ],
   "source": [
    "pd.DataFrame(y).head()"
   ]
  },
  {
   "cell_type": "code",
   "execution_count": 9,
   "id": "4b5bce72",
   "metadata": {},
   "outputs": [
    {
     "name": "stdout",
     "output_type": "stream",
     "text": [
      "<class 'pandas.core.frame.DataFrame'>\n",
      "RangeIndex: 442 entries, 0 to 441\n",
      "Data columns (total 10 columns):\n",
      " #   Column  Non-Null Count  Dtype  \n",
      "---  ------  --------------  -----  \n",
      " 0   age     442 non-null    float64\n",
      " 1   sex     442 non-null    float64\n",
      " 2   bmi     442 non-null    float64\n",
      " 3   bp      442 non-null    float64\n",
      " 4   s1      442 non-null    float64\n",
      " 5   s2      442 non-null    float64\n",
      " 6   s3      442 non-null    float64\n",
      " 7   s4      442 non-null    float64\n",
      " 8   s5      442 non-null    float64\n",
      " 9   s6      442 non-null    float64\n",
      "dtypes: float64(10)\n",
      "memory usage: 34.7 KB\n"
     ]
    }
   ],
   "source": [
    "pd.DataFrame(X).info()"
   ]
  },
  {
   "cell_type": "code",
   "execution_count": 10,
   "id": "60d46191",
   "metadata": {},
   "outputs": [
    {
     "name": "stdout",
     "output_type": "stream",
     "text": [
      "<class 'pandas.core.frame.DataFrame'>\n",
      "RangeIndex: 442 entries, 0 to 441\n",
      "Data columns (total 1 columns):\n",
      " #   Column  Non-Null Count  Dtype  \n",
      "---  ------  --------------  -----  \n",
      " 0   target  442 non-null    float64\n",
      "dtypes: float64(1)\n",
      "memory usage: 3.6 KB\n"
     ]
    }
   ],
   "source": [
    "pd.DataFrame(y).info()"
   ]
  },
  {
   "cell_type": "code",
   "execution_count": 11,
   "id": "d4b8a16c",
   "metadata": {},
   "outputs": [
    {
     "data": {
      "text/plain": [
       "0"
      ]
     },
     "execution_count": 11,
     "metadata": {},
     "output_type": "execute_result"
    }
   ],
   "source": [
    "pd.DataFrame(X).isna().sum().sum()"
   ]
  },
  {
   "cell_type": "markdown",
   "id": "5dc7210e",
   "metadata": {},
   "source": [
    "## Regression Model Selection"
   ]
  },
  {
   "cell_type": "code",
   "execution_count": 12,
   "id": "aab1551c",
   "metadata": {},
   "outputs": [],
   "source": [
    "from xgboost import XGBRegressor\n",
    "from sklearn.model_selection import StratifiedKFold, cross_val_score\n",
    "\n",
    "# kfold = KFold(n_splits=5, shuffle=True, random_state=2)\n",
    "kfold = StratifiedKFold(n_splits=5)\n",
    "\n",
    "def cross_validation(model):\n",
    "    start = time.time()\n",
    "    \n",
    "    scores = cross_val_score(model, X, y, scoring='neg_mean_squared_error', cv=kfold)\n",
    "    \n",
    "    rmse = np.sqrt(-scores)\n",
    "    \n",
    "    print('Cross Validation:')\n",
    "    print('Elased time: %0.2fs' % (time.time()-start))\n",
    "    print('RMSE:', np.round(rmse, 3))\n",
    "    print('Avg. RMSE: %0.3f' % (rmse.mean()))"
   ]
  },
  {
   "cell_type": "code",
   "execution_count": null,
   "id": "0ba16dbb",
   "metadata": {},
   "outputs": [],
   "source": [
    "cross_validation(XGBRegressor(booster='gbtree'))"
   ]
  },
  {
   "cell_type": "code",
   "execution_count": null,
   "id": "03c4f588",
   "metadata": {},
   "outputs": [],
   "source": [
    "cross_validation(XGBRegressor(booster='gblinear'))"
   ]
  },
  {
   "cell_type": "code",
   "execution_count": null,
   "id": "beaca035",
   "metadata": {},
   "outputs": [],
   "source": [
    "cross_validation(XGBRegressor(booster='dart', one_drop=1))"
   ]
  },
  {
   "cell_type": "code",
   "execution_count": null,
   "id": "abe418b7",
   "metadata": {},
   "outputs": [],
   "source": [
    "cross_validation(XGBRegressor(booster='dart', rate_drop=0.5))"
   ]
  },
  {
   "cell_type": "code",
   "execution_count": null,
   "id": "4a2b6e13",
   "metadata": {},
   "outputs": [],
   "source": [
    "cross_validation(XGBRegressor(booster='dart', rate_drop=0.5, sample_type='weighted'))"
   ]
  },
  {
   "cell_type": "code",
   "execution_count": null,
   "id": "5f083a51",
   "metadata": {},
   "outputs": [],
   "source": [
    "cross_validation(XGBRegressor(booster='dart', rate_drop=0.5, normalize_type='forest'))"
   ]
  },
  {
   "cell_type": "code",
   "execution_count": null,
   "id": "d99cd5dd",
   "metadata": {},
   "outputs": [],
   "source": [
    "#cross_validation(XGBRegressor(booster='gbtree', num_parallel_tree=25))"
   ]
  },
  {
   "cell_type": "code",
   "execution_count": null,
   "id": "d3ec5062",
   "metadata": {},
   "outputs": [],
   "source": [
    "from sklearn.linear_model import LinearRegression, LogisticRegression\n",
    "\n",
    "cross_validation(LinearRegression())"
   ]
  },
  {
   "cell_type": "code",
   "execution_count": null,
   "id": "3ee9301b",
   "metadata": {},
   "outputs": [],
   "source": [
    "from sklearn.linear_model import Lasso\n",
    "\n",
    "cross_validation(Lasso())"
   ]
  },
  {
   "cell_type": "code",
   "execution_count": null,
   "id": "92519cd6",
   "metadata": {},
   "outputs": [],
   "source": [
    "from sklearn.linear_model import Ridge\n",
    "\n",
    "cross_validation(Ridge())"
   ]
  },
  {
   "cell_type": "code",
   "execution_count": null,
   "id": "3cf7bf6d",
   "metadata": {},
   "outputs": [],
   "source": [
    "from sklearn.ensemble import RandomForestRegressor\n",
    "\n",
    "cross_validation(RandomForestRegressor())"
   ]
  },
  {
   "cell_type": "markdown",
   "id": "80442490",
   "metadata": {},
   "source": [
    "## HPO"
   ]
  },
  {
   "cell_type": "markdown",
   "id": "8cafb457",
   "metadata": {},
   "source": [
    "### Default"
   ]
  },
  {
   "cell_type": "code",
   "execution_count": null,
   "id": "06d3cff9",
   "metadata": {},
   "outputs": [],
   "source": [
    "from xgboost import XGBRegressor\n",
    "from sklearn.model_selection import train_test_split\n",
    "from sklearn.metrics import mean_squared_error\n",
    "\n",
    "# Split train/test dataset\n",
    "X_train, X_test, y_train, y_test = train_test_split(X, y, random_state=2)\n",
    "\n",
    "# define model\n",
    "#model = XGBRegressor(booster='gbtree', objective='binary:logistic', \n",
    "#                        random_state=2, verbosity=0, use_label_encoder=False, n_jobs=-1)\n",
    "model = XGBRegressor(booster='gbtree', random_state=2, verbosity=0, use_label_encoder=False, n_jobs=-1)\n",
    "\n",
    "# default model accuacry \n",
    "def getAccuracy(model):\n",
    "    start = time.time()\n",
    "\n",
    "    model.fit(X_train, y_train)\n",
    "\n",
    "    y_pred = model.predict(X_test)\n",
    "\n",
    "    reg_mse = mean_squared_error(y_test, y_pred)\n",
    "    reg_rmse = np.sqrt(reg_mse)\n",
    "\n",
    "    print('Elapsed time: %0.2fs' % (time.time()-start))    \n",
    "    \n",
    "    #print('RMSE:', np.round(rmse, 3))\n",
    "    print('RMSE: %0.3f' % (reg_rmse))\n",
    "\n",
    "getAccuracy(model)"
   ]
  },
  {
   "cell_type": "markdown",
   "id": "836ab6fc",
   "metadata": {},
   "source": [
    "## HPO: Randomized Search"
   ]
  },
  {
   "cell_type": "code",
   "execution_count": null,
   "id": "74254e97",
   "metadata": {},
   "outputs": [],
   "source": [
    "from sklearn.model_selection import RandomizedSearchCV\n",
    "\n",
    "def randomized_search(params, runs=20): \n",
    "    xgb = XGBRegressor(booster='gbtree', random_state=2, verbosity=1, use_label_encoder=False, n_jobs=-1)\n",
    "    \n",
    "    kfold = StratifiedKFold(n_splits=5, shuffle=True, random_state=2)\n",
    "    \n",
    "    rand_reg = RandomizedSearchCV(xgb, params, cv=kfold, n_iter=runs, n_jobs=-1, random_state=2, scoring='neg_mean_squared_error')\n",
    "    \n",
    "    rand_reg.fit(X_train, y_train)    \n",
    "    \n",
    "    best_model = rand_reg.best_estimator_    \n",
    "    \n",
    "    best_params = rand_reg.best_params_\n",
    "    print(\"best parameter:\", best_params)\n",
    "    \n",
    "    best_score = rand_reg.best_score_\n",
    "    print(\"best score: {:.3f}\".format(best_score))\n",
    "    \n",
    "    return best_model"
   ]
  },
  {
   "cell_type": "code",
   "execution_count": null,
   "id": "460b7d44",
   "metadata": {},
   "outputs": [],
   "source": [
    "#        'n_estimators':[50, 100, 200],\n",
    "#        'learning_rate':[0.01, 0.05, 0.1, 0.2, 0.3, 0.4, 0.5],\n",
    "#        'max_depth':[1, 2, 3, 5, 6, 8],\n",
    "#        'gamma':[0, 0.01, 0.1, 0.5, 1, 2],\n",
    "#        'min_child_weight':[1, 2, 3, 4, 5],\n",
    "#        'subsample':[0.5, 0.7, 0.8, 0.9, 1],\n",
    "#        'colsample_bytree':[0.5, 0.7, 0.8, 0.9, 1],  \n",
    "\n",
    "start = time.time()\n",
    "\n",
    "best_model = randomized_search(\n",
    "    params={\n",
    "        'n_estimators':[50, 100, 200],\n",
    "        'learning_rate':[0.01, 0.1, 0.3, 0.5],\n",
    "        'max_depth':[1, 2, 3, 5, 7, 9],\n",
    "        'subsample':[0.5, 0.7, 0.8, 0.9, 1],\n",
    "        }, \n",
    "    runs=20)\n",
    "\n",
    "print('\\nElapsed time: %0.2fs' % (time.time()-start))"
   ]
  },
  {
   "cell_type": "code",
   "execution_count": null,
   "id": "afd51fa4",
   "metadata": {},
   "outputs": [],
   "source": [
    "best_model.get_params()"
   ]
  },
  {
   "cell_type": "markdown",
   "id": "925e823c",
   "metadata": {},
   "source": [
    "## Evaluation"
   ]
  },
  {
   "cell_type": "code",
   "execution_count": null,
   "id": "15387ee8",
   "metadata": {},
   "outputs": [],
   "source": [
    "model = best_model\n",
    "\n",
    "def model_estimation(model):    \n",
    "    start = time.time()\n",
    "    \n",
    "    y_pred = model.predict(X_test)\n",
    "\n",
    "    reg_mse = mean_squared_error(y_test, y_pred)\n",
    "    reg_rmse = np.sqrt(reg_mse)\n",
    "\n",
    "    print('Elapsed time: %0.2fs' % (time.time()-start))    \n",
    "    \n",
    "    #print('RMSE:', np.round(rmse, 3))\n",
    "    print('RMSE: %0.3f' % (reg_rmse))\n",
    "    \n",
    "cross_validation(model)   \n",
    "model_estimation(model)    "
   ]
  },
  {
   "cell_type": "code",
   "execution_count": null,
   "id": "2d7d8fa8",
   "metadata": {},
   "outputs": [],
   "source": [
    "\n",
    "\n"
   ]
  },
  {
   "cell_type": "markdown",
   "id": "0e45b31f",
   "metadata": {},
   "source": [
    "### HPO - GridSearchCV"
   ]
  },
  {
   "cell_type": "code",
   "execution_count": null,
   "id": "abec2cbb",
   "metadata": {},
   "outputs": [],
   "source": [
    "import time\n",
    "from sklearn.model_selection import GridSearchCV\n",
    "\n",
    "def grid_search(params, reg=XGBRegressor(booster='gblinear')):\n",
    "    grid_reg = GridSearchCV(reg, params, scoring='neg_mean_squared_error', cv=kfold)\n",
    "    start = time.time()\n",
    "    \n",
    "    grid_reg.fit(X, y)\n",
    "\n",
    "    best_params = grid_reg.best_params_\n",
    "    print(\"best parameter:\", best_params)\n",
    "    \n",
    "    best_score = np.sqrt(-grid_reg.best_score_)\n",
    "    print(\"best accuracy:\", best_score)    \n",
    "    print('Elased time: %0.2fs' % (time.time()-start))"
   ]
  },
  {
   "cell_type": "code",
   "execution_count": null,
   "id": "8eb31bda",
   "metadata": {},
   "outputs": [],
   "source": [
    "grid_search(params={'reg_alpha':[0.001, 0.01, 0.1, 0.5, 1, 5]})"
   ]
  },
  {
   "cell_type": "code",
   "execution_count": null,
   "id": "01c1bbd2",
   "metadata": {},
   "outputs": [],
   "source": [
    "grid_search(params={'reg_lambda':[0.001, 0.01, 0.1, 0.5, 1, 5]})"
   ]
  },
  {
   "cell_type": "code",
   "execution_count": null,
   "id": "8c51f997",
   "metadata": {},
   "outputs": [],
   "source": [
    "grid_search(params={'feature_selector':['shuffle']})"
   ]
  },
  {
   "cell_type": "code",
   "execution_count": null,
   "id": "74a8e150",
   "metadata": {},
   "outputs": [],
   "source": [
    "grid_search(params={'feature_selector':['random', 'greedy', 'thrifty'], \n",
    "                    'updater':['coord_descent'] })"
   ]
  },
  {
   "cell_type": "code",
   "execution_count": null,
   "id": "773558fe",
   "metadata": {},
   "outputs": [],
   "source": [
    "grid_search(params={'feature_selector':['greedy', 'thrifty'], \n",
    "                    'updater':['coord_descent'], 'top_k':[3, 5, 7, 9]})"
   ]
  },
  {
   "cell_type": "code",
   "execution_count": null,
   "id": "4a93dbfd",
   "metadata": {},
   "outputs": [],
   "source": [
    "param_grid = [{'updater':['shotgun'],\n",
    "               'feature_selector':['cyclic', 'shuffle']},\n",
    "              {'updater':['coord_descent'],\n",
    "               'feature_selector':['random', 'greedy', 'thrifty']}]\n",
    "grid_search(params=param_grid)"
   ]
  },
  {
   "cell_type": "code",
   "execution_count": null,
   "id": "64807d8a",
   "metadata": {},
   "outputs": [],
   "source": [
    "X = np.arange(1,100)\n",
    "np.random.seed(2) \n",
    "y = []\n",
    "for i in X:\n",
    "    y.append(i*np.random.uniform(-0.2, 0.2))\n",
    "y = np.array(y)\n",
    "X = X.reshape(X.shape[0], 1)\n",
    "y = y.reshape(y.shape[0], 1)"
   ]
  },
  {
   "cell_type": "code",
   "execution_count": null,
   "id": "94e9838d",
   "metadata": {},
   "outputs": [],
   "source": [
    "import matplotlib.pyplot as plt\n",
    "\n",
    "xgbr = XGBRegressor(booster='gblinear')\n",
    "xgbr.fit(X, y)\n",
    "\n",
    "plt.scatter(X, y)\n",
    "plt.plot((0, 99), (xgbr.intercept_, xgbr.coef_*99+xgbr.intercept_))\n",
    "plt.show()"
   ]
  }
 ],
 "metadata": {
  "kernelspec": {
   "display_name": "conda_amazonei_tensorflow2_p36",
   "language": "python",
   "name": "conda_amazonei_tensorflow2_p36"
  },
  "language_info": {
   "codemirror_mode": {
    "name": "ipython",
    "version": 3
   },
   "file_extension": ".py",
   "mimetype": "text/x-python",
   "name": "python",
   "nbconvert_exporter": "python",
   "pygments_lexer": "ipython3",
   "version": "3.6.13"
  }
 },
 "nbformat": 4,
 "nbformat_minor": 5
}
