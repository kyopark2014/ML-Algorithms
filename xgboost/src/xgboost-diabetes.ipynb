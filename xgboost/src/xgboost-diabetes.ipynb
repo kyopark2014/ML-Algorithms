{
 "cells": [
  {
   "cell_type": "markdown",
   "id": "669324b3",
   "metadata": {},
   "source": [
    "# XGBoost - diabetes (Regression)\n",
    "[ch5-advanced-xgboost-unveiled.ipynb](https://github.com/kyopark2014/ML-Algorithms/blob/main/xgboost/src/ch5-advanced-xgboost-unveiled.ipynb)"
   ]
  },
  {
   "cell_type": "code",
   "execution_count": 1,
   "id": "45191d26",
   "metadata": {},
   "outputs": [],
   "source": [
    "import xgboost as xgb\n",
    "xgb.set_config(verbosity=0)"
   ]
  },
  {
   "cell_type": "code",
   "execution_count": 2,
   "id": "1d008de6",
   "metadata": {},
   "outputs": [],
   "source": [
    "import pandas as pd\n",
    "import numpy as np\n",
    "\n",
    "from sklearn import datasets\n",
    "X, y = datasets.load_diabetes(return_X_y=True)"
   ]
  },
  {
   "cell_type": "code",
   "execution_count": 3,
   "id": "85b8c581",
   "metadata": {},
   "outputs": [
    {
     "data": {
      "text/html": [
       "<div>\n",
       "<style scoped>\n",
       "    .dataframe tbody tr th:only-of-type {\n",
       "        vertical-align: middle;\n",
       "    }\n",
       "\n",
       "    .dataframe tbody tr th {\n",
       "        vertical-align: top;\n",
       "    }\n",
       "\n",
       "    .dataframe thead th {\n",
       "        text-align: right;\n",
       "    }\n",
       "</style>\n",
       "<table border=\"1\" class=\"dataframe\">\n",
       "  <thead>\n",
       "    <tr style=\"text-align: right;\">\n",
       "      <th></th>\n",
       "      <th>0</th>\n",
       "    </tr>\n",
       "  </thead>\n",
       "  <tbody>\n",
       "    <tr>\n",
       "      <th>count</th>\n",
       "      <td>442.000000</td>\n",
       "    </tr>\n",
       "    <tr>\n",
       "      <th>mean</th>\n",
       "      <td>152.133484</td>\n",
       "    </tr>\n",
       "    <tr>\n",
       "      <th>std</th>\n",
       "      <td>77.093005</td>\n",
       "    </tr>\n",
       "    <tr>\n",
       "      <th>min</th>\n",
       "      <td>25.000000</td>\n",
       "    </tr>\n",
       "    <tr>\n",
       "      <th>25%</th>\n",
       "      <td>87.000000</td>\n",
       "    </tr>\n",
       "    <tr>\n",
       "      <th>50%</th>\n",
       "      <td>140.500000</td>\n",
       "    </tr>\n",
       "    <tr>\n",
       "      <th>75%</th>\n",
       "      <td>211.500000</td>\n",
       "    </tr>\n",
       "    <tr>\n",
       "      <th>max</th>\n",
       "      <td>346.000000</td>\n",
       "    </tr>\n",
       "  </tbody>\n",
       "</table>\n",
       "</div>"
      ],
      "text/plain": [
       "                0\n",
       "count  442.000000\n",
       "mean   152.133484\n",
       "std     77.093005\n",
       "min     25.000000\n",
       "25%     87.000000\n",
       "50%    140.500000\n",
       "75%    211.500000\n",
       "max    346.000000"
      ]
     },
     "execution_count": 3,
     "metadata": {},
     "output_type": "execute_result"
    }
   ],
   "source": [
    "pd.DataFrame(y).describe()"
   ]
  },
  {
   "cell_type": "code",
   "execution_count": 4,
   "id": "9e0de5fb",
   "metadata": {},
   "outputs": [
    {
     "data": {
      "text/plain": [
       "200.0    6\n",
       "72.0     6\n",
       "178.0    5\n",
       "71.0     5\n",
       "90.0     5\n",
       "        ..\n",
       "199.0    1\n",
       "201.0    1\n",
       "208.0    1\n",
       "209.0    1\n",
       "25.0     1\n",
       "Length: 214, dtype: int64"
      ]
     },
     "execution_count": 4,
     "metadata": {},
     "output_type": "execute_result"
    }
   ],
   "source": [
    "pd.DataFrame(y).value_counts()"
   ]
  },
  {
   "cell_type": "code",
   "execution_count": 5,
   "id": "9804c935",
   "metadata": {},
   "outputs": [
    {
     "data": {
      "text/html": [
       "<div>\n",
       "<style scoped>\n",
       "    .dataframe tbody tr th:only-of-type {\n",
       "        vertical-align: middle;\n",
       "    }\n",
       "\n",
       "    .dataframe tbody tr th {\n",
       "        vertical-align: top;\n",
       "    }\n",
       "\n",
       "    .dataframe thead th {\n",
       "        text-align: right;\n",
       "    }\n",
       "</style>\n",
       "<table border=\"1\" class=\"dataframe\">\n",
       "  <thead>\n",
       "    <tr style=\"text-align: right;\">\n",
       "      <th></th>\n",
       "      <th>0</th>\n",
       "    </tr>\n",
       "  </thead>\n",
       "  <tbody>\n",
       "    <tr>\n",
       "      <th>0</th>\n",
       "      <td>151.0</td>\n",
       "    </tr>\n",
       "    <tr>\n",
       "      <th>1</th>\n",
       "      <td>75.0</td>\n",
       "    </tr>\n",
       "    <tr>\n",
       "      <th>2</th>\n",
       "      <td>141.0</td>\n",
       "    </tr>\n",
       "    <tr>\n",
       "      <th>3</th>\n",
       "      <td>206.0</td>\n",
       "    </tr>\n",
       "    <tr>\n",
       "      <th>4</th>\n",
       "      <td>135.0</td>\n",
       "    </tr>\n",
       "  </tbody>\n",
       "</table>\n",
       "</div>"
      ],
      "text/plain": [
       "       0\n",
       "0  151.0\n",
       "1   75.0\n",
       "2  141.0\n",
       "3  206.0\n",
       "4  135.0"
      ]
     },
     "execution_count": 5,
     "metadata": {},
     "output_type": "execute_result"
    }
   ],
   "source": [
    "pd.DataFrame(y).head()"
   ]
  },
  {
   "cell_type": "code",
   "execution_count": 6,
   "id": "439220f2",
   "metadata": {},
   "outputs": [
    {
     "name": "stdout",
     "output_type": "stream",
     "text": [
      "<class 'pandas.core.frame.DataFrame'>\n",
      "RangeIndex: 442 entries, 0 to 441\n",
      "Data columns (total 10 columns):\n",
      " #   Column  Non-Null Count  Dtype  \n",
      "---  ------  --------------  -----  \n",
      " 0   0       442 non-null    float64\n",
      " 1   1       442 non-null    float64\n",
      " 2   2       442 non-null    float64\n",
      " 3   3       442 non-null    float64\n",
      " 4   4       442 non-null    float64\n",
      " 5   5       442 non-null    float64\n",
      " 6   6       442 non-null    float64\n",
      " 7   7       442 non-null    float64\n",
      " 8   8       442 non-null    float64\n",
      " 9   9       442 non-null    float64\n",
      "dtypes: float64(10)\n",
      "memory usage: 34.7 KB\n"
     ]
    }
   ],
   "source": [
    "pd.DataFrame(X).info()"
   ]
  },
  {
   "cell_type": "code",
   "execution_count": 7,
   "id": "9aec23f9",
   "metadata": {},
   "outputs": [
    {
     "name": "stdout",
     "output_type": "stream",
     "text": [
      "<class 'pandas.core.frame.DataFrame'>\n",
      "RangeIndex: 442 entries, 0 to 441\n",
      "Data columns (total 1 columns):\n",
      " #   Column  Non-Null Count  Dtype  \n",
      "---  ------  --------------  -----  \n",
      " 0   0       442 non-null    float64\n",
      "dtypes: float64(1)\n",
      "memory usage: 3.6 KB\n"
     ]
    }
   ],
   "source": [
    "pd.DataFrame(y).info()"
   ]
  },
  {
   "cell_type": "markdown",
   "id": "c9a39c10",
   "metadata": {},
   "source": [
    "### cross_val_score"
   ]
  },
  {
   "cell_type": "code",
   "execution_count": 8,
   "id": "0a60494f",
   "metadata": {},
   "outputs": [],
   "source": [
    "from xgboost import XGBRegressor\n",
    "\n",
    "xgb = XGBRegressor(max_depth=6, learning_rate=0.1, n_estimators=100, n_jobs=-1)"
   ]
  },
  {
   "cell_type": "code",
   "execution_count": 9,
   "id": "1190732d",
   "metadata": {},
   "outputs": [
    {
     "name": "stdout",
     "output_type": "stream",
     "text": [
      "RMSE: [63.033 59.689 64.538 63.699 64.661]\n",
      "Avg. RMSE: 63.124\n"
     ]
    }
   ],
   "source": [
    "from sklearn.model_selection import cross_val_score\n",
    "\n",
    "scores = cross_val_score(xgb, X, y, scoring='neg_mean_squared_error', cv=5)\n",
    "\n",
    "rmse = np.sqrt(-scores)\n",
    "print('RMSE:', np.round(rmse, 3))\n",
    "print('Avg. RMSE: %0.3f' % (rmse.mean()))"
   ]
  },
  {
   "cell_type": "code",
   "execution_count": 10,
   "id": "31005540",
   "metadata": {},
   "outputs": [
    {
     "data": {
      "text/plain": [
       "{'objective': 'reg:squarederror',\n",
       " 'base_score': None,\n",
       " 'booster': None,\n",
       " 'colsample_bylevel': None,\n",
       " 'colsample_bynode': None,\n",
       " 'colsample_bytree': None,\n",
       " 'enable_categorical': False,\n",
       " 'gamma': None,\n",
       " 'gpu_id': None,\n",
       " 'importance_type': None,\n",
       " 'interaction_constraints': None,\n",
       " 'learning_rate': 0.1,\n",
       " 'max_delta_step': None,\n",
       " 'max_depth': 6,\n",
       " 'min_child_weight': None,\n",
       " 'missing': nan,\n",
       " 'monotone_constraints': None,\n",
       " 'n_estimators': 100,\n",
       " 'n_jobs': -1,\n",
       " 'num_parallel_tree': None,\n",
       " 'predictor': None,\n",
       " 'random_state': None,\n",
       " 'reg_alpha': None,\n",
       " 'reg_lambda': None,\n",
       " 'scale_pos_weight': None,\n",
       " 'subsample': None,\n",
       " 'tree_method': None,\n",
       " 'validate_parameters': None,\n",
       " 'verbosity': None}"
      ]
     },
     "execution_count": 10,
     "metadata": {},
     "output_type": "execute_result"
    }
   ],
   "source": [
    "xgb.get_params()"
   ]
  },
  {
   "cell_type": "markdown",
   "id": "2b017af1",
   "metadata": {},
   "source": [
    "### regression_model"
   ]
  },
  {
   "cell_type": "code",
   "execution_count": 11,
   "id": "39e4a07c",
   "metadata": {},
   "outputs": [],
   "source": [
    "from sklearn.model_selection import KFold, StratifiedKFold\n",
    "\n",
    "kfold = KFold(n_splits=5, shuffle=True, random_state=2)"
   ]
  },
  {
   "cell_type": "code",
   "execution_count": 12,
   "id": "7eb30b1b",
   "metadata": {},
   "outputs": [],
   "source": [
    "def regression_model(model):\n",
    "    scores = cross_val_score(model, X, y, scoring='neg_mean_squared_error', cv=kfold)\n",
    "\n",
    "    rmse = np.sqrt(-scores)\n",
    "    print('RMSE:', np.round(rmse, 3))\n",
    "    print('Avg. RMSE: %0.3f' % (rmse.mean()))\n",
    "\n",
    "    return rmse.mean()"
   ]
  },
  {
   "cell_type": "code",
   "execution_count": 13,
   "id": "0dd8419a",
   "metadata": {},
   "outputs": [
    {
     "name": "stdout",
     "output_type": "stream",
     "text": [
      "RMSE: [ 668.43   768.598   58.195 2869.2     57.941]\n",
      "Avg. RMSE: 884.473\n"
     ]
    },
    {
     "data": {
      "text/plain": [
       "884.47273399561"
      ]
     },
     "execution_count": 13,
     "metadata": {},
     "output_type": "execute_result"
    }
   ],
   "source": [
    "regression_model(XGBRegressor(booster='gblinear'))"
   ]
  },
  {
   "cell_type": "code",
   "execution_count": 14,
   "id": "3f80e95b",
   "metadata": {},
   "outputs": [
    {
     "name": "stdout",
     "output_type": "stream",
     "text": [
      "RMSE: [66.171 62.501 63.091 68.682 69.386]\n",
      "Avg. RMSE: 65.966\n"
     ]
    },
    {
     "data": {
      "text/plain": [
       "65.96608449382913"
      ]
     },
     "execution_count": 14,
     "metadata": {},
     "output_type": "execute_result"
    }
   ],
   "source": [
    "regression_model(XGBRegressor(booster='gbtree'))"
   ]
  },
  {
   "cell_type": "code",
   "execution_count": 15,
   "id": "f816a2a5",
   "metadata": {},
   "outputs": [
    {
     "name": "stdout",
     "output_type": "stream",
     "text": [
      "RMSE: [55.628 54.311 56.36  54.187 57.06 ]\n",
      "Avg. RMSE: 55.509\n"
     ]
    },
    {
     "data": {
      "text/plain": [
       "55.50927267834349"
      ]
     },
     "execution_count": 15,
     "metadata": {},
     "output_type": "execute_result"
    }
   ],
   "source": [
    "from sklearn.linear_model import LinearRegression, LogisticRegression\n",
    "\n",
    "regression_model(LinearRegression())"
   ]
  },
  {
   "cell_type": "code",
   "execution_count": 16,
   "id": "d5b1865d",
   "metadata": {},
   "outputs": [
    {
     "name": "stdout",
     "output_type": "stream",
     "text": [
      "RMSE: [61.039 61.018 65.819 60.304 65.065]\n",
      "Avg. RMSE: 62.649\n"
     ]
    },
    {
     "data": {
      "text/plain": [
       "62.64900771743497"
      ]
     },
     "execution_count": 16,
     "metadata": {},
     "output_type": "execute_result"
    }
   ],
   "source": [
    "from sklearn.linear_model import Lasso\n",
    "\n",
    "regression_model(Lasso())"
   ]
  },
  {
   "cell_type": "code",
   "execution_count": 17,
   "id": "25a894ed",
   "metadata": {},
   "outputs": [
    {
     "name": "stdout",
     "output_type": "stream",
     "text": [
      "RMSE: [57.2   57.833 60.347 58.486 60.31 ]\n",
      "Avg. RMSE: 58.835\n"
     ]
    },
    {
     "data": {
      "text/plain": [
       "58.83525077919003"
      ]
     },
     "execution_count": 17,
     "metadata": {},
     "output_type": "execute_result"
    }
   ],
   "source": [
    "from sklearn.linear_model import Ridge\n",
    "\n",
    "regression_model(Ridge())"
   ]
  },
  {
   "cell_type": "markdown",
   "id": "069b2792",
   "metadata": {},
   "source": [
    "### HPO"
   ]
  },
  {
   "cell_type": "code",
   "execution_count": 18,
   "id": "3785cd4d",
   "metadata": {},
   "outputs": [],
   "source": [
    "import time\n",
    "from sklearn.model_selection import GridSearchCV\n",
    "\n",
    "def grid_search(params, reg=XGBRegressor(booster='gblinear')):\n",
    "    grid_reg = GridSearchCV(reg, params, scoring='neg_mean_squared_error', cv=kfold)\n",
    "    start = time.time()\n",
    "    \n",
    "    grid_reg.fit(X, y)\n",
    "\n",
    "    best_params = grid_reg.best_params_\n",
    "    print(\"best parameter:\", best_params)\n",
    "    \n",
    "    best_score = np.sqrt(-grid_reg.best_score_)\n",
    "    print(\"best accuracy:\", best_score)    \n",
    "    print('Elased time: %0.2fs' % (time.time()-start))"
   ]
  },
  {
   "cell_type": "code",
   "execution_count": 19,
   "id": "376cd8cd",
   "metadata": {},
   "outputs": [
    {
     "name": "stdout",
     "output_type": "stream",
     "text": [
      "best parameter: {'reg_alpha': 0.1}\n",
      "best accuracy: 55.723182955758546\n",
      "Elased time: 11.14s\n"
     ]
    }
   ],
   "source": [
    "grid_search(params={'reg_alpha':[0.001, 0.01, 0.1, 0.5, 1, 5]})"
   ]
  },
  {
   "cell_type": "code",
   "execution_count": 20,
   "id": "c47b8aad",
   "metadata": {},
   "outputs": [
    {
     "name": "stdout",
     "output_type": "stream",
     "text": [
      "best parameter: {'reg_lambda': 0.001}\n",
      "best accuracy: 56.17163583311746\n",
      "Elased time: 11.03s\n"
     ]
    }
   ],
   "source": [
    "grid_search(params={'reg_lambda':[0.001, 0.01, 0.1, 0.5, 1, 5]})"
   ]
  },
  {
   "cell_type": "code",
   "execution_count": 21,
   "id": "6afc1763",
   "metadata": {},
   "outputs": [
    {
     "name": "stdout",
     "output_type": "stream",
     "text": [
      "best parameter: {'feature_selector': 'shuffle'}\n",
      "best accuracy: 1327.7817152043433\n",
      "Elased time: 2.27s\n"
     ]
    }
   ],
   "source": [
    "grid_search(params={'feature_selector':['shuffle']})"
   ]
  },
  {
   "cell_type": "code",
   "execution_count": 22,
   "id": "62202d9c",
   "metadata": {},
   "outputs": [
    {
     "name": "stdout",
     "output_type": "stream",
     "text": [
      "best parameter: {'feature_selector': 'thrifty', 'updater': 'coord_descent'}\n",
      "best accuracy: 55.48798105805444\n",
      "Elased time: 6.10s\n"
     ]
    }
   ],
   "source": [
    "grid_search(params={'feature_selector':['random', 'greedy', 'thrifty'], \n",
    "                    'updater':['coord_descent'] })"
   ]
  },
  {
   "cell_type": "code",
   "execution_count": 23,
   "id": "56534759",
   "metadata": {},
   "outputs": [
    {
     "name": "stdout",
     "output_type": "stream",
     "text": [
      "best parameter: {'feature_selector': 'thrifty', 'top_k': 3, 'updater': 'coord_descent'}\n",
      "best accuracy: 55.478623763746256\n",
      "Elased time: 15.08s\n"
     ]
    }
   ],
   "source": [
    "grid_search(params={'feature_selector':['greedy', 'thrifty'], \n",
    "                    'updater':['coord_descent'], 'top_k':[3, 5, 7, 9]})"
   ]
  },
  {
   "cell_type": "code",
   "execution_count": 24,
   "id": "5dc64020",
   "metadata": {},
   "outputs": [
    {
     "name": "stdout",
     "output_type": "stream",
     "text": [
      "best parameter: {'feature_selector': 'thrifty', 'updater': 'coord_descent'}\n",
      "best accuracy: 55.48798105805444\n",
      "Elased time: 9.69s\n"
     ]
    }
   ],
   "source": [
    "param_grid = [{'updater':['shotgun'],\n",
    "               'feature_selector':['cyclic', 'shuffle']},\n",
    "              {'updater':['coord_descent'],\n",
    "               'feature_selector':['random', 'greedy', 'thrifty']}]\n",
    "grid_search(params=param_grid)"
   ]
  },
  {
   "cell_type": "code",
   "execution_count": 25,
   "id": "8a9fad2b",
   "metadata": {},
   "outputs": [],
   "source": [
    "X = np.arange(1,100)\n",
    "np.random.seed(2) \n",
    "y = []\n",
    "for i in X:\n",
    "    y.append(i*np.random.uniform(-0.2, 0.2))\n",
    "y = np.array(y)\n",
    "X = X.reshape(X.shape[0], 1)\n",
    "y = y.reshape(y.shape[0], 1)"
   ]
  },
  {
   "cell_type": "code",
   "execution_count": 26,
   "id": "bddd12ac",
   "metadata": {},
   "outputs": [
    {
     "data": {
      "image/png": "[encoded data removed]",
      "text/plain": [
       "<Figure size 432x288 with 1 Axes>"
      ]
     },
     "metadata": {
      "needs_background": "light"
     },
     "output_type": "display_data"
    }
   ],
   "source": [
    "import matplotlib.pyplot as plt\n",
    "\n",
    "xgbr = XGBRegressor(booster='gblinear')\n",
    "xgbr.fit(X, y)\n",
    "\n",
    "plt.scatter(X, y)\n",
    "plt.plot((0, 99), (xgbr.intercept_, xgbr.coef_*99+xgbr.intercept_))\n",
    "plt.show()"
   ]
  },
  {
   "cell_type": "code",
   "execution_count": 27,
   "id": "cb085d6e",
   "metadata": {},
   "outputs": [
    {
     "name": "stdout",
     "output_type": "stream",
     "text": [
      "RMSE: [7.077 5.106 5.742 7.101 6.048]\n",
      "Avg. RMSE: 6.215\n"
     ]
    },
    {
     "data": {
      "text/plain": [
       "6.214946302686011"
      ]
     },
     "execution_count": 27,
     "metadata": {},
     "output_type": "execute_result"
    }
   ],
   "source": [
    "regression_model(XGBRegressor(booster='gblinear'))"
   ]
  },
  {
   "cell_type": "code",
   "execution_count": 28,
   "id": "cf67e1e5",
   "metadata": {},
   "outputs": [
    {
     "name": "stdout",
     "output_type": "stream",
     "text": [
      "RMSE: [11.508  7.9    7.607 11.798  8.049]\n",
      "Avg. RMSE: 9.372\n"
     ]
    },
    {
     "data": {
      "text/plain": [
       "9.372359516507444"
      ]
     },
     "execution_count": 28,
     "metadata": {},
     "output_type": "execute_result"
    }
   ],
   "source": [
    "regression_model(XGBRegressor(booster='gbtree'))"
   ]
  },
  {
   "cell_type": "code",
   "execution_count": 29,
   "id": "5adf5724",
   "metadata": {},
   "outputs": [
    {
     "name": "stdout",
     "output_type": "stream",
     "text": [
      "RMSE: [7.077 5.106 5.742 7.101 6.048]\n",
      "Avg. RMSE: 6.215\n"
     ]
    },
    {
     "data": {
      "text/plain": [
       "6.214962315808842"
      ]
     },
     "execution_count": 29,
     "metadata": {},
     "output_type": "execute_result"
    }
   ],
   "source": [
    "regression_model(LinearRegression())"
   ]
  },
  {
   "cell_type": "markdown",
   "id": "efee4c74",
   "metadata": {},
   "source": [
    "### booster: dart"
   ]
  },
  {
   "cell_type": "code",
   "execution_count": 30,
   "id": "1481d64d",
   "metadata": {},
   "outputs": [],
   "source": [
    "X, y = datasets.load_diabetes(return_X_y=True)"
   ]
  },
  {
   "cell_type": "code",
   "execution_count": 31,
   "id": "33883cab",
   "metadata": {},
   "outputs": [
    {
     "name": "stdout",
     "output_type": "stream",
     "text": [
      "RMSE: [67.063 60.985 60.325 64.949 68.029]\n",
      "Avg. RMSE: 64.270\n"
     ]
    },
    {
     "data": {
      "text/plain": [
       "64.27033739377164"
      ]
     },
     "execution_count": 31,
     "metadata": {},
     "output_type": "execute_result"
    }
   ],
   "source": [
    "regression_model(XGBRegressor(booster='dart', rate_drop=0.5))"
   ]
  },
  {
   "cell_type": "code",
   "execution_count": 32,
   "id": "d7e2ca77",
   "metadata": {},
   "outputs": [
    {
     "name": "stdout",
     "output_type": "stream",
     "text": [
      "RMSE: [68.332 62.433 59.555 65.938 67.63 ]\n",
      "Avg. RMSE: 64.778\n"
     ]
    },
    {
     "data": {
      "text/plain": [
       "64.77758988457283"
      ]
     },
     "execution_count": 32,
     "metadata": {},
     "output_type": "execute_result"
    }
   ],
   "source": [
    "regression_model(XGBRegressor(booster='dart', rate_drop=0.5, sample_type='weighted'))"
   ]
  },
  {
   "cell_type": "code",
   "execution_count": 33,
   "id": "9679d467",
   "metadata": {},
   "outputs": [
    {
     "name": "stdout",
     "output_type": "stream",
     "text": [
      "RMSE: [66.897 59.292 59.673 63.569 67.365]\n",
      "Avg. RMSE: 63.359\n"
     ]
    },
    {
     "data": {
      "text/plain": [
       "63.35922809798802"
      ]
     },
     "execution_count": 33,
     "metadata": {},
     "output_type": "execute_result"
    }
   ],
   "source": [
    "regression_model(XGBRegressor(booster='dart', rate_drop=0.5, normalize_type='forest'))"
   ]
  },
  {
   "cell_type": "code",
   "execution_count": 34,
   "id": "0a412d8d",
   "metadata": {},
   "outputs": [
    {
     "name": "stdout",
     "output_type": "stream",
     "text": [
      "RMSE: [65.728 61.925 60.191 62.742 63.278]\n",
      "Avg. RMSE: 62.773\n"
     ]
    },
    {
     "data": {
      "text/plain": [
       "62.772860826030296"
      ]
     },
     "execution_count": 34,
     "metadata": {},
     "output_type": "execute_result"
    }
   ],
   "source": [
    "regression_model(XGBRegressor(booster='dart', one_drop=1))"
   ]
  },
  {
   "cell_type": "code",
   "execution_count": 35,
   "id": "dccea2cd",
   "metadata": {},
   "outputs": [
    {
     "name": "stdout",
     "output_type": "stream",
     "text": [
      "best parameter: {'rate_drop': 0.2}\n",
      "best accuracy: 61.71159070206184\n",
      "Elased time: 13.13s\n"
     ]
    }
   ],
   "source": [
    "grid_search(params={'rate_drop':[0.01, 0.1, 0.2, 0.4]}, \n",
    "            reg=XGBRegressor(booster='dart', one_drop=1))"
   ]
  },
  {
   "cell_type": "code",
   "execution_count": 36,
   "id": "e22b20bf",
   "metadata": {},
   "outputs": [
    {
     "name": "stdout",
     "output_type": "stream",
     "text": [
      "best parameter: {'skip_drop': 0.01}\n",
      "best accuracy: 62.21768657853914\n",
      "Elased time: 14.59s\n"
     ]
    }
   ],
   "source": [
    "grid_search(params={'skip_drop': [0.01, 0.1, 0.2, 0.4]}, \n",
    "            reg=XGBRegressor(booster='dart', rate_drop=0.2, one_drop=1))"
   ]
  },
  {
   "cell_type": "code",
   "execution_count": 37,
   "id": "042ee1a0",
   "metadata": {},
   "outputs": [
    {
     "name": "stdout",
     "output_type": "stream",
     "text": [
      "RMSE: [66.169 62.708 63.009 68.783 69.355]\n",
      "Avg. RMSE: 66.005\n"
     ]
    },
    {
     "data": {
      "text/plain": [
       "66.00488961672875"
      ]
     },
     "execution_count": 37,
     "metadata": {},
     "output_type": "execute_result"
    }
   ],
   "source": [
    "regression_model(XGBRegressor(booster='gbtree', num_parallel_tree=25))"
   ]
  },
  {
   "cell_type": "code",
   "execution_count": 38,
   "id": "7939ddfd",
   "metadata": {},
   "outputs": [
    {
     "name": "stdout",
     "output_type": "stream",
     "text": [
      "RMSE: [60.713 56.408 56.539 60.175 63.699]\n",
      "Avg. RMSE: 59.507\n"
     ]
    },
    {
     "data": {
      "text/plain": [
       "59.506917961367165"
      ]
     },
     "execution_count": 38,
     "metadata": {},
     "output_type": "execute_result"
    }
   ],
   "source": [
    "from xgboost import XGBRFRegressor\n",
    "\n",
    "regression_model(XGBRFRegressor())"
   ]
  },
  {
   "cell_type": "code",
   "execution_count": 39,
   "id": "0aec703a",
   "metadata": {},
   "outputs": [
    {
     "name": "stdout",
     "output_type": "stream",
     "text": [
      "RMSE: [60.318 56.823 56.646 61.059 62.482]\n",
      "Avg. RMSE: 59.466\n"
     ]
    },
    {
     "data": {
      "text/plain": [
       "59.46563031802505"
      ]
     },
     "execution_count": 39,
     "metadata": {},
     "output_type": "execute_result"
    }
   ],
   "source": [
    "from sklearn.ensemble import RandomForestRegressor\n",
    "\n",
    "regression_model(RandomForestRegressor())"
   ]
  }
 ],
 "metadata": {
  "kernelspec": {
   "display_name": "conda_amazonei_tensorflow2_p36",
   "language": "python",
   "name": "conda_amazonei_tensorflow2_p36"
  },
  "language_info": {
   "codemirror_mode": {
    "name": "ipython",
    "version": 3
   },
   "file_extension": ".py",
   "mimetype": "text/x-python",
   "name": "python",
   "nbconvert_exporter": "python",
   "pygments_lexer": "ipython3",
   "version": "3.6.13"
  }
 },
 "nbformat": 4,
 "nbformat_minor": 5
}
