{
 "cells": [
  {
   "cell_type": "markdown",
   "id": "728a2b9e",
   "metadata": {},
   "source": [
    "# XGBoost - Regression (Bike Sharing)\n",
    "[ch1-gradient-boosting.ipynb](https://github.com/kyopark2014/ML-Algorithms/blob/main/xgboost/src/ch1-gradient-boosting.ipynb)"
   ]
  },
  {
   "cell_type": "code",
   "execution_count": 1,
   "id": "40ba539c",
   "metadata": {},
   "outputs": [
    {
     "name": "stdout",
     "output_type": "stream",
     "text": [
      "Looking in indexes: https://pypi.org/simple, https://pip.repos.neuron.amazonaws.com\n",
      "Requirement already satisfied: xgboost in /home/ec2-user/anaconda3/envs/amazonei_tensorflow2_p36/lib/python3.6/site-packages (1.5.2)\n",
      "Requirement already satisfied: numpy in /home/ec2-user/anaconda3/envs/amazonei_tensorflow2_p36/lib/python3.6/site-packages (from xgboost) (1.19.5)\n",
      "Requirement already satisfied: scipy in /home/ec2-user/anaconda3/envs/amazonei_tensorflow2_p36/lib/python3.6/site-packages (from xgboost) (1.5.3)\n"
     ]
    }
   ],
   "source": [
    "!pip install xgboost"
   ]
  },
  {
   "cell_type": "code",
   "execution_count": 2,
   "id": "f12f4f39",
   "metadata": {},
   "outputs": [],
   "source": [
    "import warnings\n",
    "warnings.filterwarnings('ignore')"
   ]
  },
  {
   "cell_type": "code",
   "execution_count": 3,
   "id": "0fbaa0b0",
   "metadata": {},
   "outputs": [],
   "source": [
    "import numpy as np\n",
    "import pandas as pd\n",
    "import time"
   ]
  },
  {
   "cell_type": "code",
   "execution_count": 4,
   "id": "247cc3a8",
   "metadata": {},
   "outputs": [],
   "source": [
    "import xgboost as xgb\n",
    "xgb.set_config(verbosity=0)"
   ]
  },
  {
   "cell_type": "code",
   "execution_count": 5,
   "id": "dc26277b",
   "metadata": {},
   "outputs": [],
   "source": [
    "df_bikes = pd.read_csv('bike_rentals_cleaned.csv')"
   ]
  },
  {
   "cell_type": "code",
   "execution_count": 6,
   "id": "3ab79345",
   "metadata": {},
   "outputs": [
    {
     "data": {
      "text/html": [
       "<div>\n",
       "<style scoped>\n",
       "    .dataframe tbody tr th:only-of-type {\n",
       "        vertical-align: middle;\n",
       "    }\n",
       "\n",
       "    .dataframe tbody tr th {\n",
       "        vertical-align: top;\n",
       "    }\n",
       "\n",
       "    .dataframe thead th {\n",
       "        text-align: right;\n",
       "    }\n",
       "</style>\n",
       "<table border=\"1\" class=\"dataframe\">\n",
       "  <thead>\n",
       "    <tr style=\"text-align: right;\">\n",
       "      <th></th>\n",
       "      <th>instant</th>\n",
       "      <th>season</th>\n",
       "      <th>yr</th>\n",
       "      <th>mnth</th>\n",
       "      <th>holiday</th>\n",
       "      <th>weekday</th>\n",
       "      <th>workingday</th>\n",
       "      <th>weathersit</th>\n",
       "      <th>temp</th>\n",
       "      <th>atemp</th>\n",
       "      <th>hum</th>\n",
       "      <th>windspeed</th>\n",
       "      <th>cnt</th>\n",
       "    </tr>\n",
       "  </thead>\n",
       "  <tbody>\n",
       "    <tr>\n",
       "      <th>0</th>\n",
       "      <td>1</td>\n",
       "      <td>1.0</td>\n",
       "      <td>0.0</td>\n",
       "      <td>1</td>\n",
       "      <td>0.0</td>\n",
       "      <td>6.0</td>\n",
       "      <td>0.0</td>\n",
       "      <td>2</td>\n",
       "      <td>0.344167</td>\n",
       "      <td>0.363625</td>\n",
       "      <td>0.805833</td>\n",
       "      <td>0.160446</td>\n",
       "      <td>985</td>\n",
       "    </tr>\n",
       "    <tr>\n",
       "      <th>1</th>\n",
       "      <td>2</td>\n",
       "      <td>1.0</td>\n",
       "      <td>0.0</td>\n",
       "      <td>1</td>\n",
       "      <td>0.0</td>\n",
       "      <td>0.0</td>\n",
       "      <td>0.0</td>\n",
       "      <td>2</td>\n",
       "      <td>0.363478</td>\n",
       "      <td>0.353739</td>\n",
       "      <td>0.696087</td>\n",
       "      <td>0.248539</td>\n",
       "      <td>801</td>\n",
       "    </tr>\n",
       "    <tr>\n",
       "      <th>2</th>\n",
       "      <td>3</td>\n",
       "      <td>1.0</td>\n",
       "      <td>0.0</td>\n",
       "      <td>1</td>\n",
       "      <td>0.0</td>\n",
       "      <td>1.0</td>\n",
       "      <td>1.0</td>\n",
       "      <td>1</td>\n",
       "      <td>0.196364</td>\n",
       "      <td>0.189405</td>\n",
       "      <td>0.437273</td>\n",
       "      <td>0.248309</td>\n",
       "      <td>1349</td>\n",
       "    </tr>\n",
       "    <tr>\n",
       "      <th>3</th>\n",
       "      <td>4</td>\n",
       "      <td>1.0</td>\n",
       "      <td>0.0</td>\n",
       "      <td>1</td>\n",
       "      <td>0.0</td>\n",
       "      <td>2.0</td>\n",
       "      <td>1.0</td>\n",
       "      <td>1</td>\n",
       "      <td>0.200000</td>\n",
       "      <td>0.212122</td>\n",
       "      <td>0.590435</td>\n",
       "      <td>0.160296</td>\n",
       "      <td>1562</td>\n",
       "    </tr>\n",
       "    <tr>\n",
       "      <th>4</th>\n",
       "      <td>5</td>\n",
       "      <td>1.0</td>\n",
       "      <td>0.0</td>\n",
       "      <td>1</td>\n",
       "      <td>0.0</td>\n",
       "      <td>3.0</td>\n",
       "      <td>1.0</td>\n",
       "      <td>1</td>\n",
       "      <td>0.226957</td>\n",
       "      <td>0.229270</td>\n",
       "      <td>0.436957</td>\n",
       "      <td>0.186900</td>\n",
       "      <td>1600</td>\n",
       "    </tr>\n",
       "  </tbody>\n",
       "</table>\n",
       "</div>"
      ],
      "text/plain": [
       "   instant  season   yr  mnth  holiday  weekday  workingday  weathersit  \\\n",
       "0        1     1.0  0.0     1      0.0      6.0         0.0           2   \n",
       "1        2     1.0  0.0     1      0.0      0.0         0.0           2   \n",
       "2        3     1.0  0.0     1      0.0      1.0         1.0           1   \n",
       "3        4     1.0  0.0     1      0.0      2.0         1.0           1   \n",
       "4        5     1.0  0.0     1      0.0      3.0         1.0           1   \n",
       "\n",
       "       temp     atemp       hum  windspeed   cnt  \n",
       "0  0.344167  0.363625  0.805833   0.160446   985  \n",
       "1  0.363478  0.353739  0.696087   0.248539   801  \n",
       "2  0.196364  0.189405  0.437273   0.248309  1349  \n",
       "3  0.200000  0.212122  0.590435   0.160296  1562  \n",
       "4  0.226957  0.229270  0.436957   0.186900  1600  "
      ]
     },
     "execution_count": 6,
     "metadata": {},
     "output_type": "execute_result"
    }
   ],
   "source": [
    "df_bikes.head()"
   ]
  },
  {
   "cell_type": "code",
   "execution_count": 7,
   "id": "e5126ba0",
   "metadata": {},
   "outputs": [
    {
     "data": {
      "text/html": [
       "<div>\n",
       "<style scoped>\n",
       "    .dataframe tbody tr th:only-of-type {\n",
       "        vertical-align: middle;\n",
       "    }\n",
       "\n",
       "    .dataframe tbody tr th {\n",
       "        vertical-align: top;\n",
       "    }\n",
       "\n",
       "    .dataframe thead th {\n",
       "        text-align: right;\n",
       "    }\n",
       "</style>\n",
       "<table border=\"1\" class=\"dataframe\">\n",
       "  <thead>\n",
       "    <tr style=\"text-align: right;\">\n",
       "      <th></th>\n",
       "      <th>instant</th>\n",
       "      <th>season</th>\n",
       "      <th>yr</th>\n",
       "      <th>mnth</th>\n",
       "      <th>holiday</th>\n",
       "      <th>weekday</th>\n",
       "      <th>workingday</th>\n",
       "      <th>weathersit</th>\n",
       "      <th>temp</th>\n",
       "      <th>atemp</th>\n",
       "      <th>hum</th>\n",
       "      <th>windspeed</th>\n",
       "      <th>cnt</th>\n",
       "    </tr>\n",
       "  </thead>\n",
       "  <tbody>\n",
       "    <tr>\n",
       "      <th>count</th>\n",
       "      <td>731.000000</td>\n",
       "      <td>731.000000</td>\n",
       "      <td>731.000000</td>\n",
       "      <td>731.000000</td>\n",
       "      <td>731.000000</td>\n",
       "      <td>731.000000</td>\n",
       "      <td>731.000000</td>\n",
       "      <td>731.000000</td>\n",
       "      <td>731.000000</td>\n",
       "      <td>731.000000</td>\n",
       "      <td>731.000000</td>\n",
       "      <td>731.000000</td>\n",
       "      <td>731.000000</td>\n",
       "    </tr>\n",
       "    <tr>\n",
       "      <th>mean</th>\n",
       "      <td>366.000000</td>\n",
       "      <td>2.496580</td>\n",
       "      <td>0.500684</td>\n",
       "      <td>6.519836</td>\n",
       "      <td>0.028728</td>\n",
       "      <td>2.997264</td>\n",
       "      <td>0.682627</td>\n",
       "      <td>1.395349</td>\n",
       "      <td>0.495423</td>\n",
       "      <td>0.474391</td>\n",
       "      <td>0.627908</td>\n",
       "      <td>0.190411</td>\n",
       "      <td>4504.348837</td>\n",
       "    </tr>\n",
       "    <tr>\n",
       "      <th>std</th>\n",
       "      <td>211.165812</td>\n",
       "      <td>1.110807</td>\n",
       "      <td>0.500342</td>\n",
       "      <td>3.451913</td>\n",
       "      <td>0.167155</td>\n",
       "      <td>2.004787</td>\n",
       "      <td>0.465773</td>\n",
       "      <td>0.544894</td>\n",
       "      <td>0.183023</td>\n",
       "      <td>0.162938</td>\n",
       "      <td>0.142074</td>\n",
       "      <td>0.077462</td>\n",
       "      <td>1937.211452</td>\n",
       "    </tr>\n",
       "    <tr>\n",
       "      <th>min</th>\n",
       "      <td>1.000000</td>\n",
       "      <td>1.000000</td>\n",
       "      <td>0.000000</td>\n",
       "      <td>1.000000</td>\n",
       "      <td>0.000000</td>\n",
       "      <td>0.000000</td>\n",
       "      <td>0.000000</td>\n",
       "      <td>1.000000</td>\n",
       "      <td>0.059130</td>\n",
       "      <td>0.079070</td>\n",
       "      <td>0.000000</td>\n",
       "      <td>0.022392</td>\n",
       "      <td>22.000000</td>\n",
       "    </tr>\n",
       "    <tr>\n",
       "      <th>25%</th>\n",
       "      <td>183.500000</td>\n",
       "      <td>2.000000</td>\n",
       "      <td>0.000000</td>\n",
       "      <td>4.000000</td>\n",
       "      <td>0.000000</td>\n",
       "      <td>1.000000</td>\n",
       "      <td>0.000000</td>\n",
       "      <td>1.000000</td>\n",
       "      <td>0.337083</td>\n",
       "      <td>0.337842</td>\n",
       "      <td>0.522291</td>\n",
       "      <td>0.134950</td>\n",
       "      <td>3152.000000</td>\n",
       "    </tr>\n",
       "    <tr>\n",
       "      <th>50%</th>\n",
       "      <td>366.000000</td>\n",
       "      <td>3.000000</td>\n",
       "      <td>1.000000</td>\n",
       "      <td>7.000000</td>\n",
       "      <td>0.000000</td>\n",
       "      <td>3.000000</td>\n",
       "      <td>1.000000</td>\n",
       "      <td>1.000000</td>\n",
       "      <td>0.498333</td>\n",
       "      <td>0.486733</td>\n",
       "      <td>0.627500</td>\n",
       "      <td>0.180971</td>\n",
       "      <td>4548.000000</td>\n",
       "    </tr>\n",
       "    <tr>\n",
       "      <th>75%</th>\n",
       "      <td>548.500000</td>\n",
       "      <td>3.000000</td>\n",
       "      <td>1.000000</td>\n",
       "      <td>10.000000</td>\n",
       "      <td>0.000000</td>\n",
       "      <td>5.000000</td>\n",
       "      <td>1.000000</td>\n",
       "      <td>2.000000</td>\n",
       "      <td>0.655417</td>\n",
       "      <td>0.608602</td>\n",
       "      <td>0.729791</td>\n",
       "      <td>0.233206</td>\n",
       "      <td>5956.000000</td>\n",
       "    </tr>\n",
       "    <tr>\n",
       "      <th>max</th>\n",
       "      <td>731.000000</td>\n",
       "      <td>4.000000</td>\n",
       "      <td>1.000000</td>\n",
       "      <td>12.000000</td>\n",
       "      <td>1.000000</td>\n",
       "      <td>6.000000</td>\n",
       "      <td>1.000000</td>\n",
       "      <td>3.000000</td>\n",
       "      <td>0.861667</td>\n",
       "      <td>0.840896</td>\n",
       "      <td>0.972500</td>\n",
       "      <td>0.507463</td>\n",
       "      <td>8714.000000</td>\n",
       "    </tr>\n",
       "  </tbody>\n",
       "</table>\n",
       "</div>"
      ],
      "text/plain": [
       "          instant      season          yr        mnth     holiday     weekday  \\\n",
       "count  731.000000  731.000000  731.000000  731.000000  731.000000  731.000000   \n",
       "mean   366.000000    2.496580    0.500684    6.519836    0.028728    2.997264   \n",
       "std    211.165812    1.110807    0.500342    3.451913    0.167155    2.004787   \n",
       "min      1.000000    1.000000    0.000000    1.000000    0.000000    0.000000   \n",
       "25%    183.500000    2.000000    0.000000    4.000000    0.000000    1.000000   \n",
       "50%    366.000000    3.000000    1.000000    7.000000    0.000000    3.000000   \n",
       "75%    548.500000    3.000000    1.000000   10.000000    0.000000    5.000000   \n",
       "max    731.000000    4.000000    1.000000   12.000000    1.000000    6.000000   \n",
       "\n",
       "       workingday  weathersit        temp       atemp         hum   windspeed  \\\n",
       "count  731.000000  731.000000  731.000000  731.000000  731.000000  731.000000   \n",
       "mean     0.682627    1.395349    0.495423    0.474391    0.627908    0.190411   \n",
       "std      0.465773    0.544894    0.183023    0.162938    0.142074    0.077462   \n",
       "min      0.000000    1.000000    0.059130    0.079070    0.000000    0.022392   \n",
       "25%      0.000000    1.000000    0.337083    0.337842    0.522291    0.134950   \n",
       "50%      1.000000    1.000000    0.498333    0.486733    0.627500    0.180971   \n",
       "75%      1.000000    2.000000    0.655417    0.608602    0.729791    0.233206   \n",
       "max      1.000000    3.000000    0.861667    0.840896    0.972500    0.507463   \n",
       "\n",
       "               cnt  \n",
       "count   731.000000  \n",
       "mean   4504.348837  \n",
       "std    1937.211452  \n",
       "min      22.000000  \n",
       "25%    3152.000000  \n",
       "50%    4548.000000  \n",
       "75%    5956.000000  \n",
       "max    8714.000000  "
      ]
     },
     "execution_count": 7,
     "metadata": {},
     "output_type": "execute_result"
    }
   ],
   "source": [
    "df_bikes.describe()"
   ]
  },
  {
   "cell_type": "code",
   "execution_count": 8,
   "id": "1b01e50e",
   "metadata": {},
   "outputs": [
    {
     "name": "stdout",
     "output_type": "stream",
     "text": [
      "<class 'pandas.core.frame.DataFrame'>\n",
      "RangeIndex: 731 entries, 0 to 730\n",
      "Data columns (total 13 columns):\n",
      " #   Column      Non-Null Count  Dtype  \n",
      "---  ------      --------------  -----  \n",
      " 0   instant     731 non-null    int64  \n",
      " 1   season      731 non-null    float64\n",
      " 2   yr          731 non-null    float64\n",
      " 3   mnth        731 non-null    int64  \n",
      " 4   holiday     731 non-null    float64\n",
      " 5   weekday     731 non-null    float64\n",
      " 6   workingday  731 non-null    float64\n",
      " 7   weathersit  731 non-null    int64  \n",
      " 8   temp        731 non-null    float64\n",
      " 9   atemp       731 non-null    float64\n",
      " 10  hum         731 non-null    float64\n",
      " 11  windspeed   731 non-null    float64\n",
      " 12  cnt         731 non-null    int64  \n",
      "dtypes: float64(9), int64(4)\n",
      "memory usage: 74.4 KB\n"
     ]
    }
   ],
   "source": [
    "df_bikes.info()"
   ]
  },
  {
   "cell_type": "markdown",
   "id": "99a6646a",
   "metadata": {},
   "source": [
    "### 누락한값이 있는지 확인"
   ]
  },
  {
   "cell_type": "code",
   "execution_count": 9,
   "id": "04158c98",
   "metadata": {},
   "outputs": [
    {
     "data": {
      "text/plain": [
       "0"
      ]
     },
     "execution_count": 9,
     "metadata": {},
     "output_type": "execute_result"
    }
   ],
   "source": [
    "df_bikes.isna().sum().sum()"
   ]
  },
  {
   "cell_type": "markdown",
   "id": "ab5fd59b",
   "metadata": {},
   "source": [
    "## Define Feature and Target"
   ]
  },
  {
   "cell_type": "code",
   "execution_count": 10,
   "id": "916c5e3c",
   "metadata": {},
   "outputs": [],
   "source": [
    "X = df_bikes.iloc[:,:-1]\n",
    "y = df_bikes.iloc[:,-1]"
   ]
  },
  {
   "cell_type": "code",
   "execution_count": 11,
   "id": "6cf3e76d",
   "metadata": {},
   "outputs": [
    {
     "data": {
      "text/html": [
       "<div>\n",
       "<style scoped>\n",
       "    .dataframe tbody tr th:only-of-type {\n",
       "        vertical-align: middle;\n",
       "    }\n",
       "\n",
       "    .dataframe tbody tr th {\n",
       "        vertical-align: top;\n",
       "    }\n",
       "\n",
       "    .dataframe thead th {\n",
       "        text-align: right;\n",
       "    }\n",
       "</style>\n",
       "<table border=\"1\" class=\"dataframe\">\n",
       "  <thead>\n",
       "    <tr style=\"text-align: right;\">\n",
       "      <th></th>\n",
       "      <th>cnt</th>\n",
       "    </tr>\n",
       "  </thead>\n",
       "  <tbody>\n",
       "    <tr>\n",
       "      <th>0</th>\n",
       "      <td>985</td>\n",
       "    </tr>\n",
       "    <tr>\n",
       "      <th>1</th>\n",
       "      <td>801</td>\n",
       "    </tr>\n",
       "    <tr>\n",
       "      <th>2</th>\n",
       "      <td>1349</td>\n",
       "    </tr>\n",
       "    <tr>\n",
       "      <th>3</th>\n",
       "      <td>1562</td>\n",
       "    </tr>\n",
       "    <tr>\n",
       "      <th>4</th>\n",
       "      <td>1600</td>\n",
       "    </tr>\n",
       "  </tbody>\n",
       "</table>\n",
       "</div>"
      ],
      "text/plain": [
       "    cnt\n",
       "0   985\n",
       "1   801\n",
       "2  1349\n",
       "3  1562\n",
       "4  1600"
      ]
     },
     "execution_count": 11,
     "metadata": {},
     "output_type": "execute_result"
    }
   ],
   "source": [
    "pd.DataFrame(y).head()"
   ]
  },
  {
   "cell_type": "markdown",
   "id": "2de9d6ba",
   "metadata": {},
   "source": [
    "## Regression Model Selection"
   ]
  },
  {
   "cell_type": "code",
   "execution_count": 12,
   "id": "d138529b",
   "metadata": {},
   "outputs": [],
   "source": [
    "from xgboost import XGBRegressor\n",
    "from sklearn.model_selection import StratifiedKFold, cross_val_score\n",
    "\n",
    "# kfold = KFold(n_splits=5, shuffle=True, random_state=2)\n",
    "kfold = StratifiedKFold(n_splits=2)\n",
    "\n",
    "def cross_validation(model):\n",
    "    start = time.time()\n",
    "    \n",
    "    # scores = cross_val_score(model, X, y, scoring='neg_mean_squared_error', cv=kfold)\n",
    "    scores = cross_val_score(model, X, y, scoring='neg_mean_squared_error', cv=10)\n",
    "\n",
    "    rmse = np.sqrt(-scores)\n",
    "    \n",
    "    print('Cross Validation:')\n",
    "    print('Elased time: %0.2fs' % (time.time()-start))\n",
    "    print('RMSE:', np.round(rmse, 3))\n",
    "    print('Avg. RMSE: %0.3f' % (rmse.mean()))"
   ]
  },
  {
   "cell_type": "code",
   "execution_count": 13,
   "id": "a925256c",
   "metadata": {},
   "outputs": [
    {
     "name": "stdout",
     "output_type": "stream",
     "text": [
      "Cross Validation:\n",
      "Elased time: 3.28s\n",
      "RMSE: [ 717.646  692.804  520.7    737.676  835.961 1006.237  991.342  747.612\n",
      "  891.994 1731.128]\n",
      "Avg. RMSE: 887.310\n"
     ]
    }
   ],
   "source": [
    "cross_validation(XGBRegressor(booster='gbtree'))"
   ]
  },
  {
   "cell_type": "code",
   "execution_count": 14,
   "id": "855aa3e8",
   "metadata": {},
   "outputs": [
    {
     "name": "stdout",
     "output_type": "stream",
     "text": [
      "Cross Validation:\n",
      "Elased time: 2.48s\n",
      "RMSE: [5.82131384e+29 1.59106597e+23 2.14596023e+30 1.44551212e+30\n",
      " 3.04276282e+30 1.04623890e+30 3.96962689e+29 1.87064239e+29\n",
      " 9.19169832e+28 7.08440508e+29]\n",
      "Avg. RMSE: 964699002954221618415123038208.000\n"
     ]
    }
   ],
   "source": [
    "cross_validation(XGBRegressor(booster='gblinear'))"
   ]
  },
  {
   "cell_type": "code",
   "execution_count": 15,
   "id": "e76cdb65",
   "metadata": {},
   "outputs": [
    {
     "name": "stdout",
     "output_type": "stream",
     "text": [
      "Cross Validation:\n",
      "Elased time: 6.15s\n",
      "RMSE: [ 574.362  589.35   523.466  718.081  833.296 1075.336  963.095  754.554\n",
      "  843.255 1762.242]\n",
      "Avg. RMSE: 863.704\n"
     ]
    }
   ],
   "source": [
    "cross_validation(XGBRegressor(booster='dart', one_drop=1))"
   ]
  },
  {
   "cell_type": "code",
   "execution_count": 16,
   "id": "e798fba2",
   "metadata": {},
   "outputs": [
    {
     "name": "stdout",
     "output_type": "stream",
     "text": [
      "Cross Validation:\n",
      "Elased time: 4.41s\n",
      "RMSE: [ 691.328  879.621  602.354  827.953  852.068 1251.988 1009.174  828.154\n",
      " 1305.736 1620.033]\n",
      "Avg. RMSE: 986.841\n"
     ]
    }
   ],
   "source": [
    "cross_validation(XGBRegressor(booster='dart', rate_drop=0.5))"
   ]
  },
  {
   "cell_type": "code",
   "execution_count": 17,
   "id": "7a3d6e04",
   "metadata": {},
   "outputs": [
    {
     "name": "stdout",
     "output_type": "stream",
     "text": [
      "Cross Validation:\n",
      "Elased time: 4.49s\n",
      "RMSE: [ 712.683  911.26   596.958  880.983  909.862 1305.965  986.295  821.951\n",
      " 1317.766 1780.286]\n",
      "Avg. RMSE: 1022.401\n"
     ]
    }
   ],
   "source": [
    "cross_validation(XGBRegressor(booster='dart', rate_drop=0.5, sample_type='weighted'))"
   ]
  },
  {
   "cell_type": "code",
   "execution_count": 18,
   "id": "c8bd3f99",
   "metadata": {},
   "outputs": [
    {
     "name": "stdout",
     "output_type": "stream",
     "text": [
      "Cross Validation:\n",
      "Elased time: 4.90s\n",
      "RMSE: [ 690.425  820.184  560.393  863.211  882.996 1244.912 1086.051  871.756\n",
      " 1178.115 1799.3  ]\n",
      "Avg. RMSE: 999.734\n"
     ]
    }
   ],
   "source": [
    "cross_validation(XGBRegressor(booster='dart', rate_drop=0.5, normalize_type='forest'))"
   ]
  },
  {
   "cell_type": "code",
   "execution_count": 19,
   "id": "a07c43af",
   "metadata": {},
   "outputs": [
    {
     "name": "stdout",
     "output_type": "stream",
     "text": [
      "Cross Validation:\n",
      "Elased time: 0.04s\n",
      "RMSE: [ 504.007  840.55  1140.882  728.392  640.197  969.949 1133.448 1252.847\n",
      " 1084.636 1425.326]\n",
      "Avg. RMSE: 972.023\n"
     ]
    }
   ],
   "source": [
    "from sklearn.linear_model import LinearRegression, LogisticRegression\n",
    "\n",
    "cross_validation(LinearRegression())"
   ]
  },
  {
   "cell_type": "code",
   "execution_count": 20,
   "id": "ba3b44b8",
   "metadata": {},
   "outputs": [
    {
     "name": "stdout",
     "output_type": "stream",
     "text": [
      "Cross Validation:\n",
      "Elased time: 0.09s\n",
      "RMSE: [ 491.917  830.768 1133.671  731.759  632.751  963.02  1139.191 1244.107\n",
      " 1065.067 1463.133]\n",
      "Avg. RMSE: 969.538\n"
     ]
    }
   ],
   "source": [
    "from sklearn.linear_model import Lasso\n",
    "\n",
    "cross_validation(Lasso())"
   ]
  },
  {
   "cell_type": "code",
   "execution_count": 21,
   "id": "ebe585f4",
   "metadata": {},
   "outputs": [
    {
     "name": "stdout",
     "output_type": "stream",
     "text": [
      "Cross Validation:\n",
      "Elased time: 0.08s\n",
      "RMSE: [ 487.127  824.751 1098.441  735.696  632.238  969.021 1146.207 1226.545\n",
      " 1036.396 1491.762]\n",
      "Avg. RMSE: 964.818\n"
     ]
    }
   ],
   "source": [
    "from sklearn.linear_model import Ridge\n",
    "\n",
    "cross_validation(Ridge())"
   ]
  },
  {
   "cell_type": "code",
   "execution_count": 22,
   "id": "5b16a73f",
   "metadata": {},
   "outputs": [
    {
     "name": "stdout",
     "output_type": "stream",
     "text": [
      "Cross Validation:\n",
      "Elased time: 2.97s\n",
      "RMSE: [ 793.212  519.266  532.952  801.346  852.819  809.644  872.602  793.877\n",
      "  767.506 2282.163]\n",
      "Avg. RMSE: 902.539\n"
     ]
    }
   ],
   "source": [
    "from sklearn.ensemble import RandomForestRegressor\n",
    "\n",
    "cross_validation(RandomForestRegressor())"
   ]
  },
  {
   "cell_type": "markdown",
   "id": "c7b208df",
   "metadata": {},
   "source": [
    "## HPO"
   ]
  },
  {
   "cell_type": "markdown",
   "id": "3ff4da22",
   "metadata": {},
   "source": [
    "### Default"
   ]
  },
  {
   "cell_type": "code",
   "execution_count": 23,
   "id": "35f7065b",
   "metadata": {},
   "outputs": [
    {
     "name": "stdout",
     "output_type": "stream",
     "text": [
      "Elapsed time: 0.28s\n",
      "RMSE: 705.114\n"
     ]
    }
   ],
   "source": [
    "from xgboost import XGBRegressor\n",
    "from sklearn.model_selection import train_test_split\n",
    "from sklearn.metrics import mean_squared_error\n",
    "\n",
    "# Split train/test dataset\n",
    "X_train, X_test, y_train, y_test = train_test_split(X, y, random_state=2)\n",
    "\n",
    "# define model\n",
    "#model = XGBRegressor(booster='gbtree', objective='binary:logistic', \n",
    "#                        random_state=2, verbosity=0, use_label_encoder=False, n_jobs=-1)\n",
    "model = XGBRegressor(booster='gbtree', random_state=2, verbosity=0, use_label_encoder=False, n_jobs=-1)\n",
    "\n",
    "# default model accuacry \n",
    "def getAccuracy(model):\n",
    "    start = time.time()\n",
    "\n",
    "    model.fit(X_train, y_train)\n",
    "\n",
    "    y_pred = model.predict(X_test)\n",
    "\n",
    "    reg_mse = mean_squared_error(y_test, y_pred)\n",
    "    reg_rmse = np.sqrt(reg_mse)\n",
    "\n",
    "    print('Elapsed time: %0.2fs' % (time.time()-start))        \n",
    "    print('RMSE: %0.3f' % (reg_rmse))\n",
    "\n",
    "getAccuracy(model)"
   ]
  },
  {
   "cell_type": "code",
   "execution_count": null,
   "id": "eb046958",
   "metadata": {},
   "outputs": [],
   "source": [
    "# n_estimators\n",
    "param = 'n_estimators'\n",
    "values = [50, 100, 200, 400, 800]\n",
    "best_param = 0\n",
    "best_score = 1e9\n",
    "cnt = 0\n",
    "start = time.time()\n",
    "print(param, '=', params.get(param))\n",
    "\n",
    "for value in values:\n",
    "    start = time.time()\n",
    "    \n",
    "    xgb = XGBRegressor(booster='gbtree', n_estimators=value, \n",
    "                       random_state=2, verbosity=3, use_label_encoder=False, n_jobs=-1)\n",
    "    \n",
    "    xgb.fit(X_train, y_train)\n",
    "    \n",
    "    y_pred = xgb.predict(X_test)\n",
    "    \n",
    "    reg_mse = mean_squared_error(y_test, y_pred)\n",
    "    reg_rmse = np.sqrt(reg_mse)\n",
    "    \n",
    "    if best_score > reg_rmse:\n",
    "        best_score = reg_rmse\n",
    "        best_param = cnt\n",
    "\n",
    "    print('Elapsed time: %0.2fs' % (time.time()-start))    \n",
    "    print('RMSE: %0.3f' % (reg_rmse))\n",
    "    cnt = cnt + 1\n",
    "\n",
    "print('\\nElased time: %0.2fs' % (time.time()-start))    \n",
    "print('best score: %0.2f' % (best_score))\n",
    "print('best param: ', values[best_param])"
   ]
  },
  {
   "cell_type": "markdown",
   "id": "96e86146",
   "metadata": {},
   "source": [
    "## HPO: Randomized Search"
   ]
  },
  {
   "cell_type": "code",
   "execution_count": 24,
   "id": "67afe92c",
   "metadata": {},
   "outputs": [],
   "source": [
    "from sklearn.model_selection import RandomizedSearchCV\n",
    "\n",
    "def randomized_search(params, runs=20): \n",
    "    xgb = XGBRegressor(booster='gbtree', random_state=2, verbosity=3, use_label_encoder=False, n_jobs=-1)\n",
    "    \n",
    "    # kfold = StratifiedKFold(n_splits=5, shuffle=True, random_state=2)    \n",
    "    # rand_reg = RandomizedSearchCV(xgb, params, cv=kfold, n_iter=runs, n_jobs=-1, random_state=2, scoring='neg_mean_squared_error')    \n",
    "    rand_reg = RandomizedSearchCV(xgb, params, cv=10, n_iter=runs, n_jobs=-1, random_state=2, scoring='neg_mean_squared_error')\n",
    "    \n",
    "    rand_reg.fit(X_train, y_train)    \n",
    "    \n",
    "    best_model = rand_reg.best_estimator_    \n",
    "    \n",
    "    best_params = rand_reg.best_params_\n",
    "    print(\"best parameter:\", best_params)\n",
    "    \n",
    "    best_score = rand_reg.best_score_\n",
    "    print(\"best score: {:.3f}\".format(best_score))\n",
    "    \n",
    "    return best_model"
   ]
  },
  {
   "cell_type": "code",
   "execution_count": null,
   "id": "3c6f3303",
   "metadata": {},
   "outputs": [],
   "source": [
    "#        'n_estimators':[50, 100, 200],\n",
    "#        'learning_rate':[0.01, 0.05, 0.1, 0.2, 0.3, 0.4, 0.5],\n",
    "#        'max_depth':[1, 2, 3, 5, 6, 8],\n",
    "#        'gamma':[0, 0.01, 0.1, 0.5, 1, 2],\n",
    "#        'min_child_weight':[1, 2, 3, 4, 5],\n",
    "#        'subsample':[0.5, 0.7, 0.8, 0.9, 1],\n",
    "#        'colsample_bytree':[0.5, 0.7, 0.8, 0.9, 1],  \n",
    "\n",
    "start = time.time()\n",
    "\n",
    "best_model = randomized_search(\n",
    "    params={\n",
    "        'n_estimators':[50, 100, 200],\n",
    "        'learning_rate':[0.01, 0.1, 0.3, 0.5],\n",
    "        'max_depth':[1, 2, 3, 5, 7, 9],\n",
    "        'subsample':[0.5, 0.7, 0.8, 0.9, 1],\n",
    "        }, \n",
    "    runs=20)\n",
    "\n",
    "print('\\nElapsed time: %0.2fs' % (time.time()-start))"
   ]
  },
  {
   "cell_type": "markdown",
   "id": "59554375",
   "metadata": {},
   "source": [
    "## Evaluation"
   ]
  },
  {
   "cell_type": "code",
   "execution_count": null,
   "id": "fcec71f8",
   "metadata": {},
   "outputs": [],
   "source": [
    "model = best_model\n",
    "\n",
    "def model_estimation(model):    \n",
    "    start = time.time()\n",
    "    \n",
    "    y_pred = model.predict(X_test)\n",
    "\n",
    "    reg_mse = mean_squared_error(y_test, y_pred)\n",
    "    reg_rmse = np.sqrt(reg_mse)\n",
    "\n",
    "    print('Elapsed time: %0.2fs' % (time.time()-start))    \n",
    "    \n",
    "    #print('RMSE:', np.round(rmse, 3))\n",
    "    print('RMSE: %0.3f' % (reg_rmse))\n",
    "    \n",
    "cross_validation(model)   \n",
    "model_estimation(model)    "
   ]
  },
  {
   "cell_type": "markdown",
   "id": "110ffe32",
   "metadata": {},
   "source": [
    "### HPO"
   ]
  },
  {
   "cell_type": "code",
   "execution_count": null,
   "id": "19843bb8",
   "metadata": {},
   "outputs": [],
   "source": [
    "from xgboost import XGBRegressor\n",
    "\n",
    "xg_reg = XGBRegressor(max_depth=3, n_estimators=1600, eta=0.02, subsample=0.75, random_state=2)\n",
    "\n",
    "xg_reg.fit(X_train, y_train)\n",
    "\n",
    "y_pred = xg_reg.predict(X_test)\n",
    "\n",
    "rmse = mean_squared_error(y_test, y_pred)**0.5\n",
    "\n",
    "print(\"RMSE: %0.2f\" % (rmse))"
   ]
  },
  {
   "cell_type": "code",
   "execution_count": null,
   "id": "22fb42fe",
   "metadata": {},
   "outputs": [],
   "source": []
  }
 ],
 "metadata": {
  "kernelspec": {
   "display_name": "conda_amazonei_tensorflow2_p36",
   "language": "python",
   "name": "conda_amazonei_tensorflow2_p36"
  },
  "language_info": {
   "codemirror_mode": {
    "name": "ipython",
    "version": 3
   },
   "file_extension": ".py",
   "mimetype": "text/x-python",
   "name": "python",
   "nbconvert_exporter": "python",
   "pygments_lexer": "ipython3",
   "version": "3.6.13"
  }
 },
 "nbformat": 4,
 "nbformat_minor": 5
}
