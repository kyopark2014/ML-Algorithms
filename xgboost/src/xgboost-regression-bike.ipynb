{
 "cells": [
  {
   "cell_type": "markdown",
   "id": "8d5e94a8",
   "metadata": {},
   "source": [
    "# XGBoost - Bike Sharing (Regression)\n",
    "[ch1-gradient-boosting.ipynb](https://github.com/kyopark2014/ML-Algorithms/blob/main/xgboost/src/ch1-gradient-boosting.ipynb)"
   ]
  },
  {
   "cell_type": "code",
   "execution_count": 1,
   "id": "97d75828",
   "metadata": {},
   "outputs": [
    {
     "name": "stdout",
     "output_type": "stream",
     "text": [
      "Looking in indexes: https://pypi.org/simple, https://pip.repos.neuron.amazonaws.com\n",
      "Requirement already satisfied: xgboost in /home/ec2-user/anaconda3/envs/amazonei_tensorflow2_p36/lib/python3.6/site-packages (1.5.2)\n",
      "Requirement already satisfied: scipy in /home/ec2-user/anaconda3/envs/amazonei_tensorflow2_p36/lib/python3.6/site-packages (from xgboost) (1.5.3)\n",
      "Requirement already satisfied: numpy in /home/ec2-user/anaconda3/envs/amazonei_tensorflow2_p36/lib/python3.6/site-packages (from xgboost) (1.19.5)\n"
     ]
    }
   ],
   "source": [
    "!pip install xgboost"
   ]
  },
  {
   "cell_type": "code",
   "execution_count": 2,
   "id": "3a6cc850",
   "metadata": {},
   "outputs": [],
   "source": [
    "import warnings\n",
    "warnings.filterwarnings('ignore')"
   ]
  },
  {
   "cell_type": "code",
   "execution_count": 3,
   "id": "e314a055",
   "metadata": {},
   "outputs": [],
   "source": [
    "import numpy as np\n",
    "import pandas as pd\n",
    "import time"
   ]
  },
  {
   "cell_type": "code",
   "execution_count": 4,
   "id": "9b793dd2",
   "metadata": {},
   "outputs": [],
   "source": [
    "import xgboost as xgb\n",
    "xgb.set_config(verbosity=0)"
   ]
  },
  {
   "cell_type": "code",
   "execution_count": 5,
   "id": "717b4d8a",
   "metadata": {},
   "outputs": [],
   "source": [
    "df_bikes = pd.read_csv('bike_rentals_cleaned.csv')"
   ]
  },
  {
   "cell_type": "code",
   "execution_count": 6,
   "id": "1356f4fa",
   "metadata": {},
   "outputs": [
    {
     "data": {
      "text/html": [
       "<div>\n",
       "<style scoped>\n",
       "    .dataframe tbody tr th:only-of-type {\n",
       "        vertical-align: middle;\n",
       "    }\n",
       "\n",
       "    .dataframe tbody tr th {\n",
       "        vertical-align: top;\n",
       "    }\n",
       "\n",
       "    .dataframe thead th {\n",
       "        text-align: right;\n",
       "    }\n",
       "</style>\n",
       "<table border=\"1\" class=\"dataframe\">\n",
       "  <thead>\n",
       "    <tr style=\"text-align: right;\">\n",
       "      <th></th>\n",
       "      <th>instant</th>\n",
       "      <th>season</th>\n",
       "      <th>yr</th>\n",
       "      <th>mnth</th>\n",
       "      <th>holiday</th>\n",
       "      <th>weekday</th>\n",
       "      <th>workingday</th>\n",
       "      <th>weathersit</th>\n",
       "      <th>temp</th>\n",
       "      <th>atemp</th>\n",
       "      <th>hum</th>\n",
       "      <th>windspeed</th>\n",
       "      <th>cnt</th>\n",
       "    </tr>\n",
       "  </thead>\n",
       "  <tbody>\n",
       "    <tr>\n",
       "      <th>0</th>\n",
       "      <td>1</td>\n",
       "      <td>1.0</td>\n",
       "      <td>0.0</td>\n",
       "      <td>1</td>\n",
       "      <td>0.0</td>\n",
       "      <td>6.0</td>\n",
       "      <td>0.0</td>\n",
       "      <td>2</td>\n",
       "      <td>0.344167</td>\n",
       "      <td>0.363625</td>\n",
       "      <td>0.805833</td>\n",
       "      <td>0.160446</td>\n",
       "      <td>985</td>\n",
       "    </tr>\n",
       "    <tr>\n",
       "      <th>1</th>\n",
       "      <td>2</td>\n",
       "      <td>1.0</td>\n",
       "      <td>0.0</td>\n",
       "      <td>1</td>\n",
       "      <td>0.0</td>\n",
       "      <td>0.0</td>\n",
       "      <td>0.0</td>\n",
       "      <td>2</td>\n",
       "      <td>0.363478</td>\n",
       "      <td>0.353739</td>\n",
       "      <td>0.696087</td>\n",
       "      <td>0.248539</td>\n",
       "      <td>801</td>\n",
       "    </tr>\n",
       "    <tr>\n",
       "      <th>2</th>\n",
       "      <td>3</td>\n",
       "      <td>1.0</td>\n",
       "      <td>0.0</td>\n",
       "      <td>1</td>\n",
       "      <td>0.0</td>\n",
       "      <td>1.0</td>\n",
       "      <td>1.0</td>\n",
       "      <td>1</td>\n",
       "      <td>0.196364</td>\n",
       "      <td>0.189405</td>\n",
       "      <td>0.437273</td>\n",
       "      <td>0.248309</td>\n",
       "      <td>1349</td>\n",
       "    </tr>\n",
       "    <tr>\n",
       "      <th>3</th>\n",
       "      <td>4</td>\n",
       "      <td>1.0</td>\n",
       "      <td>0.0</td>\n",
       "      <td>1</td>\n",
       "      <td>0.0</td>\n",
       "      <td>2.0</td>\n",
       "      <td>1.0</td>\n",
       "      <td>1</td>\n",
       "      <td>0.200000</td>\n",
       "      <td>0.212122</td>\n",
       "      <td>0.590435</td>\n",
       "      <td>0.160296</td>\n",
       "      <td>1562</td>\n",
       "    </tr>\n",
       "    <tr>\n",
       "      <th>4</th>\n",
       "      <td>5</td>\n",
       "      <td>1.0</td>\n",
       "      <td>0.0</td>\n",
       "      <td>1</td>\n",
       "      <td>0.0</td>\n",
       "      <td>3.0</td>\n",
       "      <td>1.0</td>\n",
       "      <td>1</td>\n",
       "      <td>0.226957</td>\n",
       "      <td>0.229270</td>\n",
       "      <td>0.436957</td>\n",
       "      <td>0.186900</td>\n",
       "      <td>1600</td>\n",
       "    </tr>\n",
       "  </tbody>\n",
       "</table>\n",
       "</div>"
      ],
      "text/plain": [
       "   instant  season   yr  mnth  holiday  weekday  workingday  weathersit  \\\n",
       "0        1     1.0  0.0     1      0.0      6.0         0.0           2   \n",
       "1        2     1.0  0.0     1      0.0      0.0         0.0           2   \n",
       "2        3     1.0  0.0     1      0.0      1.0         1.0           1   \n",
       "3        4     1.0  0.0     1      0.0      2.0         1.0           1   \n",
       "4        5     1.0  0.0     1      0.0      3.0         1.0           1   \n",
       "\n",
       "       temp     atemp       hum  windspeed   cnt  \n",
       "0  0.344167  0.363625  0.805833   0.160446   985  \n",
       "1  0.363478  0.353739  0.696087   0.248539   801  \n",
       "2  0.196364  0.189405  0.437273   0.248309  1349  \n",
       "3  0.200000  0.212122  0.590435   0.160296  1562  \n",
       "4  0.226957  0.229270  0.436957   0.186900  1600  "
      ]
     },
     "execution_count": 6,
     "metadata": {},
     "output_type": "execute_result"
    }
   ],
   "source": [
    "df_bikes.head()"
   ]
  },
  {
   "cell_type": "code",
   "execution_count": 7,
   "id": "c47f0edb",
   "metadata": {},
   "outputs": [
    {
     "data": {
      "text/html": [
       "<div>\n",
       "<style scoped>\n",
       "    .dataframe tbody tr th:only-of-type {\n",
       "        vertical-align: middle;\n",
       "    }\n",
       "\n",
       "    .dataframe tbody tr th {\n",
       "        vertical-align: top;\n",
       "    }\n",
       "\n",
       "    .dataframe thead th {\n",
       "        text-align: right;\n",
       "    }\n",
       "</style>\n",
       "<table border=\"1\" class=\"dataframe\">\n",
       "  <thead>\n",
       "    <tr style=\"text-align: right;\">\n",
       "      <th></th>\n",
       "      <th>instant</th>\n",
       "      <th>season</th>\n",
       "      <th>yr</th>\n",
       "      <th>mnth</th>\n",
       "      <th>holiday</th>\n",
       "      <th>weekday</th>\n",
       "      <th>workingday</th>\n",
       "      <th>weathersit</th>\n",
       "      <th>temp</th>\n",
       "      <th>atemp</th>\n",
       "      <th>hum</th>\n",
       "      <th>windspeed</th>\n",
       "      <th>cnt</th>\n",
       "    </tr>\n",
       "  </thead>\n",
       "  <tbody>\n",
       "    <tr>\n",
       "      <th>count</th>\n",
       "      <td>731.000000</td>\n",
       "      <td>731.000000</td>\n",
       "      <td>731.000000</td>\n",
       "      <td>731.000000</td>\n",
       "      <td>731.000000</td>\n",
       "      <td>731.000000</td>\n",
       "      <td>731.000000</td>\n",
       "      <td>731.000000</td>\n",
       "      <td>731.000000</td>\n",
       "      <td>731.000000</td>\n",
       "      <td>731.000000</td>\n",
       "      <td>731.000000</td>\n",
       "      <td>731.000000</td>\n",
       "    </tr>\n",
       "    <tr>\n",
       "      <th>mean</th>\n",
       "      <td>366.000000</td>\n",
       "      <td>2.496580</td>\n",
       "      <td>0.500684</td>\n",
       "      <td>6.519836</td>\n",
       "      <td>0.028728</td>\n",
       "      <td>2.997264</td>\n",
       "      <td>0.682627</td>\n",
       "      <td>1.395349</td>\n",
       "      <td>0.495423</td>\n",
       "      <td>0.474391</td>\n",
       "      <td>0.627908</td>\n",
       "      <td>0.190411</td>\n",
       "      <td>4504.348837</td>\n",
       "    </tr>\n",
       "    <tr>\n",
       "      <th>std</th>\n",
       "      <td>211.165812</td>\n",
       "      <td>1.110807</td>\n",
       "      <td>0.500342</td>\n",
       "      <td>3.451913</td>\n",
       "      <td>0.167155</td>\n",
       "      <td>2.004787</td>\n",
       "      <td>0.465773</td>\n",
       "      <td>0.544894</td>\n",
       "      <td>0.183023</td>\n",
       "      <td>0.162938</td>\n",
       "      <td>0.142074</td>\n",
       "      <td>0.077462</td>\n",
       "      <td>1937.211452</td>\n",
       "    </tr>\n",
       "    <tr>\n",
       "      <th>min</th>\n",
       "      <td>1.000000</td>\n",
       "      <td>1.000000</td>\n",
       "      <td>0.000000</td>\n",
       "      <td>1.000000</td>\n",
       "      <td>0.000000</td>\n",
       "      <td>0.000000</td>\n",
       "      <td>0.000000</td>\n",
       "      <td>1.000000</td>\n",
       "      <td>0.059130</td>\n",
       "      <td>0.079070</td>\n",
       "      <td>0.000000</td>\n",
       "      <td>0.022392</td>\n",
       "      <td>22.000000</td>\n",
       "    </tr>\n",
       "    <tr>\n",
       "      <th>25%</th>\n",
       "      <td>183.500000</td>\n",
       "      <td>2.000000</td>\n",
       "      <td>0.000000</td>\n",
       "      <td>4.000000</td>\n",
       "      <td>0.000000</td>\n",
       "      <td>1.000000</td>\n",
       "      <td>0.000000</td>\n",
       "      <td>1.000000</td>\n",
       "      <td>0.337083</td>\n",
       "      <td>0.337842</td>\n",
       "      <td>0.522291</td>\n",
       "      <td>0.134950</td>\n",
       "      <td>3152.000000</td>\n",
       "    </tr>\n",
       "    <tr>\n",
       "      <th>50%</th>\n",
       "      <td>366.000000</td>\n",
       "      <td>3.000000</td>\n",
       "      <td>1.000000</td>\n",
       "      <td>7.000000</td>\n",
       "      <td>0.000000</td>\n",
       "      <td>3.000000</td>\n",
       "      <td>1.000000</td>\n",
       "      <td>1.000000</td>\n",
       "      <td>0.498333</td>\n",
       "      <td>0.486733</td>\n",
       "      <td>0.627500</td>\n",
       "      <td>0.180971</td>\n",
       "      <td>4548.000000</td>\n",
       "    </tr>\n",
       "    <tr>\n",
       "      <th>75%</th>\n",
       "      <td>548.500000</td>\n",
       "      <td>3.000000</td>\n",
       "      <td>1.000000</td>\n",
       "      <td>10.000000</td>\n",
       "      <td>0.000000</td>\n",
       "      <td>5.000000</td>\n",
       "      <td>1.000000</td>\n",
       "      <td>2.000000</td>\n",
       "      <td>0.655417</td>\n",
       "      <td>0.608602</td>\n",
       "      <td>0.729791</td>\n",
       "      <td>0.233206</td>\n",
       "      <td>5956.000000</td>\n",
       "    </tr>\n",
       "    <tr>\n",
       "      <th>max</th>\n",
       "      <td>731.000000</td>\n",
       "      <td>4.000000</td>\n",
       "      <td>1.000000</td>\n",
       "      <td>12.000000</td>\n",
       "      <td>1.000000</td>\n",
       "      <td>6.000000</td>\n",
       "      <td>1.000000</td>\n",
       "      <td>3.000000</td>\n",
       "      <td>0.861667</td>\n",
       "      <td>0.840896</td>\n",
       "      <td>0.972500</td>\n",
       "      <td>0.507463</td>\n",
       "      <td>8714.000000</td>\n",
       "    </tr>\n",
       "  </tbody>\n",
       "</table>\n",
       "</div>"
      ],
      "text/plain": [
       "          instant      season          yr        mnth     holiday     weekday  \\\n",
       "count  731.000000  731.000000  731.000000  731.000000  731.000000  731.000000   \n",
       "mean   366.000000    2.496580    0.500684    6.519836    0.028728    2.997264   \n",
       "std    211.165812    1.110807    0.500342    3.451913    0.167155    2.004787   \n",
       "min      1.000000    1.000000    0.000000    1.000000    0.000000    0.000000   \n",
       "25%    183.500000    2.000000    0.000000    4.000000    0.000000    1.000000   \n",
       "50%    366.000000    3.000000    1.000000    7.000000    0.000000    3.000000   \n",
       "75%    548.500000    3.000000    1.000000   10.000000    0.000000    5.000000   \n",
       "max    731.000000    4.000000    1.000000   12.000000    1.000000    6.000000   \n",
       "\n",
       "       workingday  weathersit        temp       atemp         hum   windspeed  \\\n",
       "count  731.000000  731.000000  731.000000  731.000000  731.000000  731.000000   \n",
       "mean     0.682627    1.395349    0.495423    0.474391    0.627908    0.190411   \n",
       "std      0.465773    0.544894    0.183023    0.162938    0.142074    0.077462   \n",
       "min      0.000000    1.000000    0.059130    0.079070    0.000000    0.022392   \n",
       "25%      0.000000    1.000000    0.337083    0.337842    0.522291    0.134950   \n",
       "50%      1.000000    1.000000    0.498333    0.486733    0.627500    0.180971   \n",
       "75%      1.000000    2.000000    0.655417    0.608602    0.729791    0.233206   \n",
       "max      1.000000    3.000000    0.861667    0.840896    0.972500    0.507463   \n",
       "\n",
       "               cnt  \n",
       "count   731.000000  \n",
       "mean   4504.348837  \n",
       "std    1937.211452  \n",
       "min      22.000000  \n",
       "25%    3152.000000  \n",
       "50%    4548.000000  \n",
       "75%    5956.000000  \n",
       "max    8714.000000  "
      ]
     },
     "execution_count": 7,
     "metadata": {},
     "output_type": "execute_result"
    }
   ],
   "source": [
    "df_bikes.describe()"
   ]
  },
  {
   "cell_type": "code",
   "execution_count": 8,
   "id": "ed24a137",
   "metadata": {},
   "outputs": [
    {
     "name": "stdout",
     "output_type": "stream",
     "text": [
      "<class 'pandas.core.frame.DataFrame'>\n",
      "RangeIndex: 731 entries, 0 to 730\n",
      "Data columns (total 13 columns):\n",
      " #   Column      Non-Null Count  Dtype  \n",
      "---  ------      --------------  -----  \n",
      " 0   instant     731 non-null    int64  \n",
      " 1   season      731 non-null    float64\n",
      " 2   yr          731 non-null    float64\n",
      " 3   mnth        731 non-null    int64  \n",
      " 4   holiday     731 non-null    float64\n",
      " 5   weekday     731 non-null    float64\n",
      " 6   workingday  731 non-null    float64\n",
      " 7   weathersit  731 non-null    int64  \n",
      " 8   temp        731 non-null    float64\n",
      " 9   atemp       731 non-null    float64\n",
      " 10  hum         731 non-null    float64\n",
      " 11  windspeed   731 non-null    float64\n",
      " 12  cnt         731 non-null    int64  \n",
      "dtypes: float64(9), int64(4)\n",
      "memory usage: 74.4 KB\n"
     ]
    }
   ],
   "source": [
    "df_bikes.info()"
   ]
  },
  {
   "cell_type": "markdown",
   "id": "e1808635",
   "metadata": {},
   "source": [
    "### 누락한값이 있는지 확인"
   ]
  },
  {
   "cell_type": "code",
   "execution_count": 9,
   "id": "d35b4f48",
   "metadata": {},
   "outputs": [
    {
     "data": {
      "text/plain": [
       "0"
      ]
     },
     "execution_count": 9,
     "metadata": {},
     "output_type": "execute_result"
    }
   ],
   "source": [
    "df_bikes.isna().sum().sum()"
   ]
  },
  {
   "cell_type": "markdown",
   "id": "e7310ae9",
   "metadata": {},
   "source": [
    "## Define Feature and Target"
   ]
  },
  {
   "cell_type": "code",
   "execution_count": 10,
   "id": "2f9189ad",
   "metadata": {},
   "outputs": [],
   "source": [
    "X = df_bikes.iloc[:,:-1]\n",
    "y = df_bikes.iloc[:,-1]"
   ]
  },
  {
   "cell_type": "code",
   "execution_count": 11,
   "id": "78944c60",
   "metadata": {},
   "outputs": [
    {
     "data": {
      "text/html": [
       "<div>\n",
       "<style scoped>\n",
       "    .dataframe tbody tr th:only-of-type {\n",
       "        vertical-align: middle;\n",
       "    }\n",
       "\n",
       "    .dataframe tbody tr th {\n",
       "        vertical-align: top;\n",
       "    }\n",
       "\n",
       "    .dataframe thead th {\n",
       "        text-align: right;\n",
       "    }\n",
       "</style>\n",
       "<table border=\"1\" class=\"dataframe\">\n",
       "  <thead>\n",
       "    <tr style=\"text-align: right;\">\n",
       "      <th></th>\n",
       "      <th>cnt</th>\n",
       "    </tr>\n",
       "  </thead>\n",
       "  <tbody>\n",
       "    <tr>\n",
       "      <th>0</th>\n",
       "      <td>985</td>\n",
       "    </tr>\n",
       "    <tr>\n",
       "      <th>1</th>\n",
       "      <td>801</td>\n",
       "    </tr>\n",
       "    <tr>\n",
       "      <th>2</th>\n",
       "      <td>1349</td>\n",
       "    </tr>\n",
       "    <tr>\n",
       "      <th>3</th>\n",
       "      <td>1562</td>\n",
       "    </tr>\n",
       "    <tr>\n",
       "      <th>4</th>\n",
       "      <td>1600</td>\n",
       "    </tr>\n",
       "  </tbody>\n",
       "</table>\n",
       "</div>"
      ],
      "text/plain": [
       "    cnt\n",
       "0   985\n",
       "1   801\n",
       "2  1349\n",
       "3  1562\n",
       "4  1600"
      ]
     },
     "execution_count": 11,
     "metadata": {},
     "output_type": "execute_result"
    }
   ],
   "source": [
    "pd.DataFrame(y).head()"
   ]
  },
  {
   "cell_type": "markdown",
   "id": "a146ebaa",
   "metadata": {},
   "source": [
    "## Regression Model Selection"
   ]
  },
  {
   "cell_type": "code",
   "execution_count": 12,
   "id": "ab9b3c72",
   "metadata": {},
   "outputs": [],
   "source": [
    "from xgboost import XGBRegressor\n",
    "from sklearn.model_selection import StratifiedKFold, cross_val_score\n",
    "\n",
    "# kfold = KFold(n_splits=5, shuffle=True, random_state=2)\n",
    "# kfold = StratifiedKFold(n_splits=5)\n",
    "\n",
    "def cross_validation(model):\n",
    "    start = time.time()\n",
    "    \n",
    "    # scores = cross_val_score(model, X, y, scoring='neg_mean_squared_error', cv=kfold)\n",
    "    scores = cross_val_score(model, X, y, scoring='neg_mean_squared_error', cv=10)\n",
    "\n",
    "    rmse = np.sqrt(-scores)\n",
    "    \n",
    "    print('Cross Validation:')\n",
    "    print('Elased time: %0.2fs' % (time.time()-start))\n",
    "    print('RMSE:', np.round(rmse, 3))\n",
    "    print('Avg. RMSE: %0.3f' % (rmse.mean()))"
   ]
  },
  {
   "cell_type": "code",
   "execution_count": 13,
   "id": "afba29c7",
   "metadata": {},
   "outputs": [
    {
     "name": "stdout",
     "output_type": "stream",
     "text": [
      "Cross Validation:\n",
      "Elased time: 3.29s\n",
      "RMSE: [ 717.646  692.804  520.7    737.676  835.961 1006.237  991.342  747.612\n",
      "  891.994 1731.128]\n",
      "Avg. RMSE: 887.310\n"
     ]
    }
   ],
   "source": [
    "cross_validation(XGBRegressor(booster='gbtree'))"
   ]
  },
  {
   "cell_type": "code",
   "execution_count": 14,
   "id": "f9d97396",
   "metadata": {},
   "outputs": [
    {
     "name": "stdout",
     "output_type": "stream",
     "text": [
      "Cross Validation:\n",
      "Elased time: 2.46s\n",
      "RMSE: [8.51740585e+29 9.10722710e+29 2.27003521e+30 1.66249907e+30\n",
      " 3.05144271e+30 1.06123348e+30 3.89579617e+29 2.06699933e+29\n",
      " 4.62747006e+28 1.23599597e+26]\n",
      "Avg. RMSE: 1045035161444651994850189639680.000\n"
     ]
    }
   ],
   "source": [
    "cross_validation(XGBRegressor(booster='gblinear'))"
   ]
  },
  {
   "cell_type": "code",
   "execution_count": 15,
   "id": "0292d9bd",
   "metadata": {},
   "outputs": [
    {
     "name": "stdout",
     "output_type": "stream",
     "text": [
      "Cross Validation:\n",
      "Elased time: 5.72s\n",
      "RMSE: [ 574.362  589.35   523.466  718.081  833.296 1075.336  963.095  754.554\n",
      "  843.255 1762.242]\n",
      "Avg. RMSE: 863.704\n"
     ]
    }
   ],
   "source": [
    "cross_validation(XGBRegressor(booster='dart', one_drop=1))"
   ]
  },
  {
   "cell_type": "code",
   "execution_count": 16,
   "id": "f3525bf7",
   "metadata": {},
   "outputs": [
    {
     "name": "stdout",
     "output_type": "stream",
     "text": [
      "Cross Validation:\n",
      "Elased time: 0.05s\n",
      "RMSE: [ 504.007  840.55  1140.882  728.392  640.197  969.949 1133.448 1252.847\n",
      " 1084.636 1425.326]\n",
      "Avg. RMSE: 972.023\n"
     ]
    }
   ],
   "source": [
    "from sklearn.linear_model import LinearRegression, LogisticRegression\n",
    "\n",
    "cross_validation(LinearRegression())"
   ]
  },
  {
   "cell_type": "code",
   "execution_count": 17,
   "id": "506b3dfc",
   "metadata": {},
   "outputs": [
    {
     "name": "stdout",
     "output_type": "stream",
     "text": [
      "Cross Validation:\n",
      "Elased time: 0.08s\n",
      "RMSE: [ 491.917  830.768 1133.671  731.759  632.751  963.02  1139.191 1244.107\n",
      " 1065.067 1463.133]\n",
      "Avg. RMSE: 969.538\n"
     ]
    }
   ],
   "source": [
    "from sklearn.linear_model import Lasso\n",
    "\n",
    "cross_validation(Lasso())"
   ]
  },
  {
   "cell_type": "code",
   "execution_count": 18,
   "id": "5f30b761",
   "metadata": {},
   "outputs": [
    {
     "name": "stdout",
     "output_type": "stream",
     "text": [
      "Cross Validation:\n",
      "Elased time: 0.08s\n",
      "RMSE: [ 487.127  824.751 1098.441  735.696  632.238  969.021 1146.207 1226.545\n",
      " 1036.396 1491.762]\n",
      "Avg. RMSE: 964.818\n"
     ]
    }
   ],
   "source": [
    "from sklearn.linear_model import Ridge\n",
    "\n",
    "cross_validation(Ridge())"
   ]
  },
  {
   "cell_type": "code",
   "execution_count": 19,
   "id": "fb45fe1a",
   "metadata": {},
   "outputs": [
    {
     "name": "stdout",
     "output_type": "stream",
     "text": [
      "Cross Validation:\n",
      "Elased time: 2.98s\n",
      "RMSE: [ 804.041  553.833  535.123  809.471  833.764  731.149  844.001  791.023\n",
      "  758.921 2178.89 ]\n",
      "Avg. RMSE: 884.022\n"
     ]
    }
   ],
   "source": [
    "from sklearn.ensemble import RandomForestRegressor\n",
    "\n",
    "cross_validation(RandomForestRegressor())"
   ]
  },
  {
   "cell_type": "markdown",
   "id": "01ab46f2",
   "metadata": {},
   "source": [
    "## HPO"
   ]
  },
  {
   "cell_type": "markdown",
   "id": "14f0554c",
   "metadata": {},
   "source": [
    "### Default"
   ]
  },
  {
   "cell_type": "code",
   "execution_count": 20,
   "id": "8b075ee7",
   "metadata": {},
   "outputs": [
    {
     "name": "stdout",
     "output_type": "stream",
     "text": [
      "Elapsed time: 0.29s\n",
      "RMSE: 705.114\n"
     ]
    }
   ],
   "source": [
    "from xgboost import XGBRegressor\n",
    "from sklearn.model_selection import train_test_split\n",
    "from sklearn.metrics import mean_squared_error\n",
    "\n",
    "# Split train/test dataset\n",
    "X_train, X_test, y_train, y_test = train_test_split(X, y, random_state=2)\n",
    "\n",
    "# define model\n",
    "#model = XGBRegressor(booster='gbtree', objective='binary:logistic', \n",
    "#                        random_state=2, verbosity=0, use_label_encoder=False, n_jobs=-1)\n",
    "model = XGBRegressor(booster='gbtree', random_state=2, verbosity=0, use_label_encoder=False, n_jobs=-1)\n",
    "\n",
    "# default model accuacry \n",
    "def getAccuracy(model):\n",
    "    start = time.time()\n",
    "\n",
    "    model.fit(X_train, y_train)\n",
    "\n",
    "    y_pred = model.predict(X_test)\n",
    "\n",
    "    reg_mse = mean_squared_error(y_test, y_pred)\n",
    "    reg_rmse = np.sqrt(reg_mse)\n",
    "\n",
    "    print('Elapsed time: %0.2fs' % (time.time()-start))        \n",
    "    print('RMSE: %0.3f' % (reg_rmse))\n",
    "\n",
    "getAccuracy(model)"
   ]
  },
  {
   "cell_type": "code",
   "execution_count": 21,
   "id": "0f56864c",
   "metadata": {},
   "outputs": [
    {
     "name": "stdout",
     "output_type": "stream",
     "text": [
      "RMSE: 704.709\n",
      "RMSE: 705.114\n",
      "RMSE: 704.883\n",
      "RMSE: 704.872\n",
      "RMSE: 704.872\n",
      "Elapsed time: 1.97s\n",
      "\n",
      "Elased time: 1.97s\n",
      "best score: 704.71\n",
      "best param:  50\n"
     ]
    }
   ],
   "source": [
    "# n_estimators\n",
    "param = 'n_estimators'\n",
    "values = [50, 100, 200, 400, 800]\n",
    "best_param = 0\n",
    "best_score = 1e9\n",
    "cnt = 0\n",
    "start = time.time()\n",
    "\n",
    "for value in values:\n",
    "    start = time.time()\n",
    "    \n",
    "    xgb = XGBRegressor(booster='gbtree', n_estimators=value, \n",
    "                       random_state=2, verbosity=0, use_label_encoder=False, n_jobs=-1)\n",
    "    \n",
    "    xgb.fit(X_train, y_train)\n",
    "    \n",
    "    y_pred = xgb.predict(X_test)\n",
    "    \n",
    "    reg_mse = mean_squared_error(y_test, y_pred)\n",
    "    reg_rmse = np.sqrt(reg_mse)\n",
    "    \n",
    "    if best_score > reg_rmse:\n",
    "        best_score = reg_rmse\n",
    "        best_param = cnt\n",
    "\n",
    "    print('RMSE: %0.3f' % (reg_rmse))\n",
    "    cnt = cnt + 1\n",
    "\n",
    "print('Elapsed time: %0.2fs' % (time.time()-start))            \n",
    "print('\\nElased time: %0.2fs' % (time.time()-start))    \n",
    "print('best score: %0.2f' % (best_score))\n",
    "print('best param: ', values[best_param])"
   ]
  },
  {
   "cell_type": "markdown",
   "id": "1d1df3f9",
   "metadata": {},
   "source": [
    "## HPO: Randomized Search"
   ]
  },
  {
   "cell_type": "code",
   "execution_count": 22,
   "id": "7a9d4a8b",
   "metadata": {},
   "outputs": [],
   "source": [
    "# Utility function to report best scores\n",
    "def report(results, n_top=3):\n",
    "    for i in range(1, n_top + 1):\n",
    "        candidates = np.flatnonzero(results[\"rank_test_score\"] == i)\n",
    "        for candidate in candidates:\n",
    "            print(\"Model with rank: {0}\".format(i))\n",
    "            print(\n",
    "                \"Mean validation score(=RMSE): {0:.3f}\".format(\n",
    "                    np.sqrt(-results[\"mean_test_score\"][candidate]),\n",
    "                )\n",
    "            )\n",
    "            print(\"Parameters: {0}\".format(results[\"params\"][candidate]))\n",
    "            print(\"\")"
   ]
  },
  {
   "cell_type": "code",
   "execution_count": 23,
   "id": "a1dc5092",
   "metadata": {},
   "outputs": [],
   "source": [
    "from sklearn.model_selection import RandomizedSearchCV\n",
    "\n",
    "def randomized_search(params, runs=20): \n",
    "    xgb = XGBRegressor(booster='gbtree', random_state=2, verbosity=0, use_label_encoder=False, n_jobs=-1)\n",
    "    \n",
    "    # kfold = StratifiedKFold(n_splits=5, shuffle=True, random_state=2)    \n",
    "    # rand_reg = RandomizedSearchCV(xgb, params, cv=kfold, n_iter=runs, n_jobs=-1, random_state=2, scoring='neg_mean_squared_error')    \n",
    "    rand_reg = RandomizedSearchCV(xgb, params, cv=10, n_iter=runs, n_jobs=-1, random_state=2, scoring='neg_mean_squared_error')\n",
    "    \n",
    "    rand_reg.fit(X_train, y_train)    \n",
    "    \n",
    "    best_model = rand_reg.best_estimator_    \n",
    "    \n",
    "    best_params = rand_reg.best_params_\n",
    "    print(\"best parameter:\", best_params)\n",
    "    \n",
    "    best_score = rand_reg.best_score_\n",
    "    rmse = np.sqrt(-best_score)\n",
    "    print(\"best score: {:.3f}\".format(rmse))\n",
    "        \n",
    "    print(\"rand_reg.cv_results_: \", rand_reg.cv_results_)\n",
    "    \n",
    "    report(rand_reg.cv_results_)\n",
    "    \n",
    "    return best_model"
   ]
  },
  {
   "cell_type": "code",
   "execution_count": 24,
   "id": "33cacfe3",
   "metadata": {},
   "outputs": [
    {
     "name": "stdout",
     "output_type": "stream",
     "text": [
      "best parameter: {'subsample': 0.9, 'n_estimators': 800, 'max_depth': 2, 'learning_rate': 0.1}\n",
      "best score: 627.533\n",
      "rand_reg.cv_results_:  {'mean_fit_time': array([ 17.30332191,  85.96366246, 167.30137162, 871.57227056]), 'std_fit_time': array([ 0.90137398,  2.18542396,  5.81538352, 33.95184451]), 'mean_score_time': array([0.29684663, 0.2438123 , 0.26345882, 0.07734544]), 'std_score_time': array([0.10468295, 0.08261049, 0.11196867, 0.04227892]), 'param_subsample': masked_array(data=[0.9, 0.9, 0.9, 0.9],\n",
      "             mask=[False, False, False, False],\n",
      "       fill_value='?',\n",
      "            dtype=object), 'param_n_estimators': masked_array(data=[10, 50, 100, 800],\n",
      "             mask=[False, False, False, False],\n",
      "       fill_value='?',\n",
      "            dtype=object), 'param_max_depth': masked_array(data=[2, 2, 2, 2],\n",
      "             mask=[False, False, False, False],\n",
      "       fill_value='?',\n",
      "            dtype=object), 'param_learning_rate': masked_array(data=[0.1, 0.1, 0.1, 0.1],\n",
      "             mask=[False, False, False, False],\n",
      "       fill_value='?',\n",
      "            dtype=object), 'params': [{'subsample': 0.9, 'n_estimators': 10, 'max_depth': 2, 'learning_rate': 0.1}, {'subsample': 0.9, 'n_estimators': 50, 'max_depth': 2, 'learning_rate': 0.1}, {'subsample': 0.9, 'n_estimators': 100, 'max_depth': 2, 'learning_rate': 0.1}, {'subsample': 0.9, 'n_estimators': 800, 'max_depth': 2, 'learning_rate': 0.1}], 'split0_test_score': array([-4009471.10770611,  -409135.77148258,  -348422.87906557,\n",
      "        -270013.26938779]), 'split1_test_score': array([-3798724.93840872,  -357079.04120094,  -280109.24635505,\n",
      "        -308112.17504802]), 'split2_test_score': array([-3289454.77575365,  -265920.92882879,  -198002.18937174,\n",
      "        -192909.79421396]), 'split3_test_score': array([-3882677.81302825,  -796184.62403464,  -746494.53445949,\n",
      "        -745123.93678665]), 'split4_test_score': array([-4036635.35794155,  -490370.92073845,  -453433.27473705,\n",
      "        -400400.33471014]), 'split5_test_score': array([-4896610.01375768,  -641382.71294231,  -494082.66028671,\n",
      "        -338641.11108351]), 'split6_test_score': array([-4049335.85412056,  -424487.8511646 ,  -327460.11313564,\n",
      "        -386649.41991643]), 'split7_test_score': array([-3301714.9769616 ,  -342311.38616293,  -270214.72730206,\n",
      "        -340060.60068012]), 'split8_test_score': array([-3374000.8471324 ,  -690643.0524756 ,  -504448.83483107,\n",
      "        -471525.63264751]), 'split9_test_score': array([-3458111.73988414,  -566118.60075658,  -457935.29145095,\n",
      "        -484535.96693757]), 'mean_test_score': array([-3809673.74246947,  -498363.48897874,  -408060.37509953,\n",
      "        -393797.22414117]), 'std_test_score': array([466669.58465975, 162030.94980434, 150108.24253161, 143788.16092772]), 'rank_test_score': array([4, 3, 2, 1], dtype=int32)}\n",
      "Model with rank: 1\n",
      "Mean validation score(=RMSE): 627.533\n",
      "Parameters: {'subsample': 0.9, 'n_estimators': 800, 'max_depth': 2, 'learning_rate': 0.1}\n",
      "\n",
      "Model with rank: 2\n",
      "Mean validation score(=RMSE): 638.796\n",
      "Parameters: {'subsample': 0.9, 'n_estimators': 100, 'max_depth': 2, 'learning_rate': 0.1}\n",
      "\n",
      "Model with rank: 3\n",
      "Mean validation score(=RMSE): 705.949\n",
      "Parameters: {'subsample': 0.9, 'n_estimators': 50, 'max_depth': 2, 'learning_rate': 0.1}\n",
      "\n",
      "\n",
      "Elapsed time: 1021.91s\n"
     ]
    }
   ],
   "source": [
    "#        'n_estimators':[50, 100, 200],\n",
    "#        'learning_rate':[0.01, 0.05, 0.1, 0.2, 0.3, 0.4, 0.5],\n",
    "#        'max_depth':[1, 2, 3, 5, 6, 8],\n",
    "#        'gamma':[0, 0.01, 0.1, 0.5, 1, 2],\n",
    "#        'min_child_weight':[1, 2, 3, 4, 5],\n",
    "#        'subsample':[0.5, 0.7, 0.8, 0.9, 1],\n",
    "#        'colsample_bytree':[0.5, 0.7, 0.8, 0.9, 1],  \n",
    "\n",
    "start = time.time()\n",
    "\n",
    "best_model = randomized_search(\n",
    "    params={\n",
    "        'n_estimators':[10, 50, 100, 800],\n",
    "        'learning_rate':[0.1],\n",
    "        'max_depth':[2],\n",
    "        'subsample':[0.9],\n",
    "        }, \n",
    "    runs=20)\n",
    "\n",
    "print('\\nElapsed time: %0.2fs' % (time.time()-start))"
   ]
  },
  {
   "cell_type": "code",
   "execution_count": 25,
   "id": "76b40a24",
   "metadata": {},
   "outputs": [
    {
     "data": {
      "text/plain": [
       "{'objective': 'reg:squarederror',\n",
       " 'base_score': 0.5,\n",
       " 'booster': 'gbtree',\n",
       " 'colsample_bylevel': 1,\n",
       " 'colsample_bynode': 1,\n",
       " 'colsample_bytree': 1,\n",
       " 'enable_categorical': False,\n",
       " 'gamma': 0,\n",
       " 'gpu_id': -1,\n",
       " 'importance_type': None,\n",
       " 'interaction_constraints': '',\n",
       " 'learning_rate': 0.1,\n",
       " 'max_delta_step': 0,\n",
       " 'max_depth': 2,\n",
       " 'min_child_weight': 1,\n",
       " 'missing': nan,\n",
       " 'monotone_constraints': '()',\n",
       " 'n_estimators': 800,\n",
       " 'n_jobs': -1,\n",
       " 'num_parallel_tree': 1,\n",
       " 'predictor': 'auto',\n",
       " 'random_state': 2,\n",
       " 'reg_alpha': 0,\n",
       " 'reg_lambda': 1,\n",
       " 'scale_pos_weight': 1,\n",
       " 'subsample': 0.9,\n",
       " 'tree_method': 'exact',\n",
       " 'validate_parameters': 1,\n",
       " 'verbosity': 0,\n",
       " 'use_label_encoder': False}"
      ]
     },
     "execution_count": 25,
     "metadata": {},
     "output_type": "execute_result"
    }
   ],
   "source": [
    "best_model.get_params()"
   ]
  },
  {
   "cell_type": "markdown",
   "id": "f2b6d20e",
   "metadata": {},
   "source": [
    "## Evaluation"
   ]
  },
  {
   "cell_type": "code",
   "execution_count": 26,
   "id": "ed7f2058",
   "metadata": {},
   "outputs": [
    {
     "name": "stdout",
     "output_type": "stream",
     "text": [
      "Cross Validation:\n",
      "Elased time: 17.42s\n",
      "RMSE: [ 588.988  519.716  540.768  616.878  795.94   812.944  785.69   673.62\n",
      "  727.272 1222.469]\n",
      "Avg. RMSE: 728.428\n",
      "Elapsed time: 0.01s\n",
      "RMSE: 627.038\n"
     ]
    }
   ],
   "source": [
    "model = best_model\n",
    "\n",
    "def model_estimation(model):    \n",
    "    start = time.time()\n",
    "    \n",
    "    y_pred = model.predict(X_test)\n",
    "\n",
    "    reg_mse = mean_squared_error(y_test, y_pred)\n",
    "    reg_rmse = np.sqrt(reg_mse)\n",
    "\n",
    "    print('Elapsed time: %0.2fs' % (time.time()-start))    \n",
    "    \n",
    "    #print('RMSE:', np.round(rmse, 3))\n",
    "    print('RMSE: %0.3f' % (reg_rmse))\n",
    "    \n",
    "cross_validation(model)   \n",
    "model_estimation(model)    "
   ]
  },
  {
   "cell_type": "markdown",
   "id": "b771d152",
   "metadata": {},
   "source": [
    "## Feature Importances"
   ]
  },
  {
   "cell_type": "code",
   "execution_count": 27,
   "id": "e65084fa",
   "metadata": {},
   "outputs": [
    {
     "name": "stdout",
     "output_type": "stream",
     "text": [
      "Feature Importances:\n",
      "[0.16738097 0.22062384 0.         0.01791927 0.0166169  0.01444885\n",
      " 0.01693209 0.24576582 0.16632618 0.07720511 0.02798684 0.02879421]\n",
      "Looking in indexes: https://pypi.org/simple, https://pip.repos.neuron.amazonaws.com\n",
      "Requirement already satisfied: graphviz in /home/ec2-user/anaconda3/envs/amazonei_tensorflow2_p36/lib/python3.6/site-packages (0.19.1)\n"
     ]
    },
    {
     "data": {
      "image/png": "[encoded data removed]",
      "text/plain": [
       "<Figure size 1080x576 with 1 Axes>"
      ]
     },
     "metadata": {
      "needs_background": "light"
     },
     "output_type": "display_data"
    },
    {
     "data": {
      "image/png": "[encoded data removed]",
      "text/plain": [
       "<Figure size 1440x720 with 1 Axes>"
      ]
     },
     "metadata": {
      "needs_background": "light"
     },
     "output_type": "display_data"
    }
   ],
   "source": [
    "print('Feature Importances:')\n",
    "print(model.feature_importances_)\n",
    "\n",
    "import xgboost as xgb\n",
    "\n",
    "feature_data = xgb.DMatrix(X_test)\n",
    "model.get_booster().feature_names = feature_data.feature_names\n",
    "model.get_booster().feature_types = feature_data.feature_types\n",
    "\n",
    "import matplotlib.pyplot as plt\n",
    "\n",
    "fig, ax = plt.subplots(figsize=(15, 8))\n",
    "xgb.plot_importance(model, ax=ax, importance_type='gain')\n",
    "\n",
    "!pip install graphviz\n",
    "\n",
    "xgb.plot_tree(model, num_trees=0, rankdir='LR')\n",
    "\n",
    "fig = plt.gcf()\n",
    "fig.set_size_inches(20, 10)\n",
    "plt.show()"
   ]
  },
  {
   "cell_type": "markdown",
   "id": "b6fd7eaa",
   "metadata": {},
   "source": [
    "### HPO (book recommendation)"
   ]
  },
  {
   "cell_type": "code",
   "execution_count": 28,
   "id": "6b7993ae",
   "metadata": {},
   "outputs": [
    {
     "name": "stdout",
     "output_type": "stream",
     "text": [
      "RMSE: 584.34\n"
     ]
    }
   ],
   "source": [
    "from xgboost import XGBRegressor\n",
    "\n",
    "xg_reg = XGBRegressor(max_depth=3, n_estimators=1600, eta=0.02, subsample=0.75, random_state=2)\n",
    "\n",
    "xg_reg.fit(X_train, y_train)\n",
    "\n",
    "y_pred = xg_reg.predict(X_test)\n",
    "\n",
    "rmse = mean_squared_error(y_test, y_pred)**0.5\n",
    "\n",
    "print(\"RMSE: %0.2f\" % (rmse))"
   ]
  }
 ],
 "metadata": {
  "kernelspec": {
   "display_name": "conda_amazonei_tensorflow2_p36",
   "language": "python",
   "name": "conda_amazonei_tensorflow2_p36"
  },
  "language_info": {
   "codemirror_mode": {
    "name": "ipython",
    "version": 3
   },
   "file_extension": ".py",
   "mimetype": "text/x-python",
   "name": "python",
   "nbconvert_exporter": "python",
   "pygments_lexer": "ipython3",
   "version": "3.6.13"
  }
 },
 "nbformat": 4,
 "nbformat_minor": 5
}
