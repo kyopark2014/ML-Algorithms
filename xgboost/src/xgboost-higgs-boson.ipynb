{
 "cells": [
  {
   "cell_type": "markdown",
   "id": "5a06e664",
   "metadata": {},
   "source": [
    "# XGBoost - Higgs Boson (Classification)\n",
    "[ch5-advanced-xgboost-unveiled.ipynb](https://github.com/kyopark2014/ML-Algorithms/blob/main/xgboost/src/ch5-advanced-xgboost-unveiled.ipynb)"
   ]
  },
  {
   "cell_type": "code",
   "execution_count": 1,
   "id": "2373faad",
   "metadata": {},
   "outputs": [
    {
     "name": "stdout",
     "output_type": "stream",
     "text": [
      "Looking in indexes: https://pypi.org/simple, https://pip.repos.neuron.amazonaws.com\n",
      "Requirement already satisfied: xgboost in /home/ec2-user/anaconda3/envs/amazonei_tensorflow2_p36/lib/python3.6/site-packages (1.5.2)\n",
      "Requirement already satisfied: numpy in /home/ec2-user/anaconda3/envs/amazonei_tensorflow2_p36/lib/python3.6/site-packages (from xgboost) (1.19.5)\n",
      "Requirement already satisfied: scipy in /home/ec2-user/anaconda3/envs/amazonei_tensorflow2_p36/lib/python3.6/site-packages (from xgboost) (1.5.3)\n"
     ]
    }
   ],
   "source": [
    "!pip install xgboost"
   ]
  },
  {
   "cell_type": "code",
   "execution_count": 2,
   "id": "811b7b33",
   "metadata": {},
   "outputs": [],
   "source": [
    "import warnings\n",
    "warnings.filterwarnings('ignore')"
   ]
  },
  {
   "cell_type": "code",
   "execution_count": 3,
   "id": "3507ba6f",
   "metadata": {},
   "outputs": [],
   "source": [
    "import numpy as np\n",
    "import pandas as pd\n",
    "import time"
   ]
  },
  {
   "cell_type": "code",
   "execution_count": 4,
   "id": "482e37b7",
   "metadata": {},
   "outputs": [],
   "source": [
    "import xgboost as xgb\n",
    "xgb.set_config(verbosity=0)"
   ]
  },
  {
   "cell_type": "code",
   "execution_count": 5,
   "id": "d750d7f0",
   "metadata": {},
   "outputs": [
    {
     "data": {
      "text/html": [
       "<div>\n",
       "<style scoped>\n",
       "    .dataframe tbody tr th:only-of-type {\n",
       "        vertical-align: middle;\n",
       "    }\n",
       "\n",
       "    .dataframe tbody tr th {\n",
       "        vertical-align: top;\n",
       "    }\n",
       "\n",
       "    .dataframe thead th {\n",
       "        text-align: right;\n",
       "    }\n",
       "</style>\n",
       "<table border=\"1\" class=\"dataframe\">\n",
       "  <thead>\n",
       "    <tr style=\"text-align: right;\">\n",
       "      <th></th>\n",
       "      <th>EventId</th>\n",
       "      <th>DER_mass_MMC</th>\n",
       "      <th>DER_mass_transverse_met_lep</th>\n",
       "      <th>DER_mass_vis</th>\n",
       "      <th>DER_pt_h</th>\n",
       "      <th>DER_deltaeta_jet_jet</th>\n",
       "      <th>DER_mass_jet_jet</th>\n",
       "      <th>DER_prodeta_jet_jet</th>\n",
       "      <th>DER_deltar_tau_lep</th>\n",
       "      <th>DER_pt_tot</th>\n",
       "      <th>...</th>\n",
       "      <th>PRI_jet_leading_eta</th>\n",
       "      <th>PRI_jet_leading_phi</th>\n",
       "      <th>PRI_jet_subleading_pt</th>\n",
       "      <th>PRI_jet_subleading_eta</th>\n",
       "      <th>PRI_jet_subleading_phi</th>\n",
       "      <th>PRI_jet_all_pt</th>\n",
       "      <th>Weight</th>\n",
       "      <th>Label</th>\n",
       "      <th>KaggleSet</th>\n",
       "      <th>KaggleWeight</th>\n",
       "    </tr>\n",
       "  </thead>\n",
       "  <tbody>\n",
       "    <tr>\n",
       "      <th>0</th>\n",
       "      <td>100000</td>\n",
       "      <td>138.470</td>\n",
       "      <td>51.655</td>\n",
       "      <td>97.827</td>\n",
       "      <td>27.980</td>\n",
       "      <td>0.91</td>\n",
       "      <td>124.711</td>\n",
       "      <td>2.666</td>\n",
       "      <td>3.064</td>\n",
       "      <td>41.928</td>\n",
       "      <td>...</td>\n",
       "      <td>2.150</td>\n",
       "      <td>0.444</td>\n",
       "      <td>46.062</td>\n",
       "      <td>1.24</td>\n",
       "      <td>-2.475</td>\n",
       "      <td>113.497</td>\n",
       "      <td>0.000814</td>\n",
       "      <td>s</td>\n",
       "      <td>t</td>\n",
       "      <td>0.002653</td>\n",
       "    </tr>\n",
       "    <tr>\n",
       "      <th>1</th>\n",
       "      <td>100001</td>\n",
       "      <td>160.937</td>\n",
       "      <td>68.768</td>\n",
       "      <td>103.235</td>\n",
       "      <td>48.146</td>\n",
       "      <td>-999.00</td>\n",
       "      <td>-999.000</td>\n",
       "      <td>-999.000</td>\n",
       "      <td>3.473</td>\n",
       "      <td>2.078</td>\n",
       "      <td>...</td>\n",
       "      <td>0.725</td>\n",
       "      <td>1.158</td>\n",
       "      <td>-999.000</td>\n",
       "      <td>-999.00</td>\n",
       "      <td>-999.000</td>\n",
       "      <td>46.226</td>\n",
       "      <td>0.681042</td>\n",
       "      <td>b</td>\n",
       "      <td>t</td>\n",
       "      <td>2.233584</td>\n",
       "    </tr>\n",
       "    <tr>\n",
       "      <th>2</th>\n",
       "      <td>100002</td>\n",
       "      <td>-999.000</td>\n",
       "      <td>162.172</td>\n",
       "      <td>125.953</td>\n",
       "      <td>35.635</td>\n",
       "      <td>-999.00</td>\n",
       "      <td>-999.000</td>\n",
       "      <td>-999.000</td>\n",
       "      <td>3.148</td>\n",
       "      <td>9.336</td>\n",
       "      <td>...</td>\n",
       "      <td>2.053</td>\n",
       "      <td>-2.028</td>\n",
       "      <td>-999.000</td>\n",
       "      <td>-999.00</td>\n",
       "      <td>-999.000</td>\n",
       "      <td>44.251</td>\n",
       "      <td>0.715742</td>\n",
       "      <td>b</td>\n",
       "      <td>t</td>\n",
       "      <td>2.347389</td>\n",
       "    </tr>\n",
       "    <tr>\n",
       "      <th>3</th>\n",
       "      <td>100003</td>\n",
       "      <td>143.905</td>\n",
       "      <td>81.417</td>\n",
       "      <td>80.943</td>\n",
       "      <td>0.414</td>\n",
       "      <td>-999.00</td>\n",
       "      <td>-999.000</td>\n",
       "      <td>-999.000</td>\n",
       "      <td>3.310</td>\n",
       "      <td>0.414</td>\n",
       "      <td>...</td>\n",
       "      <td>-999.000</td>\n",
       "      <td>-999.000</td>\n",
       "      <td>-999.000</td>\n",
       "      <td>-999.00</td>\n",
       "      <td>-999.000</td>\n",
       "      <td>-0.000</td>\n",
       "      <td>1.660654</td>\n",
       "      <td>b</td>\n",
       "      <td>t</td>\n",
       "      <td>5.446378</td>\n",
       "    </tr>\n",
       "    <tr>\n",
       "      <th>4</th>\n",
       "      <td>100004</td>\n",
       "      <td>175.864</td>\n",
       "      <td>16.915</td>\n",
       "      <td>134.805</td>\n",
       "      <td>16.405</td>\n",
       "      <td>-999.00</td>\n",
       "      <td>-999.000</td>\n",
       "      <td>-999.000</td>\n",
       "      <td>3.891</td>\n",
       "      <td>16.405</td>\n",
       "      <td>...</td>\n",
       "      <td>-999.000</td>\n",
       "      <td>-999.000</td>\n",
       "      <td>-999.000</td>\n",
       "      <td>-999.00</td>\n",
       "      <td>-999.000</td>\n",
       "      <td>0.000</td>\n",
       "      <td>1.904263</td>\n",
       "      <td>b</td>\n",
       "      <td>t</td>\n",
       "      <td>6.245333</td>\n",
       "    </tr>\n",
       "  </tbody>\n",
       "</table>\n",
       "<p>5 rows × 35 columns</p>\n",
       "</div>"
      ],
      "text/plain": [
       "   EventId  DER_mass_MMC  DER_mass_transverse_met_lep  DER_mass_vis  DER_pt_h  \\\n",
       "0   100000       138.470                       51.655        97.827    27.980   \n",
       "1   100001       160.937                       68.768       103.235    48.146   \n",
       "2   100002      -999.000                      162.172       125.953    35.635   \n",
       "3   100003       143.905                       81.417        80.943     0.414   \n",
       "4   100004       175.864                       16.915       134.805    16.405   \n",
       "\n",
       "   DER_deltaeta_jet_jet  DER_mass_jet_jet  DER_prodeta_jet_jet  \\\n",
       "0                  0.91           124.711                2.666   \n",
       "1               -999.00          -999.000             -999.000   \n",
       "2               -999.00          -999.000             -999.000   \n",
       "3               -999.00          -999.000             -999.000   \n",
       "4               -999.00          -999.000             -999.000   \n",
       "\n",
       "   DER_deltar_tau_lep  DER_pt_tot  ...  PRI_jet_leading_eta  \\\n",
       "0               3.064      41.928  ...                2.150   \n",
       "1               3.473       2.078  ...                0.725   \n",
       "2               3.148       9.336  ...                2.053   \n",
       "3               3.310       0.414  ...             -999.000   \n",
       "4               3.891      16.405  ...             -999.000   \n",
       "\n",
       "   PRI_jet_leading_phi  PRI_jet_subleading_pt  PRI_jet_subleading_eta  \\\n",
       "0                0.444                 46.062                    1.24   \n",
       "1                1.158               -999.000                 -999.00   \n",
       "2               -2.028               -999.000                 -999.00   \n",
       "3             -999.000               -999.000                 -999.00   \n",
       "4             -999.000               -999.000                 -999.00   \n",
       "\n",
       "   PRI_jet_subleading_phi  PRI_jet_all_pt    Weight  Label  KaggleSet  \\\n",
       "0                  -2.475         113.497  0.000814      s          t   \n",
       "1                -999.000          46.226  0.681042      b          t   \n",
       "2                -999.000          44.251  0.715742      b          t   \n",
       "3                -999.000          -0.000  1.660654      b          t   \n",
       "4                -999.000           0.000  1.904263      b          t   \n",
       "\n",
       "   KaggleWeight  \n",
       "0      0.002653  \n",
       "1      2.233584  \n",
       "2      2.347389  \n",
       "3      5.446378  \n",
       "4      6.245333  \n",
       "\n",
       "[5 rows x 35 columns]"
      ]
     },
     "execution_count": 5,
     "metadata": {},
     "output_type": "execute_result"
    }
   ],
   "source": [
    "import pandas as pd\n",
    "import numpy as np\n",
    "\n",
    "# df = pd.read_csv('atlas-higgs-challenge-2014-v2.csv.gz', nrows=250000, compression='gzip')\n",
    "df = pd.read_csv('https://raw.githubusercontent.com/rickiepark/handson-gb/main/Chapter05/atlas-higgs-challenge-2014-v2.csv.gz', nrows=250000, compression='gzip')\n",
    "    \n",
    "df.head()"
   ]
  },
  {
   "cell_type": "code",
   "execution_count": 6,
   "id": "cd7e0f83",
   "metadata": {},
   "outputs": [],
   "source": [
    "df = df.drop(['Weight', 'KaggleSet', 'Label'], axis=1).assign(Label=df['Label'])\n",
    "df = df.rename(columns={'KaggleWeight': 'Weight'})"
   ]
  },
  {
   "cell_type": "code",
   "execution_count": 7,
   "id": "16f9a80c",
   "metadata": {},
   "outputs": [
    {
     "data": {
      "text/html": [
       "<div>\n",
       "<style scoped>\n",
       "    .dataframe tbody tr th:only-of-type {\n",
       "        vertical-align: middle;\n",
       "    }\n",
       "\n",
       "    .dataframe tbody tr th {\n",
       "        vertical-align: top;\n",
       "    }\n",
       "\n",
       "    .dataframe thead th {\n",
       "        text-align: right;\n",
       "    }\n",
       "</style>\n",
       "<table border=\"1\" class=\"dataframe\">\n",
       "  <thead>\n",
       "    <tr style=\"text-align: right;\">\n",
       "      <th></th>\n",
       "      <th>EventId</th>\n",
       "      <th>DER_mass_MMC</th>\n",
       "      <th>DER_mass_transverse_met_lep</th>\n",
       "      <th>DER_mass_vis</th>\n",
       "      <th>DER_pt_h</th>\n",
       "      <th>DER_deltaeta_jet_jet</th>\n",
       "      <th>DER_mass_jet_jet</th>\n",
       "      <th>DER_prodeta_jet_jet</th>\n",
       "      <th>DER_deltar_tau_lep</th>\n",
       "      <th>DER_pt_tot</th>\n",
       "      <th>...</th>\n",
       "      <th>PRI_jet_num</th>\n",
       "      <th>PRI_jet_leading_pt</th>\n",
       "      <th>PRI_jet_leading_eta</th>\n",
       "      <th>PRI_jet_leading_phi</th>\n",
       "      <th>PRI_jet_subleading_pt</th>\n",
       "      <th>PRI_jet_subleading_eta</th>\n",
       "      <th>PRI_jet_subleading_phi</th>\n",
       "      <th>PRI_jet_all_pt</th>\n",
       "      <th>Weight</th>\n",
       "      <th>Label</th>\n",
       "    </tr>\n",
       "  </thead>\n",
       "  <tbody>\n",
       "    <tr>\n",
       "      <th>0</th>\n",
       "      <td>100000</td>\n",
       "      <td>138.470</td>\n",
       "      <td>51.655</td>\n",
       "      <td>97.827</td>\n",
       "      <td>27.980</td>\n",
       "      <td>0.91</td>\n",
       "      <td>124.711</td>\n",
       "      <td>2.666</td>\n",
       "      <td>3.064</td>\n",
       "      <td>41.928</td>\n",
       "      <td>...</td>\n",
       "      <td>2</td>\n",
       "      <td>67.435</td>\n",
       "      <td>2.150</td>\n",
       "      <td>0.444</td>\n",
       "      <td>46.062</td>\n",
       "      <td>1.24</td>\n",
       "      <td>-2.475</td>\n",
       "      <td>113.497</td>\n",
       "      <td>0.002653</td>\n",
       "      <td>s</td>\n",
       "    </tr>\n",
       "    <tr>\n",
       "      <th>1</th>\n",
       "      <td>100001</td>\n",
       "      <td>160.937</td>\n",
       "      <td>68.768</td>\n",
       "      <td>103.235</td>\n",
       "      <td>48.146</td>\n",
       "      <td>-999.00</td>\n",
       "      <td>-999.000</td>\n",
       "      <td>-999.000</td>\n",
       "      <td>3.473</td>\n",
       "      <td>2.078</td>\n",
       "      <td>...</td>\n",
       "      <td>1</td>\n",
       "      <td>46.226</td>\n",
       "      <td>0.725</td>\n",
       "      <td>1.158</td>\n",
       "      <td>-999.000</td>\n",
       "      <td>-999.00</td>\n",
       "      <td>-999.000</td>\n",
       "      <td>46.226</td>\n",
       "      <td>2.233584</td>\n",
       "      <td>b</td>\n",
       "    </tr>\n",
       "    <tr>\n",
       "      <th>2</th>\n",
       "      <td>100002</td>\n",
       "      <td>-999.000</td>\n",
       "      <td>162.172</td>\n",
       "      <td>125.953</td>\n",
       "      <td>35.635</td>\n",
       "      <td>-999.00</td>\n",
       "      <td>-999.000</td>\n",
       "      <td>-999.000</td>\n",
       "      <td>3.148</td>\n",
       "      <td>9.336</td>\n",
       "      <td>...</td>\n",
       "      <td>1</td>\n",
       "      <td>44.251</td>\n",
       "      <td>2.053</td>\n",
       "      <td>-2.028</td>\n",
       "      <td>-999.000</td>\n",
       "      <td>-999.00</td>\n",
       "      <td>-999.000</td>\n",
       "      <td>44.251</td>\n",
       "      <td>2.347389</td>\n",
       "      <td>b</td>\n",
       "    </tr>\n",
       "    <tr>\n",
       "      <th>3</th>\n",
       "      <td>100003</td>\n",
       "      <td>143.905</td>\n",
       "      <td>81.417</td>\n",
       "      <td>80.943</td>\n",
       "      <td>0.414</td>\n",
       "      <td>-999.00</td>\n",
       "      <td>-999.000</td>\n",
       "      <td>-999.000</td>\n",
       "      <td>3.310</td>\n",
       "      <td>0.414</td>\n",
       "      <td>...</td>\n",
       "      <td>0</td>\n",
       "      <td>-999.000</td>\n",
       "      <td>-999.000</td>\n",
       "      <td>-999.000</td>\n",
       "      <td>-999.000</td>\n",
       "      <td>-999.00</td>\n",
       "      <td>-999.000</td>\n",
       "      <td>-0.000</td>\n",
       "      <td>5.446378</td>\n",
       "      <td>b</td>\n",
       "    </tr>\n",
       "    <tr>\n",
       "      <th>4</th>\n",
       "      <td>100004</td>\n",
       "      <td>175.864</td>\n",
       "      <td>16.915</td>\n",
       "      <td>134.805</td>\n",
       "      <td>16.405</td>\n",
       "      <td>-999.00</td>\n",
       "      <td>-999.000</td>\n",
       "      <td>-999.000</td>\n",
       "      <td>3.891</td>\n",
       "      <td>16.405</td>\n",
       "      <td>...</td>\n",
       "      <td>0</td>\n",
       "      <td>-999.000</td>\n",
       "      <td>-999.000</td>\n",
       "      <td>-999.000</td>\n",
       "      <td>-999.000</td>\n",
       "      <td>-999.00</td>\n",
       "      <td>-999.000</td>\n",
       "      <td>0.000</td>\n",
       "      <td>6.245333</td>\n",
       "      <td>b</td>\n",
       "    </tr>\n",
       "  </tbody>\n",
       "</table>\n",
       "<p>5 rows × 33 columns</p>\n",
       "</div>"
      ],
      "text/plain": [
       "   EventId  DER_mass_MMC  DER_mass_transverse_met_lep  DER_mass_vis  DER_pt_h  \\\n",
       "0   100000       138.470                       51.655        97.827    27.980   \n",
       "1   100001       160.937                       68.768       103.235    48.146   \n",
       "2   100002      -999.000                      162.172       125.953    35.635   \n",
       "3   100003       143.905                       81.417        80.943     0.414   \n",
       "4   100004       175.864                       16.915       134.805    16.405   \n",
       "\n",
       "   DER_deltaeta_jet_jet  DER_mass_jet_jet  DER_prodeta_jet_jet  \\\n",
       "0                  0.91           124.711                2.666   \n",
       "1               -999.00          -999.000             -999.000   \n",
       "2               -999.00          -999.000             -999.000   \n",
       "3               -999.00          -999.000             -999.000   \n",
       "4               -999.00          -999.000             -999.000   \n",
       "\n",
       "   DER_deltar_tau_lep  DER_pt_tot  ...  PRI_jet_num  PRI_jet_leading_pt  \\\n",
       "0               3.064      41.928  ...            2              67.435   \n",
       "1               3.473       2.078  ...            1              46.226   \n",
       "2               3.148       9.336  ...            1              44.251   \n",
       "3               3.310       0.414  ...            0            -999.000   \n",
       "4               3.891      16.405  ...            0            -999.000   \n",
       "\n",
       "   PRI_jet_leading_eta  PRI_jet_leading_phi  PRI_jet_subleading_pt  \\\n",
       "0                2.150                0.444                 46.062   \n",
       "1                0.725                1.158               -999.000   \n",
       "2                2.053               -2.028               -999.000   \n",
       "3             -999.000             -999.000               -999.000   \n",
       "4             -999.000             -999.000               -999.000   \n",
       "\n",
       "   PRI_jet_subleading_eta  PRI_jet_subleading_phi  PRI_jet_all_pt    Weight  \\\n",
       "0                    1.24                  -2.475         113.497  0.002653   \n",
       "1                 -999.00                -999.000          46.226  2.233584   \n",
       "2                 -999.00                -999.000          44.251  2.347389   \n",
       "3                 -999.00                -999.000          -0.000  5.446378   \n",
       "4                 -999.00                -999.000           0.000  6.245333   \n",
       "\n",
       "   Label  \n",
       "0      s  \n",
       "1      b  \n",
       "2      b  \n",
       "3      b  \n",
       "4      b  \n",
       "\n",
       "[5 rows x 33 columns]"
      ]
     },
     "execution_count": 7,
     "metadata": {},
     "output_type": "execute_result"
    }
   ],
   "source": [
    "df.head()"
   ]
  },
  {
   "cell_type": "code",
   "execution_count": 8,
   "id": "b6470398",
   "metadata": {},
   "outputs": [
    {
     "name": "stdout",
     "output_type": "stream",
     "text": [
      "<class 'pandas.core.frame.DataFrame'>\n",
      "RangeIndex: 250000 entries, 0 to 249999\n",
      "Data columns (total 33 columns):\n",
      " #   Column                       Non-Null Count   Dtype  \n",
      "---  ------                       --------------   -----  \n",
      " 0   EventId                      250000 non-null  int64  \n",
      " 1   DER_mass_MMC                 250000 non-null  float64\n",
      " 2   DER_mass_transverse_met_lep  250000 non-null  float64\n",
      " 3   DER_mass_vis                 250000 non-null  float64\n",
      " 4   DER_pt_h                     250000 non-null  float64\n",
      " 5   DER_deltaeta_jet_jet         250000 non-null  float64\n",
      " 6   DER_mass_jet_jet             250000 non-null  float64\n",
      " 7   DER_prodeta_jet_jet          250000 non-null  float64\n",
      " 8   DER_deltar_tau_lep           250000 non-null  float64\n",
      " 9   DER_pt_tot                   250000 non-null  float64\n",
      " 10  DER_sum_pt                   250000 non-null  float64\n",
      " 11  DER_pt_ratio_lep_tau         250000 non-null  float64\n",
      " 12  DER_met_phi_centrality       250000 non-null  float64\n",
      " 13  DER_lep_eta_centrality       250000 non-null  float64\n",
      " 14  PRI_tau_pt                   250000 non-null  float64\n",
      " 15  PRI_tau_eta                  250000 non-null  float64\n",
      " 16  PRI_tau_phi                  250000 non-null  float64\n",
      " 17  PRI_lep_pt                   250000 non-null  float64\n",
      " 18  PRI_lep_eta                  250000 non-null  float64\n",
      " 19  PRI_lep_phi                  250000 non-null  float64\n",
      " 20  PRI_met                      250000 non-null  float64\n",
      " 21  PRI_met_phi                  250000 non-null  float64\n",
      " 22  PRI_met_sumet                250000 non-null  float64\n",
      " 23  PRI_jet_num                  250000 non-null  int64  \n",
      " 24  PRI_jet_leading_pt           250000 non-null  float64\n",
      " 25  PRI_jet_leading_eta          250000 non-null  float64\n",
      " 26  PRI_jet_leading_phi          250000 non-null  float64\n",
      " 27  PRI_jet_subleading_pt        250000 non-null  float64\n",
      " 28  PRI_jet_subleading_eta       250000 non-null  float64\n",
      " 29  PRI_jet_subleading_phi       250000 non-null  float64\n",
      " 30  PRI_jet_all_pt               250000 non-null  float64\n",
      " 31  Weight                       250000 non-null  float64\n",
      " 32  Label                        250000 non-null  object \n",
      "dtypes: float64(30), int64(2), object(1)\n",
      "memory usage: 62.9+ MB\n"
     ]
    }
   ],
   "source": [
    "df.info()"
   ]
  },
  {
   "cell_type": "code",
   "execution_count": 9,
   "id": "e2415589",
   "metadata": {},
   "outputs": [
    {
     "data": {
      "text/plain": [
       "0"
      ]
     },
     "execution_count": 9,
     "metadata": {},
     "output_type": "execute_result"
    }
   ],
   "source": [
    "df.isna().sum().sum()"
   ]
  },
  {
   "cell_type": "markdown",
   "id": "b69c1ac5",
   "metadata": {},
   "source": [
    "### Replace feature values"
   ]
  },
  {
   "cell_type": "code",
   "execution_count": 10,
   "id": "19d00728",
   "metadata": {},
   "outputs": [
    {
     "data": {
      "text/plain": [
       "b    164333\n",
       "s     85667\n",
       "Name: Label, dtype: int64"
      ]
     },
     "execution_count": 10,
     "metadata": {},
     "output_type": "execute_result"
    }
   ],
   "source": [
    "df['Label'].value_counts()"
   ]
  },
  {
   "cell_type": "code",
   "execution_count": 11,
   "id": "2e898624",
   "metadata": {},
   "outputs": [],
   "source": [
    "df['Label'].replace(('s', 'b'), (1, 0), inplace=True)"
   ]
  },
  {
   "cell_type": "code",
   "execution_count": 12,
   "id": "afb1d78b",
   "metadata": {},
   "outputs": [
    {
     "data": {
      "text/plain": [
       "0    164333\n",
       "1     85667\n",
       "Name: Label, dtype: int64"
      ]
     },
     "execution_count": 12,
     "metadata": {},
     "output_type": "execute_result"
    }
   ],
   "source": [
    "df['Label'].value_counts()"
   ]
  },
  {
   "cell_type": "markdown",
   "id": "78790e6c",
   "metadata": {},
   "source": [
    "## Define Feature and Target"
   ]
  },
  {
   "cell_type": "code",
   "execution_count": 13,
   "id": "5dba0996",
   "metadata": {},
   "outputs": [],
   "source": [
    "X = df.iloc[:,1:31]\n",
    "y = df.iloc[:,-1]"
   ]
  },
  {
   "cell_type": "markdown",
   "id": "93e690b5",
   "metadata": {},
   "source": [
    "## Classification Model Selection"
   ]
  },
  {
   "cell_type": "code",
   "execution_count": 14,
   "id": "8baecf75",
   "metadata": {},
   "outputs": [],
   "source": [
    "from xgboost import XGBClassifier\n",
    "\n",
    "from sklearn.model_selection import StratifiedKFold\n",
    "from sklearn.model_selection import cross_val_score\n",
    "\n",
    "kfold = StratifiedKFold(n_splits=5)\n",
    "\n",
    "def cross_validation(model):\n",
    "    start = time.time()\n",
    "    \n",
    "    scores = cross_val_score(model, X, y, scoring='accuracy', cv=kfold)\n",
    "    # scores = cross_val_score(model, X, y, scoring='recall', cv=kfold)\n",
    "    \n",
    "    print('Cross Validation:')\n",
    "    print('Elased time: %0.2fs' % (time.time()-start))\n",
    "    print('Accuracy:', np.round(scores, 2))\n",
    "    print('Avg. Accuracy: %0.2f' % (scores.mean()))"
   ]
  },
  {
   "cell_type": "code",
   "execution_count": 15,
   "id": "f9de9899",
   "metadata": {},
   "outputs": [
    {
     "name": "stdout",
     "output_type": "stream",
     "text": [
      "Cross Validation:\n",
      "Elased time: 59.85s\n",
      "Accuracy: [0.84 0.84 0.84 0.84 0.84]\n",
      "Avg. Accuracy: 0.84\n"
     ]
    }
   ],
   "source": [
    "cross_validation(XGBClassifier(booster='gbtree'))  # default"
   ]
  },
  {
   "cell_type": "code",
   "execution_count": 16,
   "id": "6ef83a6b",
   "metadata": {},
   "outputs": [
    {
     "name": "stdout",
     "output_type": "stream",
     "text": [
      "Cross Validation:\n",
      "Elased time: 5.15s\n",
      "Accuracy: [0.69 0.67 0.35 0.66 0.69]\n",
      "Avg. Accuracy: 0.61\n"
     ]
    }
   ],
   "source": [
    "cross_validation(XGBClassifier(booster='gblinear'))"
   ]
  },
  {
   "cell_type": "code",
   "execution_count": 18,
   "id": "b1a8fded",
   "metadata": {},
   "outputs": [
    {
     "name": "stdout",
     "output_type": "stream",
     "text": [
      "Cross Validation:\n",
      "Elased time: 121.43s\n",
      "Accuracy: [0.84 0.84 0.84 0.84 0.84]\n",
      "Avg. Accuracy: 0.84\n"
     ]
    }
   ],
   "source": [
    "cross_validation(XGBClassifier(booster='dart', one_drop=1))"
   ]
  },
  {
   "cell_type": "code",
   "execution_count": 19,
   "id": "88e2282f",
   "metadata": {},
   "outputs": [
    {
     "name": "stdout",
     "output_type": "stream",
     "text": [
      "Cross Validation:\n",
      "Elased time: 514.90s\n",
      "Accuracy: [0.84 0.84 0.84 0.84 0.84]\n",
      "Avg. Accuracy: 0.84\n"
     ]
    }
   ],
   "source": [
    "from sklearn.ensemble import RandomForestClassifier\n",
    "\n",
    "cross_validation(RandomForestClassifier())"
   ]
  },
  {
   "cell_type": "markdown",
   "id": "b86d05fd",
   "metadata": {},
   "source": [
    "## HPO"
   ]
  },
  {
   "cell_type": "markdown",
   "id": "679a50f7",
   "metadata": {},
   "source": [
    "### Default"
   ]
  },
  {
   "cell_type": "code",
   "execution_count": 20,
   "id": "14cb0518",
   "metadata": {},
   "outputs": [],
   "source": [
    "from xgboost import XGBClassifier\n",
    "from sklearn.model_selection import train_test_split\n",
    "from sklearn.metrics import accuracy_score\n",
    "\n",
    "# Split train/test dataset\n",
    "X_train, X_test, y_train, y_test = train_test_split(X, y, random_state=2)\n",
    "\n",
    "# Utility function to estimate accuracy scores\n",
    "def model_estimation(model):    \n",
    "    start = time.time()\n",
    "    y_pred = model.predict(X_test)\n",
    "\n",
    "    from sklearn.metrics import confusion_matrix\n",
    "    print('\\nConfusion Matrix:')\n",
    "    print(confusion_matrix(y_test, y_pred))\n",
    "\n",
    "    from sklearn.metrics import classification_report\n",
    "    print('\\nClassification Report:')\n",
    "    print(classification_report(y_true=y_test, y_pred = y_pred))\n",
    "\n",
    "    from sklearn.metrics import accuracy_score, recall_score, precision_score, f1_score\n",
    "    print('Accuracy Score: %0.2f' % (accuracy_score(y_test,y_pred)))\n",
    "    print('Precision Score: %0.2f' % (precision_score(y_test,y_pred)))\n",
    "    print('Recall Score: %0.2f' % (recall_score(y_test,y_pred)))\n",
    "    print('F1 Score: %0.2f' % (f1_score(y_test,y_pred)))\n",
    "    print('Elapsed time: %0.2fs' % (time.time()-start)) \n",
    "    \n",
    "    return accuracy_score(y_test,y_pred)"
   ]
  },
  {
   "cell_type": "code",
   "execution_count": 21,
   "id": "d4828cf6",
   "metadata": {},
   "outputs": [
    {
     "name": "stdout",
     "output_type": "stream",
     "text": [
      "\n",
      "Confusion Matrix:\n",
      "[[36778  4242]\n",
      " [ 5792 15688]]\n",
      "\n",
      "Classification Report:\n",
      "              precision    recall  f1-score   support\n",
      "\n",
      "           0       0.86      0.90      0.88     41020\n",
      "           1       0.79      0.73      0.76     21480\n",
      "\n",
      "    accuracy                           0.84     62500\n",
      "   macro avg       0.83      0.81      0.82     62500\n",
      "weighted avg       0.84      0.84      0.84     62500\n",
      "\n",
      "Accuracy Score: 0.84\n",
      "Precision Score: 0.79\n",
      "Recall Score: 0.73\n",
      "F1 Score: 0.76\n",
      "Elapsed time: 0.27s\n",
      "\n",
      "best_score: 0.839\n"
     ]
    }
   ],
   "source": [
    "# default model\n",
    "model = XGBClassifier(booster='gbtree', objective='binary:logistic', \n",
    "                        random_state=2, verbosity=0, use_label_encoder=False, n_jobs=-1)\n",
    "objective\n",
    "model.fit(X_train, y_train)    \n",
    "\n",
    "best_score = model_estimation(model)\n",
    "best_model = model\n",
    "\n",
    "print('\\nbest_score: %0.3f' % (best_score))"
   ]
  },
  {
   "cell_type": "code",
   "execution_count": 22,
   "id": "a3f22553",
   "metadata": {},
   "outputs": [],
   "source": [
    "# Utility function to report best scores\n",
    "def report(results, n_top=5):\n",
    "    for i in range(1, n_top + 1):\n",
    "        candidates = np.flatnonzero(results[\"rank_test_score\"] == i)\n",
    "        for candidate in candidates:\n",
    "            print(\"Model with rank: {0}\".format(i))\n",
    "            print(\n",
    "                \"Mean validation score: {0:.3f} (std: {1:.3f})\".format(\n",
    "                    results[\"mean_test_score\"][candidate],\n",
    "                    results[\"std_test_score\"][candidate],\n",
    "                )\n",
    "            )\n",
    "            print(\"Parameters: {0}\".format(results[\"params\"][candidate]))\n",
    "            print(\"\")"
   ]
  },
  {
   "cell_type": "markdown",
   "id": "7de69b3e",
   "metadata": {},
   "source": [
    "## HPO: Randomized Search"
   ]
  },
  {
   "cell_type": "code",
   "execution_count": 23,
   "id": "954435cb",
   "metadata": {},
   "outputs": [],
   "source": [
    "from sklearn.model_selection import RandomizedSearchCV\n",
    "\n",
    "def randomized_search(params, runs=20): \n",
    "    xgb = XGBClassifier(booster='gbtree', objective='binary:logistic', \n",
    "                        random_state=2, verbosity=0, use_label_encoder=False, n_jobs=-1)\n",
    "    \n",
    "    kfold = StratifiedKFold(n_splits=5, shuffle=True, random_state=2)\n",
    "    \n",
    "    rand_clf = RandomizedSearchCV(xgb, params, cv=kfold, n_iter=runs, n_jobs=-1, random_state=2, scoring='accuracy')\n",
    "    \n",
    "    rand_clf.fit(X_train, y_train)    \n",
    "    \n",
    "    best_model = rand_clf.best_estimator_    \n",
    "    \n",
    "    print(\"best parameter:\", rand_clf.best_params_)    \n",
    "    print(\"best score: {:.3f}\".format(rand_clf.best_score_))\n",
    "\n",
    "    # print(\"rand_clf.cv_results_: \", rand_clf.cv_results_)\n",
    "    report(rand_clf.cv_results_)\n",
    "    \n",
    "    return best_model"
   ]
  },
  {
   "cell_type": "code",
   "execution_count": 20,
   "id": "b4f39193",
   "metadata": {},
   "outputs": [
    {
     "name": "stdout",
     "output_type": "stream",
     "text": [
      "best parameter: {'subsample': 0.7, 'n_estimators': 100, 'min_child_weight': 5, 'max_depth': 8, 'learning_rate': 0.05, 'gamma': 2, 'colsample_bytree': 0.7}\n",
      "best score: 0.841\n",
      "\n",
      "Elapsed time: 3862.64s\n"
     ]
    }
   ],
   "source": [
    "import time\n",
    "start = time.time()\n",
    "\n",
    "randomized_model = randomized_search(\n",
    "    params={\n",
    "        'n_estimators':[50, 100, 200],\n",
    "        'learning_rate':[0.01, 0.05, 0.1, 0.2, 0.3, 0.4, 0.5, 0.8],\n",
    "        'max_depth':[1, 2, 3, 5, 6, 8],\n",
    "        'gamma':[0, 0.01, 0.1, 0.5, 0.7, 1, 2],\n",
    "        'min_child_weight':[5, 10, 15, 20, 30],\n",
    "        'subsample':[0.5, 0.7, 0.8, 0.9, 1],\n",
    "        'colsample_bytree':[0.2, 0.5, 0.7, 0.8, 0.9, 1],  \n",
    "        }, \n",
    "    runs=20)\n",
    "\n",
    "print('\\nElapsed time: %0.2fs' % (time.time()-start))"
   ]
  },
  {
   "cell_type": "code",
   "execution_count": 21,
   "id": "1648a2bd",
   "metadata": {},
   "outputs": [
    {
     "data": {
      "text/plain": [
       "{'objective': 'binary:logistic',\n",
       " 'use_label_encoder': False,\n",
       " 'base_score': 0.5,\n",
       " 'booster': 'gbtree',\n",
       " 'colsample_bylevel': 1,\n",
       " 'colsample_bynode': 1,\n",
       " 'colsample_bytree': 0.7,\n",
       " 'enable_categorical': False,\n",
       " 'gamma': 2,\n",
       " 'gpu_id': -1,\n",
       " 'importance_type': None,\n",
       " 'interaction_constraints': '',\n",
       " 'learning_rate': 0.05,\n",
       " 'max_delta_step': 0,\n",
       " 'max_depth': 8,\n",
       " 'min_child_weight': 5,\n",
       " 'missing': nan,\n",
       " 'monotone_constraints': '()',\n",
       " 'n_estimators': 100,\n",
       " 'n_jobs': -1,\n",
       " 'num_parallel_tree': 1,\n",
       " 'predictor': 'auto',\n",
       " 'random_state': 2,\n",
       " 'reg_alpha': 0,\n",
       " 'reg_lambda': 1,\n",
       " 'scale_pos_weight': 1,\n",
       " 'subsample': 0.7,\n",
       " 'tree_method': 'exact',\n",
       " 'validate_parameters': 1,\n",
       " 'verbosity': 0}"
      ]
     },
     "execution_count": 21,
     "metadata": {},
     "output_type": "execute_result"
    }
   ],
   "source": [
    "best_model.get_params()"
   ]
  },
  {
   "cell_type": "markdown",
   "id": "37b9cc3f",
   "metadata": {},
   "source": [
    "## HPO: Bayesian Optimization "
   ]
  },
  {
   "cell_type": "code",
   "execution_count": 24,
   "id": "74d97b11",
   "metadata": {},
   "outputs": [
    {
     "name": "stdout",
     "output_type": "stream",
     "text": [
      "score= 0.832112\n",
      "score= 0.839472\n",
      "score= 0.832112\n",
      "score= 0.831216\n",
      "score= 0.823872\n",
      "score= 0.835344\n",
      "score= 0.84008\n",
      "score= 0.837104\n"
     ]
    },
    {
     "data": {
      "text/plain": [
       "{'target': 0.84008,\n",
       " 'params': {'colsample_bytree': 0.74300061216614,\n",
       "  'gamma': 0.7092898301320909,\n",
       "  'learning_rate': 0.01333918502661842,\n",
       "  'max_depth': 7.026978375546979,\n",
       "  'min_child_weight': 16.59082598705533,\n",
       "  'n_estimators': 524.3849864352574,\n",
       "  'subsample': 0.8937532205081915}}"
      ]
     },
     "execution_count": 24,
     "metadata": {},
     "output_type": "execute_result"
    }
   ],
   "source": [
    "from bayes_opt import BayesianOptimization\n",
    "\n",
    "def xgbc_cv(n_estimators, learning_rate, max_depth, gamma, min_child_weight, subsample, colsample_bytree, ):\n",
    "    xgb = XGBClassifier(booster='gbtree', objective='binary:logistic', \n",
    "                        n_estimators=int(n_estimators),\n",
    "                        learning_rate=learning_rate,\n",
    "                        max_depth=int(max_depth),\n",
    "                        gamma=gamma,\n",
    "                        min_child_weight=min_child_weight,\n",
    "                        subsample=subsample,\n",
    "                        colsample_bytree=colsample_bytree,\n",
    "                        random_state=2, verbosity=0, use_label_encoder=False, n_jobs=-1)\n",
    "\n",
    "    xgb.fit(X_train, y_train)    \n",
    "\n",
    "    y_pred = xgb.predict(X_test)\n",
    "\n",
    "    score = accuracy_score(y_pred, y_test)\n",
    "\n",
    "    print('score=', score)\n",
    "\n",
    "    return score\n",
    "\n",
    "hyperparameter_space = {\n",
    "    'n_estimators': (50, 800),\n",
    "    'learning_rate': (0.01, 1.0),\n",
    "    'max_depth': (1, 8),\n",
    "    'gamma' : (0.01, 1),\n",
    "    'min_child_weight': (1, 20),\n",
    "    'subsample': (0.5, 1),\n",
    "    'colsample_bytree': (0.1, 1)\n",
    "}\n",
    "\n",
    "optimizer = BayesianOptimization(f=xgbc_cv, pbounds=hyperparameter_space, random_state=2, verbose=0)\n",
    "\n",
    "#gp_params = {\"alpha\": 1e-10}\n",
    "#optimizer.maximize(init_points=3,n_iter=10,acq='ucb', kappa= 3, **gp_params)    \n",
    "\n",
    "#optimizer.maximize(init_points=2, n_iter=10)\n",
    "optimizer.maximize(init_points=3, n_iter=5, acq='ei')\n",
    "\n",
    "\n",
    "optimizer.max"
   ]
  },
  {
   "cell_type": "code",
   "execution_count": 25,
   "id": "568d24b7",
   "metadata": {},
   "outputs": [],
   "source": [
    "best_params = optimizer.max['params']"
   ]
  },
  {
   "cell_type": "code",
   "execution_count": 26,
   "id": "b205e0cd",
   "metadata": {},
   "outputs": [
    {
     "name": "stdout",
     "output_type": "stream",
     "text": [
      "score= 0.84\n",
      "\n",
      "Confusion Matrix:\n",
      "[[36901  4119]\n",
      " [ 5881 15599]]\n",
      "\n",
      "Classification Report:\n",
      "              precision    recall  f1-score   support\n",
      "\n",
      "           0       0.86      0.90      0.88     41020\n",
      "           1       0.79      0.73      0.76     21480\n",
      "\n",
      "    accuracy                           0.84     62500\n",
      "   macro avg       0.83      0.81      0.82     62500\n",
      "weighted avg       0.84      0.84      0.84     62500\n",
      "\n",
      "Accuracy Score: 0.84\n",
      "Precision Score: 0.79\n",
      "Recall Score: 0.73\n",
      "F1 Score: 0.76\n",
      "Elapsed time: 0.32s\n",
      "\n",
      "best_score: 0.840\n"
     ]
    }
   ],
   "source": [
    "model = XGBClassifier(booster='gbtree', objective='binary:logistic', \n",
    "                        n_estimators=int(best_params['n_estimators']), \n",
    "                        learning_rate=best_params['learning_rate'], \n",
    "                        max_depth=int(best_params['max_depth']), \n",
    "                        gamma=best_params['gamma'], \n",
    "                        min_child_weight=int(best_params['min_child_weight']), \n",
    "                        subsample=best_params['subsample'], \n",
    "                        colsample_bytree=best_params['colsample_bytree'],\n",
    "                        random_state=2, verbosity=0, use_label_encoder=False, n_jobs=-1)\n",
    "\n",
    "model.fit(X_train, y_train)    \n",
    "\n",
    "y_pred = model.predict(X_test)\n",
    "score = accuracy_score(y_pred, y_test)\n",
    "print('score=', score)     \n",
    "\n",
    "if(score > best_score): \n",
    "    best_score = score\n",
    "    best_model = model\n",
    "    \n",
    "    best_score = model_estimation(model)\n",
    "    print('\\nbest_score: %0.3f' % (best_score))"
   ]
  },
  {
   "cell_type": "markdown",
   "id": "1ccaaca8",
   "metadata": {},
   "source": [
    "## Evaluation"
   ]
  },
  {
   "cell_type": "code",
   "execution_count": 27,
   "id": "85309f04",
   "metadata": {},
   "outputs": [
    {
     "name": "stdout",
     "output_type": "stream",
     "text": [
      "Cross Validation:\n",
      "Elased time: 325.22s\n",
      "Accuracy: [0.84 0.84 0.84 0.84 0.84]\n",
      "Avg. Accuracy: 0.84\n",
      "\n",
      "Confusion Matrix:\n",
      "[[36901  4119]\n",
      " [ 5881 15599]]\n",
      "\n",
      "Classification Report:\n",
      "              precision    recall  f1-score   support\n",
      "\n",
      "           0       0.86      0.90      0.88     41020\n",
      "           1       0.79      0.73      0.76     21480\n",
      "\n",
      "    accuracy                           0.84     62500\n",
      "   macro avg       0.83      0.81      0.82     62500\n",
      "weighted avg       0.84      0.84      0.84     62500\n",
      "\n",
      "Accuracy Score: 0.84\n",
      "Precision Score: 0.79\n",
      "Recall Score: 0.73\n",
      "F1 Score: 0.76\n",
      "Elapsed time: 0.32s\n"
     ]
    },
    {
     "data": {
      "text/plain": [
       "0.84"
      ]
     },
     "execution_count": 27,
     "metadata": {},
     "output_type": "execute_result"
    }
   ],
   "source": [
    "cross_validation(best_model)   \n",
    "model_estimation(best_model)     "
   ]
  },
  {
   "cell_type": "markdown",
   "id": "4acaf106",
   "metadata": {},
   "source": [
    "## Feature Importances"
   ]
  },
  {
   "cell_type": "code",
   "execution_count": 28,
   "id": "e1fb9faf",
   "metadata": {},
   "outputs": [
    {
     "name": "stdout",
     "output_type": "stream",
     "text": [
      "Feature Importances:\n",
      "[0.22538859 0.13482524 0.09641584 0.02732677 0.04799483 0.0260339\n",
      " 0.01307163 0.03169785 0.01520094 0.01785448 0.02518004 0.06106263\n",
      " 0.03496263 0.05467288 0.01187048 0.00378272 0.01084318 0.01724849\n",
      " 0.00389811 0.0262459  0.00393402 0.00904457 0.02640857 0.01258411\n",
      " 0.01981896 0.00737318 0.00764346 0.00786808 0.00523779 0.01451015]\n",
      "Looking in indexes: https://pypi.org/simple, https://pip.repos.neuron.amazonaws.com\n",
      "Requirement already satisfied: graphviz in /home/ec2-user/anaconda3/envs/amazonei_tensorflow2_p36/lib/python3.6/site-packages (0.19.1)\n"
     ]
    },
    {
     "data": {
      "image/png": "[encoded data removed]",
      "text/plain": [
       "<Figure size 1080x576 with 1 Axes>"
      ]
     },
     "metadata": {
      "needs_background": "light"
     },
     "output_type": "display_data"
    },
    {
     "data": {
      "image/png": "[encoded data removed]",
      "text/plain": [
       "<Figure size 1440x720 with 1 Axes>"
      ]
     },
     "metadata": {
      "needs_background": "light"
     },
     "output_type": "display_data"
    }
   ],
   "source": [
    "print('Feature Importances:')\n",
    "print(best_model.feature_importances_)\n",
    "\n",
    "import xgboost as xgb\n",
    "\n",
    "feature_data = xgb.DMatrix(X_test)\n",
    "best_model.get_booster().feature_names = feature_data.feature_names\n",
    "best_model.get_booster().feature_types = feature_data.feature_types\n",
    "\n",
    "import matplotlib.pyplot as plt\n",
    "\n",
    "fig, ax = plt.subplots(figsize=(15, 8))\n",
    "xgb.plot_importance(best_model, ax=ax, importance_type='gain')\n",
    "\n",
    "!pip install graphviz\n",
    "\n",
    "xgb.plot_tree(best_model, num_trees=0, rankdir='LR')\n",
    "\n",
    "fig = plt.gcf()\n",
    "fig.set_size_inches(20, 10)\n",
    "plt.show()"
   ]
  },
  {
   "cell_type": "markdown",
   "id": "2c763e49",
   "metadata": {},
   "source": [
    "### XGBoost"
   ]
  },
  {
   "cell_type": "code",
   "execution_count": 24,
   "id": "1cb1dd32",
   "metadata": {},
   "outputs": [],
   "source": [
    "df['test_Weight'] = df['Weight'] * 550000 / len(y)"
   ]
  },
  {
   "cell_type": "code",
   "execution_count": 25,
   "id": "04563b8a",
   "metadata": {},
   "outputs": [],
   "source": [
    "s = np.sum(df[df['Label']==1]['test_Weight'])\n",
    "b = np.sum(df[df['Label']==0]['test_Weight'])"
   ]
  },
  {
   "cell_type": "code",
   "execution_count": 26,
   "id": "3964bac8",
   "metadata": {},
   "outputs": [
    {
     "data": {
      "text/plain": [
       "593.9401931492318"
      ]
     },
     "execution_count": 26,
     "metadata": {},
     "output_type": "execute_result"
    }
   ],
   "source": [
    "b/s"
   ]
  },
  {
   "cell_type": "code",
   "execution_count": 27,
   "id": "8e8549c6",
   "metadata": {},
   "outputs": [
    {
     "name": "stdout",
     "output_type": "stream",
     "text": [
      "[0]\tvalidation_0-auc:0.91088\tvalidation_0-ams@0.15:3.70349\n",
      "[1]\tvalidation_0-auc:0.91528\tvalidation_0-ams@0.15:3.97016\n",
      "[2]\tvalidation_0-auc:0.91771\tvalidation_0-ams@0.15:4.06973\n",
      "[3]\tvalidation_0-auc:0.91931\tvalidation_0-ams@0.15:4.21078\n",
      "[4]\tvalidation_0-auc:0.92011\tvalidation_0-ams@0.15:4.13576\n",
      "[5]\tvalidation_0-auc:0.92099\tvalidation_0-ams@0.15:4.17622\n",
      "[6]\tvalidation_0-auc:0.92191\tvalidation_0-ams@0.15:4.26380\n",
      "[7]\tvalidation_0-auc:0.92231\tvalidation_0-ams@0.15:4.26293\n",
      "[8]\tvalidation_0-auc:0.92330\tvalidation_0-ams@0.15:4.32536\n",
      "[9]\tvalidation_0-auc:0.92415\tvalidation_0-ams@0.15:4.38135\n",
      "[10]\tvalidation_0-auc:0.92470\tvalidation_0-ams@0.15:4.39102\n",
      "[11]\tvalidation_0-auc:0.92528\tvalidation_0-ams@0.15:4.40832\n",
      "[12]\tvalidation_0-auc:0.92589\tvalidation_0-ams@0.15:4.44617\n",
      "[13]\tvalidation_0-auc:0.92630\tvalidation_0-ams@0.15:4.44726\n",
      "[14]\tvalidation_0-auc:0.92692\tvalidation_0-ams@0.15:4.48756\n",
      "[15]\tvalidation_0-auc:0.92739\tvalidation_0-ams@0.15:4.51991\n",
      "[16]\tvalidation_0-auc:0.92804\tvalidation_0-ams@0.15:4.53184\n",
      "[17]\tvalidation_0-auc:0.92843\tvalidation_0-ams@0.15:4.54940\n",
      "[18]\tvalidation_0-auc:0.92900\tvalidation_0-ams@0.15:4.59617\n",
      "[19]\tvalidation_0-auc:0.92948\tvalidation_0-ams@0.15:4.64422\n",
      "[20]\tvalidation_0-auc:0.93000\tvalidation_0-ams@0.15:4.71442\n",
      "[21]\tvalidation_0-auc:0.93036\tvalidation_0-ams@0.15:4.70014\n",
      "[22]\tvalidation_0-auc:0.93069\tvalidation_0-ams@0.15:4.71410\n",
      "[23]\tvalidation_0-auc:0.93109\tvalidation_0-ams@0.15:4.74078\n",
      "[24]\tvalidation_0-auc:0.93138\tvalidation_0-ams@0.15:4.76878\n",
      "[25]\tvalidation_0-auc:0.93168\tvalidation_0-ams@0.15:4.79217\n",
      "[26]\tvalidation_0-auc:0.93202\tvalidation_0-ams@0.15:4.80380\n",
      "[27]\tvalidation_0-auc:0.93234\tvalidation_0-ams@0.15:4.81249\n",
      "[28]\tvalidation_0-auc:0.93268\tvalidation_0-ams@0.15:4.83062\n",
      "[29]\tvalidation_0-auc:0.93304\tvalidation_0-ams@0.15:4.85424\n",
      "[30]\tvalidation_0-auc:0.93327\tvalidation_0-ams@0.15:4.87409\n",
      "[31]\tvalidation_0-auc:0.93359\tvalidation_0-ams@0.15:4.87819\n",
      "[32]\tvalidation_0-auc:0.93394\tvalidation_0-ams@0.15:4.89428\n",
      "[33]\tvalidation_0-auc:0.93416\tvalidation_0-ams@0.15:4.95386\n",
      "[34]\tvalidation_0-auc:0.93446\tvalidation_0-ams@0.15:4.97112\n",
      "[35]\tvalidation_0-auc:0.93476\tvalidation_0-ams@0.15:4.97906\n",
      "[36]\tvalidation_0-auc:0.93511\tvalidation_0-ams@0.15:5.00485\n",
      "[37]\tvalidation_0-auc:0.93536\tvalidation_0-ams@0.15:5.02180\n",
      "[38]\tvalidation_0-auc:0.93561\tvalidation_0-ams@0.15:5.05152\n",
      "[39]\tvalidation_0-auc:0.93583\tvalidation_0-ams@0.15:5.05200\n",
      "[40]\tvalidation_0-auc:0.93603\tvalidation_0-ams@0.15:5.07530\n",
      "[41]\tvalidation_0-auc:0.93622\tvalidation_0-ams@0.15:5.10348\n",
      "[42]\tvalidation_0-auc:0.93645\tvalidation_0-ams@0.15:5.12291\n",
      "[43]\tvalidation_0-auc:0.93664\tvalidation_0-ams@0.15:5.14195\n",
      "[44]\tvalidation_0-auc:0.93690\tvalidation_0-ams@0.15:5.16767\n",
      "[45]\tvalidation_0-auc:0.93708\tvalidation_0-ams@0.15:5.16743\n",
      "[46]\tvalidation_0-auc:0.93732\tvalidation_0-ams@0.15:5.20140\n",
      "[47]\tvalidation_0-auc:0.93752\tvalidation_0-ams@0.15:5.22158\n",
      "[48]\tvalidation_0-auc:0.93769\tvalidation_0-ams@0.15:5.22387\n",
      "[49]\tvalidation_0-auc:0.93792\tvalidation_0-ams@0.15:5.27570\n",
      "[50]\tvalidation_0-auc:0.93814\tvalidation_0-ams@0.15:5.28004\n",
      "[51]\tvalidation_0-auc:0.93834\tvalidation_0-ams@0.15:5.29086\n",
      "[52]\tvalidation_0-auc:0.93854\tvalidation_0-ams@0.15:5.32099\n",
      "[53]\tvalidation_0-auc:0.93870\tvalidation_0-ams@0.15:5.31615\n",
      "[54]\tvalidation_0-auc:0.93888\tvalidation_0-ams@0.15:5.32910\n",
      "[55]\tvalidation_0-auc:0.93902\tvalidation_0-ams@0.15:5.34457\n",
      "[56]\tvalidation_0-auc:0.93917\tvalidation_0-ams@0.15:5.37421\n",
      "[57]\tvalidation_0-auc:0.93934\tvalidation_0-ams@0.15:5.39183\n",
      "[58]\tvalidation_0-auc:0.93950\tvalidation_0-ams@0.15:5.40929\n",
      "[59]\tvalidation_0-auc:0.93962\tvalidation_0-ams@0.15:5.42768\n",
      "[60]\tvalidation_0-auc:0.93979\tvalidation_0-ams@0.15:5.44643\n",
      "[61]\tvalidation_0-auc:0.93988\tvalidation_0-ams@0.15:5.45045\n",
      "[62]\tvalidation_0-auc:0.94003\tvalidation_0-ams@0.15:5.44785\n",
      "[63]\tvalidation_0-auc:0.94014\tvalidation_0-ams@0.15:5.44819\n",
      "[64]\tvalidation_0-auc:0.94026\tvalidation_0-ams@0.15:5.45903\n",
      "[65]\tvalidation_0-auc:0.94039\tvalidation_0-ams@0.15:5.47290\n",
      "[66]\tvalidation_0-auc:0.94050\tvalidation_0-ams@0.15:5.48829\n",
      "[67]\tvalidation_0-auc:0.94064\tvalidation_0-ams@0.15:5.48777\n",
      "[68]\tvalidation_0-auc:0.94075\tvalidation_0-ams@0.15:5.50985\n",
      "[69]\tvalidation_0-auc:0.94088\tvalidation_0-ams@0.15:5.52734\n",
      "[70]\tvalidation_0-auc:0.94096\tvalidation_0-ams@0.15:5.55487\n",
      "[71]\tvalidation_0-auc:0.94111\tvalidation_0-ams@0.15:5.56277\n",
      "[72]\tvalidation_0-auc:0.94123\tvalidation_0-ams@0.15:5.56112\n",
      "[73]\tvalidation_0-auc:0.94133\tvalidation_0-ams@0.15:5.56902\n",
      "[74]\tvalidation_0-auc:0.94142\tvalidation_0-ams@0.15:5.59165\n",
      "[75]\tvalidation_0-auc:0.94152\tvalidation_0-ams@0.15:5.59139\n",
      "[76]\tvalidation_0-auc:0.94162\tvalidation_0-ams@0.15:5.59352\n",
      "[77]\tvalidation_0-auc:0.94180\tvalidation_0-ams@0.15:5.61831\n",
      "[78]\tvalidation_0-auc:0.94189\tvalidation_0-ams@0.15:5.61897\n",
      "[79]\tvalidation_0-auc:0.94205\tvalidation_0-ams@0.15:5.63373\n",
      "[80]\tvalidation_0-auc:0.94219\tvalidation_0-ams@0.15:5.63921\n",
      "[81]\tvalidation_0-auc:0.94225\tvalidation_0-ams@0.15:5.64246\n",
      "[82]\tvalidation_0-auc:0.94231\tvalidation_0-ams@0.15:5.65008\n",
      "[83]\tvalidation_0-auc:0.94238\tvalidation_0-ams@0.15:5.64747\n",
      "[84]\tvalidation_0-auc:0.94253\tvalidation_0-ams@0.15:5.64577\n",
      "[85]\tvalidation_0-auc:0.94261\tvalidation_0-ams@0.15:5.65127\n",
      "[86]\tvalidation_0-auc:0.94272\tvalidation_0-ams@0.15:5.67452\n",
      "[87]\tvalidation_0-auc:0.94283\tvalidation_0-ams@0.15:5.68806\n",
      "[88]\tvalidation_0-auc:0.94297\tvalidation_0-ams@0.15:5.68992\n",
      "[89]\tvalidation_0-auc:0.94317\tvalidation_0-ams@0.15:5.71971\n",
      "[90]\tvalidation_0-auc:0.94322\tvalidation_0-ams@0.15:5.72398\n",
      "[91]\tvalidation_0-auc:0.94331\tvalidation_0-ams@0.15:5.73867\n",
      "[92]\tvalidation_0-auc:0.94339\tvalidation_0-ams@0.15:5.73210\n",
      "[93]\tvalidation_0-auc:0.94348\tvalidation_0-ams@0.15:5.72847\n",
      "[94]\tvalidation_0-auc:0.94356\tvalidation_0-ams@0.15:5.73897\n",
      "[95]\tvalidation_0-auc:0.94369\tvalidation_0-ams@0.15:5.75322\n",
      "[96]\tvalidation_0-auc:0.94374\tvalidation_0-ams@0.15:5.75931\n",
      "[97]\tvalidation_0-auc:0.94382\tvalidation_0-ams@0.15:5.75877\n",
      "[98]\tvalidation_0-auc:0.94391\tvalidation_0-ams@0.15:5.75495\n",
      "[99]\tvalidation_0-auc:0.94401\tvalidation_0-ams@0.15:5.77067\n",
      "[100]\tvalidation_0-auc:0.94408\tvalidation_0-ams@0.15:5.78728\n",
      "[101]\tvalidation_0-auc:0.94421\tvalidation_0-ams@0.15:5.81720\n",
      "[102]\tvalidation_0-auc:0.94431\tvalidation_0-ams@0.15:5.83061\n",
      "[103]\tvalidation_0-auc:0.94437\tvalidation_0-ams@0.15:5.82846\n",
      "[104]\tvalidation_0-auc:0.94445\tvalidation_0-ams@0.15:5.83894\n",
      "[105]\tvalidation_0-auc:0.94450\tvalidation_0-ams@0.15:5.83624\n",
      "[106]\tvalidation_0-auc:0.94453\tvalidation_0-ams@0.15:5.83542\n",
      "[107]\tvalidation_0-auc:0.94464\tvalidation_0-ams@0.15:5.83823\n",
      "[108]\tvalidation_0-auc:0.94476\tvalidation_0-ams@0.15:5.84147\n",
      "[109]\tvalidation_0-auc:0.94486\tvalidation_0-ams@0.15:5.84375\n",
      "[110]\tvalidation_0-auc:0.94501\tvalidation_0-ams@0.15:5.84830\n",
      "[111]\tvalidation_0-auc:0.94502\tvalidation_0-ams@0.15:5.85186\n",
      "[112]\tvalidation_0-auc:0.94514\tvalidation_0-ams@0.15:5.84451\n",
      "[113]\tvalidation_0-auc:0.94518\tvalidation_0-ams@0.15:5.84007\n",
      "[114]\tvalidation_0-auc:0.94528\tvalidation_0-ams@0.15:5.85800\n",
      "[115]\tvalidation_0-auc:0.94532\tvalidation_0-ams@0.15:5.86228\n",
      "[116]\tvalidation_0-auc:0.94545\tvalidation_0-ams@0.15:5.91160\n",
      "[117]\tvalidation_0-auc:0.94549\tvalidation_0-ams@0.15:5.91842\n",
      "[118]\tvalidation_0-auc:0.94561\tvalidation_0-ams@0.15:5.93729\n",
      "[119]\tvalidation_0-auc:0.94576\tvalidation_0-ams@0.15:5.93562\n"
     ]
    },
    {
     "data": {
      "text/plain": [
       "XGBClassifier(base_score=0.5, booster='gbtree', colsample_bylevel=1,\n",
       "              colsample_bynode=1, colsample_bytree=1, enable_categorical=False,\n",
       "              gamma=0, gpu_id=-1, importance_type=None,\n",
       "              interaction_constraints='', learning_rate=0.1, max_delta_step=0,\n",
       "              max_depth=6, min_child_weight=1, missing=-999.0,\n",
       "              monotone_constraints='()', n_estimators=120, n_jobs=16,\n",
       "              num_parallel_tree=1, predictor='auto', random_state=0,\n",
       "              reg_alpha=0, reg_lambda=1, scale_pos_weight=593.9401931492318,\n",
       "              subsample=1, tree_method='exact', validate_parameters=1,\n",
       "              verbosity=None)"
      ]
     },
     "execution_count": 27,
     "metadata": {},
     "output_type": "execute_result"
    }
   ],
   "source": [
    "from xgboost import XGBClassifier\n",
    "\n",
    "clf = XGBClassifier(n_estimators=120, learning_rate=0.1, missing=-999.0, \n",
    "                    scale_pos_weight=b/s)\n",
    "\n",
    "clf.fit(X, y, sample_weight=df['test_Weight'], \n",
    "        eval_set=[(X, y)], eval_metric=['auc', 'ams@0.15'],\n",
    "        sample_weight_eval_set=[df['test_Weight']])\n",
    "\n",
    "#clf.save_model('higgs-sklearn.model')"
   ]
  },
  {
   "cell_type": "code",
   "execution_count": 28,
   "id": "bcb7c5b1",
   "metadata": {},
   "outputs": [
    {
     "data": {
      "text/plain": [
       "{'validation_0': OrderedDict([('auc',\n",
       "               [0.910879,\n",
       "                0.915277,\n",
       "                0.917712,\n",
       "                0.919314,\n",
       "                0.920109,\n",
       "                0.920992,\n",
       "                0.921914,\n",
       "                0.922306,\n",
       "                0.923298,\n",
       "                0.924153,\n",
       "                0.924703,\n",
       "                0.925281,\n",
       "                0.925889,\n",
       "                0.926301,\n",
       "                0.926918,\n",
       "                0.927393,\n",
       "                0.928042,\n",
       "                0.928428,\n",
       "                0.928996,\n",
       "                0.929478,\n",
       "                0.929999,\n",
       "                0.930363,\n",
       "                0.93069,\n",
       "                0.931093,\n",
       "                0.931384,\n",
       "                0.931678,\n",
       "                0.932015,\n",
       "                0.932341,\n",
       "                0.932681,\n",
       "                0.933036,\n",
       "                0.933275,\n",
       "                0.93359,\n",
       "                0.933943,\n",
       "                0.934161,\n",
       "                0.934456,\n",
       "                0.934762,\n",
       "                0.935109,\n",
       "                0.93536,\n",
       "                0.935609,\n",
       "                0.935834,\n",
       "                0.936027,\n",
       "                0.936222,\n",
       "                0.936453,\n",
       "                0.936641,\n",
       "                0.936895,\n",
       "                0.937079,\n",
       "                0.937325,\n",
       "                0.93752,\n",
       "                0.937689,\n",
       "                0.937915,\n",
       "                0.938139,\n",
       "                0.938338,\n",
       "                0.938539,\n",
       "                0.938696,\n",
       "                0.938881,\n",
       "                0.939019,\n",
       "                0.939171,\n",
       "                0.939335,\n",
       "                0.939501,\n",
       "                0.939617,\n",
       "                0.939791,\n",
       "                0.939883,\n",
       "                0.940031,\n",
       "                0.940139,\n",
       "                0.940258,\n",
       "                0.940386,\n",
       "                0.940497,\n",
       "                0.940645,\n",
       "                0.940749,\n",
       "                0.940879,\n",
       "                0.940964,\n",
       "                0.941112,\n",
       "                0.941232,\n",
       "                0.941327,\n",
       "                0.941425,\n",
       "                0.941522,\n",
       "                0.941618,\n",
       "                0.941803,\n",
       "                0.94189,\n",
       "                0.942045,\n",
       "                0.942185,\n",
       "                0.942246,\n",
       "                0.94231,\n",
       "                0.942379,\n",
       "                0.942532,\n",
       "                0.942612,\n",
       "                0.94272,\n",
       "                0.942833,\n",
       "                0.942973,\n",
       "                0.943169,\n",
       "                0.943215,\n",
       "                0.943312,\n",
       "                0.94339,\n",
       "                0.943477,\n",
       "                0.94356,\n",
       "                0.943687,\n",
       "                0.943742,\n",
       "                0.943818,\n",
       "                0.943912,\n",
       "                0.944006,\n",
       "                0.94408,\n",
       "                0.944212,\n",
       "                0.944311,\n",
       "                0.944368,\n",
       "                0.944447,\n",
       "                0.944497,\n",
       "                0.944531,\n",
       "                0.944638,\n",
       "                0.944758,\n",
       "                0.944865,\n",
       "                0.945008,\n",
       "                0.94502,\n",
       "                0.945138,\n",
       "                0.945181,\n",
       "                0.945276,\n",
       "                0.945317,\n",
       "                0.94545,\n",
       "                0.945491,\n",
       "                0.945606,\n",
       "                0.945761]),\n",
       "              ('ams@0.15',\n",
       "               [3.703494,\n",
       "                3.970156,\n",
       "                4.069735,\n",
       "                4.210782,\n",
       "                4.13576,\n",
       "                4.176216,\n",
       "                4.263798,\n",
       "                4.262925,\n",
       "                4.325356,\n",
       "                4.381351,\n",
       "                4.391018,\n",
       "                4.408316,\n",
       "                4.446172,\n",
       "                4.44726,\n",
       "                4.487561,\n",
       "                4.519911,\n",
       "                4.531835,\n",
       "                4.549403,\n",
       "                4.596175,\n",
       "                4.644224,\n",
       "                4.714417,\n",
       "                4.700137,\n",
       "                4.714103,\n",
       "                4.740779,\n",
       "                4.768776,\n",
       "                4.792167,\n",
       "                4.803802,\n",
       "                4.812494,\n",
       "                4.830622,\n",
       "                4.854235,\n",
       "                4.87409,\n",
       "                4.878195,\n",
       "                4.894283,\n",
       "                4.953856,\n",
       "                4.971122,\n",
       "                4.979061,\n",
       "                5.004854,\n",
       "                5.021797,\n",
       "                5.051516,\n",
       "                5.052001,\n",
       "                5.075299,\n",
       "                5.103484,\n",
       "                5.122906,\n",
       "                5.14195,\n",
       "                5.167672,\n",
       "                5.167426,\n",
       "                5.201398,\n",
       "                5.221578,\n",
       "                5.223874,\n",
       "                5.275698,\n",
       "                5.280038,\n",
       "                5.290863,\n",
       "                5.32099,\n",
       "                5.316153,\n",
       "                5.329103,\n",
       "                5.344574,\n",
       "                5.374212,\n",
       "                5.39183,\n",
       "                5.409289,\n",
       "                5.427676,\n",
       "                5.446434,\n",
       "                5.450449,\n",
       "                5.447849,\n",
       "                5.448193,\n",
       "                5.459027,\n",
       "                5.472901,\n",
       "                5.488286,\n",
       "                5.487774,\n",
       "                5.509848,\n",
       "                5.527342,\n",
       "                5.554874,\n",
       "                5.562773,\n",
       "                5.561116,\n",
       "                5.569023,\n",
       "                5.591649,\n",
       "                5.591387,\n",
       "                5.593519,\n",
       "                5.618315,\n",
       "                5.618974,\n",
       "                5.63373,\n",
       "                5.63921,\n",
       "                5.642461,\n",
       "                5.650084,\n",
       "                5.64747,\n",
       "                5.645771,\n",
       "                5.651271,\n",
       "                5.674523,\n",
       "                5.688059,\n",
       "                5.689916,\n",
       "                5.719707,\n",
       "                5.723981,\n",
       "                5.73867,\n",
       "                5.732101,\n",
       "                5.728471,\n",
       "                5.738973,\n",
       "                5.753224,\n",
       "                5.759308,\n",
       "                5.75877,\n",
       "                5.754945,\n",
       "                5.770667,\n",
       "                5.787282,\n",
       "                5.817196,\n",
       "                5.830607,\n",
       "                5.828457,\n",
       "                5.838943,\n",
       "                5.836242,\n",
       "                5.835415,\n",
       "                5.83823,\n",
       "                5.841471,\n",
       "                5.843748,\n",
       "                5.848295,\n",
       "                5.85186,\n",
       "                5.844507,\n",
       "                5.840065,\n",
       "                5.858,\n",
       "                5.862282,\n",
       "                5.911599,\n",
       "                5.918416,\n",
       "                5.937291,\n",
       "                5.935622])])}"
      ]
     },
     "execution_count": 28,
     "metadata": {},
     "output_type": "execute_result"
    }
   ],
   "source": [
    "clf.evals_result()"
   ]
  },
  {
   "cell_type": "code",
   "execution_count": 29,
   "id": "3991ba94",
   "metadata": {},
   "outputs": [
    {
     "data": {
      "text/plain": [
       "0.800476"
      ]
     },
     "execution_count": 29,
     "metadata": {},
     "output_type": "execute_result"
    }
   ],
   "source": [
    "clf.score(X, y)"
   ]
  }
 ],
 "metadata": {
  "kernelspec": {
   "display_name": "conda_amazonei_tensorflow2_p36",
   "language": "python",
   "name": "conda_amazonei_tensorflow2_p36"
  },
  "language_info": {
   "codemirror_mode": {
    "name": "ipython",
    "version": 3
   },
   "file_extension": ".py",
   "mimetype": "text/x-python",
   "name": "python",
   "nbconvert_exporter": "python",
   "pygments_lexer": "ipython3",
   "version": "3.6.13"
  }
 },
 "nbformat": 4,
 "nbformat_minor": 5
}
