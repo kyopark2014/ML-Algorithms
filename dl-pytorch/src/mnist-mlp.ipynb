{
 "cells": [
  {
   "cell_type": "code",
   "execution_count": 1,
   "id": "2e06baa8",
   "metadata": {},
   "outputs": [],
   "source": [
    "import numpy as np\n",
    "import matplotlib.pyplot as plt\n",
    "\n",
    "import torch\n",
    "import torch.nn as nn\n",
    "import torch.nn.functional as F\n",
    "from torchvision import transforms, datasets"
   ]
  },
  {
   "cell_type": "markdown",
   "id": "2b74b1b1",
   "metadata": {},
   "source": [
    "### check GPU avaiability"
   ]
  },
  {
   "cell_type": "code",
   "execution_count": 2,
   "id": "d0aacec6",
   "metadata": {},
   "outputs": [
    {
     "data": {
      "text/plain": [
       "False"
      ]
     },
     "execution_count": 2,
     "metadata": {},
     "output_type": "execute_result"
    }
   ],
   "source": [
    "torch.cuda.is_available()"
   ]
  },
  {
   "cell_type": "code",
   "execution_count": 3,
   "id": "4e6e3667",
   "metadata": {},
   "outputs": [
    {
     "name": "stdout",
     "output_type": "stream",
     "text": [
      "Using PyTorch version: 1.10.0  Device: cpu\n"
     ]
    }
   ],
   "source": [
    "if torch.cuda.is_available():\n",
    "    DEVICE = torch.device('cuda')\n",
    "else:\n",
    "    DEVICE = torch.device('cpu')\n",
    "\n",
    "print('Using PyTorch version:', torch.__version__, ' Device:', DEVICE)"
   ]
  },
  {
   "cell_type": "code",
   "execution_count": 5,
   "id": "eb9cba90",
   "metadata": {},
   "outputs": [],
   "source": [
    "BATCH_SIZE = 32\n",
    "EPOCHS = 10"
   ]
  },
  {
   "cell_type": "markdown",
   "id": "490c1cc8",
   "metadata": {},
   "source": [
    "### Load data"
   ]
  },
  {
   "cell_type": "code",
   "execution_count": 6,
   "id": "533b1692",
   "metadata": {},
   "outputs": [],
   "source": [
    "train_dataset = datasets.MNIST(root = \"../data/MNIST\",\n",
    "                               train = True,\n",
    "                               download = True,\n",
    "                               transform = transforms.ToTensor())\n",
    "\n",
    "test_dataset = datasets.MNIST(root = \"../data/MNIST\",\n",
    "                              train = False,\n",
    "                              transform = transforms.ToTensor())\n",
    "\n",
    "train_loader = torch.utils.data.DataLoader(dataset = train_dataset,\n",
    "                                           batch_size = BATCH_SIZE,\n",
    "                                           shuffle = True)\n",
    "\n",
    "test_loader = torch.utils.data.DataLoader(dataset = test_dataset,\n",
    "                                          batch_size = BATCH_SIZE,\n",
    "                                          shuffle = False)"
   ]
  },
  {
   "cell_type": "code",
   "execution_count": 7,
   "id": "5ee9da26",
   "metadata": {},
   "outputs": [
    {
     "name": "stdout",
     "output_type": "stream",
     "text": [
      "X_train: torch.Size([32, 1, 28, 28]) type: torch.FloatTensor\n",
      "y_train: torch.Size([32]) type: torch.LongTensor\n"
     ]
    }
   ],
   "source": [
    "for (X_train, y_train) in train_loader:\n",
    "    print('X_train:', X_train.size(), 'type:', X_train.type())\n",
    "    print('y_train:', y_train.size(), 'type:', y_train.type())\n",
    "    break"
   ]
  },
  {
   "cell_type": "code",
   "execution_count": 8,
   "id": "65a74af7",
   "metadata": {},
   "outputs": [
    {
     "data": {
      "image/png": "[encoded data removed]",
      "text/plain": [
       "<Figure size 720x72 with 10 Axes>"
      ]
     },
     "metadata": {
      "needs_background": "light"
     },
     "output_type": "display_data"
    }
   ],
   "source": [
    "pltsize = 1\n",
    "plt.figure(figsize=(10 * pltsize, pltsize))\n",
    "for i in range(10):\n",
    "    plt.subplot(1, 10, i + 1)\n",
    "    plt.axis('off')\n",
    "    plt.imshow(X_train[i, :, :, :].numpy().reshape(28, 28), cmap = \"gray_r\")\n",
    "    plt.title('Class: ' + str(y_train[i].item()))"
   ]
  },
  {
   "cell_type": "code",
   "execution_count": 9,
   "id": "8dc504ce",
   "metadata": {},
   "outputs": [],
   "source": [
    "class Net(nn.Module):\n",
    "    def __init__(self):\n",
    "        super(Net, self).__init__()\n",
    "        self.fc1 = nn.Linear(28 * 28, 512)\n",
    "        self.fc2 = nn.Linear(512, 256)\n",
    "        self.fc3 = nn.Linear(256, 10)\n",
    "\n",
    "    def forward(self, x):\n",
    "        x = x.view(-1, 28 * 28)\n",
    "        x = self.fc1(x)\n",
    "        x = F.sigmoid(x)\n",
    "        x = self.fc2(x)\n",
    "        x = F.sigmoid(x)\n",
    "        x = self.fc3(x)\n",
    "        x = F.log_softmax(x, dim = 1)\n",
    "        return x"
   ]
  },
  {
   "cell_type": "code",
   "execution_count": 10,
   "id": "37df4fce",
   "metadata": {},
   "outputs": [
    {
     "name": "stdout",
     "output_type": "stream",
     "text": [
      "Net(\n",
      "  (fc1): Linear(in_features=784, out_features=512, bias=True)\n",
      "  (fc2): Linear(in_features=512, out_features=256, bias=True)\n",
      "  (fc3): Linear(in_features=256, out_features=10, bias=True)\n",
      ")\n"
     ]
    }
   ],
   "source": [
    "model = Net().to(DEVICE)\n",
    "optimizer = torch.optim.SGD(model.parameters(), lr = 0.01, momentum = 0.5)\n",
    "criterion = nn.CrossEntropyLoss()\n",
    "\n",
    "print(model)"
   ]
  },
  {
   "cell_type": "code",
   "execution_count": 11,
   "id": "e08073d4",
   "metadata": {},
   "outputs": [],
   "source": [
    "def train(model, train_loader, optimizer, log_interval):\n",
    "    model.train()\n",
    "    for batch_idx, (image, label) in enumerate(train_loader):\n",
    "        image = image.to(DEVICE)\n",
    "        label = label.to(DEVICE)\n",
    "        optimizer.zero_grad()\n",
    "        output = model(image)\n",
    "        loss = criterion(output, label)\n",
    "        loss.backward()\n",
    "        optimizer.step()\n",
    "\n",
    "        if batch_idx % log_interval == 0:\n",
    "            print(\"Train Epoch: {} [{}/{} ({:.0f}%)]\\tTrain Loss: {:.6f}\".format(\n",
    "                epoch, batch_idx * len(image), \n",
    "                len(train_loader.dataset), 100. * batch_idx / len(train_loader), \n",
    "                loss.item()))"
   ]
  },
  {
   "cell_type": "code",
   "execution_count": 12,
   "id": "d7465491",
   "metadata": {},
   "outputs": [],
   "source": [
    "def evaluate(model, test_loader):\n",
    "    model.eval()\n",
    "    test_loss = 0\n",
    "    correct = 0\n",
    "\n",
    "    with torch.no_grad():\n",
    "        for image, label in test_loader:\n",
    "            image = image.to(DEVICE)\n",
    "            label = label.to(DEVICE)\n",
    "            output = model(image)\n",
    "            test_loss += criterion(output, label).item()\n",
    "            prediction = output.max(1, keepdim = True)[1]\n",
    "            correct += prediction.eq(label.view_as(prediction)).sum().item()\n",
    "    \n",
    "    test_loss /= (len(test_loader.dataset) / BATCH_SIZE)\n",
    "    test_accuracy = 100. * correct / len(test_loader.dataset)\n",
    "    return test_loss, test_accuracy"
   ]
  },
  {
   "cell_type": "code",
   "execution_count": 13,
   "id": "77e2824e",
   "metadata": {},
   "outputs": [
    {
     "name": "stderr",
     "output_type": "stream",
     "text": [
      "/home/ec2-user/anaconda3/envs/pytorch_p38/lib/python3.8/site-packages/torch/nn/functional.py:1806: UserWarning: nn.functional.sigmoid is deprecated. Use torch.sigmoid instead.\n",
      "  warnings.warn(\"nn.functional.sigmoid is deprecated. Use torch.sigmoid instead.\")\n"
     ]
    },
    {
     "name": "stdout",
     "output_type": "stream",
     "text": [
      "Train Epoch: 1 [0/60000 (0%)]\tTrain Loss: 2.305201\n",
      "Train Epoch: 1 [6400/60000 (11%)]\tTrain Loss: 2.354149\n",
      "Train Epoch: 1 [12800/60000 (21%)]\tTrain Loss: 2.286334\n",
      "Train Epoch: 1 [19200/60000 (32%)]\tTrain Loss: 2.293980\n",
      "Train Epoch: 1 [25600/60000 (43%)]\tTrain Loss: 2.285324\n",
      "Train Epoch: 1 [32000/60000 (53%)]\tTrain Loss: 2.260850\n",
      "Train Epoch: 1 [38400/60000 (64%)]\tTrain Loss: 2.308839\n",
      "Train Epoch: 1 [44800/60000 (75%)]\tTrain Loss: 2.312974\n",
      "Train Epoch: 1 [51200/60000 (85%)]\tTrain Loss: 2.274221\n",
      "Train Epoch: 1 [57600/60000 (96%)]\tTrain Loss: 2.258213\n",
      "\n",
      "[EPOCH: 1], \tTest Loss: 2.2395, \tTest Accuracy: 21.69 % \n",
      "\n",
      "Train Epoch: 2 [0/60000 (0%)]\tTrain Loss: 2.235614\n",
      "Train Epoch: 2 [6400/60000 (11%)]\tTrain Loss: 2.252639\n",
      "Train Epoch: 2 [12800/60000 (21%)]\tTrain Loss: 2.134080\n",
      "Train Epoch: 2 [19200/60000 (32%)]\tTrain Loss: 2.092445\n",
      "Train Epoch: 2 [25600/60000 (43%)]\tTrain Loss: 1.914818\n",
      "Train Epoch: 2 [32000/60000 (53%)]\tTrain Loss: 1.899448\n",
      "Train Epoch: 2 [38400/60000 (64%)]\tTrain Loss: 1.740177\n",
      "Train Epoch: 2 [44800/60000 (75%)]\tTrain Loss: 1.608588\n",
      "Train Epoch: 2 [51200/60000 (85%)]\tTrain Loss: 1.606202\n",
      "Train Epoch: 2 [57600/60000 (96%)]\tTrain Loss: 1.228133\n",
      "\n",
      "[EPOCH: 2], \tTest Loss: 1.2870, \tTest Accuracy: 62.98 % \n",
      "\n",
      "Train Epoch: 3 [0/60000 (0%)]\tTrain Loss: 1.224223\n",
      "Train Epoch: 3 [6400/60000 (11%)]\tTrain Loss: 1.075937\n",
      "Train Epoch: 3 [12800/60000 (21%)]\tTrain Loss: 1.299460\n",
      "Train Epoch: 3 [19200/60000 (32%)]\tTrain Loss: 1.177262\n",
      "Train Epoch: 3 [25600/60000 (43%)]\tTrain Loss: 0.705841\n",
      "Train Epoch: 3 [32000/60000 (53%)]\tTrain Loss: 0.685741\n",
      "Train Epoch: 3 [38400/60000 (64%)]\tTrain Loss: 0.836546\n",
      "Train Epoch: 3 [44800/60000 (75%)]\tTrain Loss: 0.879077\n",
      "Train Epoch: 3 [51200/60000 (85%)]\tTrain Loss: 0.857966\n",
      "Train Epoch: 3 [57600/60000 (96%)]\tTrain Loss: 0.585806\n",
      "\n",
      "[EPOCH: 3], \tTest Loss: 0.7607, \tTest Accuracy: 77.93 % \n",
      "\n",
      "Train Epoch: 4 [0/60000 (0%)]\tTrain Loss: 0.673265\n",
      "Train Epoch: 4 [6400/60000 (11%)]\tTrain Loss: 0.641939\n",
      "Train Epoch: 4 [12800/60000 (21%)]\tTrain Loss: 0.694333\n",
      "Train Epoch: 4 [19200/60000 (32%)]\tTrain Loss: 0.812906\n",
      "Train Epoch: 4 [25600/60000 (43%)]\tTrain Loss: 0.659235\n",
      "Train Epoch: 4 [32000/60000 (53%)]\tTrain Loss: 0.558039\n",
      "Train Epoch: 4 [38400/60000 (64%)]\tTrain Loss: 0.368416\n",
      "Train Epoch: 4 [44800/60000 (75%)]\tTrain Loss: 0.599753\n",
      "Train Epoch: 4 [51200/60000 (85%)]\tTrain Loss: 0.451895\n",
      "Train Epoch: 4 [57600/60000 (96%)]\tTrain Loss: 0.644532\n",
      "\n",
      "[EPOCH: 4], \tTest Loss: 0.5661, \tTest Accuracy: 83.43 % \n",
      "\n",
      "Train Epoch: 5 [0/60000 (0%)]\tTrain Loss: 0.536837\n",
      "Train Epoch: 5 [6400/60000 (11%)]\tTrain Loss: 0.588869\n",
      "Train Epoch: 5 [12800/60000 (21%)]\tTrain Loss: 0.579766\n",
      "Train Epoch: 5 [19200/60000 (32%)]\tTrain Loss: 0.497876\n",
      "Train Epoch: 5 [25600/60000 (43%)]\tTrain Loss: 0.359740\n",
      "Train Epoch: 5 [32000/60000 (53%)]\tTrain Loss: 0.427742\n",
      "Train Epoch: 5 [38400/60000 (64%)]\tTrain Loss: 0.378230\n",
      "Train Epoch: 5 [44800/60000 (75%)]\tTrain Loss: 0.748981\n",
      "Train Epoch: 5 [51200/60000 (85%)]\tTrain Loss: 0.374929\n",
      "Train Epoch: 5 [57600/60000 (96%)]\tTrain Loss: 0.414392\n",
      "\n",
      "[EPOCH: 5], \tTest Loss: 0.4639, \tTest Accuracy: 86.76 % \n",
      "\n",
      "Train Epoch: 6 [0/60000 (0%)]\tTrain Loss: 0.430907\n",
      "Train Epoch: 6 [6400/60000 (11%)]\tTrain Loss: 0.330875\n",
      "Train Epoch: 6 [12800/60000 (21%)]\tTrain Loss: 0.341832\n",
      "Train Epoch: 6 [19200/60000 (32%)]\tTrain Loss: 0.351170\n",
      "Train Epoch: 6 [25600/60000 (43%)]\tTrain Loss: 0.329180\n",
      "Train Epoch: 6 [32000/60000 (53%)]\tTrain Loss: 0.579877\n",
      "Train Epoch: 6 [38400/60000 (64%)]\tTrain Loss: 0.575315\n",
      "Train Epoch: 6 [44800/60000 (75%)]\tTrain Loss: 0.536489\n",
      "Train Epoch: 6 [51200/60000 (85%)]\tTrain Loss: 0.631943\n",
      "Train Epoch: 6 [57600/60000 (96%)]\tTrain Loss: 0.886523\n",
      "\n",
      "[EPOCH: 6], \tTest Loss: 0.4129, \tTest Accuracy: 88.02 % \n",
      "\n",
      "Train Epoch: 7 [0/60000 (0%)]\tTrain Loss: 0.534715\n",
      "Train Epoch: 7 [6400/60000 (11%)]\tTrain Loss: 0.156713\n",
      "Train Epoch: 7 [12800/60000 (21%)]\tTrain Loss: 0.513504\n",
      "Train Epoch: 7 [19200/60000 (32%)]\tTrain Loss: 0.511502\n",
      "Train Epoch: 7 [25600/60000 (43%)]\tTrain Loss: 0.620838\n",
      "Train Epoch: 7 [32000/60000 (53%)]\tTrain Loss: 0.435700\n",
      "Train Epoch: 7 [38400/60000 (64%)]\tTrain Loss: 0.212957\n",
      "Train Epoch: 7 [44800/60000 (75%)]\tTrain Loss: 0.858765\n",
      "Train Epoch: 7 [51200/60000 (85%)]\tTrain Loss: 0.409939\n",
      "Train Epoch: 7 [57600/60000 (96%)]\tTrain Loss: 0.980843\n",
      "\n",
      "[EPOCH: 7], \tTest Loss: 0.3846, \tTest Accuracy: 88.95 % \n",
      "\n",
      "Train Epoch: 8 [0/60000 (0%)]\tTrain Loss: 0.548809\n",
      "Train Epoch: 8 [6400/60000 (11%)]\tTrain Loss: 0.393193\n",
      "Train Epoch: 8 [12800/60000 (21%)]\tTrain Loss: 0.302902\n",
      "Train Epoch: 8 [19200/60000 (32%)]\tTrain Loss: 0.586848\n",
      "Train Epoch: 8 [25600/60000 (43%)]\tTrain Loss: 0.359172\n",
      "Train Epoch: 8 [32000/60000 (53%)]\tTrain Loss: 0.464914\n",
      "Train Epoch: 8 [38400/60000 (64%)]\tTrain Loss: 0.238605\n",
      "Train Epoch: 8 [44800/60000 (75%)]\tTrain Loss: 0.426995\n",
      "Train Epoch: 8 [51200/60000 (85%)]\tTrain Loss: 0.672615\n",
      "Train Epoch: 8 [57600/60000 (96%)]\tTrain Loss: 0.427760\n",
      "\n",
      "[EPOCH: 8], \tTest Loss: 0.3620, \tTest Accuracy: 89.56 % \n",
      "\n",
      "Train Epoch: 9 [0/60000 (0%)]\tTrain Loss: 0.248889\n",
      "Train Epoch: 9 [6400/60000 (11%)]\tTrain Loss: 0.597473\n",
      "Train Epoch: 9 [12800/60000 (21%)]\tTrain Loss: 0.258086\n",
      "Train Epoch: 9 [19200/60000 (32%)]\tTrain Loss: 0.142559\n",
      "Train Epoch: 9 [25600/60000 (43%)]\tTrain Loss: 0.559676\n",
      "Train Epoch: 9 [32000/60000 (53%)]\tTrain Loss: 0.344207\n",
      "Train Epoch: 9 [38400/60000 (64%)]\tTrain Loss: 0.277949\n",
      "Train Epoch: 9 [44800/60000 (75%)]\tTrain Loss: 0.183551\n",
      "Train Epoch: 9 [51200/60000 (85%)]\tTrain Loss: 0.297355\n",
      "Train Epoch: 9 [57600/60000 (96%)]\tTrain Loss: 0.387600\n",
      "\n",
      "[EPOCH: 9], \tTest Loss: 0.3479, \tTest Accuracy: 89.98 % \n",
      "\n",
      "Train Epoch: 10 [0/60000 (0%)]\tTrain Loss: 0.247587\n",
      "Train Epoch: 10 [6400/60000 (11%)]\tTrain Loss: 0.558866\n",
      "Train Epoch: 10 [12800/60000 (21%)]\tTrain Loss: 0.272811\n",
      "Train Epoch: 10 [19200/60000 (32%)]\tTrain Loss: 0.331571\n",
      "Train Epoch: 10 [25600/60000 (43%)]\tTrain Loss: 0.345689\n",
      "Train Epoch: 10 [32000/60000 (53%)]\tTrain Loss: 0.234993\n",
      "Train Epoch: 10 [38400/60000 (64%)]\tTrain Loss: 0.193664\n",
      "Train Epoch: 10 [44800/60000 (75%)]\tTrain Loss: 0.471763\n",
      "Train Epoch: 10 [51200/60000 (85%)]\tTrain Loss: 0.326251\n",
      "Train Epoch: 10 [57600/60000 (96%)]\tTrain Loss: 0.812352\n",
      "\n",
      "[EPOCH: 10], \tTest Loss: 0.3425, \tTest Accuracy: 90.12 % \n",
      "\n"
     ]
    }
   ],
   "source": [
    "for epoch in range(1, EPOCHS + 1):\n",
    "    train(model, train_loader, optimizer, log_interval = 200)\n",
    "    \n",
    "    test_loss, test_accuracy = evaluate(model, test_loader)\n",
    "    print(\"\\n[EPOCH: {}], \\tTest Loss: {:.4f}, \\tTest Accuracy: {:.2f} % \\n\".format(\n",
    "        epoch, test_loss, test_accuracy))"
   ]
  }
 ],
 "metadata": {
  "kernelspec": {
   "display_name": "conda_pytorch_p38",
   "language": "python",
   "name": "conda_pytorch_p38"
  },
  "language_info": {
   "codemirror_mode": {
    "name": "ipython",
    "version": 3
   },
   "file_extension": ".py",
   "mimetype": "text/x-python",
   "name": "python",
   "nbconvert_exporter": "python",
   "pygments_lexer": "ipython3",
   "version": "3.8.12"
  }
 },
 "nbformat": 4,
 "nbformat_minor": 5
}
