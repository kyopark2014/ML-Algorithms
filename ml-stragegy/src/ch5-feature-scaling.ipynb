{
 "cells": [
  {
   "cell_type": "markdown",
   "id": "d0b033b3",
   "metadata": {},
   "source": [
    "From [[ch5] Feature Scaling](https://www.kaggle.com/code/werooring/ch5-feature-scaling/notebook)"
   ]
  },
  {
   "cell_type": "markdown",
   "id": "04ae984e",
   "metadata": {},
   "source": [
    "### 5.4 피처 스케일링"
   ]
  },
  {
   "cell_type": "markdown",
   "id": "c942638f",
   "metadata": {},
   "source": [
    "### 5.4.1 min-max 정규화"
   ]
  },
  {
   "cell_type": "code",
   "execution_count": 2,
   "id": "d1595ede",
   "metadata": {},
   "outputs": [
    {
     "name": "stdout",
     "output_type": "stream",
     "text": [
      "      키  몸무게\n",
      "광일  1.7   75\n",
      "혜성  1.5   55\n",
      "덕수  1.8   60\n"
     ]
    }
   ],
   "source": [
    "import pandas as pd\n",
    "\n",
    "height_weight_dict = {'키': [1.7, 1.5, 1.8], '몸무게': [75, 55, 60]}\n",
    "df = pd.DataFrame(height_weight_dict, index=['광일', '혜성', '덕수'])\n",
    "\n",
    "print(df)"
   ]
  },
  {
   "cell_type": "code",
   "execution_count": 3,
   "id": "5cb24e8b",
   "metadata": {},
   "outputs": [
    {
     "name": "stdout",
     "output_type": "stream",
     "text": [
      "[[0.66666667 1.        ]\n",
      " [0.         0.        ]\n",
      " [1.         0.25      ]]\n"
     ]
    }
   ],
   "source": [
    "from sklearn.preprocessing import MinMaxScaler\n",
    "\n",
    "# min-max 정규화 객체 생성\n",
    "scaler = MinMaxScaler()\n",
    "\n",
    "# min-max 정규화 적용\n",
    "scaler.fit(df)\n",
    "df_scaled = scaler.transform(df)\n",
    "\n",
    "print(df_scaled)"
   ]
  },
  {
   "cell_type": "code",
   "execution_count": 4,
   "id": "91043b02",
   "metadata": {},
   "outputs": [
    {
     "name": "stdout",
     "output_type": "stream",
     "text": [
      "[[0.66666667 1.        ]\n",
      " [0.         0.        ]\n",
      " [1.         0.25      ]]\n"
     ]
    }
   ],
   "source": [
    "# min-max 정규화 객체 생성\n",
    "scaler = MinMaxScaler()\n",
    "\n",
    "# min-max 정규화 적용\n",
    "df_scaled = scaler.fit_transform(df)\n",
    "\n",
    "print(df_scaled)"
   ]
  },
  {
   "cell_type": "markdown",
   "id": "5bf0cf48",
   "metadata": {},
   "source": [
    "### 5.4.2 표준화"
   ]
  },
  {
   "cell_type": "code",
   "execution_count": 6,
   "id": "86671157",
   "metadata": {},
   "outputs": [
    {
     "name": "stdout",
     "output_type": "stream",
     "text": [
      "[[ 0.26726124  1.37281295]\n",
      " [-1.33630621 -0.98058068]\n",
      " [ 1.06904497 -0.39223227]]\n"
     ]
    }
   ],
   "source": [
    "from sklearn.preprocessing import StandardScaler\n",
    "\n",
    "# StandardScaler 객체 생성\n",
    "scaler = StandardScaler()\n",
    "\n",
    "# 표준화 적용\n",
    "df_scaled = scaler.fit_transform(df)\n",
    "\n",
    "print(df_scaled)"
   ]
  }
 ],
 "metadata": {
  "kernelspec": {
   "display_name": "conda_amazonei_tensorflow2_p36",
   "language": "python",
   "name": "conda_amazonei_tensorflow2_p36"
  },
  "language_info": {
   "codemirror_mode": {
    "name": "ipython",
    "version": 3
   },
   "file_extension": ".py",
   "mimetype": "text/x-python",
   "name": "python",
   "nbconvert_exporter": "python",
   "pygments_lexer": "ipython3",
   "version": "3.6.13"
  }
 },
 "nbformat": 4,
 "nbformat_minor": 5
}
