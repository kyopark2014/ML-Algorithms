{
 "cells": [
  {
   "cell_type": "markdown",
   "id": "1bd24f02",
   "metadata": {},
   "source": [
    "From [[ch5] Bayesian Optimization](https://www.kaggle.com/code/werooring/ch5-bayesian-optimization/notebook)"
   ]
  },
  {
   "cell_type": "markdown",
   "id": "e709a1c9",
   "metadata": {},
   "source": [
    "### 5.7.3 베이지안 최적화"
   ]
  },
  {
   "cell_type": "markdown",
   "id": "e9fa1392",
   "metadata": {},
   "source": [
    "### 1) 하이퍼 파라미터 탐색 범위 설정"
   ]
  },
  {
   "cell_type": "code",
   "execution_count": 2,
   "id": "30b13155",
   "metadata": {},
   "outputs": [],
   "source": [
    "# 하이퍼 파라미터 범위 (딕셔너리 형태)\n",
    "param_bounds = {'x': (-1, 5), \n",
    "                'y': (0, 4)}"
   ]
  },
  {
   "cell_type": "markdown",
   "id": "3b39d39a",
   "metadata": {},
   "source": [
    "### 2) 평가지표 계산 함수 정의"
   ]
  },
  {
   "cell_type": "code",
   "execution_count": 3,
   "id": "ad2cae58",
   "metadata": {},
   "outputs": [],
   "source": [
    "def eval_function(x, y):\n",
    "    return -x ** 2 - (y - 2) ** 2 + 10"
   ]
  },
  {
   "cell_type": "markdown",
   "id": "c21e1dba",
   "metadata": {},
   "source": [
    "### 3) 베이지안 최적화 객체 생성"
   ]
  },
  {
   "cell_type": "code",
   "execution_count": 7,
   "id": "665312aa",
   "metadata": {},
   "outputs": [
    {
     "name": "stdout",
     "output_type": "stream",
     "text": [
      "Looking in indexes: https://pypi.org/simple, https://pip.repos.neuron.amazonaws.com\n",
      "Collecting bayesian-optimization\n",
      "  Downloading bayesian-optimization-1.2.0.tar.gz (14 kB)\n",
      "  Preparing metadata (setup.py) ... \u001b[?25ldone\n",
      "\u001b[?25hRequirement already satisfied: numpy>=1.9.0 in /home/ec2-user/anaconda3/envs/amazonei_tensorflow2_p36/lib/python3.6/site-packages (from bayesian-optimization) (1.18.5)\n",
      "Requirement already satisfied: scipy>=0.14.0 in /home/ec2-user/anaconda3/envs/amazonei_tensorflow2_p36/lib/python3.6/site-packages (from bayesian-optimization) (1.5.3)\n",
      "Requirement already satisfied: scikit-learn>=0.18.0 in /home/ec2-user/anaconda3/envs/amazonei_tensorflow2_p36/lib/python3.6/site-packages (from bayesian-optimization) (0.24.1)\n",
      "Requirement already satisfied: joblib>=0.11 in /home/ec2-user/anaconda3/envs/amazonei_tensorflow2_p36/lib/python3.6/site-packages (from scikit-learn>=0.18.0->bayesian-optimization) (1.0.1)\n",
      "Requirement already satisfied: threadpoolctl>=2.0.0 in /home/ec2-user/anaconda3/envs/amazonei_tensorflow2_p36/lib/python3.6/site-packages (from scikit-learn>=0.18.0->bayesian-optimization) (2.1.0)\n",
      "Building wheels for collected packages: bayesian-optimization\n",
      "  Building wheel for bayesian-optimization (setup.py) ... \u001b[?25ldone\n",
      "\u001b[?25h  Created wheel for bayesian-optimization: filename=bayesian_optimization-1.2.0-py3-none-any.whl size=11685 sha256=688767b1c32fb9ced8005aae2d74be3f9cfd9e33d41f404c6b3d1141634de6b6\n",
      "  Stored in directory: /home/ec2-user/.cache/pip/wheels/22/cf/f4/600b7619db8e0ce75023fc14145fc432a54522b7b7b4778ecf\n",
      "Successfully built bayesian-optimization\n",
      "Installing collected packages: bayesian-optimization\n",
      "Successfully installed bayesian-optimization-1.2.0\n"
     ]
    }
   ],
   "source": [
    "!pip install bayesian-optimization"
   ]
  },
  {
   "cell_type": "code",
   "execution_count": 8,
   "id": "e948f114",
   "metadata": {},
   "outputs": [],
   "source": [
    "from bayes_opt import BayesianOptimization\n",
    "\n",
    "# 베이지안 최적화 객체 생성\n",
    "optimizer = BayesianOptimization(f=eval_function,\n",
    "                                 pbounds=param_bounds,\n",
    "                                 random_state=0)"
   ]
  },
  {
   "cell_type": "markdown",
   "id": "439fd169",
   "metadata": {},
   "source": [
    "### 4) 최적화 수행¶"
   ]
  },
  {
   "cell_type": "code",
   "execution_count": 9,
   "id": "01305788",
   "metadata": {},
   "outputs": [
    {
     "name": "stdout",
     "output_type": "stream",
     "text": [
      "|   iter    |  target   |     x     |     y     |\n",
      "-------------------------------------------------\n",
      "| \u001b[0m 1       \u001b[0m | \u001b[0m 4.002   \u001b[0m | \u001b[0m 2.293   \u001b[0m | \u001b[0m 2.861   \u001b[0m |\n",
      "| \u001b[0m 2       \u001b[0m | \u001b[0m 3.121   \u001b[0m | \u001b[0m 2.617   \u001b[0m | \u001b[0m 2.18    \u001b[0m |\n",
      "| \u001b[0m 3       \u001b[0m | \u001b[0m 3.832   \u001b[0m | \u001b[0m 2.327   \u001b[0m | \u001b[0m 2.869   \u001b[0m |\n",
      "| \u001b[95m 4       \u001b[0m | \u001b[95m 4.596   \u001b[0m | \u001b[95m 2.171   \u001b[0m | \u001b[95m 2.832   \u001b[0m |\n",
      "| \u001b[0m 5       \u001b[0m | \u001b[0m-6.227   \u001b[0m | \u001b[0m 3.989   \u001b[0m | \u001b[0m 2.559   \u001b[0m |\n",
      "| \u001b[95m 6       \u001b[0m | \u001b[95m 9.467   \u001b[0m | \u001b[95m 0.3522  \u001b[0m | \u001b[95m 1.361   \u001b[0m |\n",
      "| \u001b[0m 7       \u001b[0m | \u001b[0m 7.39    \u001b[0m | \u001b[0m-1.0     \u001b[0m | \u001b[0m 3.269   \u001b[0m |\n",
      "| \u001b[0m 8       \u001b[0m | \u001b[0m 5.0     \u001b[0m | \u001b[0m-1.0     \u001b[0m | \u001b[0m 0.0     \u001b[0m |\n",
      "| \u001b[0m 9       \u001b[0m | \u001b[0m 3.841   \u001b[0m | \u001b[0m 1.469   \u001b[0m | \u001b[0m 0.0     \u001b[0m |\n",
      "| \u001b[0m 10      \u001b[0m | \u001b[0m 8.966   \u001b[0m | \u001b[0m-1.0     \u001b[0m | \u001b[0m 1.817   \u001b[0m |\n",
      "| \u001b[95m 11      \u001b[0m | \u001b[95m 9.737   \u001b[0m | \u001b[95m 0.1809  \u001b[0m | \u001b[95m 2.48    \u001b[0m |\n",
      "| \u001b[0m 12      \u001b[0m | \u001b[0m 5.785   \u001b[0m | \u001b[0m 0.4638  \u001b[0m | \u001b[0m 4.0     \u001b[0m |\n",
      "=================================================\n"
     ]
    }
   ],
   "source": [
    "# 베이지안 최적화 수행\n",
    "optimizer.maximize(init_points=2, n_iter=10)"
   ]
  },
  {
   "cell_type": "code",
   "execution_count": 10,
   "id": "066e56f4",
   "metadata": {},
   "outputs": [
    {
     "data": {
      "text/plain": [
       "{'target': 9.736600453731652,\n",
       " 'params': {'x': 0.18092018653112793, 'y': 2.4802784945985916}}"
      ]
     },
     "execution_count": 10,
     "metadata": {},
     "output_type": "execute_result"
    }
   ],
   "source": [
    "# 평가점수가 최대일 때 타깃, x, y 값 출력\n",
    "optimizer.max"
   ]
  }
 ],
 "metadata": {
  "kernelspec": {
   "display_name": "conda_amazonei_tensorflow2_p36",
   "language": "python",
   "name": "conda_amazonei_tensorflow2_p36"
  },
  "language_info": {
   "codemirror_mode": {
    "name": "ipython",
    "version": 3
   },
   "file_extension": ".py",
   "mimetype": "text/x-python",
   "name": "python",
   "nbconvert_exporter": "python",
   "pygments_lexer": "ipython3",
   "version": "3.6.13"
  }
 },
 "nbformat": 4,
 "nbformat_minor": 5
}
