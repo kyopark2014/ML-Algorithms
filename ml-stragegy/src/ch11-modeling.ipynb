{
 "cells": [
  {
   "cell_type": "markdown",
   "id": "ad0c8ae8",
   "metadata": {},
   "source": [
    "# 11.4 항공 사진 내 선인장 식별 경진대회 성능 개선\n",
    "\n",
    "[[ch11] Modeling](https://www.kaggle.com/code/werooring/ch11-modeling/notebook)"
   ]
  },
  {
   "cell_type": "markdown",
   "id": "2e3ce735",
   "metadata": {},
   "source": [
    "[항공 사진 내 선인장 식별 경진대회 링크](https://www.kaggle.com/c/aerial-cactus-identification)\n",
    "\n",
    "[베이스라인 코드 참고 링크](https://www.kaggle.com/code/bonhart/simple-cnn-on-pytorch-for-beginers/notebook)"
   ]
  },
  {
   "cell_type": "code",
   "execution_count": 1,
   "id": "8f7b1823",
   "metadata": {},
   "outputs": [],
   "source": [
    "import torch # 파이토치 \n",
    "import random\n",
    "import numpy as np\n",
    "import os\n",
    "\n",
    "# 시드값 고정\n",
    "seed = 50\n",
    "os.environ['PYTHONHASHSEED'] = str(seed)\n",
    "random.seed(seed)\n",
    "np.random.seed(seed)\n",
    "torch.manual_seed(seed)\n",
    "torch.cuda.manual_seed(seed)\n",
    "torch.cuda.manual_seed_all(seed)\n",
    "torch.backends.cudnn.deterministic = True\n",
    "torch.backends.cudnn.benchmark = False\n",
    "torch.backends.cudnn.enabled = False"
   ]
  },
  {
   "cell_type": "code",
   "execution_count": 2,
   "id": "ed7757b7",
   "metadata": {},
   "outputs": [],
   "source": [
    "device = torch.device('cuda' if torch.cuda.is_available() else 'cpu')"
   ]
  },
  {
   "cell_type": "code",
   "execution_count": 3,
   "id": "a57c6667",
   "metadata": {},
   "outputs": [
    {
     "data": {
      "text/plain": [
       "device(type='cpu')"
      ]
     },
     "execution_count": 3,
     "metadata": {},
     "output_type": "execute_result"
    }
   ],
   "source": [
    "device"
   ]
  },
  {
   "cell_type": "markdown",
   "id": "c688e742",
   "metadata": {},
   "source": [
    "### 11.4.1 데이터 준비"
   ]
  },
  {
   "cell_type": "code",
   "execution_count": 4,
   "id": "229eae82",
   "metadata": {},
   "outputs": [],
   "source": [
    "import pandas as pd\n",
    "\n",
    "# 데이터 경로\n",
    "data_path = './aerial-cactus-identification/'\n",
    "\n",
    "labels = pd.read_csv(data_path + 'train.csv')\n",
    "submission = pd.read_csv(data_path + 'sample_submission.csv')"
   ]
  },
  {
   "cell_type": "code",
   "execution_count": 5,
   "id": "d99444f1",
   "metadata": {},
   "outputs": [],
   "source": [
    "from zipfile import ZipFile\n",
    "\n",
    "# 훈련 이미지 데이터 압축 풀기\n",
    "with ZipFile(data_path + 'train.zip') as zipper:\n",
    "    zipper.extractall()\n",
    "    \n",
    "# 테스트 이미지 데이터 압축 풀기\n",
    "with ZipFile(data_path + 'test.zip') as zipper:\n",
    "    zipper.extractall()"
   ]
  },
  {
   "cell_type": "code",
   "execution_count": 6,
   "id": "03f679b7",
   "metadata": {},
   "outputs": [],
   "source": [
    "from sklearn.model_selection import train_test_split\n",
    "\n",
    "# 훈련 데이터, 검증 데이터 분리\n",
    "train, valid = train_test_split(labels, \n",
    "                                test_size=0.1,\n",
    "                                stratify=labels['has_cactus'],\n",
    "                                random_state=50)"
   ]
  },
  {
   "cell_type": "code",
   "execution_count": 7,
   "id": "d735b68a",
   "metadata": {},
   "outputs": [],
   "source": [
    "import cv2 # OpenCV 라이브러리\n",
    "from torch.utils.data import Dataset # 데이터 생성을 위한 클래스\n",
    "\n",
    "class ImageDataset(Dataset):\n",
    "    # 초기화 메서드(생성자)\n",
    "    def __init__(self, df, img_dir='./', transform=None):\n",
    "        super().__init__() # 상속받은 Dataset의 생성자 호출\n",
    "        # 전달받은 인수들 저장\n",
    "        self.df = df\n",
    "        self.img_dir = img_dir\n",
    "        self.transform = transform\n",
    "    \n",
    "    # 데이터셋 크기 반환 메서드 \n",
    "    def __len__(self):\n",
    "        return len(self.df)\n",
    "    \n",
    "    # 인덱스(idx)에 해당하는 데이터 반환 메서드 \n",
    "    def __getitem__(self, idx):\n",
    "        img_id = self.df.iloc[idx, 0]    # 이미지 ID\n",
    "        img_path = self.img_dir + img_id # 이미지 파일 경로 \n",
    "        image = cv2.imread(img_path)     # 이미지 파일 읽기 \n",
    "        image = cv2.cvtColor(image, cv2.COLOR_BGR2RGB) # 이미지 색상 보정\n",
    "        label = self.df.iloc[idx, 1]     # 이미지 레이블(타깃값)\n",
    "\n",
    "        if self.transform is not None:\n",
    "            image = self.transform(image) # 변환기가 있다면 이미지 변환\n",
    "        return image, label"
   ]
  },
  {
   "cell_type": "markdown",
   "id": "16c46ca5",
   "metadata": {},
   "source": [
    "### 이미지 변환기 정의"
   ]
  },
  {
   "cell_type": "code",
   "execution_count": 8,
   "id": "46b96737",
   "metadata": {},
   "outputs": [],
   "source": [
    "from torchvision import transforms # 이미지 변환을 위한 모듈\n",
    "\n",
    "# 훈련 데이터용 변환기\n",
    "transform_train = transforms.Compose([transforms.ToTensor(),\n",
    "                                      transforms.Pad(32, padding_mode='symmetric'),\n",
    "                                      transforms.RandomHorizontalFlip(),\n",
    "                                      transforms.RandomVerticalFlip(),\n",
    "                                      transforms.RandomRotation(10),\n",
    "                                      transforms.Normalize((0.485, 0.456, 0.406),\n",
    "                                                           (0.229, 0.224, 0.225))])\n",
    "\n",
    "# 검증 및 테스트 데이터용 변환기\n",
    "transform_test= transforms.Compose([transforms.ToTensor(),\n",
    "                                    transforms.Pad(32, padding_mode='symmetric'),\n",
    "                                    transforms.Normalize((0.485, 0.456, 0.406),\n",
    "                                                         (0.229, 0.224, 0.225))])"
   ]
  },
  {
   "cell_type": "markdown",
   "id": "e7ff2854",
   "metadata": {},
   "source": [
    "### 데이터셋 및 데이터 로더 생성"
   ]
  },
  {
   "cell_type": "code",
   "execution_count": 9,
   "id": "2118417a",
   "metadata": {},
   "outputs": [],
   "source": [
    "dataset_train = ImageDataset(df=train, img_dir='train/', transform=transform_train)\n",
    "dataset_valid = ImageDataset(df=valid, img_dir='train/', transform=transform_test)"
   ]
  },
  {
   "cell_type": "code",
   "execution_count": 10,
   "id": "1dfe3e75",
   "metadata": {},
   "outputs": [],
   "source": [
    "from torch.utils.data import DataLoader # 데이터 로더 클래스\n",
    "\n",
    "loader_train = DataLoader(dataset=dataset_train, batch_size=32, shuffle=True)\n",
    "loader_valid = DataLoader(dataset=dataset_valid, batch_size=32, shuffle=False)"
   ]
  },
  {
   "cell_type": "markdown",
   "id": "bd929f3b",
   "metadata": {},
   "source": [
    "### 11.4.2 모델 생성"
   ]
  },
  {
   "cell_type": "code",
   "execution_count": 11,
   "id": "4876327f",
   "metadata": {},
   "outputs": [],
   "source": [
    "import torch.nn as nn # 신경망 모듈\n",
    "import torch.nn.functional as F # 신경망 모듈에서 자주 사용되는 함수\n",
    "\n",
    "class Model(nn.Module):\n",
    "    # 신경망 계층 정의\n",
    "    def __init__(self):\n",
    "        super().__init__() # 상속받은 nn.Module의 __init__() 메서드 호출\n",
    "        # 1 ~ 5번째 {합성곱, 배치 정규화, 최대 풀링} 계층 \n",
    "        self.layer1 = nn.Sequential(nn.Conv2d(in_channels=3, out_channels=32,\n",
    "                                              kernel_size=3, padding=2),\n",
    "                                    nn.BatchNorm2d(32), # 배치 정규화\n",
    "                                    nn.LeakyReLU(), # LeakyReLU 활성화 함수\n",
    "                                    nn.MaxPool2d(kernel_size=2))\n",
    "\n",
    "        self.layer2 = nn.Sequential(nn.Conv2d(in_channels=32, out_channels=64,\n",
    "                                              kernel_size=3, padding=2),\n",
    "                                    nn.BatchNorm2d(64),\n",
    "                                    nn.LeakyReLU(),\n",
    "                                    nn.MaxPool2d(kernel_size=2))\n",
    "        \n",
    "        self.layer3 = nn.Sequential(nn.Conv2d(in_channels=64, out_channels=128,\n",
    "                                              kernel_size=3, padding=2),\n",
    "                                    nn.BatchNorm2d(128),\n",
    "                                    nn.LeakyReLU(),\n",
    "                                    nn.MaxPool2d(kernel_size=2))\n",
    "        \n",
    "        self.layer4 = nn.Sequential(nn.Conv2d(in_channels=128, out_channels=256,\n",
    "                                              kernel_size=3, padding=2),\n",
    "                                    nn.BatchNorm2d(256),\n",
    "                                    nn.LeakyReLU(),\n",
    "                                    nn.MaxPool2d(kernel_size=2))\n",
    "        \n",
    "        self.layer5 = nn.Sequential(nn.Conv2d(in_channels=256, out_channels=512,\n",
    "                                              kernel_size=3, padding=2),\n",
    "                                    nn.BatchNorm2d(512),\n",
    "                                    nn.LeakyReLU(),\n",
    "                                    nn.MaxPool2d(kernel_size=2))\n",
    "        # 평균 풀링 계층 \n",
    "        self.avg_pool = nn.AvgPool2d(kernel_size=4) \n",
    "        # 전결합 계층\n",
    "        self.fc1 = nn.Linear(in_features=512 * 1 * 1, out_features=64)\n",
    "        self.fc2 = nn.Linear(in_features=64, out_features=2)\n",
    "\n",
    "    # 순전파 출력 정의 \n",
    "    def forward(self, x):\n",
    "        x = self.layer1(x)\n",
    "        x = self.layer2(x)\n",
    "        x = self.layer3(x)\n",
    "        x = self.layer4(x)\n",
    "        x = self.layer5(x)\n",
    "        x = self.avg_pool(x)\n",
    "        x = x.view(-1, 512 * 1 * 1) # 평탄화\n",
    "        x = self.fc1(x)\n",
    "        x = self.fc2(x)\n",
    "        return x"
   ]
  },
  {
   "cell_type": "code",
   "execution_count": 12,
   "id": "794dd558",
   "metadata": {},
   "outputs": [],
   "source": [
    "model = Model().to(device)"
   ]
  },
  {
   "cell_type": "markdown",
   "id": "019b60e8",
   "metadata": {},
   "source": [
    "### 11.4.3 모델 훈련"
   ]
  },
  {
   "cell_type": "markdown",
   "id": "22b45f7d",
   "metadata": {},
   "source": [
    "### 손실 함수와 옵티마이저 설정"
   ]
  },
  {
   "cell_type": "code",
   "execution_count": 13,
   "id": "50058f21",
   "metadata": {},
   "outputs": [],
   "source": [
    "# 손실 함수\n",
    "criterion = nn.CrossEntropyLoss()"
   ]
  },
  {
   "cell_type": "code",
   "execution_count": 14,
   "id": "6c21ac45",
   "metadata": {},
   "outputs": [],
   "source": [
    "# 옵티마이저\n",
    "optimizer = torch.optim.Adamax(model.parameters(), lr=0.00006)"
   ]
  },
  {
   "cell_type": "markdown",
   "id": "ee3578e5",
   "metadata": {},
   "source": [
    "### 모델 훈련"
   ]
  },
  {
   "cell_type": "code",
   "execution_count": null,
   "id": "0febbb60",
   "metadata": {},
   "outputs": [
    {
     "name": "stdout",
     "output_type": "stream",
     "text": [
      "에폭 [1/70] - 손실값: 0.1287\n",
      "에폭 [2/70] - 손실값: 0.0657\n"
     ]
    }
   ],
   "source": [
    "epochs = 70 # 총 에폭\n",
    "\n",
    "# 총 에폭만큼 반복\n",
    "for epoch in range(epochs):\n",
    "    epoch_loss = 0 # 에폭별 손실값 초기화\n",
    "    \n",
    "    # '반복 횟수'만큼 반복 \n",
    "    for images, labels in loader_train:\n",
    "        # 이미지, 레이블 데이터 미니배치를 장비에 할당 \n",
    "        images = images.to(device)\n",
    "        labels = labels.to(device)\n",
    "        \n",
    "        # 옵티마이저 내 기울기 초기화\n",
    "        optimizer.zero_grad()\n",
    "        # 순전파 : 이미지 데이터를 신경망 모델의 입력값으로 사용해 출력값 계산\n",
    "        outputs = model(images)\n",
    "        # 손실 함수를 활용해 outputs와 labels의 손실값 계산\n",
    "        loss = criterion(outputs, labels)\n",
    "        # 현재 배치에서의 손실 추가\n",
    "        epoch_loss += loss.item() \n",
    "        # 역전파 수행\n",
    "        loss.backward()\n",
    "        # 가중치 갱신\n",
    "        optimizer.step()\n",
    "        \n",
    "    print(f'에폭 [{epoch+1}/{epochs}] - 손실값: {epoch_loss/len(loader_train):.4f}')  "
   ]
  },
  {
   "cell_type": "markdown",
   "id": "58eaa410",
   "metadata": {},
   "source": [
    "### 11.4.4 성능 검증"
   ]
  },
  {
   "cell_type": "code",
   "execution_count": null,
   "id": "474bb0ad",
   "metadata": {},
   "outputs": [],
   "source": [
    "from sklearn.metrics import roc_auc_score # ROC AUC 점수 계산 함수 임포트\n",
    "\n",
    "# 실제값과 예측 확률값을 담을 리스트 초기화\n",
    "true_list = []\n",
    "preds_list = []\n",
    "\n",
    "model.eval() # 모델을 평가 상태로 설정 \n",
    "\n",
    "with torch.no_grad(): # 기울기 계산 비활성화\n",
    "    for images, labels in loader_valid:\n",
    "        # 이미지, 레이블 데이터 미니배치를 장비에 할당 \n",
    "        images = images.to(device)\n",
    "        labels = labels.to(device)\n",
    "        \n",
    "        # 순전파 : 이미지 데이터를 신경망 모델의 입력값으로 사용해 출력값 계산\n",
    "        outputs = model(images)\n",
    "        preds = torch.softmax(outputs.cpu(), dim=1)[:, 1] # 예측 확률값\n",
    "        true = labels.cpu() # 실제값 \n",
    "        # 예측 확률값과 실제값을 리스트에 추가\n",
    "        preds_list.extend(preds)\n",
    "        true_list.extend(true)\n",
    "        \n",
    "# 검증 데이터 ROC AUC 점수 계산 \n",
    "print(f'검증 데이터 ROC AUC : {roc_auc_score(true_list, preds_list):.4f}')    "
   ]
  },
  {
   "cell_type": "markdown",
   "id": "45f9996f",
   "metadata": {},
   "source": [
    "### 11.4.5 예측 및 결과 제출"
   ]
  },
  {
   "cell_type": "code",
   "execution_count": null,
   "id": "ed9c98f3",
   "metadata": {},
   "outputs": [],
   "source": [
    "dataset_test = ImageDataset(df=submission, img_dir='test/', \n",
    "                            transform=transform_test)\n",
    "loader_test = DataLoader(dataset=dataset_test, batch_size=32, shuffle=False)\n",
    "\n",
    "# 예측 수행\n",
    "model.eval() # 모델을 평가 상태로 설정\n",
    "\n",
    "preds = [] # 타깃 예측값 저장용 리스트 초기화\n",
    "\n",
    "with torch.no_grad(): # 기울기 계산 비활성화\n",
    "    for images, _ in loader_test:\n",
    "        # 이미지 데이터 미니배치를 장비에 할당\n",
    "        images = images.to(device)\n",
    "        \n",
    "        # 순전파 : 이미지 데이터를 신경망 모델의 입력값으로 사용해 출력값 계산\n",
    "        outputs = model(images)\n",
    "        # 타깃값이 1일 확률(예측값)\n",
    "        preds_part = torch.softmax(outputs.cpu(), dim=1)[:, 1].tolist()\n",
    "        # preds에 preds_part 이어붙이기\n",
    "        preds.extend(preds_part)"
   ]
  },
  {
   "cell_type": "code",
   "execution_count": null,
   "id": "d77cabf3",
   "metadata": {},
   "outputs": [],
   "source": [
    "submission['has_cactus'] = preds\n",
    "submission.to_csv('submission.csv', index=False)"
   ]
  },
  {
   "cell_type": "code",
   "execution_count": null,
   "id": "746be0b5",
   "metadata": {},
   "outputs": [],
   "source": [
    "import shutil\n",
    "\n",
    "shutil.rmtree('./train')\n",
    "shutil.rmtree('./test')"
   ]
  }
 ],
 "metadata": {
  "kernelspec": {
   "display_name": "conda_pytorch_p38",
   "language": "python",
   "name": "conda_pytorch_p38"
  },
  "language_info": {
   "codemirror_mode": {
    "name": "ipython",
    "version": 3
   },
   "file_extension": ".py",
   "mimetype": "text/x-python",
   "name": "python",
   "nbconvert_exporter": "python",
   "pygments_lexer": "ipython3",
   "version": "3.8.12"
  }
 },
 "nbformat": 4,
 "nbformat_minor": 5
}
