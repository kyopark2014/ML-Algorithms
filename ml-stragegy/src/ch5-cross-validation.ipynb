{
 "cells": [
  {
   "cell_type": "markdown",
   "id": "c4d80834",
   "metadata": {},
   "source": [
    "From [[ch5] Cross Validation](https://www.kaggle.com/code/werooring/ch5-cross-validation/notebook)"
   ]
  },
  {
   "cell_type": "markdown",
   "id": "a3240600",
   "metadata": {},
   "source": [
    "### 5.5 교차 검증"
   ]
  },
  {
   "cell_type": "markdown",
   "id": "98646a1a",
   "metadata": {},
   "source": [
    "### 5.5.1 K 폴드 교차 검증"
   ]
  },
  {
   "cell_type": "code",
   "execution_count": 3,
   "id": "6fabff6c",
   "metadata": {},
   "outputs": [
    {
     "name": "stdout",
     "output_type": "stream",
     "text": [
      "훈련 데이터: [2 3 4 5 6 7 8 9], 검증 데이터: [0 1]\n",
      "훈련 데이터: [0 1 4 5 6 7 8 9], 검증 데이터: [2 3]\n",
      "훈련 데이터: [0 1 2 3 6 7 8 9], 검증 데이터: [4 5]\n",
      "훈련 데이터: [0 1 2 3 4 5 8 9], 검증 데이터: [6 7]\n",
      "훈련 데이터: [0 1 2 3 4 5 6 7], 검증 데이터: [8 9]\n"
     ]
    }
   ],
   "source": [
    "import numpy as np\n",
    "from sklearn.model_selection import KFold\n",
    "\n",
    "data = np.array([0, 1, 2, 3, 4, 5, 6, 7, 8, 9])\n",
    "\n",
    "folds = KFold(n_splits=5, shuffle=False)\n",
    "\n",
    "for train_idx, valid_idx in folds.split(data):\n",
    "    print(f'훈련 데이터: {data[train_idx]}, 검증 데이터: {data[valid_idx]}')"
   ]
  },
  {
   "cell_type": "code",
   "execution_count": 4,
   "id": "f9bfc7ce",
   "metadata": {},
   "outputs": [
    {
     "name": "stdout",
     "output_type": "stream",
     "text": [
      "훈련 데이터: [0 1 2 4 5 7 8 9], 검증 데이터: [3 6]\n",
      "훈련 데이터: [0 2 3 4 5 6 7 9], 검증 데이터: [1 8]\n",
      "훈련 데이터: [0 1 3 4 5 6 7 8], 검증 데이터: [2 9]\n",
      "훈련 데이터: [1 2 3 4 6 7 8 9], 검증 데이터: [0 5]\n",
      "훈련 데이터: [0 1 2 3 5 6 8 9], 검증 데이터: [4 7]\n"
     ]
    }
   ],
   "source": [
    "folds = KFold(n_splits=5, shuffle=True)\n",
    "\n",
    "for train_idx, valid_idx in folds.split(data):\n",
    "    print(f'훈련 데이터: {data[train_idx]}, 검증 데이터: {data[valid_idx]}')"
   ]
  },
  {
   "cell_type": "markdown",
   "id": "9848bc22",
   "metadata": {},
   "source": [
    "### 5.5.2 층화 K 폴드 교차 검증"
   ]
  },
  {
   "cell_type": "code",
   "execution_count": 5,
   "id": "56f47f53",
   "metadata": {},
   "outputs": [
    {
     "name": "stdout",
     "output_type": "stream",
     "text": [
      "Fold 1 검증 데이터 타깃 값:\n",
      "['스팸' '일반' '일반' '일반' '일반' '일반' '일반' '일반' '일반' '일반'] \n",
      "\n",
      "Fold 2 검증 데이터 타깃 값:\n",
      "['스팸' '스팸' '일반' '일반' '일반' '일반' '일반' '일반' '일반' '일반'] \n",
      "\n",
      "Fold 3 검증 데이터 타깃 값:\n",
      "['스팸' '스팸' '일반' '일반' '일반' '일반' '일반' '일반' '일반' '일반'] \n",
      "\n",
      "Fold 4 검증 데이터 타깃 값:\n",
      "['일반' '일반' '일반' '일반' '일반' '일반' '일반' '일반' '일반' '일반'] \n",
      "\n",
      "Fold 5 검증 데이터 타깃 값:\n",
      "['일반' '일반' '일반' '일반' '일반' '일반' '일반' '일반' '일반' '일반'] \n",
      "\n"
     ]
    }
   ],
   "source": [
    "y = np.array(['스팸']*5 + ['일반']*45)\n",
    "\n",
    "folds = KFold(n_splits=5, shuffle=True) # K 폴드 교차 검증\n",
    "\n",
    "for idx, (train_idx, valid_idx) in enumerate(folds.split(y)):\n",
    "    print(f'Fold {idx+1} 검증 데이터 타깃 값:')\n",
    "    print(y[valid_idx], '\\n')"
   ]
  },
  {
   "cell_type": "code",
   "execution_count": 6,
   "id": "ac98228b",
   "metadata": {},
   "outputs": [
    {
     "name": "stdout",
     "output_type": "stream",
     "text": [
      "Fold 1 검증 데이터 타깃 값:\n",
      "['스팸' '일반' '일반' '일반' '일반' '일반' '일반' '일반' '일반' '일반'] \n",
      "\n",
      "Fold 2 검증 데이터 타깃 값:\n",
      "['스팸' '일반' '일반' '일반' '일반' '일반' '일반' '일반' '일반' '일반'] \n",
      "\n",
      "Fold 3 검증 데이터 타깃 값:\n",
      "['스팸' '일반' '일반' '일반' '일반' '일반' '일반' '일반' '일반' '일반'] \n",
      "\n",
      "Fold 4 검증 데이터 타깃 값:\n",
      "['스팸' '일반' '일반' '일반' '일반' '일반' '일반' '일반' '일반' '일반'] \n",
      "\n",
      "Fold 5 검증 데이터 타깃 값:\n",
      "['스팸' '일반' '일반' '일반' '일반' '일반' '일반' '일반' '일반' '일반'] \n",
      "\n"
     ]
    }
   ],
   "source": [
    "from sklearn.model_selection import StratifiedKFold\n",
    "\n",
    "X = np.array(range(50))\n",
    "y = np.array(['스팸']*5 + ['일반']*45)\n",
    "\n",
    "folds = StratifiedKFold(n_splits=5) # '층화' K 폴드 교차 검증\n",
    "\n",
    "for idx, (train_idx, valid_idx) in enumerate(folds.split(X, y)):\n",
    "    print(f'Fold {idx+1} 검증 데이터 타깃 값:')\n",
    "    print(y[valid_idx], '\\n')"
   ]
  }
 ],
 "metadata": {
  "kernelspec": {
   "display_name": "conda_amazonei_tensorflow2_p36",
   "language": "python",
   "name": "conda_amazonei_tensorflow2_p36"
  },
  "language_info": {
   "codemirror_mode": {
    "name": "ipython",
    "version": 3
   },
   "file_extension": ".py",
   "mimetype": "text/x-python",
   "name": "python",
   "nbconvert_exporter": "python",
   "pygments_lexer": "ipython3",
   "version": "3.6.13"
  }
 },
 "nbformat": 4,
 "nbformat_minor": 5
}
