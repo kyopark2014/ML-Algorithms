{
 "cells": [
  {
   "cell_type": "markdown",
   "id": "12db229c",
   "metadata": {},
   "source": [
    "From [[ch5] Random Forest](https://www.kaggle.com/code/werooring/ch5-randomforest/notebook)"
   ]
  },
  {
   "cell_type": "markdown",
   "id": "16702511",
   "metadata": {},
   "source": [
    "### 5.6.5 랜덤 포레스트"
   ]
  },
  {
   "cell_type": "code",
   "execution_count": 2,
   "id": "2dd9134f",
   "metadata": {},
   "outputs": [
    {
     "name": "stdout",
     "output_type": "stream",
     "text": [
      "랜덤 포레스트 정확도: 0.939\n"
     ]
    }
   ],
   "source": [
    "from sklearn.ensemble import RandomForestClassifier\n",
    "from sklearn.model_selection import train_test_split\n",
    "from sklearn.datasets import load_breast_cancer\n",
    "\n",
    "# 유방암 데이터 세트 불러오기\n",
    "cancer_data = load_breast_cancer()\n",
    "# 훈련, 테스트 데이터로 분리\n",
    "X_train, X_test, y_train, y_test = train_test_split(cancer_data['data'], \n",
    "                                                cancer_data['target'], \n",
    "                                                stratify=cancer_data['target'], \n",
    "                                                test_size=0.4, \n",
    "                                                random_state=42)\n",
    "\n",
    "randomforest = RandomForestClassifier(random_state=42) # 랜덤 포레스트 정의\n",
    "randomforest.fit(X_train, y_train) # 모델 훈련\n",
    "\n",
    "accuracy = randomforest.score(X_test, y_test) # 정확도 측정\n",
    "\n",
    "# 테스트 데이터를 활용하여 랜덤 포레스트 모델 정확도 출력\n",
    "print(f'랜덤 포레스트 정확도: {accuracy:.3f}')"
   ]
  }
 ],
 "metadata": {
  "kernelspec": {
   "display_name": "conda_amazonei_tensorflow2_p36",
   "language": "python",
   "name": "conda_amazonei_tensorflow2_p36"
  },
  "language_info": {
   "codemirror_mode": {
    "name": "ipython",
    "version": 3
   },
   "file_extension": ".py",
   "mimetype": "text/x-python",
   "name": "python",
   "nbconvert_exporter": "python",
   "pygments_lexer": "ipython3",
   "version": "3.6.13"
  }
 },
 "nbformat": 4,
 "nbformat_minor": 5
}
