{
 "cells": [
  {
   "cell_type": "markdown",
   "id": "16e9de07",
   "metadata": {},
   "source": [
    "# 11.3 항공 사진 내 선인장 식별 경진대회 베이스라인 모델\n",
    "\n",
    "[[ch11] Baseline](https://www.kaggle.com/code/werooring/ch11-baseline/notebook)"
   ]
  },
  {
   "cell_type": "markdown",
   "id": "01c463ef",
   "metadata": {},
   "source": [
    "[항공 사진 내 선인장 식별 경진대회 링크](https://www.kaggle.com/c/aerial-cactus-identification)\n",
    "\n",
    "[베이스라인 코드 참고 링크](https://www.kaggle.com/code/bonhart/simple-cnn-on-pytorch-for-beginers/notebook)"
   ]
  },
  {
   "cell_type": "markdown",
   "id": "08210c39",
   "metadata": {},
   "source": [
    "### 11.3.1 시드 값 고정 및 GPU 장비 설정"
   ]
  },
  {
   "cell_type": "markdown",
   "id": "a7245781",
   "metadata": {},
   "source": [
    "### 시드 값 고정"
   ]
  },
  {
   "cell_type": "code",
   "execution_count": 1,
   "id": "a5144ff0",
   "metadata": {},
   "outputs": [
    {
     "name": "stdout",
     "output_type": "stream",
     "text": [
      "Looking in indexes: https://pypi.org/simple, https://pip.repos.neuron.amazonaws.com\n",
      "Requirement already satisfied: torch in /home/ec2-user/anaconda3/envs/pytorch_p38/lib/python3.8/site-packages (1.10.0)\n",
      "Requirement already satisfied: typing_extensions in /home/ec2-user/anaconda3/envs/pytorch_p38/lib/python3.8/site-packages (from torch) (4.0.0)\n",
      "\u001b[33mWARNING: You are using pip version 22.0.4; however, version 22.3 is available.\n",
      "You should consider upgrading via the '/home/ec2-user/anaconda3/envs/pytorch_p38/bin/python -m pip install --upgrade pip' command.\u001b[0m\u001b[33m\n",
      "\u001b[0m"
     ]
    }
   ],
   "source": [
    "!pip install torch"
   ]
  },
  {
   "cell_type": "code",
   "execution_count": 2,
   "id": "09b40fd0",
   "metadata": {},
   "outputs": [],
   "source": [
    "import torch # 파이토치 \n",
    "import random\n",
    "import numpy as np\n",
    "import os\n",
    "\n",
    "# 시드값 고정\n",
    "seed = 50\n",
    "os.environ['PYTHONHASHSEED'] = str(seed)\n",
    "random.seed(seed)                # 파이썬 난수 생성기 시드 고정\n",
    "np.random.seed(seed)             # 넘파이 난수 생성기 시드 고정\n",
    "torch.manual_seed(seed)          # 파이토치 난수 생성기 시드 고정 (CPU 사용 시)\n",
    "torch.cuda.manual_seed(seed)     # 파이토치 난수 생성기 시드 고정 (GPU 사용 시)\n",
    "torch.cuda.manual_seed_all(seed) # 파이토치 난수 생성기 시드 고정 (멀티GPU 사용 시)\n",
    "torch.backends.cudnn.deterministic = True # 확정적 연산 사용\n",
    "torch.backends.cudnn.benchmark = False    # 벤치마크 기능 해제\n",
    "torch.backends.cudnn.enabled = False      # cudnn 사용 해제"
   ]
  },
  {
   "cell_type": "markdown",
   "id": "3cc8ee72",
   "metadata": {},
   "source": [
    "### GPU 장비 설정"
   ]
  },
  {
   "cell_type": "code",
   "execution_count": 3,
   "id": "e52157bf",
   "metadata": {},
   "outputs": [],
   "source": [
    "if torch.cuda.is_available():\n",
    "    device = torch.device('cuda')\n",
    "else:\n",
    "    device = torch.device('cpu')"
   ]
  },
  {
   "cell_type": "code",
   "execution_count": 4,
   "id": "fa2c222f",
   "metadata": {},
   "outputs": [
    {
     "data": {
      "text/plain": [
       "device(type='cpu')"
      ]
     },
     "execution_count": 4,
     "metadata": {},
     "output_type": "execute_result"
    }
   ],
   "source": [
    "device"
   ]
  },
  {
   "cell_type": "markdown",
   "id": "1cc7ee1a",
   "metadata": {},
   "source": [
    "### 11.3.2 데이터 준비"
   ]
  },
  {
   "cell_type": "code",
   "execution_count": 6,
   "id": "014325d5",
   "metadata": {},
   "outputs": [],
   "source": [
    "import pandas as pd\n",
    "\n",
    "# 데이터 경로\n",
    "data_path = './aerial-cactus-identification/'\n",
    "\n",
    "labels = pd.read_csv(data_path + 'train.csv')\n",
    "submission = pd.read_csv(data_path + 'sample_submission.csv')"
   ]
  },
  {
   "cell_type": "code",
   "execution_count": 7,
   "id": "442b7a30",
   "metadata": {},
   "outputs": [],
   "source": [
    "from zipfile import ZipFile\n",
    "\n",
    "# 훈련 이미지 데이터 압축 풀기\n",
    "with ZipFile(data_path + 'train.zip') as zipper:\n",
    "    zipper.extractall()\n",
    "    \n",
    "# 테스트 이미지 데이터 압 풀기\n",
    "with ZipFile(data_path + 'test.zip') as zipper:\n",
    "    zipper.extractall()"
   ]
  },
  {
   "cell_type": "markdown",
   "id": "fd27ac17",
   "metadata": {},
   "source": [
    "### 훈련 데이터, 검증 데이터 분리"
   ]
  },
  {
   "cell_type": "code",
   "execution_count": 8,
   "id": "cd8479d7",
   "metadata": {},
   "outputs": [],
   "source": [
    "from sklearn.model_selection import train_test_split\n",
    "\n",
    "# 훈련 데이터, 검증 데이터 분리\n",
    "train, valid = train_test_split(labels, \n",
    "                                test_size=0.1,\n",
    "                                stratify=labels['has_cactus'],\n",
    "                                random_state=50)"
   ]
  },
  {
   "cell_type": "code",
   "execution_count": 9,
   "id": "cb8b9f05",
   "metadata": {},
   "outputs": [
    {
     "name": "stdout",
     "output_type": "stream",
     "text": [
      "훈련 데이터 개수: 15750\n",
      "검증 데이터 개수: 1750\n"
     ]
    }
   ],
   "source": [
    "print('훈련 데이터 개수:', len(train))\n",
    "print('검증 데이터 개수:', len(valid))"
   ]
  },
  {
   "cell_type": "markdown",
   "id": "832ab7fd",
   "metadata": {},
   "source": [
    "### 데이터셋 클래스 정의"
   ]
  },
  {
   "cell_type": "code",
   "execution_count": 10,
   "id": "f653e1cb",
   "metadata": {},
   "outputs": [],
   "source": [
    "import cv2 # OpenCV 라이브러리\n",
    "from torch.utils.data import Dataset # 데이터 생성을 위한 클래스\n",
    "\n",
    "class ImageDataset(Dataset):\n",
    "    # 초기화 메서드(생성자)\n",
    "    def __init__(self, df, img_dir='./', transform=None):\n",
    "        super().__init__() # 상속받은 Dataset의 생성자 호출\n",
    "        # 전달받은 인수들 저장\n",
    "        self.df = df\n",
    "        self.img_dir = img_dir\n",
    "        self.transform = transform\n",
    "    \n",
    "    # 데이터셋 크기 반환 메서드 \n",
    "    def __len__(self):\n",
    "        return len(self.df)\n",
    "    \n",
    "    # 인덱스(idx)에 해당하는 데이터 반환 메서드 \n",
    "    def __getitem__(self, idx):\n",
    "        img_id = self.df.iloc[idx, 0]    # 이미지 ID\n",
    "        img_path = self.img_dir + img_id # 이미지 파일 경로 \n",
    "        image = cv2.imread(img_path)     # 이미지 파일 읽기 \n",
    "        image = cv2.cvtColor(image, cv2.COLOR_BGR2RGB) # 이미지 색상 보정\n",
    "        label = self.df.iloc[idx, 1]     # 이미지 레이블(타깃값)\n",
    "\n",
    "        if self.transform is not None:\n",
    "            image = self.transform(image) # 변환기가 있다면 이미지 변환\n",
    "        return image, label"
   ]
  },
  {
   "cell_type": "markdown",
   "id": "b6050558",
   "metadata": {},
   "source": [
    "### 데이터셋 생성"
   ]
  },
  {
   "cell_type": "code",
   "execution_count": 11,
   "id": "82d609c7",
   "metadata": {},
   "outputs": [],
   "source": [
    "from torchvision import transforms # 이미지 변환을 위한 모듈\n",
    "\n",
    "transform = transforms.ToTensor()"
   ]
  },
  {
   "cell_type": "code",
   "execution_count": 12,
   "id": "54a9fbf6",
   "metadata": {},
   "outputs": [],
   "source": [
    "dataset_train = ImageDataset(df=train, img_dir='train/', transform=transform)\n",
    "dataset_valid = ImageDataset(df=valid, img_dir='train/', transform=transform)"
   ]
  },
  {
   "cell_type": "markdown",
   "id": "3356c905",
   "metadata": {},
   "source": [
    "### 데이터 로더 생성"
   ]
  },
  {
   "cell_type": "code",
   "execution_count": 13,
   "id": "905aafac",
   "metadata": {},
   "outputs": [],
   "source": [
    "from torch.utils.data import DataLoader # 데이터 로더 클래스\n",
    "\n",
    "loader_train = DataLoader(dataset=dataset_train, batch_size=32, shuffle=True)\n",
    "loader_valid = DataLoader(dataset=dataset_valid, batch_size=32, shuffle=False)"
   ]
  },
  {
   "cell_type": "markdown",
   "id": "baa5f3ef",
   "metadata": {},
   "source": [
    "### 11.3.3 모델 생성"
   ]
  },
  {
   "cell_type": "code",
   "execution_count": 14,
   "id": "31c3d376",
   "metadata": {},
   "outputs": [],
   "source": [
    "import torch.nn as nn # 신경망 모듈\n",
    "import torch.nn.functional as F # 신경망 모듈에서 자주 사용되는 함수\n",
    "\n",
    "class Model(nn.Module):\n",
    "    # 신경망 계층 정의 \n",
    "    def __init__(self):\n",
    "        super().__init__() # 상속받은 nn.Module의 __init__() 메서드 호출\n",
    "        \n",
    "        # 첫 번째 합성곱 계층 \n",
    "        self.conv1 = nn.Conv2d(in_channels=3, out_channels=32, \n",
    "                               kernel_size=3, padding=2) \n",
    "        # 두 번째 합성곱 계층 \n",
    "        self.conv2 = nn.Conv2d(in_channels=32, out_channels=64, \n",
    "                               kernel_size=3, padding=2) \n",
    "        # 최대 풀링 계층 \n",
    "        self.max_pool = nn.MaxPool2d(kernel_size=2) \n",
    "        # 평균 풀링 계층 \n",
    "        self.avg_pool = nn.AvgPool2d(kernel_size=2) \n",
    "        # 전결합 계층 \n",
    "        self.fc = nn.Linear(in_features=64 * 4 * 4, out_features=2)\n",
    "        \n",
    "    # 순전파 출력 정의 \n",
    "    def forward(self, x):\n",
    "        x = self.max_pool(F.relu(self.conv1(x)))\n",
    "        x = self.max_pool(F.relu(self.conv2(x)))\n",
    "        x = self.avg_pool(x)\n",
    "        x = x.view(-1, 64 * 4 * 4) # 평탄화\n",
    "        x = self.fc(x)\n",
    "        return x"
   ]
  },
  {
   "cell_type": "code",
   "execution_count": 16,
   "id": "5c7c340a",
   "metadata": {},
   "outputs": [],
   "source": [
    "# class Model(nn.Module):\n",
    "#     def __init__(self):\n",
    "#         super().__init__() \n",
    "#         # 첫 번째 합성곱, 최대 풀링 계층\n",
    "#         self.layer1 = nn.Sequential(nn.Conv2d(in_channels=3, \n",
    "#                                               out_channels=32, \n",
    "#                                               kernel_size=3, \n",
    "#                                               padding=2),\n",
    "#                                     nn.ReLU(),\n",
    "#                                     nn.MaxPool2d(kernel_size=2))\n",
    "#         # 두 번째 합성곱, 최대 풀링 계층\n",
    "#         self.layer2 = nn.Sequential(nn.Conv2d(in_channels=32, \n",
    "#                                               out_channels=64, \n",
    "#                                               kernel_size=3, \n",
    "#                                               padding=2),\n",
    "#                                     nn.ReLU(),\n",
    "#                                     nn.MaxPool2d(kernel_size=2))\n",
    "#         # 평균 풀링 계층\n",
    "#         self.avg_pool = nn.AvgPool2d(kernel_size=2) \n",
    "#         # 전결합 계층\n",
    "#         self.fc = nn.Linear(in_features=64 * 4 * 4, out_features=2)\n",
    "        \n",
    "#     # 순전파 출력 정의\n",
    "#     def forward(self, x):\n",
    "#         x = self.layer1(x)\n",
    "#         x = self.layer2(x)\n",
    "#         x = self.avg_pool(x)\n",
    "#         x = x.view(-1, 64 * 4 * 4) # 평탄화\n",
    "#         x = self.fc(x)\n",
    "#         return x"
   ]
  },
  {
   "cell_type": "code",
   "execution_count": 15,
   "id": "3196c60a",
   "metadata": {},
   "outputs": [
    {
     "data": {
      "text/plain": [
       "Model(\n",
       "  (conv1): Conv2d(3, 32, kernel_size=(3, 3), stride=(1, 1), padding=(2, 2))\n",
       "  (conv2): Conv2d(32, 64, kernel_size=(3, 3), stride=(1, 1), padding=(2, 2))\n",
       "  (max_pool): MaxPool2d(kernel_size=2, stride=2, padding=0, dilation=1, ceil_mode=False)\n",
       "  (avg_pool): AvgPool2d(kernel_size=2, stride=2, padding=0)\n",
       "  (fc): Linear(in_features=1024, out_features=2, bias=True)\n",
       ")"
      ]
     },
     "execution_count": 15,
     "metadata": {},
     "output_type": "execute_result"
    }
   ],
   "source": [
    "model = Model().to(device)\n",
    "\n",
    "model"
   ]
  },
  {
   "cell_type": "markdown",
   "id": "c460a98c",
   "metadata": {},
   "source": [
    "### 11.3.4 모델 훈련"
   ]
  },
  {
   "cell_type": "markdown",
   "id": "9b0e1b1c",
   "metadata": {},
   "source": [
    "### 손실 함수 설정"
   ]
  },
  {
   "cell_type": "code",
   "execution_count": 17,
   "id": "848056c5",
   "metadata": {},
   "outputs": [],
   "source": [
    "# 손실함수\n",
    "criterion = nn.CrossEntropyLoss()"
   ]
  },
  {
   "cell_type": "markdown",
   "id": "495d2147",
   "metadata": {},
   "source": [
    "### 옵티마이저 설정"
   ]
  },
  {
   "cell_type": "code",
   "execution_count": 18,
   "id": "89b820db",
   "metadata": {},
   "outputs": [],
   "source": [
    "# 옵티마이저\n",
    "optimizer = torch.optim.SGD(model.parameters(), lr=0.01)"
   ]
  },
  {
   "cell_type": "markdown",
   "id": "4bf74231",
   "metadata": {},
   "source": [
    "### 모델 훈련"
   ]
  },
  {
   "cell_type": "code",
   "execution_count": 19,
   "id": "8a04d204",
   "metadata": {},
   "outputs": [
    {
     "data": {
      "text/plain": [
       "493"
      ]
     },
     "execution_count": 19,
     "metadata": {},
     "output_type": "execute_result"
    }
   ],
   "source": [
    "import math\n",
    "\n",
    "math.ceil(len(train) / 32)"
   ]
  },
  {
   "cell_type": "code",
   "execution_count": 20,
   "id": "da11d464",
   "metadata": {},
   "outputs": [
    {
     "data": {
      "text/plain": [
       "493"
      ]
     },
     "execution_count": 20,
     "metadata": {},
     "output_type": "execute_result"
    }
   ],
   "source": [
    "len(loader_train)"
   ]
  },
  {
   "cell_type": "code",
   "execution_count": 21,
   "id": "06456b15",
   "metadata": {},
   "outputs": [
    {
     "name": "stdout",
     "output_type": "stream",
     "text": [
      "에폭 [1/10] - 손실값: 0.5233\n",
      "에폭 [2/10] - 손실값: 0.3453\n",
      "에폭 [3/10] - 손실값: 0.2370\n",
      "에폭 [4/10] - 손실값: 0.1984\n",
      "에폭 [5/10] - 손실값: 0.1754\n",
      "에폭 [6/10] - 손실값: 0.1666\n",
      "에폭 [7/10] - 손실값: 0.1545\n",
      "에폭 [8/10] - 손실값: 0.1439\n",
      "에폭 [9/10] - 손실값: 0.1333\n",
      "에폭 [10/10] - 손실값: 0.1299\n"
     ]
    }
   ],
   "source": [
    "epochs = 10 # 총 에폭\n",
    "# 총 에폭만큼 반복\n",
    "for epoch in range(epochs):\n",
    "    epoch_loss = 0 # 에폭별 손실값 초기화\n",
    "    \n",
    "    # '반복 횟수'만큼 반복 \n",
    "    for images, labels in loader_train:\n",
    "        # 이미지, 레이블 데이터 미니배치를 장비에 할당 \n",
    "        images = images.to(device)\n",
    "        labels = labels.to(device)\n",
    "        \n",
    "        # 옵티마이저 내 기울기 초기화\n",
    "        optimizer.zero_grad()\n",
    "        # 순전파 : 이미지 데이터를 신경망 모델의 입력값으로 사용해 출력값 계산\n",
    "        outputs = model(images)\n",
    "        # 손실 함수를 활용해 outputs와 labels의 손실값 계산\n",
    "        loss = criterion(outputs, labels)\n",
    "        # 현재 배치에서의 손실 추가\n",
    "        epoch_loss += loss.item() \n",
    "        # 역전파 수행\n",
    "        loss.backward()\n",
    "        # 가중치 갱신\n",
    "        optimizer.step()\n",
    "        \n",
    "    # 훈련 데이터 손실값 출력\n",
    "    print(f'에폭 [{epoch+1}/{epochs}] - 손실값: {epoch_loss/len(loader_train):.4f}')"
   ]
  },
  {
   "cell_type": "markdown",
   "id": "01a256f3",
   "metadata": {},
   "source": [
    "### 11.3.5 성능 검증"
   ]
  },
  {
   "cell_type": "code",
   "execution_count": 22,
   "id": "e7488e18",
   "metadata": {},
   "outputs": [],
   "source": [
    "from sklearn.metrics import roc_auc_score # ROC AUC 점수 계산 함수 임포트\n",
    "\n",
    "# 실제값과 예측 확률값을 담을 리스트 초기화\n",
    "true_list = []\n",
    "preds_list = []"
   ]
  },
  {
   "cell_type": "code",
   "execution_count": 23,
   "id": "365467ad",
   "metadata": {},
   "outputs": [
    {
     "name": "stdout",
     "output_type": "stream",
     "text": [
      "검증 데이터 ROC AUC : 0.9902\n"
     ]
    }
   ],
   "source": [
    "model.eval() # 모델을 평가 상태로 설정 \n",
    "\n",
    "with torch.no_grad(): # 기울기 계산 비활성화\n",
    "    for images, labels in loader_valid:\n",
    "        # 이미지, 레이블 데이터 미니배치를 장비에 할당 \n",
    "        images = images.to(device)\n",
    "        labels = labels.to(device) \n",
    "        \n",
    "        # 순전파 : 이미지 데이터를 신경망 모델의 입력값으로 사용해 출력값 계산\n",
    "        outputs = model(images)\n",
    "        preds = torch.softmax(outputs.cpu(), dim=1)[:, 1] # 예측 확률  \n",
    "        true = labels.cpu() # 실제값 \n",
    "        # 예측 확률과 실제값을 리스트에 추가\n",
    "        preds_list.extend(preds)\n",
    "        true_list.extend(true)\n",
    "        \n",
    "# 검증 데이터 ROC AUC 점수 계산\n",
    "print(f'검증 데이터 ROC AUC : {roc_auc_score(true_list, preds_list):.4f}')"
   ]
  },
  {
   "cell_type": "markdown",
   "id": "cf8e4013",
   "metadata": {},
   "source": [
    "### 11.3.6 예측 및 결과 제출"
   ]
  },
  {
   "cell_type": "code",
   "execution_count": 24,
   "id": "210fd060",
   "metadata": {},
   "outputs": [],
   "source": [
    "dataset_test = ImageDataset(df=submission, img_dir='test/', transform=transform)\n",
    "loader_test = DataLoader(dataset=dataset_test, batch_size=32, shuffle=False)"
   ]
  },
  {
   "cell_type": "markdown",
   "id": "d1d1b30d",
   "metadata": {},
   "source": [
    "### 예측"
   ]
  },
  {
   "cell_type": "code",
   "execution_count": 26,
   "id": "07d47f27",
   "metadata": {},
   "outputs": [],
   "source": [
    "model.eval() # 모델을 평가 상태로 설정\n",
    "\n",
    "preds = [] # 타깃 예측값 저장용 리스트 초기화\n",
    "\n",
    "with torch.no_grad(): # 기울기 계산 비활성화\n",
    "    for images, _ in loader_test:\n",
    "        # 이미지 데이터 미니배치를 장비에 할당\n",
    "        images = images.to(device)\n",
    "        \n",
    "        # 순전파 : 이미지 데이터를 신경망 모델의 입력값으로 사용해 출력값 계산\n",
    "        outputs = model(images)\n",
    "        # 타깃값이 1일 확률(예측값)\n",
    "        preds_part = torch.softmax(outputs.cpu(), dim=1)[:, 1].tolist()\n",
    "        # preds에 preds_part 이어붙이기\n",
    "        preds.extend(preds_part)"
   ]
  },
  {
   "cell_type": "markdown",
   "id": "47beff59",
   "metadata": {},
   "source": [
    "### 결과 제출"
   ]
  },
  {
   "cell_type": "code",
   "execution_count": 28,
   "id": "58a0602c",
   "metadata": {},
   "outputs": [],
   "source": [
    "submission['has_cactus'] = preds\n",
    "submission.to_csv('submission.csv', index=False)"
   ]
  },
  {
   "cell_type": "code",
   "execution_count": 29,
   "id": "73f361e8",
   "metadata": {},
   "outputs": [],
   "source": [
    "import shutil\n",
    "\n",
    "shutil.rmtree('./train')\n",
    "shutil.rmtree('./test')"
   ]
  }
 ],
 "metadata": {
  "kernelspec": {
   "display_name": "conda_pytorch_p38",
   "language": "python",
   "name": "conda_pytorch_p38"
  },
  "language_info": {
   "codemirror_mode": {
    "name": "ipython",
    "version": 3
   },
   "file_extension": ".py",
   "mimetype": "text/x-python",
   "name": "python",
   "nbconvert_exporter": "python",
   "pygments_lexer": "ipython3",
   "version": "3.8.12"
  }
 },
 "nbformat": 4,
 "nbformat_minor": 5
}
