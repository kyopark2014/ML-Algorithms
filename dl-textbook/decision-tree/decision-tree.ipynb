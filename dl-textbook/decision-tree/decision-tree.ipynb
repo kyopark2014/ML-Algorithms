{
 "cells": [
  {
   "cell_type": "markdown",
   "id": "4cf21448",
   "metadata": {},
   "source": [
    "## 3.1.3 의사결정 트리"
   ]
  },
  {
   "cell_type": "code",
   "execution_count": 1,
   "id": "e533ccd9",
   "metadata": {},
   "outputs": [
    {
     "name": "stdout",
     "output_type": "stream",
     "text": [
      "             Survived  Pclass  \\\n",
      "PassengerId                     \n",
      "1                   0       3   \n",
      "2                   1       1   \n",
      "3                   1       3   \n",
      "4                   1       1   \n",
      "5                   0       3   \n",
      "\n",
      "                                                          Name     Sex   Age  \\\n",
      "PassengerId                                                                    \n",
      "1                                      Braund, Mr. Owen Harris    male  22.0   \n",
      "2            Cumings, Mrs. John Bradley (Florence Briggs Th...  female  38.0   \n",
      "3                                       Heikkinen, Miss. Laina  female  26.0   \n",
      "4                 Futrelle, Mrs. Jacques Heath (Lily May Peel)  female  35.0   \n",
      "5                                     Allen, Mr. William Henry    male  35.0   \n",
      "\n",
      "             SibSp  Parch            Ticket     Fare Cabin Embarked  \n",
      "PassengerId                                                          \n",
      "1                1      0         A/5 21171   7.2500   NaN        S  \n",
      "2                1      0          PC 17599  71.2833   C85        C  \n",
      "3                0      0  STON/O2. 3101282   7.9250   NaN        S  \n",
      "4                1      0            113803  53.1000  C123        S  \n",
      "5                0      0            373450   8.0500   NaN        S  \n"
     ]
    }
   ],
   "source": [
    "import pandas as pd\n",
    "df = pd.read_csv('./titanic/train.csv', index_col='PassengerId')\n",
    "print(df.head())"
   ]
  },
  {
   "cell_type": "code",
   "execution_count": 2,
   "id": "2f763283",
   "metadata": {},
   "outputs": [],
   "source": [
    "df = df[['Pclass', 'Sex', 'Age', 'SibSp', 'Parch', 'Fare', 'Survived']]\n",
    "df['Sex'] = df['Sex'].map({'male': 0, 'female': 1})\n",
    "df = df.dropna() \n",
    "X = df.drop('Survived', axis=1)\n",
    "y = df['Survived']"
   ]
  },
  {
   "cell_type": "markdown",
   "id": "b57f0a02",
   "metadata": {},
   "source": [
    "### Split train/test dataset"
   ]
  },
  {
   "cell_type": "code",
   "execution_count": 3,
   "id": "87d9647e",
   "metadata": {},
   "outputs": [],
   "source": [
    "from sklearn.model_selection import train_test_split\n",
    "X_train, X_test, y_train, y_test = train_test_split(X, y, random_state=1)"
   ]
  },
  {
   "cell_type": "markdown",
   "id": "096a55f7",
   "metadata": {},
   "source": [
    "### DecisionTreeClassifier"
   ]
  },
  {
   "cell_type": "code",
   "execution_count": 14,
   "id": "b56c40b7",
   "metadata": {},
   "outputs": [
    {
     "name": "stdout",
     "output_type": "stream",
     "text": [
      "Accuracy: 0.832\n",
      "Elased time: 0.01s\n"
     ]
    }
   ],
   "source": [
    "import time\n",
    "start = time.time()\n",
    "\n",
    "from sklearn import tree\n",
    "model = tree.DecisionTreeClassifier()\n",
    "\n",
    "model.fit(X_train, y_train)\n",
    "\n",
    "y_pred = model.predict(X_test)\n",
    "from sklearn.metrics import accuracy_score\n",
    "\n",
    "accuracy = accuracy_score(y_test, y_pred)\n",
    "print('Accuracy: {:.3f}'.format(accuracy))\n",
    "\n",
    "print('Elased time: %0.2fs' % (time.time()-start))"
   ]
  },
  {
   "cell_type": "markdown",
   "id": "5ee6d4c8",
   "metadata": {},
   "source": [
    "### confusion_matrix"
   ]
  },
  {
   "cell_type": "code",
   "execution_count": 15,
   "id": "38f49eee",
   "metadata": {},
   "outputs": [
    {
     "data": {
      "text/html": [
       "<div>\n",
       "<style scoped>\n",
       "    .dataframe tbody tr th:only-of-type {\n",
       "        vertical-align: middle;\n",
       "    }\n",
       "\n",
       "    .dataframe tbody tr th {\n",
       "        vertical-align: top;\n",
       "    }\n",
       "\n",
       "    .dataframe thead th {\n",
       "        text-align: right;\n",
       "    }\n",
       "</style>\n",
       "<table border=\"1\" class=\"dataframe\">\n",
       "  <thead>\n",
       "    <tr style=\"text-align: right;\">\n",
       "      <th></th>\n",
       "      <th>Predicted Not Survival</th>\n",
       "      <th>Predicted Survival</th>\n",
       "    </tr>\n",
       "  </thead>\n",
       "  <tbody>\n",
       "    <tr>\n",
       "      <th>True Not Survival</th>\n",
       "      <td>98</td>\n",
       "      <td>14</td>\n",
       "    </tr>\n",
       "    <tr>\n",
       "      <th>True Survival</th>\n",
       "      <td>16</td>\n",
       "      <td>51</td>\n",
       "    </tr>\n",
       "  </tbody>\n",
       "</table>\n",
       "</div>"
      ],
      "text/plain": [
       "                   Predicted Not Survival  Predicted Survival\n",
       "True Not Survival                      98                  14\n",
       "True Survival                          16                  51"
      ]
     },
     "execution_count": 15,
     "metadata": {},
     "output_type": "execute_result"
    }
   ],
   "source": [
    "from sklearn.metrics import confusion_matrix\n",
    "pd.DataFrame(\n",
    "    confusion_matrix(y_test, y_pred),\n",
    "    columns=['Predicted Not Survival', 'Predicted Survival'],\n",
    "    index=['True Not Survival', 'True Survival']\n",
    ")"
   ]
  },
  {
   "cell_type": "markdown",
   "id": "1c57ec9e",
   "metadata": {},
   "source": [
    "### classification_report"
   ]
  },
  {
   "cell_type": "code",
   "execution_count": 16,
   "id": "5b70cdba",
   "metadata": {},
   "outputs": [
    {
     "name": "stdout",
     "output_type": "stream",
     "text": [
      "              precision    recall  f1-score   support\n",
      "\n",
      "           0       0.85      0.86      0.85       112\n",
      "           1       0.76      0.75      0.75        67\n",
      "\n",
      "    accuracy                           0.82       179\n",
      "   macro avg       0.80      0.80      0.80       179\n",
      "weighted avg       0.82      0.82      0.82       179\n",
      "\n"
     ]
    }
   ],
   "source": [
    "from sklearn.metrics import classification_report\n",
    "print(classification_report(y_true=y_test, y_pred = y_predict))"
   ]
  },
  {
   "cell_type": "markdown",
   "id": "8632bb8b",
   "metadata": {},
   "source": [
    "### Hyperparameter Optimization"
   ]
  },
  {
   "cell_type": "code",
   "execution_count": 17,
   "id": "d8a96c59",
   "metadata": {},
   "outputs": [],
   "source": [
    "from sklearn.tree import DecisionTreeClassifier\n",
    "from sklearn.model_selection import RandomizedSearchCV\n",
    "\n",
    "def randomized_search_clf(params, runs=20, clf=DecisionTreeClassifier(random_state=2)):\n",
    "    rand_clf = RandomizedSearchCV(clf, params, n_iter=runs, cv=5, n_jobs=-1, random_state=2)\n",
    "    \n",
    "    rand_clf.fit(X_train, y_train)\n",
    "\n",
    "    best_model = rand_clf.best_estimator_    \n",
    "    \n",
    "    best_score = rand_clf.best_score_\n",
    "    print(\"Best Score: {:.3f}\".format(best_score))\n",
    "\n",
    "    y_pred = best_model.predict(X_test)\n",
    "    \n",
    "    accuracy = accuracy_score(y_test, y_pred)\n",
    "    print('Accuracy: {:.3f}'.format(accuracy))\n",
    "        \n",
    "    return best_model"
   ]
  },
  {
   "cell_type": "code",
   "execution_count": 18,
   "id": "b6b7c563",
   "metadata": {},
   "outputs": [
    {
     "name": "stdout",
     "output_type": "stream",
     "text": [
      "Best Score: 0.789\n",
      "Accuracy: 0.838\n"
     ]
    }
   ],
   "source": [
    "from sklearn.metrics import accuracy_score\n",
    "\n",
    "best_model = randomized_search_clf(\n",
    "    params={\n",
    "        'criterion':['entropy', 'gini'],\n",
    "        'splitter':['random', 'best'],\n",
    "        'min_samples_split':[2, 3, 4, 5, 6, 8, 10],\n",
    "        'min_samples_leaf':[1, 0.01, 0.02, 0.03, 0.04],\n",
    "        'min_impurity_decrease':[0.0, 0.0005, 0.005, 0.05, 0.10, 0.15, 0.2],\n",
    "        'max_leaf_nodes':[10, 15, 20, 25, 30, 35, 40, 45, 50, None],\n",
    "        'max_features':['sqrt', 0.95, 0.90, 0.85, 0.80, 0.75, 0.70],\n",
    "        'max_depth':[None, 2,4,6,8],\n",
    "        'min_weight_fraction_leaf':[0.0, 0.0025, 0.005, 0.0075, 0.01, 0.05]\n",
    "    })"
   ]
  },
  {
   "cell_type": "code",
   "execution_count": 9,
   "id": "b3f09b79",
   "metadata": {},
   "outputs": [
    {
     "name": "stdout",
     "output_type": "stream",
     "text": [
      "Accuracy: 0.838\n",
      "# of Leaf Nodes: 16\n"
     ]
    }
   ],
   "source": [
    "y_pred = best_model.predict(X_test)\n",
    "\n",
    "accuracy = accuracy_score(y_test, y_pred)\n",
    "print('Accuracy: {:.3f}'.format(accuracy))\n",
    "\n",
    "leaf_node_count = 0\n",
    "tree = best_model.tree_\n",
    "for i in range(tree.node_count):\n",
    "    if (tree.children_left[i] == -1) and (tree.children_right[i] == -1):\n",
    "        leaf_node_count += 1\n",
    "print('# of Leaf Nodes:', leaf_node_count)"
   ]
  },
  {
   "cell_type": "markdown",
   "id": "368642ca",
   "metadata": {},
   "source": [
    "### Verify the new hyperparameters"
   ]
  },
  {
   "cell_type": "code",
   "execution_count": 10,
   "id": "254a07f4",
   "metadata": {},
   "outputs": [
    {
     "name": "stdout",
     "output_type": "stream",
     "text": [
      "{'ccp_alpha': 0.0, 'class_weight': None, 'criterion': 'entropy', 'max_depth': 4, 'max_features': 0.75, 'max_leaf_nodes': 25, 'min_impurity_decrease': 0.0005, 'min_impurity_split': None, 'min_samples_leaf': 1, 'min_samples_split': 5, 'min_weight_fraction_leaf': 0.0075, 'random_state': 2, 'splitter': 'best'}\n"
     ]
    }
   ],
   "source": [
    "params = best_model.get_params(deep=True)\n",
    "print(params)\n",
    "\n",
    "criterion = params['criterion']\n",
    "splitter = params['splitter']\n",
    "min_samples_split = params['min_samples_split']\n",
    "min_samples_leaf = params['min_samples_leaf']\n",
    "min_impurity_decrease = params['min_impurity_decrease']\n",
    "max_leaf_nodes = params['max_leaf_nodes']\n",
    "max_features = params['max_features']\n",
    "max_depth = params['max_depth']\n",
    "min_weight_fraction_leaf = params['min_weight_fraction_leaf']\n",
    "# random_state = params['random_state']"
   ]
  },
  {
   "cell_type": "code",
   "execution_count": 11,
   "id": "3d8eb6b4",
   "metadata": {},
   "outputs": [
    {
     "name": "stdout",
     "output_type": "stream",
     "text": [
      "Accuracy: 0.821\n",
      "# of Leaf Nodes: 15\n"
     ]
    }
   ],
   "source": [
    "from sklearn.tree import DecisionTreeClassifier\n",
    "model = DecisionTreeClassifier(\n",
    "    criterion=criterion, splitter=splitter, min_samples_split=min_samples_split,\n",
    "    min_samples_leaf=min_samples_leaf, min_impurity_decrease=min_impurity_decrease,\n",
    "    max_leaf_nodes=max_leaf_nodes, max_features=max_features, max_depth=max_depth, \n",
    "    min_weight_fraction_leaf=min_weight_fraction_leaf)\n",
    "\n",
    "model.fit(X_train, y_train)\n",
    "\n",
    "y_pred = model.predict(X_test)\n",
    "\n",
    "accuracy = accuracy_score(y_test, y_pred)\n",
    "print('Accuracy: {:.3f}'.format(accuracy))\n",
    "\n",
    "leaf_node_count = 0\n",
    "tree = model.tree_\n",
    "for i in range(tree.node_count):\n",
    "    if (tree.children_left[i] == -1) and (tree.children_right[i] == -1):\n",
    "        leaf_node_count += 1\n",
    "print('# of Leaf Nodes:', leaf_node_count)"
   ]
  },
  {
   "cell_type": "code",
   "execution_count": 13,
   "id": "adc02491",
   "metadata": {},
   "outputs": [
    {
     "name": "stdout",
     "output_type": "stream",
     "text": [
      "              precision    recall  f1-score   support\n",
      "\n",
      "           0       0.85      0.86      0.85       112\n",
      "           1       0.76      0.75      0.75        67\n",
      "\n",
      "    accuracy                           0.82       179\n",
      "   macro avg       0.80      0.80      0.80       179\n",
      "weighted avg       0.82      0.82      0.82       179\n",
      "\n"
     ]
    }
   ],
   "source": [
    "from sklearn.metrics import classification_report\n",
    "print(classification_report(y_true=y_test, y_pred = y_predict))"
   ]
  }
 ],
 "metadata": {
  "kernelspec": {
   "display_name": "conda_amazonei_tensorflow2_p36",
   "language": "python",
   "name": "conda_amazonei_tensorflow2_p36"
  },
  "language_info": {
   "codemirror_mode": {
    "name": "ipython",
    "version": 3
   },
   "file_extension": ".py",
   "mimetype": "text/x-python",
   "name": "python",
   "nbconvert_exporter": "python",
   "pygments_lexer": "ipython3",
   "version": "3.6.13"
  }
 },
 "nbformat": 4,
 "nbformat_minor": 5
}
