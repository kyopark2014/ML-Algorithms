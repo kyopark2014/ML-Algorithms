{
 "cells": [
  {
   "cell_type": "markdown",
   "id": "beebbb62",
   "metadata": {},
   "source": [
    "# Car Evaluation\n",
    "[Car Evaluation](https://github.com/gilbutITbook/080263/blob/master/chap2/python_2%EC%9E%A5.ipynb)"
   ]
  },
  {
   "cell_type": "code",
   "execution_count": 1,
   "id": "adcc2576",
   "metadata": {},
   "outputs": [],
   "source": [
    "import pandas as pd\n",
    "import numpy as np\n",
    "import tensorflow as tf\n",
    "\n",
    "import matplotlib.pyplot as plt\n",
    "%matplotlib inline\n",
    "\n",
    "import seaborn as sns\n",
    "sns.set(style=\"darkgrid\")"
   ]
  },
  {
   "cell_type": "markdown",
   "id": "6f430234",
   "metadata": {},
   "source": [
    "### Columns 정보 \n",
    "- price: 자동차 가격\n",
    "- maint: 자동차 유지 비용\n",
    "- doors: 자동차 문 개수\n",
    "- persons: 수용인원\n",
    "- lug_capacity: 수하물용량\n",
    "- safety: 안정성\n",
    "- output: 차상태, unacc(허용 불가능한 수준), acc(허용 가능한 수준), good(양호), very good(매우 좋은)"
   ]
  },
  {
   "cell_type": "code",
   "execution_count": 2,
   "id": "eedc9891",
   "metadata": {},
   "outputs": [],
   "source": [
    "cols = ['price', 'maint', 'doors', 'persons', 'lug_capacity', 'safety','output']\n",
    "cars = pd.read_csv('./data/car_evalutation.csv', names=cols, header=None)"
   ]
  },
  {
   "cell_type": "code",
   "execution_count": 3,
   "id": "3f043730",
   "metadata": {},
   "outputs": [
    {
     "data": {
      "text/html": [
       "<div>\n",
       "<style scoped>\n",
       "    .dataframe tbody tr th:only-of-type {\n",
       "        vertical-align: middle;\n",
       "    }\n",
       "\n",
       "    .dataframe tbody tr th {\n",
       "        vertical-align: top;\n",
       "    }\n",
       "\n",
       "    .dataframe thead th {\n",
       "        text-align: right;\n",
       "    }\n",
       "</style>\n",
       "<table border=\"1\" class=\"dataframe\">\n",
       "  <thead>\n",
       "    <tr style=\"text-align: right;\">\n",
       "      <th></th>\n",
       "      <th>price</th>\n",
       "      <th>maint</th>\n",
       "      <th>doors</th>\n",
       "      <th>persons</th>\n",
       "      <th>lug_capacity</th>\n",
       "      <th>safety</th>\n",
       "      <th>output</th>\n",
       "    </tr>\n",
       "  </thead>\n",
       "  <tbody>\n",
       "    <tr>\n",
       "      <th>0</th>\n",
       "      <td>vhigh</td>\n",
       "      <td>vhigh</td>\n",
       "      <td>2</td>\n",
       "      <td>2</td>\n",
       "      <td>small</td>\n",
       "      <td>low</td>\n",
       "      <td>unacc</td>\n",
       "    </tr>\n",
       "    <tr>\n",
       "      <th>1</th>\n",
       "      <td>vhigh</td>\n",
       "      <td>vhigh</td>\n",
       "      <td>2</td>\n",
       "      <td>2</td>\n",
       "      <td>small</td>\n",
       "      <td>med</td>\n",
       "      <td>unacc</td>\n",
       "    </tr>\n",
       "    <tr>\n",
       "      <th>2</th>\n",
       "      <td>vhigh</td>\n",
       "      <td>vhigh</td>\n",
       "      <td>2</td>\n",
       "      <td>2</td>\n",
       "      <td>small</td>\n",
       "      <td>high</td>\n",
       "      <td>unacc</td>\n",
       "    </tr>\n",
       "    <tr>\n",
       "      <th>3</th>\n",
       "      <td>vhigh</td>\n",
       "      <td>vhigh</td>\n",
       "      <td>2</td>\n",
       "      <td>2</td>\n",
       "      <td>med</td>\n",
       "      <td>low</td>\n",
       "      <td>unacc</td>\n",
       "    </tr>\n",
       "    <tr>\n",
       "      <th>4</th>\n",
       "      <td>vhigh</td>\n",
       "      <td>vhigh</td>\n",
       "      <td>2</td>\n",
       "      <td>2</td>\n",
       "      <td>med</td>\n",
       "      <td>med</td>\n",
       "      <td>unacc</td>\n",
       "    </tr>\n",
       "  </tbody>\n",
       "</table>\n",
       "</div>"
      ],
      "text/plain": [
       "   price  maint doors persons lug_capacity safety output\n",
       "0  vhigh  vhigh     2       2        small    low  unacc\n",
       "1  vhigh  vhigh     2       2        small    med  unacc\n",
       "2  vhigh  vhigh     2       2        small   high  unacc\n",
       "3  vhigh  vhigh     2       2          med    low  unacc\n",
       "4  vhigh  vhigh     2       2          med    med  unacc"
      ]
     },
     "execution_count": 3,
     "metadata": {},
     "output_type": "execute_result"
    }
   ],
   "source": [
    "cars.head()"
   ]
  },
  {
   "cell_type": "code",
   "execution_count": 4,
   "id": "dac423ae",
   "metadata": {},
   "outputs": [
    {
     "name": "stdout",
     "output_type": "stream",
     "text": [
      "<class 'pandas.core.frame.DataFrame'>\n",
      "RangeIndex: 1728 entries, 0 to 1727\n",
      "Data columns (total 7 columns):\n",
      " #   Column        Non-Null Count  Dtype \n",
      "---  ------        --------------  ----- \n",
      " 0   price         1728 non-null   object\n",
      " 1   maint         1728 non-null   object\n",
      " 2   doors         1728 non-null   object\n",
      " 3   persons       1728 non-null   object\n",
      " 4   lug_capacity  1728 non-null   object\n",
      " 5   safety        1728 non-null   object\n",
      " 6   output        1728 non-null   object\n",
      "dtypes: object(7)\n",
      "memory usage: 94.6+ KB\n"
     ]
    }
   ],
   "source": [
    "cars.info()"
   ]
  },
  {
   "cell_type": "code",
   "execution_count": 5,
   "id": "7eda0614",
   "metadata": {},
   "outputs": [
    {
     "data": {
      "text/plain": [
       "0"
      ]
     },
     "execution_count": 5,
     "metadata": {},
     "output_type": "execute_result"
    }
   ],
   "source": [
    "cars.isna().sum().sum()"
   ]
  },
  {
   "cell_type": "code",
   "execution_count": 6,
   "id": "900c1d77",
   "metadata": {},
   "outputs": [
    {
     "data": {
      "text/plain": [
       "unacc    1210\n",
       "acc       384\n",
       "good       69\n",
       "vgood      65\n",
       "Name: output, dtype: int64"
      ]
     },
     "execution_count": 6,
     "metadata": {},
     "output_type": "execute_result"
    }
   ],
   "source": [
    "cars['output'].value_counts()"
   ]
  },
  {
   "cell_type": "code",
   "execution_count": 7,
   "id": "19ad0428",
   "metadata": {},
   "outputs": [
    {
     "data": {
      "text/plain": [
       "<AxesSubplot:ylabel='output'>"
      ]
     },
     "execution_count": 7,
     "metadata": {},
     "output_type": "execute_result"
    },
    {
     "data": {
      "image/png": "[encoded data removed]",
      "text/plain": [
       "<Figure size 576x432 with 1 Axes>"
      ]
     },
     "metadata": {},
     "output_type": "display_data"
    }
   ],
   "source": [
    "plot_size = plt.rcParams[\"figure.figsize\"]\n",
    "plot_size [0] = 8\n",
    "plot_size [1] = 6\n",
    "plt.rcParams[\"figure.figsize\"] = plot_size\n",
    "cars.output.value_counts().plot(kind='pie', autopct='%0.05f%%', \n",
    "                                colors=['lightblue', 'lightgreen', 'orange', 'pink'], \n",
    "                                explode=(0.05, 0.05, 0.05,0.05))"
   ]
  },
  {
   "cell_type": "code",
   "execution_count": 8,
   "id": "4078066a",
   "metadata": {},
   "outputs": [],
   "source": [
    "price = pd.get_dummies(cars.price, prefix='price')\n",
    "maint = pd.get_dummies(cars.maint, prefix='maint')\n",
    "\n",
    "doors = pd.get_dummies(cars.doors, prefix='doors')\n",
    "persons = pd.get_dummies(cars.persons, prefix='persons')\n",
    "\n",
    "lug_capacity = pd.get_dummies(cars.lug_capacity, prefix='lug_capacity')\n",
    "safety = pd.get_dummies(cars.safety, prefix='safety')\n",
    "\n",
    "labels = pd.get_dummies(cars.output, prefix='condition')\n",
    "\n",
    "X = pd.concat([price, maint, doors, persons, lug_capacity, safety] , axis=1)\n",
    "y = labels.values"
   ]
  },
  {
   "cell_type": "code",
   "execution_count": 9,
   "id": "9e79504a",
   "metadata": {},
   "outputs": [
    {
     "data": {
      "text/html": [
       "<div>\n",
       "<style scoped>\n",
       "    .dataframe tbody tr th:only-of-type {\n",
       "        vertical-align: middle;\n",
       "    }\n",
       "\n",
       "    .dataframe tbody tr th {\n",
       "        vertical-align: top;\n",
       "    }\n",
       "\n",
       "    .dataframe thead th {\n",
       "        text-align: right;\n",
       "    }\n",
       "</style>\n",
       "<table border=\"1\" class=\"dataframe\">\n",
       "  <thead>\n",
       "    <tr style=\"text-align: right;\">\n",
       "      <th></th>\n",
       "      <th>price_high</th>\n",
       "      <th>price_low</th>\n",
       "      <th>price_med</th>\n",
       "      <th>price_vhigh</th>\n",
       "      <th>maint_high</th>\n",
       "      <th>maint_low</th>\n",
       "      <th>maint_med</th>\n",
       "      <th>maint_vhigh</th>\n",
       "      <th>doors_2</th>\n",
       "      <th>doors_3</th>\n",
       "      <th>...</th>\n",
       "      <th>doors_5more</th>\n",
       "      <th>persons_2</th>\n",
       "      <th>persons_4</th>\n",
       "      <th>persons_more</th>\n",
       "      <th>lug_capacity_big</th>\n",
       "      <th>lug_capacity_med</th>\n",
       "      <th>lug_capacity_small</th>\n",
       "      <th>safety_high</th>\n",
       "      <th>safety_low</th>\n",
       "      <th>safety_med</th>\n",
       "    </tr>\n",
       "  </thead>\n",
       "  <tbody>\n",
       "    <tr>\n",
       "      <th>0</th>\n",
       "      <td>0</td>\n",
       "      <td>0</td>\n",
       "      <td>0</td>\n",
       "      <td>1</td>\n",
       "      <td>0</td>\n",
       "      <td>0</td>\n",
       "      <td>0</td>\n",
       "      <td>1</td>\n",
       "      <td>1</td>\n",
       "      <td>0</td>\n",
       "      <td>...</td>\n",
       "      <td>0</td>\n",
       "      <td>1</td>\n",
       "      <td>0</td>\n",
       "      <td>0</td>\n",
       "      <td>0</td>\n",
       "      <td>0</td>\n",
       "      <td>1</td>\n",
       "      <td>0</td>\n",
       "      <td>1</td>\n",
       "      <td>0</td>\n",
       "    </tr>\n",
       "    <tr>\n",
       "      <th>1</th>\n",
       "      <td>0</td>\n",
       "      <td>0</td>\n",
       "      <td>0</td>\n",
       "      <td>1</td>\n",
       "      <td>0</td>\n",
       "      <td>0</td>\n",
       "      <td>0</td>\n",
       "      <td>1</td>\n",
       "      <td>1</td>\n",
       "      <td>0</td>\n",
       "      <td>...</td>\n",
       "      <td>0</td>\n",
       "      <td>1</td>\n",
       "      <td>0</td>\n",
       "      <td>0</td>\n",
       "      <td>0</td>\n",
       "      <td>0</td>\n",
       "      <td>1</td>\n",
       "      <td>0</td>\n",
       "      <td>0</td>\n",
       "      <td>1</td>\n",
       "    </tr>\n",
       "    <tr>\n",
       "      <th>2</th>\n",
       "      <td>0</td>\n",
       "      <td>0</td>\n",
       "      <td>0</td>\n",
       "      <td>1</td>\n",
       "      <td>0</td>\n",
       "      <td>0</td>\n",
       "      <td>0</td>\n",
       "      <td>1</td>\n",
       "      <td>1</td>\n",
       "      <td>0</td>\n",
       "      <td>...</td>\n",
       "      <td>0</td>\n",
       "      <td>1</td>\n",
       "      <td>0</td>\n",
       "      <td>0</td>\n",
       "      <td>0</td>\n",
       "      <td>0</td>\n",
       "      <td>1</td>\n",
       "      <td>1</td>\n",
       "      <td>0</td>\n",
       "      <td>0</td>\n",
       "    </tr>\n",
       "    <tr>\n",
       "      <th>3</th>\n",
       "      <td>0</td>\n",
       "      <td>0</td>\n",
       "      <td>0</td>\n",
       "      <td>1</td>\n",
       "      <td>0</td>\n",
       "      <td>0</td>\n",
       "      <td>0</td>\n",
       "      <td>1</td>\n",
       "      <td>1</td>\n",
       "      <td>0</td>\n",
       "      <td>...</td>\n",
       "      <td>0</td>\n",
       "      <td>1</td>\n",
       "      <td>0</td>\n",
       "      <td>0</td>\n",
       "      <td>0</td>\n",
       "      <td>1</td>\n",
       "      <td>0</td>\n",
       "      <td>0</td>\n",
       "      <td>1</td>\n",
       "      <td>0</td>\n",
       "    </tr>\n",
       "    <tr>\n",
       "      <th>4</th>\n",
       "      <td>0</td>\n",
       "      <td>0</td>\n",
       "      <td>0</td>\n",
       "      <td>1</td>\n",
       "      <td>0</td>\n",
       "      <td>0</td>\n",
       "      <td>0</td>\n",
       "      <td>1</td>\n",
       "      <td>1</td>\n",
       "      <td>0</td>\n",
       "      <td>...</td>\n",
       "      <td>0</td>\n",
       "      <td>1</td>\n",
       "      <td>0</td>\n",
       "      <td>0</td>\n",
       "      <td>0</td>\n",
       "      <td>1</td>\n",
       "      <td>0</td>\n",
       "      <td>0</td>\n",
       "      <td>0</td>\n",
       "      <td>1</td>\n",
       "    </tr>\n",
       "  </tbody>\n",
       "</table>\n",
       "<p>5 rows × 21 columns</p>\n",
       "</div>"
      ],
      "text/plain": [
       "   price_high  price_low  price_med  price_vhigh  maint_high  maint_low  \\\n",
       "0           0          0          0            1           0          0   \n",
       "1           0          0          0            1           0          0   \n",
       "2           0          0          0            1           0          0   \n",
       "3           0          0          0            1           0          0   \n",
       "4           0          0          0            1           0          0   \n",
       "\n",
       "   maint_med  maint_vhigh  doors_2  doors_3  ...  doors_5more  persons_2  \\\n",
       "0          0            1        1        0  ...            0          1   \n",
       "1          0            1        1        0  ...            0          1   \n",
       "2          0            1        1        0  ...            0          1   \n",
       "3          0            1        1        0  ...            0          1   \n",
       "4          0            1        1        0  ...            0          1   \n",
       "\n",
       "   persons_4  persons_more  lug_capacity_big  lug_capacity_med  \\\n",
       "0          0             0                 0                 0   \n",
       "1          0             0                 0                 0   \n",
       "2          0             0                 0                 0   \n",
       "3          0             0                 0                 1   \n",
       "4          0             0                 0                 1   \n",
       "\n",
       "   lug_capacity_small  safety_high  safety_low  safety_med  \n",
       "0                   1            0           1           0  \n",
       "1                   1            0           0           1  \n",
       "2                   1            1           0           0  \n",
       "3                   0            0           1           0  \n",
       "4                   0            0           0           1  \n",
       "\n",
       "[5 rows x 21 columns]"
      ]
     },
     "execution_count": 9,
     "metadata": {},
     "output_type": "execute_result"
    }
   ],
   "source": [
    "X.head()"
   ]
  },
  {
   "cell_type": "code",
   "execution_count": 10,
   "id": "64c997bf",
   "metadata": {},
   "outputs": [
    {
     "data": {
      "text/html": [
       "<div>\n",
       "<style scoped>\n",
       "    .dataframe tbody tr th:only-of-type {\n",
       "        vertical-align: middle;\n",
       "    }\n",
       "\n",
       "    .dataframe tbody tr th {\n",
       "        vertical-align: top;\n",
       "    }\n",
       "\n",
       "    .dataframe thead th {\n",
       "        text-align: right;\n",
       "    }\n",
       "</style>\n",
       "<table border=\"1\" class=\"dataframe\">\n",
       "  <thead>\n",
       "    <tr style=\"text-align: right;\">\n",
       "      <th></th>\n",
       "      <th>condition_acc</th>\n",
       "      <th>condition_good</th>\n",
       "      <th>condition_unacc</th>\n",
       "      <th>condition_vgood</th>\n",
       "    </tr>\n",
       "  </thead>\n",
       "  <tbody>\n",
       "    <tr>\n",
       "      <th>0</th>\n",
       "      <td>0</td>\n",
       "      <td>0</td>\n",
       "      <td>1</td>\n",
       "      <td>0</td>\n",
       "    </tr>\n",
       "    <tr>\n",
       "      <th>1</th>\n",
       "      <td>0</td>\n",
       "      <td>0</td>\n",
       "      <td>1</td>\n",
       "      <td>0</td>\n",
       "    </tr>\n",
       "    <tr>\n",
       "      <th>2</th>\n",
       "      <td>0</td>\n",
       "      <td>0</td>\n",
       "      <td>1</td>\n",
       "      <td>0</td>\n",
       "    </tr>\n",
       "    <tr>\n",
       "      <th>3</th>\n",
       "      <td>0</td>\n",
       "      <td>0</td>\n",
       "      <td>1</td>\n",
       "      <td>0</td>\n",
       "    </tr>\n",
       "    <tr>\n",
       "      <th>4</th>\n",
       "      <td>0</td>\n",
       "      <td>0</td>\n",
       "      <td>1</td>\n",
       "      <td>0</td>\n",
       "    </tr>\n",
       "  </tbody>\n",
       "</table>\n",
       "</div>"
      ],
      "text/plain": [
       "   condition_acc  condition_good  condition_unacc  condition_vgood\n",
       "0              0               0                1                0\n",
       "1              0               0                1                0\n",
       "2              0               0                1                0\n",
       "3              0               0                1                0\n",
       "4              0               0                1                0"
      ]
     },
     "execution_count": 10,
     "metadata": {},
     "output_type": "execute_result"
    }
   ],
   "source": [
    "labels.head()"
   ]
  },
  {
   "cell_type": "code",
   "execution_count": 11,
   "id": "4dd01085",
   "metadata": {},
   "outputs": [
    {
     "data": {
      "text/plain": [
       "array([[0, 0, 1, 0],\n",
       "       [0, 0, 1, 0],\n",
       "       [0, 0, 1, 0],\n",
       "       ...,\n",
       "       [0, 0, 1, 0],\n",
       "       [0, 1, 0, 0],\n",
       "       [0, 0, 0, 1]], dtype=uint8)"
      ]
     },
     "execution_count": 11,
     "metadata": {},
     "output_type": "execute_result"
    }
   ],
   "source": [
    "y"
   ]
  },
  {
   "cell_type": "markdown",
   "id": "198af538",
   "metadata": {},
   "source": [
    "### Split train/test datasets"
   ]
  },
  {
   "cell_type": "code",
   "execution_count": 12,
   "id": "5685c9f6",
   "metadata": {},
   "outputs": [],
   "source": [
    "from sklearn.model_selection import train_test_split\n",
    "X_train, X_test, y_train, y_test = train_test_split(X, y, test_size=0.20, random_state=42)"
   ]
  },
  {
   "cell_type": "markdown",
   "id": "5888fddf",
   "metadata": {},
   "source": [
    "### Keras Model"
   ]
  },
  {
   "cell_type": "code",
   "execution_count": 13,
   "id": "2176188f",
   "metadata": {},
   "outputs": [
    {
     "name": "stdout",
     "output_type": "stream",
     "text": [
      "Model: \"model\"\n",
      "_________________________________________________________________\n",
      " Layer (type)                Output Shape              Param #   \n",
      "=================================================================\n",
      " input_1 (InputLayer)        [(None, 21)]              0         \n",
      "                                                                 \n",
      " dense (Dense)               (None, 15)                330       \n",
      "                                                                 \n",
      " dense_1 (Dense)             (None, 10)                160       \n",
      "                                                                 \n",
      " dense_2 (Dense)             (None, 4)                 44        \n",
      "                                                                 \n",
      "=================================================================\n",
      "Total params: 534\n",
      "Trainable params: 534\n",
      "Non-trainable params: 0\n",
      "_________________________________________________________________\n"
     ]
    },
    {
     "name": "stderr",
     "output_type": "stream",
     "text": [
      "2022-10-20 14:04:26.904633: E tensorflow/stream_executor/cuda/cuda_driver.cc:271] failed call to cuInit: CUDA_ERROR_NO_DEVICE: no CUDA-capable device is detected\n",
      "2022-10-20 14:04:26.904679: I tensorflow/stream_executor/cuda/cuda_diagnostics.cc:156] kernel driver does not appear to be running on this host (ip-172-16-46-96.ap-northeast-2.compute.internal): /proc/driver/nvidia/version does not exist\n",
      "2022-10-20 14:04:26.905222: I tensorflow/core/platform/cpu_feature_guard.cc:151] This TensorFlow binary is optimized with oneAPI Deep Neural Network Library (oneDNN) to use the following CPU instructions in performance-critical operations:  AVX2 AVX512F FMA\n",
      "To enable them in other operations, rebuild TensorFlow with the appropriate compiler flags.\n"
     ]
    }
   ],
   "source": [
    "from tensorflow.keras.layers import Input, Dense, Activation,Dropout\n",
    "from tensorflow.keras.models import Model\n",
    "\n",
    "input_layer = Input(shape=(X.shape[1],))\n",
    "dense_layer_1 = Dense(15, activation='relu')(input_layer)\n",
    "dense_layer_2 = Dense(10, activation='relu')(dense_layer_1)\n",
    "output = Dense(y.shape[1], activation='softmax')(dense_layer_2)\n",
    "\n",
    "model = Model(inputs=input_layer, outputs=output)\n",
    "model.compile(loss='categorical_crossentropy', optimizer='adam', metrics=['acc'])\n",
    "\n",
    "model.summary()"
   ]
  },
  {
   "cell_type": "code",
   "execution_count": 14,
   "id": "559fbaae",
   "metadata": {},
   "outputs": [
    {
     "name": "stdout",
     "output_type": "stream",
     "text": [
      "Epoch 1/50\n",
      "139/139 [==============================] - 1s 2ms/step - loss: 1.1677 - acc: 0.6081 - val_loss: 1.0051 - val_acc: 0.6498\n",
      "Epoch 2/50\n",
      "139/139 [==============================] - 0s 1ms/step - loss: 0.7452 - acc: 0.7195 - val_loss: 0.7478 - val_acc: 0.6498\n",
      "Epoch 3/50\n",
      "139/139 [==============================] - 0s 1ms/step - loss: 0.5386 - acc: 0.7457 - val_loss: 0.5656 - val_acc: 0.7581\n",
      "Epoch 4/50\n",
      "139/139 [==============================] - 0s 1ms/step - loss: 0.4083 - acc: 0.8344 - val_loss: 0.4642 - val_acc: 0.8267\n",
      "Epoch 5/50\n",
      "139/139 [==============================] - 0s 1ms/step - loss: 0.3357 - acc: 0.8661 - val_loss: 0.4022 - val_acc: 0.8484\n",
      "Epoch 6/50\n",
      "139/139 [==============================] - 0s 1ms/step - loss: 0.2888 - acc: 0.8824 - val_loss: 0.3577 - val_acc: 0.8556\n",
      "Epoch 7/50\n",
      "139/139 [==============================] - 0s 1ms/step - loss: 0.2549 - acc: 0.8887 - val_loss: 0.3325 - val_acc: 0.8592\n",
      "Epoch 8/50\n",
      "139/139 [==============================] - 0s 1ms/step - loss: 0.2277 - acc: 0.9086 - val_loss: 0.3022 - val_acc: 0.8592\n",
      "Epoch 9/50\n",
      "139/139 [==============================] - 0s 1ms/step - loss: 0.2065 - acc: 0.9041 - val_loss: 0.2784 - val_acc: 0.8736\n",
      "Epoch 10/50\n",
      "139/139 [==============================] - 0s 1ms/step - loss: 0.1886 - acc: 0.9213 - val_loss: 0.2606 - val_acc: 0.8773\n",
      "Epoch 11/50\n",
      "139/139 [==============================] - 0s 1ms/step - loss: 0.1757 - acc: 0.9222 - val_loss: 0.2502 - val_acc: 0.8917\n",
      "Epoch 12/50\n",
      "139/139 [==============================] - 0s 1ms/step - loss: 0.1626 - acc: 0.9357 - val_loss: 0.2310 - val_acc: 0.9061\n",
      "Epoch 13/50\n",
      "139/139 [==============================] - 0s 1ms/step - loss: 0.1521 - acc: 0.9448 - val_loss: 0.2251 - val_acc: 0.9097\n",
      "Epoch 14/50\n",
      "139/139 [==============================] - 0s 1ms/step - loss: 0.1427 - acc: 0.9575 - val_loss: 0.2189 - val_acc: 0.9061\n",
      "Epoch 15/50\n",
      "139/139 [==============================] - 0s 1ms/step - loss: 0.1314 - acc: 0.9647 - val_loss: 0.2200 - val_acc: 0.9097\n",
      "Epoch 16/50\n",
      "139/139 [==============================] - 0s 1ms/step - loss: 0.1247 - acc: 0.9620 - val_loss: 0.2142 - val_acc: 0.9134\n",
      "Epoch 17/50\n",
      "139/139 [==============================] - 0s 1ms/step - loss: 0.1151 - acc: 0.9719 - val_loss: 0.1858 - val_acc: 0.9495\n",
      "Epoch 18/50\n",
      "139/139 [==============================] - 0s 1ms/step - loss: 0.1064 - acc: 0.9756 - val_loss: 0.1858 - val_acc: 0.9350\n",
      "Epoch 19/50\n",
      "139/139 [==============================] - 0s 1ms/step - loss: 0.0995 - acc: 0.9801 - val_loss: 0.1849 - val_acc: 0.9278\n",
      "Epoch 20/50\n",
      "139/139 [==============================] - 0s 1ms/step - loss: 0.0920 - acc: 0.9828 - val_loss: 0.1779 - val_acc: 0.9350\n",
      "Epoch 21/50\n",
      "139/139 [==============================] - 0s 1ms/step - loss: 0.0860 - acc: 0.9801 - val_loss: 0.1628 - val_acc: 0.9495\n",
      "Epoch 22/50\n",
      "139/139 [==============================] - 0s 1ms/step - loss: 0.0794 - acc: 0.9864 - val_loss: 0.1695 - val_acc: 0.9422\n",
      "Epoch 23/50\n",
      "139/139 [==============================] - 0s 1ms/step - loss: 0.0740 - acc: 0.9837 - val_loss: 0.1764 - val_acc: 0.9278\n",
      "Epoch 24/50\n",
      "139/139 [==============================] - 0s 1ms/step - loss: 0.0691 - acc: 0.9882 - val_loss: 0.1646 - val_acc: 0.9422\n",
      "Epoch 25/50\n",
      "139/139 [==============================] - 0s 1ms/step - loss: 0.0648 - acc: 0.9846 - val_loss: 0.1435 - val_acc: 0.9495\n",
      "Epoch 26/50\n",
      "139/139 [==============================] - 0s 1ms/step - loss: 0.0589 - acc: 0.9855 - val_loss: 0.1339 - val_acc: 0.9531\n",
      "Epoch 27/50\n",
      "139/139 [==============================] - 0s 1ms/step - loss: 0.0559 - acc: 0.9864 - val_loss: 0.1285 - val_acc: 0.9495\n",
      "Epoch 28/50\n",
      "139/139 [==============================] - 0s 1ms/step - loss: 0.0535 - acc: 0.9864 - val_loss: 0.1179 - val_acc: 0.9495\n",
      "Epoch 29/50\n",
      "139/139 [==============================] - 0s 1ms/step - loss: 0.0473 - acc: 0.9891 - val_loss: 0.1264 - val_acc: 0.9495\n",
      "Epoch 30/50\n",
      "139/139 [==============================] - 0s 1ms/step - loss: 0.0450 - acc: 0.9900 - val_loss: 0.1177 - val_acc: 0.9495\n",
      "Epoch 31/50\n",
      "139/139 [==============================] - 0s 1ms/step - loss: 0.0425 - acc: 0.9928 - val_loss: 0.1119 - val_acc: 0.9531\n",
      "Epoch 32/50\n",
      "139/139 [==============================] - 0s 1ms/step - loss: 0.0387 - acc: 0.9937 - val_loss: 0.1316 - val_acc: 0.9495\n",
      "Epoch 33/50\n",
      "139/139 [==============================] - 0s 1ms/step - loss: 0.0382 - acc: 0.9900 - val_loss: 0.1103 - val_acc: 0.9639\n",
      "Epoch 34/50\n",
      "139/139 [==============================] - 0s 1ms/step - loss: 0.0349 - acc: 0.9928 - val_loss: 0.1140 - val_acc: 0.9603\n",
      "Epoch 35/50\n",
      "139/139 [==============================] - 0s 1ms/step - loss: 0.0317 - acc: 0.9946 - val_loss: 0.1055 - val_acc: 0.9603\n",
      "Epoch 36/50\n",
      "139/139 [==============================] - 0s 1ms/step - loss: 0.0307 - acc: 0.9946 - val_loss: 0.1079 - val_acc: 0.9603\n",
      "Epoch 37/50\n",
      "139/139 [==============================] - 0s 1ms/step - loss: 0.0288 - acc: 0.9937 - val_loss: 0.1024 - val_acc: 0.9639\n",
      "Epoch 38/50\n",
      "139/139 [==============================] - 0s 1ms/step - loss: 0.0262 - acc: 0.9955 - val_loss: 0.1191 - val_acc: 0.9567\n",
      "Epoch 39/50\n",
      "139/139 [==============================] - 0s 1ms/step - loss: 0.0253 - acc: 0.9946 - val_loss: 0.0898 - val_acc: 0.9675\n",
      "Epoch 40/50\n",
      "139/139 [==============================] - 0s 1ms/step - loss: 0.0237 - acc: 0.9964 - val_loss: 0.0874 - val_acc: 0.9711\n",
      "Epoch 41/50\n",
      "139/139 [==============================] - 0s 1ms/step - loss: 0.0228 - acc: 0.9955 - val_loss: 0.0996 - val_acc: 0.9603\n",
      "Epoch 42/50\n",
      "139/139 [==============================] - 0s 1ms/step - loss: 0.0218 - acc: 0.9946 - val_loss: 0.0859 - val_acc: 0.9675\n",
      "Epoch 43/50\n",
      "139/139 [==============================] - 0s 1ms/step - loss: 0.0199 - acc: 0.9955 - val_loss: 0.0922 - val_acc: 0.9711\n",
      "Epoch 44/50\n",
      "139/139 [==============================] - 0s 1ms/step - loss: 0.0200 - acc: 0.9955 - val_loss: 0.0888 - val_acc: 0.9675\n",
      "Epoch 45/50\n",
      "139/139 [==============================] - 0s 1ms/step - loss: 0.0178 - acc: 0.9964 - val_loss: 0.1122 - val_acc: 0.9603\n",
      "Epoch 46/50\n",
      "139/139 [==============================] - 0s 1ms/step - loss: 0.0174 - acc: 0.9964 - val_loss: 0.0897 - val_acc: 0.9675\n",
      "Epoch 47/50\n",
      "139/139 [==============================] - 0s 1ms/step - loss: 0.0158 - acc: 0.9982 - val_loss: 0.0744 - val_acc: 0.9819\n",
      "Epoch 48/50\n",
      "139/139 [==============================] - 0s 1ms/step - loss: 0.0152 - acc: 0.9982 - val_loss: 0.0866 - val_acc: 0.9747\n",
      "Epoch 49/50\n",
      "139/139 [==============================] - 0s 1ms/step - loss: 0.0169 - acc: 0.9964 - val_loss: 0.0990 - val_acc: 0.9675\n",
      "Epoch 50/50\n",
      "139/139 [==============================] - 0s 1ms/step - loss: 0.0132 - acc: 0.9964 - val_loss: 0.0838 - val_acc: 0.9711\n"
     ]
    }
   ],
   "source": [
    "history = model.fit(X_train, y_train, batch_size=8, epochs=50, verbose=1, validation_split=0.2)"
   ]
  },
  {
   "cell_type": "code",
   "execution_count": 22,
   "id": "ec461e2d",
   "metadata": {},
   "outputs": [
    {
     "data": {
      "text/plain": [
       "<keras.callbacks.History at 0x7fd80895efa0>"
      ]
     },
     "execution_count": 22,
     "metadata": {},
     "output_type": "execute_result"
    }
   ],
   "source": [
    "history"
   ]
  },
  {
   "cell_type": "code",
   "execution_count": 15,
   "id": "a82c87d2",
   "metadata": {},
   "outputs": [
    {
     "name": "stdout",
     "output_type": "stream",
     "text": [
      "11/11 [==============================] - 0s 731us/step - loss: 0.0799 - acc: 0.9769\n",
      "Test Score: 0.07994689792394638\n",
      "Test Accuracy: 0.9768785834312439\n"
     ]
    }
   ],
   "source": [
    "score = model.evaluate(X_test, y_test, verbose=1)\n",
    "print(\"Test Score:\", score[0])\n",
    "print(\"Test Accuracy:\", score[1])"
   ]
  },
  {
   "cell_type": "markdown",
   "id": "a51c9ee7",
   "metadata": {},
   "source": [
    "### Evaluation"
   ]
  },
  {
   "cell_type": "code",
   "execution_count": 17,
   "id": "e46f1300",
   "metadata": {},
   "outputs": [],
   "source": [
    "y_pred = model.predict(X_test)"
   ]
  },
  {
   "cell_type": "code",
   "execution_count": 18,
   "id": "ce07bc7d",
   "metadata": {},
   "outputs": [
    {
     "data": {
      "text/plain": [
       "array([[5.8967110e-08, 6.6540805e-13, 1.0000000e+00, 2.0071061e-14],\n",
       "       [7.9540676e-01, 2.0415065e-01, 4.3710903e-04, 5.5424348e-06],\n",
       "       [9.3759058e-07, 5.2270514e-12, 9.9999905e-01, 5.8143041e-16],\n",
       "       ...,\n",
       "       [1.1846924e-15, 1.2719436e-17, 1.0000000e+00, 1.1293464e-23],\n",
       "       [2.2101424e-06, 7.5702194e-13, 9.9999774e-01, 1.9008018e-20],\n",
       "       [1.9201972e-11, 4.4015843e-14, 1.0000000e+00, 1.9935425e-18]],\n",
       "      dtype=float32)"
      ]
     },
     "execution_count": 18,
     "metadata": {},
     "output_type": "execute_result"
    }
   ],
   "source": [
    "y_pred"
   ]
  },
  {
   "cell_type": "code",
   "execution_count": 19,
   "id": "19f88e55",
   "metadata": {},
   "outputs": [
    {
     "data": {
      "text/plain": [
       "array([[0, 0, 1, 0],\n",
       "       [1, 0, 0, 0],\n",
       "       [0, 0, 1, 0],\n",
       "       ...,\n",
       "       [0, 0, 1, 0],\n",
       "       [0, 0, 1, 0],\n",
       "       [0, 0, 1, 0]], dtype=uint8)"
      ]
     },
     "execution_count": 19,
     "metadata": {},
     "output_type": "execute_result"
    }
   ],
   "source": [
    "y_test"
   ]
  },
  {
   "cell_type": "code",
   "execution_count": 20,
   "id": "d0cbb201",
   "metadata": {},
   "outputs": [
    {
     "ename": "ValueError",
     "evalue": "Classification metrics can't handle a mix of continuous-multioutput and multilabel-indicator targets",
     "output_type": "error",
     "traceback": [
      "\u001b[0;31m---------------------------------------------------------------------------\u001b[0m",
      "\u001b[0;31mValueError\u001b[0m                                Traceback (most recent call last)",
      "\u001b[0;32m/tmp/ipykernel_9583/633961030.py\u001b[0m in \u001b[0;36m<cell line: 2>\u001b[0;34m()\u001b[0m\n\u001b[1;32m      1\u001b[0m \u001b[0;32mfrom\u001b[0m \u001b[0msklearn\u001b[0m\u001b[0;34m.\u001b[0m\u001b[0mmetrics\u001b[0m \u001b[0;32mimport\u001b[0m \u001b[0maccuracy_score\u001b[0m\u001b[0;34m\u001b[0m\u001b[0;34m\u001b[0m\u001b[0m\n\u001b[0;32m----> 2\u001b[0;31m \u001b[0mscore\u001b[0m \u001b[0;34m=\u001b[0m \u001b[0maccuracy_score\u001b[0m\u001b[0;34m(\u001b[0m\u001b[0my_pred\u001b[0m\u001b[0;34m,\u001b[0m \u001b[0my_test\u001b[0m\u001b[0;34m)\u001b[0m\u001b[0;34m\u001b[0m\u001b[0;34m\u001b[0m\u001b[0m\n\u001b[0m\u001b[1;32m      3\u001b[0m \u001b[0;34m\u001b[0m\u001b[0m\n\u001b[1;32m      4\u001b[0m \u001b[0mprint\u001b[0m\u001b[0;34m(\u001b[0m\u001b[0;34m'Accuracy:'\u001b[0m\u001b[0;34m,\u001b[0m \u001b[0mnp\u001b[0m\u001b[0;34m.\u001b[0m\u001b[0mround\u001b[0m\u001b[0;34m(\u001b[0m\u001b[0mscore\u001b[0m\u001b[0;34m,\u001b[0m \u001b[0;36m3\u001b[0m\u001b[0;34m)\u001b[0m\u001b[0;34m)\u001b[0m\u001b[0;34m\u001b[0m\u001b[0;34m\u001b[0m\u001b[0m\n",
      "\u001b[0;32m~/anaconda3/envs/tensorflow2_p38/lib/python3.8/site-packages/sklearn/metrics/_classification.py\u001b[0m in \u001b[0;36maccuracy_score\u001b[0;34m(y_true, y_pred, normalize, sample_weight)\u001b[0m\n\u001b[1;32m    203\u001b[0m \u001b[0;34m\u001b[0m\u001b[0m\n\u001b[1;32m    204\u001b[0m     \u001b[0;31m# Compute accuracy for each possible representation\u001b[0m\u001b[0;34m\u001b[0m\u001b[0;34m\u001b[0m\u001b[0;34m\u001b[0m\u001b[0m\n\u001b[0;32m--> 205\u001b[0;31m     \u001b[0my_type\u001b[0m\u001b[0;34m,\u001b[0m \u001b[0my_true\u001b[0m\u001b[0;34m,\u001b[0m \u001b[0my_pred\u001b[0m \u001b[0;34m=\u001b[0m \u001b[0m_check_targets\u001b[0m\u001b[0;34m(\u001b[0m\u001b[0my_true\u001b[0m\u001b[0;34m,\u001b[0m \u001b[0my_pred\u001b[0m\u001b[0;34m)\u001b[0m\u001b[0;34m\u001b[0m\u001b[0;34m\u001b[0m\u001b[0m\n\u001b[0m\u001b[1;32m    206\u001b[0m     \u001b[0mcheck_consistent_length\u001b[0m\u001b[0;34m(\u001b[0m\u001b[0my_true\u001b[0m\u001b[0;34m,\u001b[0m \u001b[0my_pred\u001b[0m\u001b[0;34m,\u001b[0m \u001b[0msample_weight\u001b[0m\u001b[0;34m)\u001b[0m\u001b[0;34m\u001b[0m\u001b[0;34m\u001b[0m\u001b[0m\n\u001b[1;32m    207\u001b[0m     \u001b[0;32mif\u001b[0m \u001b[0my_type\u001b[0m\u001b[0;34m.\u001b[0m\u001b[0mstartswith\u001b[0m\u001b[0;34m(\u001b[0m\u001b[0;34m\"multilabel\"\u001b[0m\u001b[0;34m)\u001b[0m\u001b[0;34m:\u001b[0m\u001b[0;34m\u001b[0m\u001b[0;34m\u001b[0m\u001b[0m\n",
      "\u001b[0;32m~/anaconda3/envs/tensorflow2_p38/lib/python3.8/site-packages/sklearn/metrics/_classification.py\u001b[0m in \u001b[0;36m_check_targets\u001b[0;34m(y_true, y_pred)\u001b[0m\n\u001b[1;32m     91\u001b[0m \u001b[0;34m\u001b[0m\u001b[0m\n\u001b[1;32m     92\u001b[0m     \u001b[0;32mif\u001b[0m \u001b[0mlen\u001b[0m\u001b[0;34m(\u001b[0m\u001b[0my_type\u001b[0m\u001b[0;34m)\u001b[0m \u001b[0;34m>\u001b[0m \u001b[0;36m1\u001b[0m\u001b[0;34m:\u001b[0m\u001b[0;34m\u001b[0m\u001b[0;34m\u001b[0m\u001b[0m\n\u001b[0;32m---> 93\u001b[0;31m         raise ValueError(\n\u001b[0m\u001b[1;32m     94\u001b[0m             \"Classification metrics can't handle a mix of {0} and {1} targets\".format(\n\u001b[1;32m     95\u001b[0m                 \u001b[0mtype_true\u001b[0m\u001b[0;34m,\u001b[0m \u001b[0mtype_pred\u001b[0m\u001b[0;34m\u001b[0m\u001b[0;34m\u001b[0m\u001b[0m\n",
      "\u001b[0;31mValueError\u001b[0m: Classification metrics can't handle a mix of continuous-multioutput and multilabel-indicator targets"
     ]
    }
   ],
   "source": [
    "from sklearn.metrics import accuracy_score\n",
    "score = accuracy_score(y_pred, y_test)\n",
    "\n",
    "print('Accuracy:', np.round(score, 3))"
   ]
  }
 ],
 "metadata": {
  "kernelspec": {
   "display_name": "conda_tensorflow2_p38",
   "language": "python",
   "name": "conda_tensorflow2_p38"
  },
  "language_info": {
   "codemirror_mode": {
    "name": "ipython",
    "version": 3
   },
   "file_extension": ".py",
   "mimetype": "text/x-python",
   "name": "python",
   "nbconvert_exporter": "python",
   "pygments_lexer": "ipython3",
   "version": "3.8.12"
  }
 },
 "nbformat": 4,
 "nbformat_minor": 5
}
